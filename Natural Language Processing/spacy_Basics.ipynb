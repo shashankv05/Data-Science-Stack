{
  "nbformat": 4,
  "nbformat_minor": 0,
  "metadata": {
    "colab": {
      "provenance": []
    },
    "kernelspec": {
      "name": "python3",
      "display_name": "Python 3"
    },
    "language_info": {
      "name": "python"
    }
  },
  "cells": [
    {
      "cell_type": "code",
      "source": [
        "import spacy"
      ],
      "metadata": {
        "id": "og43hmp1Cq1t"
      },
      "execution_count": null,
      "outputs": []
    },
    {
      "cell_type": "code",
      "source": [
        "nlp_en = spacy.blank(\"en\")\n",
        "nlp_en"
      ],
      "metadata": {
        "id": "SDAWugCTCqyK",
        "colab": {
          "base_uri": "https://localhost:8080/"
        },
        "outputId": "fd6ecc4a-0483-48bf-8928-87566f260363"
      },
      "execution_count": null,
      "outputs": [
        {
          "output_type": "execute_result",
          "data": {
            "text/plain": [
              "<spacy.lang.en.English at 0x7f34f51a4850>"
            ]
          },
          "metadata": {},
          "execution_count": 2
        }
      ]
    },
    {
      "cell_type": "markdown",
      "source": [
        "**Documents, Span and Token**"
      ],
      "metadata": {
        "id": "bOVxupeKijWZ"
      }
    },
    {
      "cell_type": "code",
      "source": [
        "doc = nlp_en(\"This is a sentence\")"
      ],
      "metadata": {
        "id": "_c9ZZGkHCquY"
      },
      "execution_count": null,
      "outputs": []
    },
    {
      "cell_type": "code",
      "execution_count": null,
      "metadata": {
        "id": "5raW6Rb0Cnji",
        "colab": {
          "base_uri": "https://localhost:8080/",
          "height": 36
        },
        "outputId": "a958cbeb-d3e5-4f40-8ff4-e699c3f174ca"
      },
      "outputs": [
        {
          "output_type": "execute_result",
          "data": {
            "text/plain": [
              "'This is a sentence'"
            ],
            "application/vnd.google.colaboratory.intrinsic+json": {
              "type": "string"
            }
          },
          "metadata": {},
          "execution_count": 4
        }
      ],
      "source": [
        "doc.text"
      ]
    },
    {
      "cell_type": "code",
      "source": [
        "first_token = doc[0]\n",
        "first_token"
      ],
      "metadata": {
        "colab": {
          "base_uri": "https://localhost:8080/"
        },
        "id": "Cxpm8enke8U1",
        "outputId": "a41d72ab-4766-42c9-cd06-4ae6bff52fb5"
      },
      "execution_count": null,
      "outputs": [
        {
          "output_type": "execute_result",
          "data": {
            "text/plain": [
              "This"
            ]
          },
          "metadata": {},
          "execution_count": 5
        }
      ]
    },
    {
      "cell_type": "code",
      "source": [
        "type(first_token)"
      ],
      "metadata": {
        "colab": {
          "base_uri": "https://localhost:8080/"
        },
        "id": "8ex6-i7re8bp",
        "outputId": "55b79dfb-5908-49f9-d282-4ed62cb1765a"
      },
      "execution_count": null,
      "outputs": [
        {
          "output_type": "execute_result",
          "data": {
            "text/plain": [
              "spacy.tokens.token.Token"
            ]
          },
          "metadata": {},
          "execution_count": 6
        }
      ]
    },
    {
      "cell_type": "code",
      "source": [
        "first_token.text"
      ],
      "metadata": {
        "colab": {
          "base_uri": "https://localhost:8080/",
          "height": 36
        },
        "id": "SUw_r6Lje8iO",
        "outputId": "1da78198-4e51-478f-bb9c-5a4fd37327bb"
      },
      "execution_count": null,
      "outputs": [
        {
          "output_type": "execute_result",
          "data": {
            "text/plain": [
              "'This'"
            ],
            "application/vnd.google.colaboratory.intrinsic+json": {
              "type": "string"
            }
          },
          "metadata": {},
          "execution_count": 7
        }
      ]
    },
    {
      "cell_type": "code",
      "source": [
        "doc = nlp_en(\"I like tree kangaroos and narwhals.\")"
      ],
      "metadata": {
        "id": "cEXU604VfsT0"
      },
      "execution_count": null,
      "outputs": []
    },
    {
      "cell_type": "code",
      "source": [
        "tree_kangaroos = doc[2:4]"
      ],
      "metadata": {
        "id": "gM9wWHJcfsQo"
      },
      "execution_count": null,
      "outputs": []
    },
    {
      "cell_type": "code",
      "source": [
        "tree_kangaroos.text"
      ],
      "metadata": {
        "colab": {
          "base_uri": "https://localhost:8080/",
          "height": 36
        },
        "id": "W2jd54z3fsMa",
        "outputId": "5f305841-5768-49db-dfe1-3539be1618e0"
      },
      "execution_count": null,
      "outputs": [
        {
          "output_type": "execute_result",
          "data": {
            "text/plain": [
              "'tree kangaroos'"
            ],
            "application/vnd.google.colaboratory.intrinsic+json": {
              "type": "string"
            }
          },
          "metadata": {},
          "execution_count": 10
        }
      ]
    },
    {
      "cell_type": "code",
      "source": [
        "tree_kangaroos_and_narwhal = doc[2:]"
      ],
      "metadata": {
        "id": "rruO-ueHe8od"
      },
      "execution_count": null,
      "outputs": []
    },
    {
      "cell_type": "code",
      "source": [
        "tree_kangaroos_and_narwhal.text"
      ],
      "metadata": {
        "colab": {
          "base_uri": "https://localhost:8080/",
          "height": 36
        },
        "id": "QQ20HmgNiLzP",
        "outputId": "6e5d781d-946c-4887-f711-9cd00cab7ad5"
      },
      "execution_count": null,
      "outputs": [
        {
          "output_type": "execute_result",
          "data": {
            "text/plain": [
              "'tree kangaroos and narwhals.'"
            ],
            "application/vnd.google.colaboratory.intrinsic+json": {
              "type": "string"
            }
          },
          "metadata": {},
          "execution_count": 12
        }
      ]
    },
    {
      "cell_type": "markdown",
      "source": [
        "**Lexical Attributes**"
      ],
      "metadata": {
        "id": "L6jZNdBciqe7"
      }
    },
    {
      "cell_type": "code",
      "source": [
        "doc = nlp_en(\n",
        "    \"In 1990, more than 60% of people in East Asia were in extreme poverty. \"\n",
        "    \"Now less than 4% are.\"\n",
        ")"
      ],
      "metadata": {
        "id": "sESHb5i_tLBd"
      },
      "execution_count": null,
      "outputs": []
    },
    {
      "cell_type": "code",
      "source": [
        "print([(token, token.idx) for token in doc])\n",
        "print([(token, token.i) for token in doc])"
      ],
      "metadata": {
        "colab": {
          "base_uri": "https://localhost:8080/"
        },
        "id": "3blTdd86wC5V",
        "outputId": "0063fa43-14ef-4311-8fcf-261be974a450"
      },
      "execution_count": null,
      "outputs": [
        {
          "output_type": "stream",
          "name": "stdout",
          "text": [
            "[(In, 0), (1990, 3), (,, 7), (more, 9), (than, 14), (60, 19), (%, 21), (of, 23), (people, 26), (in, 33), (East, 36), (Asia, 41), (were, 46), (in, 51), (extreme, 54), (poverty, 62), (., 69), (Now, 71), (less, 75), (than, 80), (4, 85), (%, 86), (are, 88), (., 91)]\n",
            "[(In, 0), (1990, 1), (,, 2), (more, 3), (than, 4), (60, 5), (%, 6), (of, 7), (people, 8), (in, 9), (East, 10), (Asia, 11), (were, 12), (in, 13), (extreme, 14), (poverty, 15), (., 16), (Now, 17), (less, 18), (than, 19), (4, 20), (%, 21), (are, 22), (., 23)]\n"
          ]
        }
      ]
    },
    {
      "cell_type": "code",
      "source": [
        "for token in doc:\n",
        "    if token.like_num:\n",
        "        next_token = doc[token.i+1]\n",
        "        if next_token.text == \"%\":\n",
        "            print(\"%age Found\", token.text)"
      ],
      "metadata": {
        "colab": {
          "base_uri": "https://localhost:8080/"
        },
        "id": "HulrVu4LtLH8",
        "outputId": "7d82a119-3231-4d41-bf21-500de7183596"
      },
      "execution_count": null,
      "outputs": [
        {
          "output_type": "stream",
          "name": "stdout",
          "text": [
            "%age Found 60\n",
            "%age Found 4\n"
          ]
        }
      ]
    },
    {
      "cell_type": "markdown",
      "source": [
        "**Trained Pipelines**"
      ],
      "metadata": {
        "id": "3zrJUVAox5gU"
      }
    },
    {
      "cell_type": "markdown",
      "source": [
        "    * Trained pipeline components have statistical models that enable spaCy to make predictions in context.\n",
        "    * This usually includes part-of speech tags, syntactic dependencies and named entities.\n",
        "    * Pipelines are trained on large datasets of labeled example texts.\n",
        "    * They can be updated with more examples to fine-tune their predictions – for example, to perform better on your specific data."
      ],
      "metadata": {
        "id": "wWpQFPa4ydlu"
      }
    },
    {
      "cell_type": "markdown",
      "source": [
        "**spaCy provides a number of trained pipeline packages you can download using the spacy download command.**\n",
        "\n",
        "    For example, the \"en_core_web_sm\" package is a small English pipeline that supports all core capabilities and is trained on web text.   \n",
        "    The package provides the binary weights that enable spaCy to make predictions.\n",
        "    It also includes the vocabulary, meta information about the pipeline and the configuration file used to train it. \n",
        "    It tells spaCy which language class to use and how to configure the processing pipeline."
      ],
      "metadata": {
        "id": "qM8X73Kix5NC"
      }
    },
    {
      "cell_type": "markdown",
      "source": [
        "**Predict Part-of-Speech tags**"
      ],
      "metadata": {
        "id": "lG8wouXK0i01"
      }
    },
    {
      "cell_type": "code",
      "source": [
        "nlp = spacy.load(\"en_core_web_sm\")\n",
        "nlp"
      ],
      "metadata": {
        "colab": {
          "base_uri": "https://localhost:8080/"
        },
        "id": "Mgr_473C0UrX",
        "outputId": "d8f1573e-6449-44c8-97ce-89ad09df7550"
      },
      "execution_count": null,
      "outputs": [
        {
          "output_type": "execute_result",
          "data": {
            "text/plain": [
              "<spacy.lang.en.English at 0x7f348f0756f0>"
            ]
          },
          "metadata": {},
          "execution_count": 16
        }
      ]
    },
    {
      "cell_type": "code",
      "source": [
        "doc = nlp(\"She ate the pizza\")"
      ],
      "metadata": {
        "id": "lKscE2nD0UiZ"
      },
      "execution_count": null,
      "outputs": []
    },
    {
      "cell_type": "code",
      "source": [
        "for token in doc:\n",
        "    print(token.text, token.pos_)"
      ],
      "metadata": {
        "colab": {
          "base_uri": "https://localhost:8080/"
        },
        "id": "wJdTE9rP0UeE",
        "outputId": "1fbbe4b4-816f-4c18-be30-bbc687849aa9"
      },
      "execution_count": null,
      "outputs": [
        {
          "output_type": "stream",
          "name": "stdout",
          "text": [
            "She PRON\n",
            "ate VERB\n",
            "the DET\n",
            "pizza NOUN\n"
          ]
        }
      ]
    },
    {
      "cell_type": "markdown",
      "source": [
        "**Predict Syntactic Dependencies**"
      ],
      "metadata": {
        "id": "qV5eRcm82YmI"
      }
    },
    {
      "cell_type": "markdown",
      "source": [
        "    we can also predict how the words are related. For example, whether a word is the subject of the sentence or an object."
      ],
      "metadata": {
        "id": "45CDDJNY5tG0"
      }
    },
    {
      "cell_type": "markdown",
      "source": [
        "**To describe syntactic dependencies, spaCy uses a standardized label scheme. Here's an example of some common labels:**\n",
        "\n",
        "    The pronoun \"She\" is a nominal subject attached to the verb – in this case, to \"ate\".\n",
        "\n",
        "    The noun \"pizza\" is a direct object attached to the verb \"ate\". It is eaten by the subject, \"she\".\n",
        "\n",
        "    The determiner \"the\", also known as an article, is attached to the noun \"pizza\"."
      ],
      "metadata": {
        "id": "HgQFQ-T56bPl"
      }
    },
    {
      "cell_type": "code",
      "source": [
        "for token in doc:\n",
        "    print(token.text, token.pos_, token.dep_, token.head.text)"
      ],
      "metadata": {
        "colab": {
          "base_uri": "https://localhost:8080/"
        },
        "id": "HcjTHDzPtLWF",
        "outputId": "398bef9e-d1c5-44e9-9896-a4fabdd03e23"
      },
      "execution_count": null,
      "outputs": [
        {
          "output_type": "stream",
          "name": "stdout",
          "text": [
            "She PRON nsubj ate\n",
            "ate VERB ROOT ate\n",
            "the DET det pizza\n",
            "pizza NOUN dobj ate\n"
          ]
        }
      ]
    },
    {
      "cell_type": "markdown",
      "source": [
        "**Predicting Name Entities**"
      ],
      "metadata": {
        "id": "vRdjK16z7GNY"
      }
    },
    {
      "cell_type": "markdown",
      "source": [
        "**Named entities are \"real world objects\" that are assigned a name – for example, a person, an organization or a country.**\n",
        "\n"
      ],
      "metadata": {
        "id": "hnLg6Rjl7u9r"
      }
    },
    {
      "cell_type": "code",
      "source": [
        "doc = nlp(\"Apple is looking at buying U.K. startup for $1 billion\")"
      ],
      "metadata": {
        "id": "xIe1SJpz2Sls"
      },
      "execution_count": null,
      "outputs": []
    },
    {
      "cell_type": "code",
      "source": [
        "for entity in doc.ents:\n",
        "    print(entity, entity.label_)"
      ],
      "metadata": {
        "colab": {
          "base_uri": "https://localhost:8080/"
        },
        "id": "7YfgrEU12SjB",
        "outputId": "bdfc0540-f9c5-47a1-aa50-7c8cc1769817"
      },
      "execution_count": null,
      "outputs": [
        {
          "output_type": "stream",
          "name": "stdout",
          "text": [
            "Apple ORG\n",
            "U.K. GPE\n",
            "$1 billion MONEY\n"
          ]
        }
      ]
    },
    {
      "cell_type": "code",
      "source": [
        "spacy.explain(\"GPE\")"
      ],
      "metadata": {
        "colab": {
          "base_uri": "https://localhost:8080/",
          "height": 36
        },
        "id": "YZKzuaFz-F7j",
        "outputId": "502e555c-56ef-4897-96b2-a09b4981978a"
      },
      "execution_count": null,
      "outputs": [
        {
          "output_type": "execute_result",
          "data": {
            "text/plain": [
              "'Countries, cities, states'"
            ],
            "application/vnd.google.colaboratory.intrinsic+json": {
              "type": "string"
            }
          },
          "metadata": {},
          "execution_count": 22
        }
      ]
    },
    {
      "cell_type": "markdown",
      "source": [
        "**In this case, the model is correctly predicting \"Apple\" as an organization, \"U.K.\" as a geopolitical entity and \"$1 billion\" as money.**"
      ],
      "metadata": {
        "id": "vxiD5fdJ8zuY"
      }
    },
    {
      "cell_type": "code",
      "source": [],
      "metadata": {
        "id": "I3r0GLZ3-eVz"
      },
      "execution_count": null,
      "outputs": []
    },
    {
      "cell_type": "code",
      "source": [
        "text = \"It's official: Apple is the first U.S. public company to reach a $1 trillion market value\""
      ],
      "metadata": {
        "id": "WO22mQgk2Sgb"
      },
      "execution_count": null,
      "outputs": []
    },
    {
      "cell_type": "code",
      "source": [
        "doc = nlp(text)"
      ],
      "metadata": {
        "id": "a0EkPmw32Sd0"
      },
      "execution_count": null,
      "outputs": []
    },
    {
      "cell_type": "code",
      "source": [
        "doc.text"
      ],
      "metadata": {
        "colab": {
          "base_uri": "https://localhost:8080/",
          "height": 36
        },
        "id": "O6NSki412SJX",
        "outputId": "aedf23b8-91b0-47ac-a75d-4d8a1b3f6586"
      },
      "execution_count": null,
      "outputs": [
        {
          "output_type": "execute_result",
          "data": {
            "text/plain": [
              "\"It's official: Apple is the first U.S. public company to reach a $1 trillion market value\""
            ],
            "application/vnd.google.colaboratory.intrinsic+json": {
              "type": "string"
            }
          },
          "metadata": {},
          "execution_count": 25
        }
      ]
    },
    {
      "cell_type": "code",
      "source": [
        "for token in doc:\n",
        "    print(f'{token.text:<14}{token.pos_:<12}{token.dep_}')"
      ],
      "metadata": {
        "colab": {
          "base_uri": "https://localhost:8080/"
        },
        "id": "CM_6YWTJ-0T-",
        "outputId": "61ff3c06-0b95-4ac4-a46e-5ec798eaca5f"
      },
      "execution_count": null,
      "outputs": [
        {
          "output_type": "stream",
          "name": "stdout",
          "text": [
            "It            PRON        nsubj\n",
            "'s            AUX         ccomp\n",
            "official      ADJ         acomp\n",
            ":             PUNCT       punct\n",
            "Apple         PROPN       nsubj\n",
            "is            AUX         ROOT\n",
            "the           DET         det\n",
            "first         ADJ         amod\n",
            "U.S.          PROPN       nmod\n",
            "public        ADJ         amod\n",
            "company       NOUN        attr\n",
            "to            PART        aux\n",
            "reach         VERB        relcl\n",
            "a             DET         det\n",
            "$             SYM         quantmod\n",
            "1             NUM         compound\n",
            "trillion      NUM         nummod\n",
            "market        NOUN        compound\n",
            "value         NOUN        dobj\n"
          ]
        }
      ]
    },
    {
      "cell_type": "code",
      "source": [
        "spacy.explain(\"nmod\")"
      ],
      "metadata": {
        "colab": {
          "base_uri": "https://localhost:8080/",
          "height": 36
        },
        "id": "3EQK0RH1-0Zg",
        "outputId": "63a3d85e-ca3f-4f83-d3a8-1e096dbbce4d"
      },
      "execution_count": null,
      "outputs": [
        {
          "output_type": "execute_result",
          "data": {
            "text/plain": [
              "'modifier of nominal'"
            ],
            "application/vnd.google.colaboratory.intrinsic+json": {
              "type": "string"
            }
          },
          "metadata": {},
          "execution_count": 27
        }
      ]
    },
    {
      "cell_type": "code",
      "source": [
        "for ent in doc.ents:\n",
        "    print(ent.text, ent.label_)"
      ],
      "metadata": {
        "colab": {
          "base_uri": "https://localhost:8080/"
        },
        "id": "nhuCgs1T_067",
        "outputId": "f9d1ea1a-892b-438e-eb3a-a284cc6bb567"
      },
      "execution_count": null,
      "outputs": [
        {
          "output_type": "stream",
          "name": "stdout",
          "text": [
            "Apple ORG\n",
            "first ORDINAL\n",
            "U.S. GPE\n",
            "$1 trillion MONEY\n"
          ]
        }
      ]
    },
    {
      "cell_type": "code",
      "source": [],
      "metadata": {
        "id": "noV5EWsCAqbO"
      },
      "execution_count": null,
      "outputs": []
    },
    {
      "cell_type": "markdown",
      "source": [
        "**Predicting Name Entities in Context**"
      ],
      "metadata": {
        "id": "sXbMV57cBCen"
      }
    },
    {
      "cell_type": "code",
      "source": [
        "text = \"Upcoming iPhone X release date leaked as Apple reveals pre-orders\""
      ],
      "metadata": {
        "id": "Vebe69ZX_033"
      },
      "execution_count": null,
      "outputs": []
    },
    {
      "cell_type": "code",
      "source": [
        "doc = nlp(text)"
      ],
      "metadata": {
        "id": "yCcBi66oBKD0"
      },
      "execution_count": null,
      "outputs": []
    },
    {
      "cell_type": "code",
      "source": [
        "for ent in doc.ents:\n",
        "    print(ent.text, ent.label_)       # Looks like the model didn’t predict “iPhone X”"
      ],
      "metadata": {
        "colab": {
          "base_uri": "https://localhost:8080/"
        },
        "id": "KniAS1cQBJ_a",
        "outputId": "436ce68c-e50a-4b25-e0a9-68f26c957e73"
      },
      "execution_count": null,
      "outputs": [
        {
          "output_type": "stream",
          "name": "stdout",
          "text": [
            "Apple ORG\n"
          ]
        }
      ]
    },
    {
      "cell_type": "code",
      "source": [
        "[token.i for token in doc if token.text == \"iPhone\" or token.text == \"X\"]"
      ],
      "metadata": {
        "colab": {
          "base_uri": "https://localhost:8080/"
        },
        "id": "Lh7vB_D2CerJ",
        "outputId": "035ced49-db1a-4d94-b1d3-450890065aed"
      },
      "execution_count": null,
      "outputs": [
        {
          "output_type": "execute_result",
          "data": {
            "text/plain": [
              "[1, 2]"
            ]
          },
          "metadata": {},
          "execution_count": 32
        }
      ]
    },
    {
      "cell_type": "code",
      "source": [
        "iphone_x = doc[1:3]\n",
        "iphone_x"
      ],
      "metadata": {
        "colab": {
          "base_uri": "https://localhost:8080/"
        },
        "id": "ZG4MrjTNBJ61",
        "outputId": "e08ac80c-ef02-4e58-f57b-836392894dfd"
      },
      "execution_count": null,
      "outputs": [
        {
          "output_type": "execute_result",
          "data": {
            "text/plain": [
              "iPhone X"
            ]
          },
          "metadata": {},
          "execution_count": 33
        }
      ]
    },
    {
      "cell_type": "markdown",
      "source": [
        "**Rule Based Matching**"
      ],
      "metadata": {
        "id": "WCMxeQFPGKcx"
      }
    },
    {
      "cell_type": "markdown",
      "source": [
        "    Compared to regular expressions, the matcher works with Doc and Token objects instead of only strings.\n",
        "    It's also more flexible: you can search for texts but also other lexical attributes.\n",
        "\n",
        "    You can even write rules that use a model's predictions.\n",
        "    For example, find the word \"duck\" only if it's a verb, not a noun."
      ],
      "metadata": {
        "id": "Spn554mZGQsW"
      }
    },
    {
      "cell_type": "markdown",
      "source": [
        "* Matcher"
      ],
      "metadata": {
        "id": "WK1MW_sgHjP5"
      }
    },
    {
      "cell_type": "code",
      "source": [
        "pattern = [{\"TEXT\": \"iPhone\"}, {\"TEXT\" : \"X\"}]  \n",
        "# pattern = [{\"LOWER\":\"iphone\"}, {\"LOWER\": \"x\"}]\n",
        "# pattern = [{\"LEMMA\":\"buy\"}, {\"POS\" : \"NOUN\"}]"
      ],
      "metadata": {
        "id": "H_qwfSBdGJzF"
      },
      "execution_count": null,
      "outputs": []
    },
    {
      "cell_type": "code",
      "source": [
        "from spacy.matcher import Matcher"
      ],
      "metadata": {
        "id": "xXSd7tMq-0f5"
      },
      "execution_count": null,
      "outputs": []
    },
    {
      "cell_type": "code",
      "source": [
        "nlp = spacy.load(\"en_core_web_sm\")"
      ],
      "metadata": {
        "id": "N6ieUVEAGJ3Y"
      },
      "execution_count": null,
      "outputs": []
    },
    {
      "cell_type": "code",
      "source": [
        "matcher = Matcher(nlp.vocab)"
      ],
      "metadata": {
        "id": "ZUyigqcpHy9G"
      },
      "execution_count": null,
      "outputs": []
    },
    {
      "cell_type": "code",
      "source": [
        "matcher"
      ],
      "metadata": {
        "colab": {
          "base_uri": "https://localhost:8080/"
        },
        "id": "oaXbxf35HxKJ",
        "outputId": "aebb0049-6c25-4d3e-bd6f-94593c55229e"
      },
      "execution_count": null,
      "outputs": [
        {
          "output_type": "execute_result",
          "data": {
            "text/plain": [
              "<spacy.matcher.matcher.Matcher at 0x7f348f1f3250>"
            ]
          },
          "metadata": {},
          "execution_count": 37
        }
      ]
    },
    {
      "cell_type": "code",
      "source": [
        "matcher.add(\"IPHONE_PATTERN\", [pattern])"
      ],
      "metadata": {
        "id": "Dj78Y4V6K-fN"
      },
      "execution_count": null,
      "outputs": []
    },
    {
      "cell_type": "code",
      "source": [
        "doc = nlp(\"Upcomig iPhone X release date leaked\")"
      ],
      "metadata": {
        "id": "tAPmXYhxK-lQ"
      },
      "execution_count": null,
      "outputs": []
    },
    {
      "cell_type": "code",
      "source": [
        "matches = matcher(doc)\n",
        "matches"
      ],
      "metadata": {
        "id": "I9lBsbFRK-rp",
        "colab": {
          "base_uri": "https://localhost:8080/"
        },
        "outputId": "3a3c6e02-1afc-4034-8e56-9ad3679ea4f1"
      },
      "execution_count": null,
      "outputs": [
        {
          "output_type": "execute_result",
          "data": {
            "text/plain": [
              "[(9528407286733565721, 1, 3)]"
            ]
          },
          "metadata": {},
          "execution_count": 47
        }
      ]
    },
    {
      "cell_type": "markdown",
      "source": [
        "    match_id: hash value of the pattern name\n",
        "    start: start index of matched span\n",
        "    end: end index of matched span"
      ],
      "metadata": {
        "id": "6tgHccZF-NV4"
      }
    },
    {
      "cell_type": "code",
      "source": [
        "for match_id, start, end in matches:\n",
        "    matched_span = doc[start:end]\n",
        "    print(matched_span.text)"
      ],
      "metadata": {
        "colab": {
          "base_uri": "https://localhost:8080/"
        },
        "id": "KSJrMX23-yLE",
        "outputId": "cc6f0876-9b30-4bbc-beb1-3b387927b124"
      },
      "execution_count": null,
      "outputs": [
        {
          "output_type": "stream",
          "name": "stdout",
          "text": [
            "iPhone X\n"
          ]
        }
      ]
    },
    {
      "cell_type": "code",
      "source": [],
      "metadata": {
        "id": "lZkskxtvDCQA"
      },
      "execution_count": null,
      "outputs": []
    },
    {
      "cell_type": "markdown",
      "source": [
        "Write one pattern that only matches mentions of the full iOS versions: “iOS 7”, “iOS 11” and “iOS 10”."
      ],
      "metadata": {
        "id": "1b63owAtUxUq"
      }
    },
    {
      "cell_type": "code",
      "source": [
        "doc = nlp(\n",
        "    \"After making the iOS update you won't notice a radical system-wide \"\n",
        "    \"redesign: nothing like the aesthetic upheaval we got with iOS 7. Most of \"\n",
        "    \"iOS 11's furniture remains the same as in iOS 10. But you will discover \"\n",
        "    \"some tweaks once you delve a little deeper.\"\n",
        ")"
      ],
      "metadata": {
        "id": "IfKPwA2b_GuR"
      },
      "execution_count": null,
      "outputs": []
    },
    {
      "cell_type": "code",
      "source": [
        "pattern = [{\"TEXT\": \"iOS\"}, {\"IS_DIGIT\":True}]"
      ],
      "metadata": {
        "id": "JvjtnPy0_Gqt"
      },
      "execution_count": null,
      "outputs": []
    },
    {
      "cell_type": "code",
      "source": [
        "matcher.add(\"IOS_VERSION_PATTERN\", [pattern])"
      ],
      "metadata": {
        "id": "YdRfEwnW_Gm2"
      },
      "execution_count": null,
      "outputs": []
    },
    {
      "cell_type": "code",
      "source": [
        "matches = matcher(doc)"
      ],
      "metadata": {
        "id": "2czO_sj2-kFH"
      },
      "execution_count": null,
      "outputs": []
    },
    {
      "cell_type": "code",
      "source": [
        "for match_id, start, end in matches:\n",
        "    matches_span = doc[start:end]\n",
        "    print(matches_span)\n"
      ],
      "metadata": {
        "colab": {
          "base_uri": "https://localhost:8080/"
        },
        "id": "_q7RPjJxDPU6",
        "outputId": "dd6e0e57-bd70-4220-fae8-c39ff0a077b2"
      },
      "execution_count": null,
      "outputs": [
        {
          "output_type": "stream",
          "name": "stdout",
          "text": [
            "iOS 7\n",
            "iOS 11\n",
            "iOS 10\n"
          ]
        }
      ]
    },
    {
      "cell_type": "code",
      "source": [
        "doc = nlp(\n",
        "    \"i downloaded Fortnite on my laptop and can't open the game at all. Help? \"\n",
        "    \"so when I was downloading Minecraft, I got the Windows version where it \"\n",
        "    \"is the '.zip' folder and I used the default program to unpack it... do \"\n",
        "    \"I also need to download Winzip?\"\n",
        ")\n"
      ],
      "metadata": {
        "id": "pGGt8CYQRD7P"
      },
      "execution_count": null,
      "outputs": []
    },
    {
      "cell_type": "code",
      "source": [
        "pattern = [{\"LEMMA\": \"download\"}, {\"POS\": \"PROPN\"}]"
      ],
      "metadata": {
        "id": "6c88__5-RD3-"
      },
      "execution_count": null,
      "outputs": []
    },
    {
      "cell_type": "code",
      "source": [
        "matcher.add(\"DOWNLOAD_THINGS_PATTERN\", [pattern])"
      ],
      "metadata": {
        "id": "3oYPYxp1RDz6"
      },
      "execution_count": null,
      "outputs": []
    },
    {
      "cell_type": "code",
      "source": [
        "matches = matcher(doc)\n",
        "matches"
      ],
      "metadata": {
        "colab": {
          "base_uri": "https://localhost:8080/"
        },
        "id": "Q4ackMVTTS5R",
        "outputId": "2769cb08-7a15-47a3-ab54-45c4b4b8b454"
      },
      "execution_count": null,
      "outputs": [
        {
          "output_type": "execute_result",
          "data": {
            "text/plain": [
              "[(1475109908168048428, 1, 3),\n",
              " (1475109908168048428, 21, 23),\n",
              " (1475109908168048428, 52, 54)]"
            ]
          },
          "metadata": {},
          "execution_count": 85
        }
      ]
    },
    {
      "cell_type": "code",
      "source": [
        "for match_id, start, end in matches:\n",
        "    matches_span = doc[start:end]\n",
        "    print(matches_span)"
      ],
      "metadata": {
        "colab": {
          "base_uri": "https://localhost:8080/"
        },
        "id": "jOEEfmKKTSaM",
        "outputId": "e3526b39-41a9-4a80-9470-6c4df46db442"
      },
      "execution_count": null,
      "outputs": [
        {
          "output_type": "stream",
          "name": "stdout",
          "text": [
            "downloaded Fortnite\n",
            "downloading Minecraft\n",
            "download Winzip\n"
          ]
        }
      ]
    },
    {
      "cell_type": "markdown",
      "source": [
        "Write one pattern that matches adjectives (\"ADJ\") followed by one or two \"NOUN\"s (one noun and one optional noun).\n"
      ],
      "metadata": {
        "id": "nbxMOEJfUYTC"
      }
    },
    {
      "cell_type": "code",
      "source": [
        "doc = nlp(\n",
        "    \"Features of the app include a beautiful design, smart search, automatic \"\n",
        "    \"labels and optional voice responses.\"\n",
        ")"
      ],
      "metadata": {
        "id": "HQ7UKl4RTSWe"
      },
      "execution_count": null,
      "outputs": []
    },
    {
      "cell_type": "code",
      "source": [
        "pattern = [{\"POS\":\"ADJ\"}, {\"POS\":\"NOUN\"}, {\"POS\": \"NOUN\", \"OP\": \"?\"}]"
      ],
      "metadata": {
        "id": "mQkkhwUiT8Zx"
      },
      "execution_count": null,
      "outputs": []
    },
    {
      "cell_type": "code",
      "source": [
        "matcher.add(\"ADJ_NOUN_PATTERN\", [pattern])"
      ],
      "metadata": {
        "id": "vp63J4CJT8WP"
      },
      "execution_count": null,
      "outputs": []
    },
    {
      "cell_type": "code",
      "source": [
        "matches = matcher(doc)\n",
        "matches"
      ],
      "metadata": {
        "colab": {
          "base_uri": "https://localhost:8080/"
        },
        "id": "nXD9PMOyT8Si",
        "outputId": "27b816ce-97fd-485d-ae64-15cc27809f84"
      },
      "execution_count": null,
      "outputs": [
        {
          "output_type": "execute_result",
          "data": {
            "text/plain": [
              "[(5488211386492616699, 6, 8),\n",
              " (5488211386492616699, 9, 11),\n",
              " (5488211386492616699, 12, 14),\n",
              " (5488211386492616699, 15, 17),\n",
              " (5488211386492616699, 15, 18)]"
            ]
          },
          "metadata": {},
          "execution_count": 91
        }
      ]
    },
    {
      "cell_type": "code",
      "source": [
        "for match_id, start,end in matches:\n",
        "    matches_span = doc[start:end]\n",
        "    print(matches_span)"
      ],
      "metadata": {
        "colab": {
          "base_uri": "https://localhost:8080/"
        },
        "id": "xbSNMLKMVNz3",
        "outputId": "79fa7d59-1842-4825-94f1-b3e6192877bb"
      },
      "execution_count": null,
      "outputs": [
        {
          "output_type": "stream",
          "name": "stdout",
          "text": [
            "beautiful design\n",
            "smart search\n",
            "automatic labels\n",
            "optional voice\n",
            "optional voice responses\n"
          ]
        }
      ]
    },
    {
      "cell_type": "code",
      "source": [],
      "metadata": {
        "id": "x38oVzQ0Wjp4"
      },
      "execution_count": null,
      "outputs": []
    },
    {
      "cell_type": "code",
      "source": [],
      "metadata": {
        "id": "vrvbib0-WpCX"
      },
      "execution_count": null,
      "outputs": []
    },
    {
      "cell_type": "code",
      "source": [],
      "metadata": {
        "id": "8Jrh6clmWjmP"
      },
      "execution_count": null,
      "outputs": []
    },
    {
      "cell_type": "code",
      "source": [],
      "metadata": {
        "id": "ADvJhWYN7xqF"
      },
      "execution_count": null,
      "outputs": []
    },
    {
      "cell_type": "code",
      "source": [],
      "metadata": {
        "id": "Op777iYB4GwB"
      },
      "execution_count": null,
      "outputs": []
    }
  ]
}