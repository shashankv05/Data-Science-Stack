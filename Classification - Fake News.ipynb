{
  "nbformat": 4,
  "nbformat_minor": 0,
  "metadata": {
    "colab": {
      "name": "Github_Version_Classification_Problem_Recognize_Fake_News.ipynb",
      "provenance": [],
      "collapsed_sections": [],
      "authorship_tag": "ABX9TyO0WtTvSXneozTUu1shcjkk"
    },
    "kernelspec": {
      "name": "python3",
      "display_name": "Python 3"
    },
    "language_info": {
      "name": "python"
    }
  },
  "cells": [
    {
      "cell_type": "code",
      "metadata": {
        "id": "Hha3s0DRnpQM",
        "colab": {
          "base_uri": "https://localhost:8080/"
        },
        "outputId": "40fd0e65-0c23-46da-eea7-d5a687806802"
      },
      "source": [
        "from google.colab import drive\n",
        "drive.mount(\"/content/gdrive\")\n"
      ],
      "execution_count": 1,
      "outputs": [
        {
          "output_type": "stream",
          "name": "stdout",
          "text": [
            "Mounted at /content/gdrive\n"
          ]
        }
      ]
    },
    {
      "cell_type": "code",
      "metadata": {
        "id": "9H0I2KD6nsKB",
        "colab": {
          "base_uri": "https://localhost:8080/"
        },
        "outputId": "6d7a2e24-fc49-4c60-f506-e1df69e5e91a"
      },
      "source": [
        "import pandas as pd\n",
        "!pip install --upgrade plotly"
      ],
      "execution_count": 1,
      "outputs": [
        {
          "output_type": "stream",
          "name": "stdout",
          "text": [
            "Requirement already satisfied: plotly in /usr/local/lib/python3.7/dist-packages (5.3.1)\n",
            "Requirement already satisfied: tenacity>=6.2.0 in /usr/local/lib/python3.7/dist-packages (from plotly) (8.0.1)\n",
            "Requirement already satisfied: six in /usr/local/lib/python3.7/dist-packages (from plotly) (1.15.0)\n"
          ]
        }
      ]
    },
    {
      "cell_type": "markdown",
      "metadata": {
        "id": "DKUp2ZtHaK_n"
      },
      "source": [
        "#### Exploring Data "
      ]
    },
    {
      "cell_type": "code",
      "metadata": {
        "id": "Du3ywyNLn5O8"
      },
      "source": [
        "df = pd.read_csv('/content/gdrive/My Drive/Shashank Python V/Projects/DataSet/Fake-News-Classification/news_articles.csv', index_col=0)"
      ],
      "execution_count": 2,
      "outputs": []
    },
    {
      "cell_type": "code",
      "metadata": {
        "colab": {
          "base_uri": "https://localhost:8080/",
          "height": 680
        },
        "id": "WBRJsaybpJ-q",
        "outputId": "9880bf5c-f790-4a45-eb34-71a78f938c3e"
      },
      "source": [
        "df.head()"
      ],
      "execution_count": 3,
      "outputs": [
        {
          "output_type": "execute_result",
          "data": {
            "text/html": [
              "<div>\n",
              "<style scoped>\n",
              "    .dataframe tbody tr th:only-of-type {\n",
              "        vertical-align: middle;\n",
              "    }\n",
              "\n",
              "    .dataframe tbody tr th {\n",
              "        vertical-align: top;\n",
              "    }\n",
              "\n",
              "    .dataframe thead th {\n",
              "        text-align: right;\n",
              "    }\n",
              "</style>\n",
              "<table border=\"1\" class=\"dataframe\">\n",
              "  <thead>\n",
              "    <tr style=\"text-align: right;\">\n",
              "      <th></th>\n",
              "      <th>published</th>\n",
              "      <th>title</th>\n",
              "      <th>text</th>\n",
              "      <th>language</th>\n",
              "      <th>site_url</th>\n",
              "      <th>main_img_url</th>\n",
              "      <th>type</th>\n",
              "      <th>label</th>\n",
              "      <th>title_without_stopwords</th>\n",
              "      <th>text_without_stopwords</th>\n",
              "      <th>hasImage</th>\n",
              "    </tr>\n",
              "    <tr>\n",
              "      <th>author</th>\n",
              "      <th></th>\n",
              "      <th></th>\n",
              "      <th></th>\n",
              "      <th></th>\n",
              "      <th></th>\n",
              "      <th></th>\n",
              "      <th></th>\n",
              "      <th></th>\n",
              "      <th></th>\n",
              "      <th></th>\n",
              "      <th></th>\n",
              "    </tr>\n",
              "  </thead>\n",
              "  <tbody>\n",
              "    <tr>\n",
              "      <th>Barracuda Brigade</th>\n",
              "      <td>2016-10-26T21:41:00.000+03:00</td>\n",
              "      <td>muslims busted they stole millions in govt ben...</td>\n",
              "      <td>print they should pay all the back all the mon...</td>\n",
              "      <td>english</td>\n",
              "      <td>100percentfedup.com</td>\n",
              "      <td>http://bb4sp.com/wp-content/uploads/2016/10/Fu...</td>\n",
              "      <td>bias</td>\n",
              "      <td>Real</td>\n",
              "      <td>muslims busted stole millions govt benefits</td>\n",
              "      <td>print pay back money plus interest entire fami...</td>\n",
              "      <td>1.0</td>\n",
              "    </tr>\n",
              "    <tr>\n",
              "      <th>reasoning with facts</th>\n",
              "      <td>2016-10-29T08:47:11.259+03:00</td>\n",
              "      <td>re why did attorney general loretta lynch plea...</td>\n",
              "      <td>why did attorney general loretta lynch plead t...</td>\n",
              "      <td>english</td>\n",
              "      <td>100percentfedup.com</td>\n",
              "      <td>http://bb4sp.com/wp-content/uploads/2016/10/Fu...</td>\n",
              "      <td>bias</td>\n",
              "      <td>Real</td>\n",
              "      <td>attorney general loretta lynch plead fifth</td>\n",
              "      <td>attorney general loretta lynch plead fifth bar...</td>\n",
              "      <td>1.0</td>\n",
              "    </tr>\n",
              "    <tr>\n",
              "      <th>Barracuda Brigade</th>\n",
              "      <td>2016-10-31T01:41:49.479+02:00</td>\n",
              "      <td>breaking weiner cooperating with fbi on hillar...</td>\n",
              "      <td>red state  \\nfox news sunday reported this mor...</td>\n",
              "      <td>english</td>\n",
              "      <td>100percentfedup.com</td>\n",
              "      <td>http://bb4sp.com/wp-content/uploads/2016/10/Fu...</td>\n",
              "      <td>bias</td>\n",
              "      <td>Real</td>\n",
              "      <td>breaking weiner cooperating fbi hillary email ...</td>\n",
              "      <td>red state fox news sunday reported morning ant...</td>\n",
              "      <td>1.0</td>\n",
              "    </tr>\n",
              "    <tr>\n",
              "      <th>Fed Up</th>\n",
              "      <td>2016-11-01T05:22:00.000+02:00</td>\n",
              "      <td>pin drop speech by father of daughter kidnappe...</td>\n",
              "      <td>email kayla mueller was a prisoner and torture...</td>\n",
              "      <td>english</td>\n",
              "      <td>100percentfedup.com</td>\n",
              "      <td>http://100percentfedup.com/wp-content/uploads/...</td>\n",
              "      <td>bias</td>\n",
              "      <td>Real</td>\n",
              "      <td>pin drop speech father daughter kidnapped kill...</td>\n",
              "      <td>email kayla mueller prisoner tortured isis cha...</td>\n",
              "      <td>1.0</td>\n",
              "    </tr>\n",
              "    <tr>\n",
              "      <th>Fed Up</th>\n",
              "      <td>2016-11-01T21:56:00.000+02:00</td>\n",
              "      <td>fantastic trumps  point plan to reform healthc...</td>\n",
              "      <td>email healthcare reform to make america great ...</td>\n",
              "      <td>english</td>\n",
              "      <td>100percentfedup.com</td>\n",
              "      <td>http://100percentfedup.com/wp-content/uploads/...</td>\n",
              "      <td>bias</td>\n",
              "      <td>Real</td>\n",
              "      <td>fantastic trumps point plan reform healthcare ...</td>\n",
              "      <td>email healthcare reform make america great sin...</td>\n",
              "      <td>1.0</td>\n",
              "    </tr>\n",
              "  </tbody>\n",
              "</table>\n",
              "</div>"
            ],
            "text/plain": [
              "                                          published  ... hasImage\n",
              "author                                               ...         \n",
              "Barracuda Brigade     2016-10-26T21:41:00.000+03:00  ...      1.0\n",
              "reasoning with facts  2016-10-29T08:47:11.259+03:00  ...      1.0\n",
              "Barracuda Brigade     2016-10-31T01:41:49.479+02:00  ...      1.0\n",
              "Fed Up                2016-11-01T05:22:00.000+02:00  ...      1.0\n",
              "Fed Up                2016-11-01T21:56:00.000+02:00  ...      1.0\n",
              "\n",
              "[5 rows x 11 columns]"
            ]
          },
          "metadata": {},
          "execution_count": 3
        }
      ]
    },
    {
      "cell_type": "code",
      "metadata": {
        "colab": {
          "base_uri": "https://localhost:8080/"
        },
        "id": "PpN_NlY7qNOf",
        "outputId": "39f01806-45c1-4a51-f5f2-586ae27ea637"
      },
      "source": [
        "df.isnull().sum()"
      ],
      "execution_count": 4,
      "outputs": [
        {
          "output_type": "execute_result",
          "data": {
            "text/plain": [
              "published                   0\n",
              "title                       0\n",
              "text                       46\n",
              "language                    1\n",
              "site_url                    1\n",
              "main_img_url                1\n",
              "type                        1\n",
              "label                       1\n",
              "title_without_stopwords     2\n",
              "text_without_stopwords     50\n",
              "hasImage                    1\n",
              "dtype: int64"
            ]
          },
          "metadata": {},
          "execution_count": 4
        }
      ]
    },
    {
      "cell_type": "code",
      "metadata": {
        "id": "5XNEZqusri2s"
      },
      "source": [
        "df = df.dropna()"
      ],
      "execution_count": 5,
      "outputs": []
    },
    {
      "cell_type": "code",
      "metadata": {
        "colab": {
          "base_uri": "https://localhost:8080/"
        },
        "id": "e2-GfShfr4N-",
        "outputId": "62bc5eed-a274-4356-ec5d-6436a0d5bd51"
      },
      "source": [
        "df.shape"
      ],
      "execution_count": 6,
      "outputs": [
        {
          "output_type": "execute_result",
          "data": {
            "text/plain": [
              "(2045, 11)"
            ]
          },
          "metadata": {},
          "execution_count": 6
        }
      ]
    },
    {
      "cell_type": "code",
      "metadata": {
        "colab": {
          "base_uri": "https://localhost:8080/"
        },
        "id": "IFTdOh7sr-8T",
        "outputId": "75f31612-6958-4991-8724-35af37f8b66c"
      },
      "source": [
        "df.count()"
      ],
      "execution_count": 7,
      "outputs": [
        {
          "output_type": "execute_result",
          "data": {
            "text/plain": [
              "published                  2045\n",
              "title                      2045\n",
              "text                       2045\n",
              "language                   2045\n",
              "site_url                   2045\n",
              "main_img_url               2045\n",
              "type                       2045\n",
              "label                      2045\n",
              "title_without_stopwords    2045\n",
              "text_without_stopwords     2045\n",
              "hasImage                   2045\n",
              "dtype: int64"
            ]
          },
          "metadata": {},
          "execution_count": 7
        }
      ]
    },
    {
      "cell_type": "markdown",
      "metadata": {
        "id": "6Yftf4-5brIx"
      },
      "source": [
        "**Distribution of Articles**"
      ]
    },
    {
      "cell_type": "code",
      "metadata": {
        "id": "e9mzFfuEsLUQ",
        "colab": {
          "base_uri": "https://localhost:8080/"
        },
        "outputId": "9604170e-4a28-4468-d43d-bdae41678d2d"
      },
      "source": [
        "df['type'].unique()"
      ],
      "execution_count": 8,
      "outputs": [
        {
          "output_type": "execute_result",
          "data": {
            "text/plain": [
              "array(['bias', 'conspiracy', 'fake', 'bs', 'satire', 'hate', 'junksci',\n",
              "       'state'], dtype=object)"
            ]
          },
          "metadata": {},
          "execution_count": 8
        }
      ]
    },
    {
      "cell_type": "code",
      "metadata": {
        "id": "VxsBe9V0Gx8B"
      },
      "source": [
        "import matplotlib.pyplot as plt"
      ],
      "execution_count": 9,
      "outputs": []
    },
    {
      "cell_type": "code",
      "metadata": {
        "id": "97zLw0aQbj98"
      },
      "source": [
        "data_for_chart = df['type'].value_counts()"
      ],
      "execution_count": 10,
      "outputs": []
    },
    {
      "cell_type": "code",
      "metadata": {
        "id": "iYNcSM8Hkm-d"
      },
      "source": [
        "labels_plot = df['type'].value_counts().index"
      ],
      "execution_count": 11,
      "outputs": []
    },
    {
      "cell_type": "code",
      "metadata": {
        "colab": {
          "base_uri": "https://localhost:8080/"
        },
        "id": "wwT1In4ii59N",
        "outputId": "94ca81df-c7ac-4237-ba0d-7d67fb1d5fc5"
      },
      "source": [
        "import random\n",
        "explode = [round(random.uniform(0.0, 0.21), 2) for i in range(len(df['type'].unique()))]\n",
        "explode\n",
        "#[0.11, 0.16, 0.21, 0.05, 0.08, 0.06, 0.02, 0.01]"
      ],
      "execution_count": 12,
      "outputs": [
        {
          "output_type": "execute_result",
          "data": {
            "text/plain": [
              "[0.19, 0.18, 0.1, 0.04, 0.0, 0.17, 0.16, 0.12]"
            ]
          },
          "metadata": {},
          "execution_count": 12
        }
      ]
    },
    {
      "cell_type": "code",
      "metadata": {
        "id": "DTDIzJAc2QOM"
      },
      "source": [
        "wedgeprops = {'linewidth' : 1, 'edgecolor': 'black'}"
      ],
      "execution_count": 13,
      "outputs": []
    },
    {
      "cell_type": "code",
      "metadata": {
        "colab": {
          "base_uri": "https://localhost:8080/",
          "height": 487
        },
        "id": "tM8GdH4xl_Px",
        "outputId": "2b67bce8-cad5-47ca-aa20-1c6e6ecc4a7a"
      },
      "source": [
        "fig, ax = plt.subplots(figsize = (8, 8))\n",
        "ax.pie(data_for_chart, explode = explode, shadow=True, startangle = 75, wedgeprops = wedgeprops, labels=labels_plot, textprops={'fontsize':14})\n",
        "plt.title('Types of articles', fontsize=20, loc = 'left')\n",
        "plt.show()"
      ],
      "execution_count": 14,
      "outputs": [
        {
          "output_type": "display_data",
          "data": {
            "image/png": "[encoded data removed]",
            "text/plain": [
              "<Figure size 576x576 with 1 Axes>"
            ]
          },
          "metadata": {}
        }
      ]
    },
    {
      "cell_type": "markdown",
      "metadata": {
        "id": "GtDFtgHxsYEy"
      },
      "source": [
        "----------------------------------\n"
      ]
    },
    {
      "cell_type": "markdown",
      "metadata": {
        "id": "OzZpnTfVsNNW"
      },
      "source": [
        "**CountVectorizer is a great tool provided by the scikit-learn library in Python. It is used to transform a given text into a vector on the basis of the frequency (count) of each word that occurs in the entire text. This is helpful when we have multiple such texts, and we wish to convert each word in each text into vectors (for using in further text analysis).**"
      ]
    },
    {
      "cell_type": "code",
      "metadata": {
        "id": "cXKI817IrBrD"
      },
      "source": [
        " from sklearn.feature_extraction.text import CountVectorizer"
      ],
      "execution_count": 15,
      "outputs": []
    },
    {
      "cell_type": "markdown",
      "metadata": {
        "id": "hzdvcg_xznIe"
      },
      "source": [
        "#### Let's Dive in and See what is actually happening "
      ]
    },
    {
      "cell_type": "code",
      "metadata": {
        "colab": {
          "base_uri": "https://localhost:8080/"
        },
        "id": "lBWKkbBqs2D-",
        "outputId": "522c6411-4065-4e49-c5f0-fd7ac7678470"
      },
      "source": [
        "CountVectorizer().fit(df.text_without_stopwords)                                    # Vector"
      ],
      "execution_count": 16,
      "outputs": [
        {
          "output_type": "execute_result",
          "data": {
            "text/plain": [
              "CountVectorizer(analyzer='word', binary=False, decode_error='strict',\n",
              "                dtype=<class 'numpy.int64'>, encoding='utf-8', input='content',\n",
              "                lowercase=True, max_df=1.0, max_features=None, min_df=1,\n",
              "                ngram_range=(1, 1), preprocessor=None, stop_words=None,\n",
              "                strip_accents=None, token_pattern='(?u)\\\\b\\\\w\\\\w+\\\\b',\n",
              "                tokenizer=None, vocabulary=None)"
            ]
          },
          "metadata": {},
          "execution_count": 16
        }
      ]
    },
    {
      "cell_type": "code",
      "metadata": {
        "colab": {
          "base_uri": "https://localhost:8080/"
        },
        "id": "rTiivkOitcDx",
        "outputId": "4042315b-b34f-45ed-deed-05625474e964"
      },
      "source": [
        "CountVectorizer().fit(df.text_without_stopwords).transform(df.text_without_stopwords)           # Bag of Words"
      ],
      "execution_count": 17,
      "outputs": [
        {
          "output_type": "execute_result",
          "data": {
            "text/plain": [
              "<2045x46774 sparse matrix of type '<class 'numpy.int64'>'\n",
              "\twith 385743 stored elements in Compressed Sparse Row format>"
            ]
          },
          "metadata": {},
          "execution_count": 17
        }
      ]
    },
    {
      "cell_type": "code",
      "metadata": {
        "colab": {
          "base_uri": "https://localhost:8080/"
        },
        "id": "Rph2YJxNt0NI",
        "outputId": "91f8617d-84ce-4942-f8fc-ea25c73986ef"
      },
      "source": [
        "CountVectorizer().fit(df.text_without_stopwords).transform(df.text_without_stopwords).sum(axis=0)  # Sum_Words"
      ],
      "execution_count": 18,
      "outputs": [
        {
          "output_type": "execute_result",
          "data": {
            "text/plain": [
              "matrix([[9, 1, 4, ..., 3, 1, 1]], dtype=int64)"
            ]
          },
          "metadata": {},
          "execution_count": 18
        }
      ]
    },
    {
      "cell_type": "code",
      "metadata": {
        "id": "TrBk0rawuloR"
      },
      "source": [
        "CountVectorizer().fit(df.text_without_stopwords).vocabulary_.items()"
      ],
      "execution_count": 119,
      "outputs": []
    },
    {
      "cell_type": "code",
      "metadata": {
        "colab": {
          "base_uri": "https://localhost:8080/"
        },
        "id": "XkUGzumcwvNl",
        "outputId": "62872160-e1b2-4508-9543-9b7d7c12331c"
      },
      "source": [
        "CountVectorizer().fit(df.text_without_stopwords).transform(df.text_without_stopwords).sum(axis=0)[0, 26755] \n",
        "# Count of word 'money' (index of money) -> 26755, you can see above "
      ],
      "execution_count": 20,
      "outputs": [
        {
          "output_type": "execute_result",
          "data": {
            "text/plain": [
              "484"
            ]
          },
          "metadata": {},
          "execution_count": 20
        }
      ]
    },
    {
      "cell_type": "code",
      "metadata": {
        "id": "ykg6fmWDAzFQ"
      },
      "source": [
        "sum_words = CountVectorizer().fit(df.text_without_stopwords).transform(df.text_without_stopwords).sum(axis=0)"
      ],
      "execution_count": 21,
      "outputs": []
    },
    {
      "cell_type": "code",
      "metadata": {
        "id": "du9rFNu_AiWf"
      },
      "source": [
        "# [(word, sum_words[0, index]) for word, index in CountVectorizer().fit(df.text_without_stopwords).vocabulary_.items()]"
      ],
      "execution_count": 22,
      "outputs": []
    },
    {
      "cell_type": "markdown",
      "metadata": {
        "id": "uTlQB6OC3ZAF"
      },
      "source": [
        "We need to do this for Each item in the Dictionary So, We can write a function to achieve what we want"
      ]
    },
    {
      "cell_type": "code",
      "metadata": {
        "id": "YxV2jMoXxzUd"
      },
      "source": [
        "def get_top_n_unigrams(corpus, n=None):\n",
        "  vec =  CountVectorizer().fit(corpus)\n",
        "  bag_of_words = vec.transform(corpus)\n",
        "  sum_words = bag_of_words.sum(axis=0)\n",
        "  word_count = [(word, sum_words[0, index]) for word, index in vec.vocabulary_.items()]\n",
        "  word_count = sorted(word_count, key= lambda x: x[1], reverse=True)\n",
        "  return word_count[:n]"
      ],
      "execution_count": 23,
      "outputs": []
    },
    {
      "cell_type": "code",
      "metadata": {
        "id": "bbcZnS0L40yy"
      },
      "source": [
        "def get_top_n_bigrams(corpus, n=None):\n",
        "  vec = CountVectorizer(ngram_range=(2, 2)).fit(corpus)\n",
        "  bag_of_words =  vec.transform(corpus)\n",
        "  sum_words = bag_of_words.sum(axis=0)\n",
        "  word_count = [(word, sum_words[0, index]) for word, index in vec.vocabulary_.items()]\n",
        "  word_count = sorted(word_count, key = lambda x : x[1], reverse=True)\n",
        "  return word_count[:n]"
      ],
      "execution_count": 24,
      "outputs": []
    },
    {
      "cell_type": "code",
      "metadata": {
        "id": "_lTKHJgt_AFZ"
      },
      "source": [
        "def get_top_n_trigrams(corpus, n=None):\n",
        "  vec = CountVectorizer(ngram_range=(3, 3)).fit(corpus)\n",
        "  bag_of_words = vec.transform(corpus)\n",
        "  sum_words = bag_of_words.sum(axis=0)\n",
        "  word_count = [(word, sum_words[0, index]) for word, index in vec.vocabulary_.items()]\n",
        "  word_count = sorted(word_count, key = lambda x : x[1], reverse=True)\n",
        "  return word_count[:n]\n"
      ],
      "execution_count": 25,
      "outputs": []
    },
    {
      "cell_type": "code",
      "metadata": {
        "id": "2fFSqTJhNPIj"
      },
      "source": [
        "# import plotly.graph_objects as go\n",
        "# from plotly.offline import init_notebook_mode, iplot\n"
      ],
      "execution_count": 26,
      "outputs": []
    },
    {
      "cell_type": "code",
      "metadata": {
        "id": "WGKR8K1dV7BE"
      },
      "source": [
        "plt.style.use('fivethirtyeight')"
      ],
      "execution_count": 27,
      "outputs": []
    },
    {
      "cell_type": "code",
      "metadata": {
        "colab": {
          "base_uri": "https://localhost:8080/"
        },
        "id": "r4wpZMFfNg1D",
        "outputId": "5fbe0c78-6e5b-4bd3-cff9-803e2da4e049"
      },
      "source": [
        "common_words = get_top_n_unigrams(df['text_without_stopwords'], 20)\n",
        "common_words"
      ],
      "execution_count": 28,
      "outputs": [
        {
          "output_type": "execute_result",
          "data": {
            "text/plain": [
              "[('trump', 3382),\n",
              " ('clinton', 3052),\n",
              " ('one', 2368),\n",
              " ('us', 2349),\n",
              " ('said', 2322),\n",
              " ('people', 2267),\n",
              " ('would', 2212),\n",
              " ('hillary', 2047),\n",
              " ('also', 1727),\n",
              " ('like', 1672),\n",
              " ('election', 1453),\n",
              " ('new', 1444),\n",
              " ('time', 1380),\n",
              " ('even', 1362),\n",
              " ('state', 1239),\n",
              " ('president', 1192),\n",
              " ('get', 1147),\n",
              " ('could', 1147),\n",
              " ('campaign', 1135),\n",
              " ('many', 1092)]"
            ]
          },
          "metadata": {},
          "execution_count": 28
        }
      ]
    },
    {
      "cell_type": "code",
      "metadata": {
        "id": "d4FVwWScNmou"
      },
      "source": [
        "# df_unigram = pd.DataFrame(common_words,columns=['Words','Count'])\n",
        "# df_unigram.groupby('Words').sum()['Count']"
      ],
      "execution_count": 29,
      "outputs": []
    },
    {
      "cell_type": "code",
      "metadata": {
        "colab": {
          "base_uri": "https://localhost:8080/",
          "height": 453
        },
        "id": "TVyYHw7fEc5D",
        "outputId": "f81a8c58-dab5-467b-bdcf-6ddc2464adf4"
      },
      "source": [
        "df_unigram = pd.DataFrame(common_words,columns=['Words','Count'])\n",
        "df_unigram.groupby('Words').sum()['Count'].sort_values(ascending=False).plot(kind='bar', figsize= (9, 5), color= 'orange', edgecolor='black', \n",
        "                                                                            width = 0.7)\n",
        "plt.xticks(rotation = 60)\n",
        "plt.title('Top 20 Unigrams in articles')"
      ],
      "execution_count": 30,
      "outputs": [
        {
          "output_type": "execute_result",
          "data": {
            "text/plain": [
              "Text(0.5, 1.0, 'Top 20 Unigrams in articles')"
            ]
          },
          "metadata": {},
          "execution_count": 30
        },
        {
          "output_type": "display_data",
          "data": {
            "image/png": "[encoded data removed]",
            "text/plain": [
              "<Figure size 648x360 with 1 Axes>"
            ]
          },
          "metadata": {}
        }
      ]
    },
    {
      "cell_type": "code",
      "metadata": {
        "id": "bzcZjqjYTMTY"
      },
      "source": [
        "common_words = get_top_n_bigrams(df.text_without_stopwords, n=20)"
      ],
      "execution_count": 31,
      "outputs": []
    },
    {
      "cell_type": "code",
      "metadata": {
        "colab": {
          "base_uri": "https://localhost:8080/",
          "height": 517
        },
        "id": "jDgK1GhmTCW8",
        "outputId": "2da38e95-7d61-48dc-8139-9d04f619197f"
      },
      "source": [
        "df_bigram = pd.DataFrame(common_words, columns = ['Words', 'Count'])\n",
        "df_bigram.groupby('Words').sum()['Count'].sort_values(ascending=False).plot(kind='bar', figsize= (9, 5), color= 'orange', edgecolor='black', \n",
        "                                                                            width = 0.7)\n",
        "plt.xticks(rotation = 60)\n",
        "plt.title('Top 20 Bigrams in articles')"
      ],
      "execution_count": 32,
      "outputs": [
        {
          "output_type": "execute_result",
          "data": {
            "text/plain": [
              "Text(0.5, 1.0, 'Top 20 Bigrams in articles')"
            ]
          },
          "metadata": {},
          "execution_count": 32
        },
        {
          "output_type": "display_data",
          "data": {
            "image/png": "[encoded data removed]",
            "text/plain": [
              "<Figure size 648x360 with 1 Axes>"
            ]
          },
          "metadata": {}
        }
      ]
    },
    {
      "cell_type": "markdown",
      "metadata": {
        "id": "KjRT_HRfCNfZ"
      },
      "source": [
        "**WordCloud**"
      ]
    },
    {
      "cell_type": "code",
      "metadata": {
        "id": "AjOD5pjHQkff"
      },
      "source": [
        "from wordcloud import WordCloud"
      ],
      "execution_count": 33,
      "outputs": []
    },
    {
      "cell_type": "code",
      "metadata": {
        "colab": {
          "base_uri": "https://localhost:8080/",
          "height": 264
        },
        "id": "gRTejo-O-YTt",
        "outputId": "12ff154c-d480-42db-bdf4-dced27f01af8"
      },
      "source": [
        "wc = WordCloud(background_color=\"black\", max_words=100,\n",
        "               max_font_size=256,\n",
        "               random_state=42, width=1000, height=1000)\n",
        "wc.generate(' '.join(df.text_without_stopwords))\n",
        "plt.imshow(wc, interpolation=\"bilinear\")\n",
        "plt.axis('off')\n",
        "plt.show()"
      ],
      "execution_count": 34,
      "outputs": [
        {
          "output_type": "display_data",
          "data": {
            "image/png": "[encoded data removed]",
            "text/plain": [
              "<Figure size 432x288 with 1 Axes>"
            ]
          },
          "metadata": {}
        }
      ]
    },
    {
      "cell_type": "markdown",
      "metadata": {
        "id": "-WnQ7UDnDV0q"
      },
      "source": [
        "### Articles with Image"
      ]
    },
    {
      "cell_type": "code",
      "metadata": {
        "colab": {
          "base_uri": "https://localhost:8080/",
          "height": 204
        },
        "id": "fLOMQx5-E4Cm",
        "outputId": "d9ababc8-2299-4c27-a79d-369a3c57c82b"
      },
      "source": [
        "df.groupby(['hasImage', 'label']).count()\n",
        "# df[df.hasImage == 1].groupby('label').count().reset_index()"
      ],
      "execution_count": 35,
      "outputs": [
        {
          "output_type": "execute_result",
          "data": {
            "text/html": [
              "<div>\n",
              "<style scoped>\n",
              "    .dataframe tbody tr th:only-of-type {\n",
              "        vertical-align: middle;\n",
              "    }\n",
              "\n",
              "    .dataframe tbody tr th {\n",
              "        vertical-align: top;\n",
              "    }\n",
              "\n",
              "    .dataframe thead th {\n",
              "        text-align: right;\n",
              "    }\n",
              "</style>\n",
              "<table border=\"1\" class=\"dataframe\">\n",
              "  <thead>\n",
              "    <tr style=\"text-align: right;\">\n",
              "      <th></th>\n",
              "      <th></th>\n",
              "      <th>published</th>\n",
              "      <th>title</th>\n",
              "      <th>text</th>\n",
              "      <th>language</th>\n",
              "      <th>site_url</th>\n",
              "      <th>main_img_url</th>\n",
              "      <th>type</th>\n",
              "      <th>title_without_stopwords</th>\n",
              "      <th>text_without_stopwords</th>\n",
              "    </tr>\n",
              "    <tr>\n",
              "      <th>hasImage</th>\n",
              "      <th>label</th>\n",
              "      <th></th>\n",
              "      <th></th>\n",
              "      <th></th>\n",
              "      <th></th>\n",
              "      <th></th>\n",
              "      <th></th>\n",
              "      <th></th>\n",
              "      <th></th>\n",
              "      <th></th>\n",
              "    </tr>\n",
              "  </thead>\n",
              "  <tbody>\n",
              "    <tr>\n",
              "      <th rowspan=\"2\" valign=\"top\">0.0</th>\n",
              "      <th>Fake</th>\n",
              "      <td>340</td>\n",
              "      <td>340</td>\n",
              "      <td>340</td>\n",
              "      <td>340</td>\n",
              "      <td>340</td>\n",
              "      <td>340</td>\n",
              "      <td>340</td>\n",
              "      <td>340</td>\n",
              "      <td>340</td>\n",
              "    </tr>\n",
              "    <tr>\n",
              "      <th>Real</th>\n",
              "      <td>125</td>\n",
              "      <td>125</td>\n",
              "      <td>125</td>\n",
              "      <td>125</td>\n",
              "      <td>125</td>\n",
              "      <td>125</td>\n",
              "      <td>125</td>\n",
              "      <td>125</td>\n",
              "      <td>125</td>\n",
              "    </tr>\n",
              "    <tr>\n",
              "      <th rowspan=\"2\" valign=\"top\">1.0</th>\n",
              "      <th>Fake</th>\n",
              "      <td>951</td>\n",
              "      <td>951</td>\n",
              "      <td>951</td>\n",
              "      <td>951</td>\n",
              "      <td>951</td>\n",
              "      <td>951</td>\n",
              "      <td>951</td>\n",
              "      <td>951</td>\n",
              "      <td>951</td>\n",
              "    </tr>\n",
              "    <tr>\n",
              "      <th>Real</th>\n",
              "      <td>629</td>\n",
              "      <td>629</td>\n",
              "      <td>629</td>\n",
              "      <td>629</td>\n",
              "      <td>629</td>\n",
              "      <td>629</td>\n",
              "      <td>629</td>\n",
              "      <td>629</td>\n",
              "      <td>629</td>\n",
              "    </tr>\n",
              "  </tbody>\n",
              "</table>\n",
              "</div>"
            ],
            "text/plain": [
              "                published  ...  text_without_stopwords\n",
              "hasImage label             ...                        \n",
              "0.0      Fake         340  ...                     340\n",
              "         Real         125  ...                     125\n",
              "1.0      Fake         951  ...                     951\n",
              "         Real         629  ...                     629\n",
              "\n",
              "[4 rows x 9 columns]"
            ]
          },
          "metadata": {},
          "execution_count": 35
        }
      ]
    },
    {
      "cell_type": "code",
      "metadata": {
        "colab": {
          "base_uri": "https://localhost:8080/",
          "height": 282
        },
        "id": "eckSqcfNGdwI",
        "outputId": "5dd5dd1a-66a0-4031-fc0d-c15b9f42de29"
      },
      "source": [
        "df[df.hasImage == 1].groupby('label').count()['hasImage'].plot(kind = 'barh', color = 'grey')\n",
        "plt.gca().invert_yaxis()\n",
        "plt.ylabel('Label')\n",
        "plt.show()            "
      ],
      "execution_count": 36,
      "outputs": [
        {
          "output_type": "display_data",
          "data": {
            "image/png": "[encoded data removed]",
            "text/plain": [
              "<Figure size 432x288 with 1 Axes>"
            ]
          },
          "metadata": {}
        }
      ]
    },
    {
      "cell_type": "markdown",
      "metadata": {
        "id": "LeTbY4YAnnbZ"
      },
      "source": [
        "**Let's Analyse Article Images**"
      ]
    },
    {
      "cell_type": "code",
      "metadata": {
        "colab": {
          "base_uri": "https://localhost:8080/"
        },
        "id": "dZDgd_2Lmbhk",
        "outputId": "2c3a2fe5-dbf5-4e3a-a34d-b4eb1c707760"
      },
      "source": [
        "df.columns"
      ],
      "execution_count": 37,
      "outputs": [
        {
          "output_type": "execute_result",
          "data": {
            "text/plain": [
              "Index(['published', 'title', 'text', 'language', 'site_url', 'main_img_url',\n",
              "       'type', 'label', 'title_without_stopwords', 'text_without_stopwords',\n",
              "       'hasImage'],\n",
              "      dtype='object')"
            ]
          },
          "metadata": {},
          "execution_count": 37
        }
      ]
    },
    {
      "cell_type": "code",
      "metadata": {
        "colab": {
          "base_uri": "https://localhost:8080/"
        },
        "id": "nIh1VUx6pouO",
        "outputId": "55dc2df3-68a7-432a-c06b-66c545a1f546"
      },
      "source": [
        "# df_image_sources = df[~(df.main_img_url == 'No Image URL')]\n",
        "df_image_sources = df[['site_url','label','main_img_url']]\n",
        "df_image_sources.shape"
      ],
      "execution_count": 38,
      "outputs": [
        {
          "output_type": "execute_result",
          "data": {
            "text/plain": [
              "(2045, 3)"
            ]
          },
          "metadata": {},
          "execution_count": 38
        }
      ]
    },
    {
      "cell_type": "code",
      "metadata": {
        "colab": {
          "base_uri": "https://localhost:8080/",
          "height": 235
        },
        "id": "4jVLqm9Etky1",
        "outputId": "7c4b02f9-ef28-4ecb-823d-fcb1f3937697"
      },
      "source": [
        "df_image_sources.head()"
      ],
      "execution_count": 39,
      "outputs": [
        {
          "output_type": "execute_result",
          "data": {
            "text/html": [
              "<div>\n",
              "<style scoped>\n",
              "    .dataframe tbody tr th:only-of-type {\n",
              "        vertical-align: middle;\n",
              "    }\n",
              "\n",
              "    .dataframe tbody tr th {\n",
              "        vertical-align: top;\n",
              "    }\n",
              "\n",
              "    .dataframe thead th {\n",
              "        text-align: right;\n",
              "    }\n",
              "</style>\n",
              "<table border=\"1\" class=\"dataframe\">\n",
              "  <thead>\n",
              "    <tr style=\"text-align: right;\">\n",
              "      <th></th>\n",
              "      <th>site_url</th>\n",
              "      <th>label</th>\n",
              "      <th>main_img_url</th>\n",
              "    </tr>\n",
              "    <tr>\n",
              "      <th>author</th>\n",
              "      <th></th>\n",
              "      <th></th>\n",
              "      <th></th>\n",
              "    </tr>\n",
              "  </thead>\n",
              "  <tbody>\n",
              "    <tr>\n",
              "      <th>Barracuda Brigade</th>\n",
              "      <td>100percentfedup.com</td>\n",
              "      <td>Real</td>\n",
              "      <td>http://bb4sp.com/wp-content/uploads/2016/10/Fu...</td>\n",
              "    </tr>\n",
              "    <tr>\n",
              "      <th>reasoning with facts</th>\n",
              "      <td>100percentfedup.com</td>\n",
              "      <td>Real</td>\n",
              "      <td>http://bb4sp.com/wp-content/uploads/2016/10/Fu...</td>\n",
              "    </tr>\n",
              "    <tr>\n",
              "      <th>Barracuda Brigade</th>\n",
              "      <td>100percentfedup.com</td>\n",
              "      <td>Real</td>\n",
              "      <td>http://bb4sp.com/wp-content/uploads/2016/10/Fu...</td>\n",
              "    </tr>\n",
              "    <tr>\n",
              "      <th>Fed Up</th>\n",
              "      <td>100percentfedup.com</td>\n",
              "      <td>Real</td>\n",
              "      <td>http://100percentfedup.com/wp-content/uploads/...</td>\n",
              "    </tr>\n",
              "    <tr>\n",
              "      <th>Fed Up</th>\n",
              "      <td>100percentfedup.com</td>\n",
              "      <td>Real</td>\n",
              "      <td>http://100percentfedup.com/wp-content/uploads/...</td>\n",
              "    </tr>\n",
              "  </tbody>\n",
              "</table>\n",
              "</div>"
            ],
            "text/plain": [
              "                                 site_url  ...                                       main_img_url\n",
              "author                                     ...                                                   \n",
              "Barracuda Brigade     100percentfedup.com  ...  http://bb4sp.com/wp-content/uploads/2016/10/Fu...\n",
              "reasoning with facts  100percentfedup.com  ...  http://bb4sp.com/wp-content/uploads/2016/10/Fu...\n",
              "Barracuda Brigade     100percentfedup.com  ...  http://bb4sp.com/wp-content/uploads/2016/10/Fu...\n",
              "Fed Up                100percentfedup.com  ...  http://100percentfedup.com/wp-content/uploads/...\n",
              "Fed Up                100percentfedup.com  ...  http://100percentfedup.com/wp-content/uploads/...\n",
              "\n",
              "[5 rows x 3 columns]"
            ]
          },
          "metadata": {},
          "execution_count": 39
        }
      ]
    },
    {
      "cell_type": "code",
      "metadata": {
        "id": "RgAZor9ssYOW"
      },
      "source": [
        "df_image_source_Real = df_image_sources[df_image_sources.label == 'Real'].iloc[5:10]\n",
        "df_image_source_Fake = df_image_sources[df_image_sources.label == 'Fake'].iloc[0:5]"
      ],
      "execution_count": 40,
      "outputs": []
    },
    {
      "cell_type": "code",
      "metadata": {
        "id": "XCe3Np5_ny0U"
      },
      "source": [
        "def download_image(path):\n",
        "    return '<img src=\"'+ path + '\" width=\"100\">'"
      ],
      "execution_count": 41,
      "outputs": []
    },
    {
      "cell_type": "code",
      "metadata": {
        "id": "aJZywc-YoghE"
      },
      "source": [
        "from IPython.core.display import HTML"
      ],
      "execution_count": 42,
      "outputs": []
    },
    {
      "cell_type": "code",
      "metadata": {
        "colab": {
          "base_uri": "https://localhost:8080/",
          "height": 399
        },
        "id": "XwOsAmqKwwvE",
        "outputId": "70f3a85d-73b0-493e-a217-8f1b2c3a9599"
      },
      "source": [
        "HTML(df_image_source_Real.to_html(escape=False,formatters=dict(main_img_url=download_image)))"
      ],
      "execution_count": 43,
      "outputs": [
        {
          "output_type": "execute_result",
          "data": {
            "text/html": [
              "<table border=\"1\" class=\"dataframe\">\n",
              "  <thead>\n",
              "    <tr style=\"text-align: right;\">\n",
              "      <th></th>\n",
              "      <th>site_url</th>\n",
              "      <th>label</th>\n",
              "      <th>main_img_url</th>\n",
              "    </tr>\n",
              "    <tr>\n",
              "      <th>author</th>\n",
              "      <th></th>\n",
              "      <th></th>\n",
              "      <th></th>\n",
              "    </tr>\n",
              "  </thead>\n",
              "  <tbody>\n",
              "    <tr>\n",
              "      <th>Barracuda Brigade</th>\n",
              "      <td>100percentfedup.com</td>\n",
              "      <td>Real</td>\n",
              "      <td><img src=\"http://bb4sp.com/wp-content/uploads/2016/11/Fullscreen-capture-1122016-74311-AM.bmp.jpg\" width=\"100\"></td>\n",
              "    </tr>\n",
              "    <tr>\n",
              "      <th>Fed Up</th>\n",
              "      <td>100percentfedup.com</td>\n",
              "      <td>Real</td>\n",
              "      <td><img src=\"http://100percentfedup.com/wp-content/uploads/2016/11/hillary-looking-down.jpg\" width=\"100\"></td>\n",
              "    </tr>\n",
              "    <tr>\n",
              "      <th>Fed Up</th>\n",
              "      <td>100percentfedup.com</td>\n",
              "      <td>Real</td>\n",
              "      <td><img src=\"http://100percentfedup.com/wp-content/uploads/2016/11/snipes-dem.jpg\" width=\"100\"></td>\n",
              "    </tr>\n",
              "    <tr>\n",
              "      <th>Fed Up</th>\n",
              "      <td>100percentfedup.com</td>\n",
              "      <td>Real</td>\n",
              "      <td><img src=\"http://100percentfedup.com/wp-content/uploads/2016/05/hillary-comey.jpg\" width=\"100\"></td>\n",
              "    </tr>\n",
              "    <tr>\n",
              "      <th>Fed Up</th>\n",
              "      <td>100percentfedup.com</td>\n",
              "      <td>Real</td>\n",
              "      <td><img src=\"http://100percentfedup.com/wp-content/uploads/2016/11/TRUCK-TORCHED-HILLARY.jpg\" width=\"100\"></td>\n",
              "    </tr>\n",
              "  </tbody>\n",
              "</table>"
            ],
            "text/plain": [
              "<IPython.core.display.HTML object>"
            ]
          },
          "metadata": {},
          "execution_count": 43
        }
      ]
    },
    {
      "cell_type": "code",
      "metadata": {
        "colab": {
          "base_uri": "https://localhost:8080/",
          "height": 496
        },
        "id": "F41u6DcgosrI",
        "outputId": "f56efab3-106c-42ac-f209-2f5d08b638e2"
      },
      "source": [
        "HTML(df_image_source_Fake.to_html(escape=False,formatters=dict(main_img_url=download_image)))"
      ],
      "execution_count": 44,
      "outputs": [
        {
          "output_type": "execute_result",
          "data": {
            "text/html": [
              "<table border=\"1\" class=\"dataframe\">\n",
              "  <thead>\n",
              "    <tr style=\"text-align: right;\">\n",
              "      <th></th>\n",
              "      <th>site_url</th>\n",
              "      <th>label</th>\n",
              "      <th>main_img_url</th>\n",
              "    </tr>\n",
              "    <tr>\n",
              "      <th>author</th>\n",
              "      <th></th>\n",
              "      <th></th>\n",
              "      <th></th>\n",
              "    </tr>\n",
              "  </thead>\n",
              "  <tbody>\n",
              "    <tr>\n",
              "      <th>No Author</th>\n",
              "      <td>21stcenturywire.com</td>\n",
              "      <td>Fake</td>\n",
              "      <td><img src=\"http://21stcenturywire.com/wp-content/uploads/2016/10/1-Syria-No-Fly-Zone.png\" width=\"100\"></td>\n",
              "    </tr>\n",
              "    <tr>\n",
              "      <th>No Author</th>\n",
              "      <td>21stcenturywire.com</td>\n",
              "      <td>Fake</td>\n",
              "      <td><img src=\"http://21stcenturywire.com/wp-content/uploads/2016/10/1-FBI-Comey-Hillary-Clinton-e1477728962985.jpg\" width=\"100\"></td>\n",
              "    </tr>\n",
              "    <tr>\n",
              "      <th>Shawn Helton</th>\n",
              "      <td>21stcenturywire.com</td>\n",
              "      <td>Fake</td>\n",
              "      <td><img src=\"http://21stcenturywire.com/wp-content/uploads/2016/10/Clinton-New-FBI-Probe-21WIRE-SLIDER-New.jpg\" width=\"100\"></td>\n",
              "    </tr>\n",
              "    <tr>\n",
              "      <th>Mike Rivero</th>\n",
              "      <td>21stcenturywire.com</td>\n",
              "      <td>Fake</td>\n",
              "      <td><img src=\"http://i1.wp.com/21stcenturywire.com/wp-content/uploads/2016/10/DNC-SCANDAL-PART2-21WIRE-SLIDER-SH-1.jpg?fit=620%2C415\" width=\"100\"></td>\n",
              "    </tr>\n",
              "    <tr>\n",
              "      <th>No Author</th>\n",
              "      <td>21stcenturywire.com</td>\n",
              "      <td>Fake</td>\n",
              "      <td><img src=\"http://i0.wp.com/21stcenturywire.com/wp-content/uploads/2016/11/2-Clinton-Podesta-Email.jpg?fit=610%2C415\" width=\"100\"></td>\n",
              "    </tr>\n",
              "  </tbody>\n",
              "</table>"
            ],
            "text/plain": [
              "<IPython.core.display.HTML object>"
            ]
          },
          "metadata": {},
          "execution_count": 44
        }
      ]
    },
    {
      "cell_type": "markdown",
      "metadata": {
        "id": "9jV0vRPr0Gm6"
      },
      "source": [
        "**Checking Sites/ URL's**\n"
      ]
    },
    {
      "cell_type": "code",
      "metadata": {
        "colab": {
          "base_uri": "https://localhost:8080/"
        },
        "id": "yXJm2alRz8xy",
        "outputId": "9ab4df57-3700-4d96-dbfe-9dce0b1a8a2c"
      },
      "source": [
        "df.columns"
      ],
      "execution_count": 45,
      "outputs": [
        {
          "output_type": "execute_result",
          "data": {
            "text/plain": [
              "Index(['published', 'title', 'text', 'language', 'site_url', 'main_img_url',\n",
              "       'type', 'label', 'title_without_stopwords', 'text_without_stopwords',\n",
              "       'hasImage'],\n",
              "      dtype='object')"
            ]
          },
          "metadata": {},
          "execution_count": 45
        }
      ]
    },
    {
      "cell_type": "code",
      "metadata": {
        "colab": {
          "base_uri": "https://localhost:8080/"
        },
        "id": "w-29PbJ20h0W",
        "outputId": "d99db800-6e1b-4163-d438-6e97d7f8a9a7"
      },
      "source": [
        "df.site_url.unique()"
      ],
      "execution_count": 46,
      "outputs": [
        {
          "output_type": "execute_result",
          "data": {
            "text/plain": [
              "array(['100percentfedup.com', '21stcenturywire.com', 'abcnews.com.co',\n",
              "       'abeldanger.net', 'abovetopsecret.com', 'activistpost.com',\n",
              "       'addictinginfo.org', 'adobochronicles.com', 'ahtribune.com',\n",
              "       'allnewspipeline.com', 'americannews.com',\n",
              "       'americasfreedomfighters.com', 'amren.com', 'amtvmedia.com',\n",
              "       'awdnews.com', 'barenakedislam.com', 'clickhole.com',\n",
              "       'coasttocoastam.com', 'corbettreport.com', 'countercurrents.org',\n",
              "       'counterpunch.org', 'dailywire.com', 'darkmoon.me',\n",
              "       'davidduke.com', 'davidstockmanscontracorner.com',\n",
              "       'davidwolfe.com', 'dcclothesline.com', 'defenddemocracy.press',\n",
              "       'dennismichaellynch.com', 'departed.co', 'der-postillon.com',\n",
              "       'fromthetrenchesworldreport.com', 'frontpagemag.com',\n",
              "       'galacticconnection.com', 'globalresearch.ca', 'infowars.com',\n",
              "       'intrepidreport.com', 'legorafi.fr', 'madworldnews.com',\n",
              "       'naturalnews.com', 'newstarget.com', 'politicususa.com',\n",
              "       'presstv.com', 'presstv.ir', 'prisonplanet.com',\n",
              "       'projectveritas.com', 'proudemocrat.com', 'redstatewatcher.com',\n",
              "       'returnofkings.com', 'shiftfrequency.com', 'thedailysheeple.com',\n",
              "       'theeconomiccollapseblog.com', 'thefreethoughtproject.com',\n",
              "       'themindunleashed.com', 'theonion.com', 'thepeoplescube.com',\n",
              "       'therussophile.org', 'thesaker.is', 'thetruthseeker.co.uk',\n",
              "       'theunrealtimes.com', 'topinfopost.com', 'veteranstoday.com',\n",
              "       'voltairenet.org', 'washingtonsblog.com', 'westernjournalism.com',\n",
              "       'whatreallyhappened.com', 'whydontyoutrythis.com', 'wnd.com'],\n",
              "      dtype=object)"
            ]
          },
          "metadata": {},
          "execution_count": 46
        }
      ]
    },
    {
      "cell_type": "code",
      "metadata": {
        "colab": {
          "base_uri": "https://localhost:8080/"
        },
        "id": "8HnpUUyP0ujl",
        "outputId": "0ff4f9d3-909e-4605-f752-0d72378b4392"
      },
      "source": [
        "df.site_url.value_counts()[df.site_url.value_counts() > 50]"
      ],
      "execution_count": 47,
      "outputs": [
        {
          "output_type": "execute_result",
          "data": {
            "text/plain": [
              "naturalnews.com          100\n",
              "infowars.com             100\n",
              "frontpagemag.com         100\n",
              "westernjournalism.com    100\n",
              "presstv.ir               100\n",
              "awdnews.com              100\n",
              "clickhole.com            100\n",
              "returnofkings.com        100\n",
              "prisonplanet.com         100\n",
              "politicususa.com         100\n",
              "activistpost.com         100\n",
              "abeldanger.net            82\n",
              "dailywire.com             81\n",
              "der-postillon.com         72\n",
              "ahtribune.com             67\n",
              "abovetopsecret.com        53\n",
              "wnd.com                   51\n",
              "Name: site_url, dtype: int64"
            ]
          },
          "metadata": {},
          "execution_count": 47
        }
      ]
    },
    {
      "cell_type": "code",
      "metadata": {
        "colab": {
          "base_uri": "https://localhost:8080/"
        },
        "id": "vHyXfGkD19gq",
        "outputId": "5df8d873-92bc-4654-a13c-7447498798ee"
      },
      "source": [
        "df[df.site_url == 'awdnews.com']['label'].value_counts()"
      ],
      "execution_count": 48,
      "outputs": [
        {
          "output_type": "execute_result",
          "data": {
            "text/plain": [
              "Fake    100\n",
              "Name: label, dtype: int64"
            ]
          },
          "metadata": {},
          "execution_count": 48
        }
      ]
    },
    {
      "cell_type": "code",
      "metadata": {
        "colab": {
          "base_uri": "https://localhost:8080/"
        },
        "id": "yHvUWUVP2L9t",
        "outputId": "0cefbf8a-e3db-43bd-e349-b89ab77ca7b9"
      },
      "source": [
        "df[df.site_url == 'infowars.com']['label'].value_counts()"
      ],
      "execution_count": 49,
      "outputs": [
        {
          "output_type": "execute_result",
          "data": {
            "text/plain": [
              "Fake    100\n",
              "Name: label, dtype: int64"
            ]
          },
          "metadata": {},
          "execution_count": 49
        }
      ]
    },
    {
      "cell_type": "code",
      "metadata": {
        "colab": {
          "base_uri": "https://localhost:8080/"
        },
        "id": "6__eGIXg2Yy2",
        "outputId": "4024df76-7b27-46c7-bf7f-881c60a016bc"
      },
      "source": [
        "df[df.site_url == 'wnd.com']['label'].value_counts()"
      ],
      "execution_count": 50,
      "outputs": [
        {
          "output_type": "execute_result",
          "data": {
            "text/plain": [
              "Real    51\n",
              "Name: label, dtype: int64"
            ]
          },
          "metadata": {},
          "execution_count": 50
        }
      ]
    },
    {
      "cell_type": "code",
      "metadata": {
        "colab": {
          "base_uri": "https://localhost:8080/"
        },
        "id": "-eImIhDZ27cL",
        "outputId": "0d72de2e-6b57-4f23-e105-5a3058760bde"
      },
      "source": [
        "df[df.site_url == 'westernjournalism.com']['label'].value_counts()"
      ],
      "execution_count": 51,
      "outputs": [
        {
          "output_type": "execute_result",
          "data": {
            "text/plain": [
              "Real    98\n",
              "Fake     2\n",
              "Name: label, dtype: int64"
            ]
          },
          "metadata": {},
          "execution_count": 51
        }
      ]
    },
    {
      "cell_type": "code",
      "metadata": {
        "colab": {
          "base_uri": "https://localhost:8080/"
        },
        "id": "bGWvK6ni4HJ3",
        "outputId": "2626699d-6157-45a4-92b9-863cf69c1891"
      },
      "source": [
        "df.groupby(['site_url', 'label']).count()['type']"
      ],
      "execution_count": 52,
      "outputs": [
        {
          "output_type": "execute_result",
          "data": {
            "text/plain": [
              "site_url                label\n",
              "100percentfedup.com     Real     33\n",
              "21stcenturywire.com     Fake     24\n",
              "abcnews.com.co          Fake      2\n",
              "abeldanger.net          Fake     82\n",
              "abovetopsecret.com      Fake     53\n",
              "                                 ..\n",
              "westernjournalism.com   Fake      2\n",
              "                        Real     98\n",
              "whatreallyhappened.com  Fake     10\n",
              "whydontyoutrythis.com   Real      2\n",
              "wnd.com                 Real     51\n",
              "Name: type, Length: 77, dtype: int64"
            ]
          },
          "metadata": {},
          "execution_count": 52
        }
      ]
    },
    {
      "cell_type": "markdown",
      "metadata": {
        "id": "EBct9hCQM1tE"
      },
      "source": [
        "**Label Encoding**"
      ]
    },
    {
      "cell_type": "code",
      "metadata": {
        "id": "Sy1NYBQtMeSo"
      },
      "source": [
        "import numpy as np"
      ],
      "execution_count": 53,
      "outputs": []
    },
    {
      "cell_type": "code",
      "metadata": {
        "colab": {
          "base_uri": "https://localhost:8080/"
        },
        "id": "Jl1_9EicR6kJ",
        "outputId": "87a0af37-376b-407e-b5ee-24416c3c3c6f"
      },
      "source": [
        "df_image_sources.label.value_counts()"
      ],
      "execution_count": 54,
      "outputs": [
        {
          "output_type": "execute_result",
          "data": {
            "text/plain": [
              "Fake    1291\n",
              "Real     754\n",
              "Name: label, dtype: int64"
            ]
          },
          "metadata": {},
          "execution_count": 54
        }
      ]
    },
    {
      "cell_type": "code",
      "metadata": {
        "id": "BzwJh_5gZ13R"
      },
      "source": [
        "pd.set_option('mode.chained_assignment', None)"
      ],
      "execution_count": 55,
      "outputs": []
    },
    {
      "cell_type": "markdown",
      "metadata": {
        "id": "tQbob7fzZo1f"
      },
      "source": [
        "Read More here:\n",
        "https://www.dataquest.io/blog/settingwithcopywarning/"
      ]
    },
    {
      "cell_type": "code",
      "metadata": {
        "id": "kKecaRjNVuCL"
      },
      "source": [
        "df_image_sources.label = np.where(df_image_sources.label == 'Real', 0, 1)"
      ],
      "execution_count": 56,
      "outputs": []
    },
    {
      "cell_type": "code",
      "metadata": {
        "colab": {
          "base_uri": "https://localhost:8080/"
        },
        "id": "mdaUa57RaxQP",
        "outputId": "be62191e-59c1-4411-c401-c848e6a03b15"
      },
      "source": [
        "df_image_sources.label.value_counts()"
      ],
      "execution_count": 57,
      "outputs": [
        {
          "output_type": "execute_result",
          "data": {
            "text/plain": [
              "1    1291\n",
              "0     754\n",
              "Name: label, dtype: int64"
            ]
          },
          "metadata": {},
          "execution_count": 57
        }
      ]
    },
    {
      "cell_type": "code",
      "metadata": {
        "colab": {
          "base_uri": "https://localhost:8080/",
          "height": 235
        },
        "id": "2viFA4uYbWr_",
        "outputId": "44f26047-6c4d-4c44-a15c-b4f8aa7f3279"
      },
      "source": [
        "df_image_sources.head()"
      ],
      "execution_count": 58,
      "outputs": [
        {
          "output_type": "execute_result",
          "data": {
            "text/html": [
              "<div>\n",
              "<style scoped>\n",
              "    .dataframe tbody tr th:only-of-type {\n",
              "        vertical-align: middle;\n",
              "    }\n",
              "\n",
              "    .dataframe tbody tr th {\n",
              "        vertical-align: top;\n",
              "    }\n",
              "\n",
              "    .dataframe thead th {\n",
              "        text-align: right;\n",
              "    }\n",
              "</style>\n",
              "<table border=\"1\" class=\"dataframe\">\n",
              "  <thead>\n",
              "    <tr style=\"text-align: right;\">\n",
              "      <th></th>\n",
              "      <th>site_url</th>\n",
              "      <th>label</th>\n",
              "      <th>main_img_url</th>\n",
              "    </tr>\n",
              "    <tr>\n",
              "      <th>author</th>\n",
              "      <th></th>\n",
              "      <th></th>\n",
              "      <th></th>\n",
              "    </tr>\n",
              "  </thead>\n",
              "  <tbody>\n",
              "    <tr>\n",
              "      <th>Barracuda Brigade</th>\n",
              "      <td>100percentfedup.com</td>\n",
              "      <td>0</td>\n",
              "      <td>http://bb4sp.com/wp-content/uploads/2016/10/Fu...</td>\n",
              "    </tr>\n",
              "    <tr>\n",
              "      <th>reasoning with facts</th>\n",
              "      <td>100percentfedup.com</td>\n",
              "      <td>0</td>\n",
              "      <td>http://bb4sp.com/wp-content/uploads/2016/10/Fu...</td>\n",
              "    </tr>\n",
              "    <tr>\n",
              "      <th>Barracuda Brigade</th>\n",
              "      <td>100percentfedup.com</td>\n",
              "      <td>0</td>\n",
              "      <td>http://bb4sp.com/wp-content/uploads/2016/10/Fu...</td>\n",
              "    </tr>\n",
              "    <tr>\n",
              "      <th>Fed Up</th>\n",
              "      <td>100percentfedup.com</td>\n",
              "      <td>0</td>\n",
              "      <td>http://100percentfedup.com/wp-content/uploads/...</td>\n",
              "    </tr>\n",
              "    <tr>\n",
              "      <th>Fed Up</th>\n",
              "      <td>100percentfedup.com</td>\n",
              "      <td>0</td>\n",
              "      <td>http://100percentfedup.com/wp-content/uploads/...</td>\n",
              "    </tr>\n",
              "  </tbody>\n",
              "</table>\n",
              "</div>"
            ],
            "text/plain": [
              "                                 site_url  ...                                       main_img_url\n",
              "author                                     ...                                                   \n",
              "Barracuda Brigade     100percentfedup.com  ...  http://bb4sp.com/wp-content/uploads/2016/10/Fu...\n",
              "reasoning with facts  100percentfedup.com  ...  http://bb4sp.com/wp-content/uploads/2016/10/Fu...\n",
              "Barracuda Brigade     100percentfedup.com  ...  http://bb4sp.com/wp-content/uploads/2016/10/Fu...\n",
              "Fed Up                100percentfedup.com  ...  http://100percentfedup.com/wp-content/uploads/...\n",
              "Fed Up                100percentfedup.com  ...  http://100percentfedup.com/wp-content/uploads/...\n",
              "\n",
              "[5 rows x 3 columns]"
            ]
          },
          "metadata": {},
          "execution_count": 58
        }
      ]
    },
    {
      "cell_type": "code",
      "metadata": {
        "colab": {
          "base_uri": "https://localhost:8080/"
        },
        "id": "X6BAseQcZ-JZ",
        "outputId": "cf7d3e5d-d9a8-40bc-df6a-7c02ce8d92bf"
      },
      "source": [
        "tuple(df_image_sources.iterrows())[0]"
      ],
      "execution_count": 59,
      "outputs": [
        {
          "output_type": "execute_result",
          "data": {
            "text/plain": [
              "('Barracuda Brigade',\n",
              " site_url                                      100percentfedup.com\n",
              " label                                                           0\n",
              " main_img_url    http://bb4sp.com/wp-content/uploads/2016/10/Fu...\n",
              " Name: Barracuda Brigade, dtype: object)"
            ]
          },
          "metadata": {},
          "execution_count": 59
        }
      ]
    },
    {
      "cell_type": "code",
      "metadata": {
        "colab": {
          "base_uri": "https://localhost:8080/",
          "height": 35
        },
        "id": "g7oPg3rzbyiA",
        "outputId": "8aa217b5-6e86-42f2-a077-41c110a1bd50"
      },
      "source": [
        "tuple(df_image_sources.iterrows())[0][1]['site_url']"
      ],
      "execution_count": 60,
      "outputs": [
        {
          "output_type": "execute_result",
          "data": {
            "application/vnd.google.colaboratory.intrinsic+json": {
              "type": "string"
            },
            "text/plain": [
              "'100percentfedup.com'"
            ]
          },
          "metadata": {},
          "execution_count": 60
        }
      ]
    },
    {
      "cell_type": "code",
      "metadata": {
        "id": "lyhBMXz0cpj4",
        "colab": {
          "base_uri": "https://localhost:8080/"
        },
        "outputId": "bbb8b3db-1c4d-4886-efb3-54b4dd3e653f"
      },
      "source": [
        "df_image_sources.groupby(['label', 'site_url']).count().index"
      ],
      "execution_count": 61,
      "outputs": [
        {
          "output_type": "execute_result",
          "data": {
            "text/plain": [
              "MultiIndex([(0,            '100percentfedup.com'),\n",
              "            (0,              'addictinginfo.org'),\n",
              "            (0,                  'dailywire.com'),\n",
              "            (0,                  'davidduke.com'),\n",
              "            (0, 'fromthetrenchesworldreport.com'),\n",
              "            (0,               'frontpagemag.com'),\n",
              "            (0,                 'newstarget.com'),\n",
              "            (0,               'politicususa.com'),\n",
              "            (0,                    'presstv.com'),\n",
              "            (0,                     'presstv.ir'),\n",
              "            (0,               'prisonplanet.com'),\n",
              "            (0,               'proudemocrat.com'),\n",
              "            (0,            'redstatewatcher.com'),\n",
              "            (0,              'returnofkings.com'),\n",
              "            (0,            'washingtonsblog.com'),\n",
              "            (0,          'westernjournalism.com'),\n",
              "            (0,          'whydontyoutrythis.com'),\n",
              "            (0,                        'wnd.com'),\n",
              "            (1,            '21stcenturywire.com'),\n",
              "            (1,                 'abcnews.com.co'),\n",
              "            (1,                 'abeldanger.net'),\n",
              "            (1,             'abovetopsecret.com'),\n",
              "            (1,               'activistpost.com'),\n",
              "            (1,            'adobochronicles.com'),\n",
              "            (1,                  'ahtribune.com'),\n",
              "            (1,            'allnewspipeline.com'),\n",
              "            (1,               'americannews.com'),\n",
              "            (1,    'americasfreedomfighters.com'),\n",
              "            (1,                      'amren.com'),\n",
              "            (1,                  'amtvmedia.com'),\n",
              "            (1,                    'awdnews.com'),\n",
              "            (1,             'barenakedislam.com'),\n",
              "            (1,                  'clickhole.com'),\n",
              "            (1,             'coasttocoastam.com'),\n",
              "            (1,              'corbettreport.com'),\n",
              "            (1,            'countercurrents.org'),\n",
              "            (1,               'counterpunch.org'),\n",
              "            (1,                    'darkmoon.me'),\n",
              "            (1,                  'davidduke.com'),\n",
              "            (1, 'davidstockmanscontracorner.com'),\n",
              "            (1,                 'davidwolfe.com'),\n",
              "            (1,              'dcclothesline.com'),\n",
              "            (1,          'defenddemocracy.press'),\n",
              "            (1,         'dennismichaellynch.com'),\n",
              "            (1,                    'departed.co'),\n",
              "            (1,              'der-postillon.com'),\n",
              "            (1, 'fromthetrenchesworldreport.com'),\n",
              "            (1,               'frontpagemag.com'),\n",
              "            (1,         'galacticconnection.com'),\n",
              "            (1,              'globalresearch.ca'),\n",
              "            (1,                   'infowars.com'),\n",
              "            (1,             'intrepidreport.com'),\n",
              "            (1,                    'legorafi.fr'),\n",
              "            (1,               'madworldnews.com'),\n",
              "            (1,                'naturalnews.com'),\n",
              "            (1,                 'newstarget.com'),\n",
              "            (1,                     'presstv.ir'),\n",
              "            (1,               'prisonplanet.com'),\n",
              "            (1,             'projectveritas.com'),\n",
              "            (1,              'returnofkings.com'),\n",
              "            (1,             'shiftfrequency.com'),\n",
              "            (1,            'thedailysheeple.com'),\n",
              "            (1,    'theeconomiccollapseblog.com'),\n",
              "            (1,      'thefreethoughtproject.com'),\n",
              "            (1,           'themindunleashed.com'),\n",
              "            (1,                   'theonion.com'),\n",
              "            (1,             'thepeoplescube.com'),\n",
              "            (1,              'therussophile.org'),\n",
              "            (1,                    'thesaker.is'),\n",
              "            (1,           'thetruthseeker.co.uk'),\n",
              "            (1,             'theunrealtimes.com'),\n",
              "            (1,                'topinfopost.com'),\n",
              "            (1,              'veteranstoday.com'),\n",
              "            (1,                'voltairenet.org'),\n",
              "            (1,            'washingtonsblog.com'),\n",
              "            (1,          'westernjournalism.com'),\n",
              "            (1,         'whatreallyhappened.com')],\n",
              "           names=['label', 'site_url'])"
            ]
          },
          "metadata": {},
          "execution_count": 61
        }
      ]
    },
    {
      "cell_type": "code",
      "metadata": {
        "colab": {
          "base_uri": "https://localhost:8080/"
        },
        "id": "Q1lfFZUXd1Ay",
        "outputId": "e4c53dac-1738-4cb9-fba7-559e50c2d349"
      },
      "source": [
        "df_image_sources.groupby(['label', 'site_url']).count().index[0:5]"
      ],
      "execution_count": 62,
      "outputs": [
        {
          "output_type": "execute_result",
          "data": {
            "text/plain": [
              "MultiIndex([(0,            '100percentfedup.com'),\n",
              "            (0,              'addictinginfo.org'),\n",
              "            (0,                  'dailywire.com'),\n",
              "            (0,                  'davidduke.com'),\n",
              "            (0, 'fromthetrenchesworldreport.com')],\n",
              "           names=['label', 'site_url'])"
            ]
          },
          "metadata": {},
          "execution_count": 62
        }
      ]
    },
    {
      "cell_type": "code",
      "metadata": {
        "id": "6pH71Es1easr"
      },
      "source": [
        "real_url, fake_url = [], []\n",
        "for label, site_url in df_image_sources.groupby(['label', 'site_url']).count().index:\n",
        "  if label == 0:\n",
        "    real_url.append(site_url)\n",
        "  else:\n",
        "    fake_url.append(site_url) "
      ],
      "execution_count": 63,
      "outputs": []
    },
    {
      "cell_type": "markdown",
      "metadata": {
        "id": "2Z1CfxJogxuV"
      },
      "source": [
        "#### Real News Websites"
      ]
    },
    {
      "cell_type": "code",
      "metadata": {
        "colab": {
          "base_uri": "https://localhost:8080/"
        },
        "id": "JpddNgGcgWjf",
        "outputId": "9e4fe316-f389-486c-d0a6-ec96514090c1"
      },
      "source": [
        "print(real_url)"
      ],
      "execution_count": 64,
      "outputs": [
        {
          "output_type": "stream",
          "name": "stdout",
          "text": [
            "['100percentfedup.com', 'addictinginfo.org', 'dailywire.com', 'davidduke.com', 'fromthetrenchesworldreport.com', 'frontpagemag.com', 'newstarget.com', 'politicususa.com', 'presstv.com', 'presstv.ir', 'prisonplanet.com', 'proudemocrat.com', 'redstatewatcher.com', 'returnofkings.com', 'washingtonsblog.com', 'westernjournalism.com', 'whydontyoutrythis.com', 'wnd.com']\n"
          ]
        }
      ]
    },
    {
      "cell_type": "markdown",
      "metadata": {
        "id": "7XJ6IxgGhWbt"
      },
      "source": [
        "#### Fake News Websites"
      ]
    },
    {
      "cell_type": "code",
      "metadata": {
        "colab": {
          "base_uri": "https://localhost:8080/"
        },
        "id": "oKFHc6_Og_aA",
        "outputId": "5bf4ad27-abdc-4fd7-84ce-d7c1e527da8a"
      },
      "source": [
        "print(fake_url)"
      ],
      "execution_count": 65,
      "outputs": [
        {
          "output_type": "stream",
          "name": "stdout",
          "text": [
            "['21stcenturywire.com', 'abcnews.com.co', 'abeldanger.net', 'abovetopsecret.com', 'activistpost.com', 'adobochronicles.com', 'ahtribune.com', 'allnewspipeline.com', 'americannews.com', 'americasfreedomfighters.com', 'amren.com', 'amtvmedia.com', 'awdnews.com', 'barenakedislam.com', 'clickhole.com', 'coasttocoastam.com', 'corbettreport.com', 'countercurrents.org', 'counterpunch.org', 'darkmoon.me', 'davidduke.com', 'davidstockmanscontracorner.com', 'davidwolfe.com', 'dcclothesline.com', 'defenddemocracy.press', 'dennismichaellynch.com', 'departed.co', 'der-postillon.com', 'fromthetrenchesworldreport.com', 'frontpagemag.com', 'galacticconnection.com', 'globalresearch.ca', 'infowars.com', 'intrepidreport.com', 'legorafi.fr', 'madworldnews.com', 'naturalnews.com', 'newstarget.com', 'presstv.ir', 'prisonplanet.com', 'projectveritas.com', 'returnofkings.com', 'shiftfrequency.com', 'thedailysheeple.com', 'theeconomiccollapseblog.com', 'thefreethoughtproject.com', 'themindunleashed.com', 'theonion.com', 'thepeoplescube.com', 'therussophile.org', 'thesaker.is', 'thetruthseeker.co.uk', 'theunrealtimes.com', 'topinfopost.com', 'veteranstoday.com', 'voltairenet.org', 'washingtonsblog.com', 'westernjournalism.com', 'whatreallyhappened.com']\n"
          ]
        }
      ]
    },
    {
      "cell_type": "markdown",
      "metadata": {
        "id": "GNfhKPYDi5yt"
      },
      "source": [
        "####Real and Fake News Websites"
      ]
    },
    {
      "cell_type": "code",
      "metadata": {
        "colab": {
          "base_uri": "https://localhost:8080/"
        },
        "id": "dROOxITTic4o",
        "outputId": "eb32e4dc-d7f1-4c79-d4bd-d25d5630eeb0"
      },
      "source": [
        "print(set(real_url) & set(fake_url))"
      ],
      "execution_count": 66,
      "outputs": [
        {
          "output_type": "stream",
          "name": "stdout",
          "text": [
            "{'washingtonsblog.com', 'returnofkings.com', 'newstarget.com', 'presstv.ir', 'davidduke.com', 'fromthetrenchesworldreport.com', 'frontpagemag.com', 'westernjournalism.com', 'prisonplanet.com'}\n"
          ]
        }
      ]
    },
    {
      "cell_type": "markdown",
      "metadata": {
        "id": "YEVNjGWSlChL"
      },
      "source": [
        "#### Type of Article Vs Label"
      ]
    },
    {
      "cell_type": "code",
      "metadata": {
        "colab": {
          "base_uri": "https://localhost:8080/",
          "height": 328
        },
        "id": "wqBuWEhtk9Un",
        "outputId": "71af92a0-ca87-447e-df87-b0b4e5e47c26"
      },
      "source": [
        "df.groupby(['type', 'label']).count()"
      ],
      "execution_count": 67,
      "outputs": [
        {
          "output_type": "execute_result",
          "data": {
            "text/html": [
              "<div>\n",
              "<style scoped>\n",
              "    .dataframe tbody tr th:only-of-type {\n",
              "        vertical-align: middle;\n",
              "    }\n",
              "\n",
              "    .dataframe tbody tr th {\n",
              "        vertical-align: top;\n",
              "    }\n",
              "\n",
              "    .dataframe thead th {\n",
              "        text-align: right;\n",
              "    }\n",
              "</style>\n",
              "<table border=\"1\" class=\"dataframe\">\n",
              "  <thead>\n",
              "    <tr style=\"text-align: right;\">\n",
              "      <th></th>\n",
              "      <th></th>\n",
              "      <th>published</th>\n",
              "      <th>title</th>\n",
              "      <th>text</th>\n",
              "      <th>language</th>\n",
              "      <th>site_url</th>\n",
              "      <th>main_img_url</th>\n",
              "      <th>title_without_stopwords</th>\n",
              "      <th>text_without_stopwords</th>\n",
              "      <th>hasImage</th>\n",
              "    </tr>\n",
              "    <tr>\n",
              "      <th>type</th>\n",
              "      <th>label</th>\n",
              "      <th></th>\n",
              "      <th></th>\n",
              "      <th></th>\n",
              "      <th></th>\n",
              "      <th></th>\n",
              "      <th></th>\n",
              "      <th></th>\n",
              "      <th></th>\n",
              "      <th></th>\n",
              "    </tr>\n",
              "  </thead>\n",
              "  <tbody>\n",
              "    <tr>\n",
              "      <th>bias</th>\n",
              "      <th>Real</th>\n",
              "      <td>389</td>\n",
              "      <td>389</td>\n",
              "      <td>389</td>\n",
              "      <td>389</td>\n",
              "      <td>389</td>\n",
              "      <td>389</td>\n",
              "      <td>389</td>\n",
              "      <td>389</td>\n",
              "      <td>389</td>\n",
              "    </tr>\n",
              "    <tr>\n",
              "      <th>bs</th>\n",
              "      <th>Fake</th>\n",
              "      <td>598</td>\n",
              "      <td>598</td>\n",
              "      <td>598</td>\n",
              "      <td>598</td>\n",
              "      <td>598</td>\n",
              "      <td>598</td>\n",
              "      <td>598</td>\n",
              "      <td>598</td>\n",
              "      <td>598</td>\n",
              "    </tr>\n",
              "    <tr>\n",
              "      <th>conspiracy</th>\n",
              "      <th>Fake</th>\n",
              "      <td>430</td>\n",
              "      <td>430</td>\n",
              "      <td>430</td>\n",
              "      <td>430</td>\n",
              "      <td>430</td>\n",
              "      <td>430</td>\n",
              "      <td>430</td>\n",
              "      <td>430</td>\n",
              "      <td>430</td>\n",
              "    </tr>\n",
              "    <tr>\n",
              "      <th>fake</th>\n",
              "      <th>Fake</th>\n",
              "      <td>15</td>\n",
              "      <td>15</td>\n",
              "      <td>15</td>\n",
              "      <td>15</td>\n",
              "      <td>15</td>\n",
              "      <td>15</td>\n",
              "      <td>15</td>\n",
              "      <td>15</td>\n",
              "      <td>15</td>\n",
              "    </tr>\n",
              "    <tr>\n",
              "      <th>hate</th>\n",
              "      <th>Real</th>\n",
              "      <td>244</td>\n",
              "      <td>244</td>\n",
              "      <td>244</td>\n",
              "      <td>244</td>\n",
              "      <td>244</td>\n",
              "      <td>244</td>\n",
              "      <td>244</td>\n",
              "      <td>244</td>\n",
              "      <td>244</td>\n",
              "    </tr>\n",
              "    <tr>\n",
              "      <th>junksci</th>\n",
              "      <th>Fake</th>\n",
              "      <td>102</td>\n",
              "      <td>102</td>\n",
              "      <td>102</td>\n",
              "      <td>102</td>\n",
              "      <td>102</td>\n",
              "      <td>102</td>\n",
              "      <td>102</td>\n",
              "      <td>102</td>\n",
              "      <td>102</td>\n",
              "    </tr>\n",
              "    <tr>\n",
              "      <th>satire</th>\n",
              "      <th>Fake</th>\n",
              "      <td>146</td>\n",
              "      <td>146</td>\n",
              "      <td>146</td>\n",
              "      <td>146</td>\n",
              "      <td>146</td>\n",
              "      <td>146</td>\n",
              "      <td>146</td>\n",
              "      <td>146</td>\n",
              "      <td>146</td>\n",
              "    </tr>\n",
              "    <tr>\n",
              "      <th>state</th>\n",
              "      <th>Real</th>\n",
              "      <td>121</td>\n",
              "      <td>121</td>\n",
              "      <td>121</td>\n",
              "      <td>121</td>\n",
              "      <td>121</td>\n",
              "      <td>121</td>\n",
              "      <td>121</td>\n",
              "      <td>121</td>\n",
              "      <td>121</td>\n",
              "    </tr>\n",
              "  </tbody>\n",
              "</table>\n",
              "</div>"
            ],
            "text/plain": [
              "                  published  title  ...  text_without_stopwords  hasImage\n",
              "type       label                    ...                                  \n",
              "bias       Real         389    389  ...                     389       389\n",
              "bs         Fake         598    598  ...                     598       598\n",
              "conspiracy Fake         430    430  ...                     430       430\n",
              "fake       Fake          15     15  ...                      15        15\n",
              "hate       Real         244    244  ...                     244       244\n",
              "junksci    Fake         102    102  ...                     102       102\n",
              "satire     Fake         146    146  ...                     146       146\n",
              "state      Real         121    121  ...                     121       121\n",
              "\n",
              "[8 rows x 9 columns]"
            ]
          },
          "metadata": {},
          "execution_count": 67
        }
      ]
    },
    {
      "cell_type": "code",
      "metadata": {
        "id": "olkpbFch9yhg"
      },
      "source": [
        "# df[(df['type'] == 'bias') & (df.label == 'Fake')]                                # 0 "
      ],
      "execution_count": 68,
      "outputs": []
    },
    {
      "cell_type": "code",
      "metadata": {
        "id": "yGG9sfN1-EGt"
      },
      "source": [
        "data_for_chart = df.groupby(['type', 'label']).count()['published'].reset_index(name='Counts')\n",
        "data_for_chart.sort_values(by='Counts', ascending=False, inplace=True)"
      ],
      "execution_count": 69,
      "outputs": []
    },
    {
      "cell_type": "code",
      "metadata": {
        "id": "aYtfKFuoEX4P"
      },
      "source": [
        "import seaborn as sns"
      ],
      "execution_count": 70,
      "outputs": []
    },
    {
      "cell_type": "code",
      "metadata": {
        "colab": {
          "base_uri": "https://localhost:8080/",
          "height": 586
        },
        "id": "5JK8IhGG_Ww6",
        "outputId": "e835ad49-13d9-477c-f2cd-7f60e7681f2f"
      },
      "source": [
        "plt.figure(figsize=(8, 8))\n",
        "sns.barplot(x=data_for_chart['type'], y=data_for_chart['Counts'], hue=data_for_chart['label'])\n",
        "plt.xticks(rotation=45)\n",
        "plt.show()"
      ],
      "execution_count": 71,
      "outputs": [
        {
          "output_type": "display_data",
          "data": {
            "image/png": "[encoded data removed]",
            "text/plain": [
              "<Figure size 576x576 with 1 Axes>"
            ]
          },
          "metadata": {}
        }
      ]
    },
    {
      "cell_type": "code",
      "metadata": {
        "id": "xCzORrKHK0Y4"
      },
      "source": [
        "import plotly.express as px"
      ],
      "execution_count": 72,
      "outputs": []
    },
    {
      "cell_type": "code",
      "metadata": {
        "colab": {
          "base_uri": "https://localhost:8080/",
          "height": 517
        },
        "id": "yg3B-aDYJ6J9",
        "outputId": "29cdcd98-73e2-455f-d266-57bc32cf84ac"
      },
      "source": [
        "fig = px.sunburst(data_frame = data_for_chart, path=['label', 'type'], values='Counts',title=\"Types of article (Label)\", width=500, height=500)\n",
        "fig.show()"
      ],
      "execution_count": 73,
      "outputs": [
        {
          "output_type": "display_data",
          "data": {
            "text/html": [
              "<html>\n",
              "<head><meta charset=\"utf-8\" /></head>\n",
              "<body>\n",
              "    <div>            <script src=\"https://cdnjs.cloudflare.com/ajax/libs/mathjax/2.7.5/MathJax.js?config=TeX-AMS-MML_SVG\"></script><script type=\"text/javascript\">if (window.MathJax) {MathJax.Hub.Config({SVG: {font: \"STIX-Web\"}});}</script>                <script type=\"text/javascript\">window.PlotlyConfig = {MathJaxConfig: 'local'};</script>\n",
              "        <script src=\"https://cdn.plot.ly/plotly-2.4.2.min.js\"></script>                <div id=\"86eb354f-a836-4a3f-9b9c-38fe4af5d1f3\" class=\"plotly-graph-div\" style=\"height:500px; width:500px;\"></div>            <script type=\"text/javascript\">                                    window.PLOTLYENV=window.PLOTLYENV || {};                                    if (document.getElementById(\"86eb354f-a836-4a3f-9b9c-38fe4af5d1f3\")) {                    Plotly.newPlot(                        \"86eb354f-a836-4a3f-9b9c-38fe4af5d1f3\",                        [{\"branchvalues\":\"total\",\"domain\":{\"x\":[0.0,1.0],\"y\":[0.0,1.0]},\"hovertemplate\":\"labels=%{label}<br>Counts=%{value}<br>parent=%{parent}<br>id=%{id}<extra></extra>\",\"ids\":[\"Real/bias\",\"Fake/bs\",\"Fake/conspiracy\",\"Fake/fake\",\"Real/hate\",\"Fake/junksci\",\"Fake/satire\",\"Real/state\",\"Fake\",\"Real\"],\"labels\":[\"bias\",\"bs\",\"conspiracy\",\"fake\",\"hate\",\"junksci\",\"satire\",\"state\",\"Fake\",\"Real\"],\"name\":\"\",\"parents\":[\"Real\",\"Fake\",\"Fake\",\"Fake\",\"Real\",\"Fake\",\"Fake\",\"Real\",\"\",\"\"],\"type\":\"sunburst\",\"values\":[389,598,430,15,244,102,146,121,1291,754]}],                        {\"height\":500,\"legend\":{\"tracegroupgap\":0},\"template\":{\"data\":{\"bar\":[{\"error_x\":{\"color\":\"#2a3f5f\"},\"error_y\":{\"color\":\"#2a3f5f\"},\"marker\":{\"line\":{\"color\":\"#E5ECF6\",\"width\":0.5},\"pattern\":{\"fillmode\":\"overlay\",\"size\":10,\"solidity\":0.2}},\"type\":\"bar\"}],\"barpolar\":[{\"marker\":{\"line\":{\"color\":\"#E5ECF6\",\"width\":0.5},\"pattern\":{\"fillmode\":\"overlay\",\"size\":10,\"solidity\":0.2}},\"type\":\"barpolar\"}],\"carpet\":[{\"aaxis\":{\"endlinecolor\":\"#2a3f5f\",\"gridcolor\":\"white\",\"linecolor\":\"white\",\"minorgridcolor\":\"white\",\"startlinecolor\":\"#2a3f5f\"},\"baxis\":{\"endlinecolor\":\"#2a3f5f\",\"gridcolor\":\"white\",\"linecolor\":\"white\",\"minorgridcolor\":\"white\",\"startlinecolor\":\"#2a3f5f\"},\"type\":\"carpet\"}],\"choropleth\":[{\"colorbar\":{\"outlinewidth\":0,\"ticks\":\"\"},\"type\":\"choropleth\"}],\"contour\":[{\"colorbar\":{\"outlinewidth\":0,\"ticks\":\"\"},\"colorscale\":[[0.0,\"#0d0887\"],[0.1111111111111111,\"#46039f\"],[0.2222222222222222,\"#7201a8\"],[0.3333333333333333,\"#9c179e\"],[0.4444444444444444,\"#bd3786\"],[0.5555555555555556,\"#d8576b\"],[0.6666666666666666,\"#ed7953\"],[0.7777777777777778,\"#fb9f3a\"],[0.8888888888888888,\"#fdca26\"],[1.0,\"#f0f921\"]],\"type\":\"contour\"}],\"contourcarpet\":[{\"colorbar\":{\"outlinewidth\":0,\"ticks\":\"\"},\"type\":\"contourcarpet\"}],\"heatmap\":[{\"colorbar\":{\"outlinewidth\":0,\"ticks\":\"\"},\"colorscale\":[[0.0,\"#0d0887\"],[0.1111111111111111,\"#46039f\"],[0.2222222222222222,\"#7201a8\"],[0.3333333333333333,\"#9c179e\"],[0.4444444444444444,\"#bd3786\"],[0.5555555555555556,\"#d8576b\"],[0.6666666666666666,\"#ed7953\"],[0.7777777777777778,\"#fb9f3a\"],[0.8888888888888888,\"#fdca26\"],[1.0,\"#f0f921\"]],\"type\":\"heatmap\"}],\"heatmapgl\":[{\"colorbar\":{\"outlinewidth\":0,\"ticks\":\"\"},\"colorscale\":[[0.0,\"#0d0887\"],[0.1111111111111111,\"#46039f\"],[0.2222222222222222,\"#7201a8\"],[0.3333333333333333,\"#9c179e\"],[0.4444444444444444,\"#bd3786\"],[0.5555555555555556,\"#d8576b\"],[0.6666666666666666,\"#ed7953\"],[0.7777777777777778,\"#fb9f3a\"],[0.8888888888888888,\"#fdca26\"],[1.0,\"#f0f921\"]],\"type\":\"heatmapgl\"}],\"histogram\":[{\"marker\":{\"pattern\":{\"fillmode\":\"overlay\",\"size\":10,\"solidity\":0.2}},\"type\":\"histogram\"}],\"histogram2d\":[{\"colorbar\":{\"outlinewidth\":0,\"ticks\":\"\"},\"colorscale\":[[0.0,\"#0d0887\"],[0.1111111111111111,\"#46039f\"],[0.2222222222222222,\"#7201a8\"],[0.3333333333333333,\"#9c179e\"],[0.4444444444444444,\"#bd3786\"],[0.5555555555555556,\"#d8576b\"],[0.6666666666666666,\"#ed7953\"],[0.7777777777777778,\"#fb9f3a\"],[0.8888888888888888,\"#fdca26\"],[1.0,\"#f0f921\"]],\"type\":\"histogram2d\"}],\"histogram2dcontour\":[{\"colorbar\":{\"outlinewidth\":0,\"ticks\":\"\"},\"colorscale\":[[0.0,\"#0d0887\"],[0.1111111111111111,\"#46039f\"],[0.2222222222222222,\"#7201a8\"],[0.3333333333333333,\"#9c179e\"],[0.4444444444444444,\"#bd3786\"],[0.5555555555555556,\"#d8576b\"],[0.6666666666666666,\"#ed7953\"],[0.7777777777777778,\"#fb9f3a\"],[0.8888888888888888,\"#fdca26\"],[1.0,\"#f0f921\"]],\"type\":\"histogram2dcontour\"}],\"mesh3d\":[{\"colorbar\":{\"outlinewidth\":0,\"ticks\":\"\"},\"type\":\"mesh3d\"}],\"parcoords\":[{\"line\":{\"colorbar\":{\"outlinewidth\":0,\"ticks\":\"\"}},\"type\":\"parcoords\"}],\"pie\":[{\"automargin\":true,\"type\":\"pie\"}],\"scatter\":[{\"marker\":{\"colorbar\":{\"outlinewidth\":0,\"ticks\":\"\"}},\"type\":\"scatter\"}],\"scatter3d\":[{\"line\":{\"colorbar\":{\"outlinewidth\":0,\"ticks\":\"\"}},\"marker\":{\"colorbar\":{\"outlinewidth\":0,\"ticks\":\"\"}},\"type\":\"scatter3d\"}],\"scattercarpet\":[{\"marker\":{\"colorbar\":{\"outlinewidth\":0,\"ticks\":\"\"}},\"type\":\"scattercarpet\"}],\"scattergeo\":[{\"marker\":{\"colorbar\":{\"outlinewidth\":0,\"ticks\":\"\"}},\"type\":\"scattergeo\"}],\"scattergl\":[{\"marker\":{\"colorbar\":{\"outlinewidth\":0,\"ticks\":\"\"}},\"type\":\"scattergl\"}],\"scattermapbox\":[{\"marker\":{\"colorbar\":{\"outlinewidth\":0,\"ticks\":\"\"}},\"type\":\"scattermapbox\"}],\"scatterpolar\":[{\"marker\":{\"colorbar\":{\"outlinewidth\":0,\"ticks\":\"\"}},\"type\":\"scatterpolar\"}],\"scatterpolargl\":[{\"marker\":{\"colorbar\":{\"outlinewidth\":0,\"ticks\":\"\"}},\"type\":\"scatterpolargl\"}],\"scatterternary\":[{\"marker\":{\"colorbar\":{\"outlinewidth\":0,\"ticks\":\"\"}},\"type\":\"scatterternary\"}],\"surface\":[{\"colorbar\":{\"outlinewidth\":0,\"ticks\":\"\"},\"colorscale\":[[0.0,\"#0d0887\"],[0.1111111111111111,\"#46039f\"],[0.2222222222222222,\"#7201a8\"],[0.3333333333333333,\"#9c179e\"],[0.4444444444444444,\"#bd3786\"],[0.5555555555555556,\"#d8576b\"],[0.6666666666666666,\"#ed7953\"],[0.7777777777777778,\"#fb9f3a\"],[0.8888888888888888,\"#fdca26\"],[1.0,\"#f0f921\"]],\"type\":\"surface\"}],\"table\":[{\"cells\":{\"fill\":{\"color\":\"#EBF0F8\"},\"line\":{\"color\":\"white\"}},\"header\":{\"fill\":{\"color\":\"#C8D4E3\"},\"line\":{\"color\":\"white\"}},\"type\":\"table\"}]},\"layout\":{\"annotationdefaults\":{\"arrowcolor\":\"#2a3f5f\",\"arrowhead\":0,\"arrowwidth\":1},\"autotypenumbers\":\"strict\",\"coloraxis\":{\"colorbar\":{\"outlinewidth\":0,\"ticks\":\"\"}},\"colorscale\":{\"diverging\":[[0,\"#8e0152\"],[0.1,\"#c51b7d\"],[0.2,\"#de77ae\"],[0.3,\"#f1b6da\"],[0.4,\"#fde0ef\"],[0.5,\"#f7f7f7\"],[0.6,\"#e6f5d0\"],[0.7,\"#b8e186\"],[0.8,\"#7fbc41\"],[0.9,\"#4d9221\"],[1,\"#276419\"]],\"sequential\":[[0.0,\"#0d0887\"],[0.1111111111111111,\"#46039f\"],[0.2222222222222222,\"#7201a8\"],[0.3333333333333333,\"#9c179e\"],[0.4444444444444444,\"#bd3786\"],[0.5555555555555556,\"#d8576b\"],[0.6666666666666666,\"#ed7953\"],[0.7777777777777778,\"#fb9f3a\"],[0.8888888888888888,\"#fdca26\"],[1.0,\"#f0f921\"]],\"sequentialminus\":[[0.0,\"#0d0887\"],[0.1111111111111111,\"#46039f\"],[0.2222222222222222,\"#7201a8\"],[0.3333333333333333,\"#9c179e\"],[0.4444444444444444,\"#bd3786\"],[0.5555555555555556,\"#d8576b\"],[0.6666666666666666,\"#ed7953\"],[0.7777777777777778,\"#fb9f3a\"],[0.8888888888888888,\"#fdca26\"],[1.0,\"#f0f921\"]]},\"colorway\":[\"#636efa\",\"#EF553B\",\"#00cc96\",\"#ab63fa\",\"#FFA15A\",\"#19d3f3\",\"#FF6692\",\"#B6E880\",\"#FF97FF\",\"#FECB52\"],\"font\":{\"color\":\"#2a3f5f\"},\"geo\":{\"bgcolor\":\"white\",\"lakecolor\":\"white\",\"landcolor\":\"#E5ECF6\",\"showlakes\":true,\"showland\":true,\"subunitcolor\":\"white\"},\"hoverlabel\":{\"align\":\"left\"},\"hovermode\":\"closest\",\"mapbox\":{\"style\":\"light\"},\"paper_bgcolor\":\"white\",\"plot_bgcolor\":\"#E5ECF6\",\"polar\":{\"angularaxis\":{\"gridcolor\":\"white\",\"linecolor\":\"white\",\"ticks\":\"\"},\"bgcolor\":\"#E5ECF6\",\"radialaxis\":{\"gridcolor\":\"white\",\"linecolor\":\"white\",\"ticks\":\"\"}},\"scene\":{\"xaxis\":{\"backgroundcolor\":\"#E5ECF6\",\"gridcolor\":\"white\",\"gridwidth\":2,\"linecolor\":\"white\",\"showbackground\":true,\"ticks\":\"\",\"zerolinecolor\":\"white\"},\"yaxis\":{\"backgroundcolor\":\"#E5ECF6\",\"gridcolor\":\"white\",\"gridwidth\":2,\"linecolor\":\"white\",\"showbackground\":true,\"ticks\":\"\",\"zerolinecolor\":\"white\"},\"zaxis\":{\"backgroundcolor\":\"#E5ECF6\",\"gridcolor\":\"white\",\"gridwidth\":2,\"linecolor\":\"white\",\"showbackground\":true,\"ticks\":\"\",\"zerolinecolor\":\"white\"}},\"shapedefaults\":{\"line\":{\"color\":\"#2a3f5f\"}},\"ternary\":{\"aaxis\":{\"gridcolor\":\"white\",\"linecolor\":\"white\",\"ticks\":\"\"},\"baxis\":{\"gridcolor\":\"white\",\"linecolor\":\"white\",\"ticks\":\"\"},\"bgcolor\":\"#E5ECF6\",\"caxis\":{\"gridcolor\":\"white\",\"linecolor\":\"white\",\"ticks\":\"\"}},\"title\":{\"x\":0.05},\"xaxis\":{\"automargin\":true,\"gridcolor\":\"white\",\"linecolor\":\"white\",\"ticks\":\"\",\"title\":{\"standoff\":15},\"zerolinecolor\":\"white\",\"zerolinewidth\":2},\"yaxis\":{\"automargin\":true,\"gridcolor\":\"white\",\"linecolor\":\"white\",\"ticks\":\"\",\"title\":{\"standoff\":15},\"zerolinecolor\":\"white\",\"zerolinewidth\":2}}},\"title\":{\"text\":\"Types of article (Label)\"},\"width\":500},                        {\"responsive\": true}                    ).then(function(){\n",
              "                            \n",
              "var gd = document.getElementById('86eb354f-a836-4a3f-9b9c-38fe4af5d1f3');\n",
              "var x = new MutationObserver(function (mutations, observer) {{\n",
              "        var display = window.getComputedStyle(gd).display;\n",
              "        if (!display || display === 'none') {{\n",
              "            console.log([gd, 'removed!']);\n",
              "            Plotly.purge(gd);\n",
              "            observer.disconnect();\n",
              "        }}\n",
              "}});\n",
              "\n",
              "// Listen for the removal of the full notebook cells\n",
              "var notebookContainer = gd.closest('#notebook-container');\n",
              "if (notebookContainer) {{\n",
              "    x.observe(notebookContainer, {childList: true});\n",
              "}}\n",
              "\n",
              "// Listen for the clearing of the current output cell\n",
              "var outputEl = gd.closest('.output');\n",
              "if (outputEl) {{\n",
              "    x.observe(outputEl, {childList: true});\n",
              "}}\n",
              "\n",
              "                        })                };                            </script>        </div>\n",
              "</body>\n",
              "</html>"
            ]
          },
          "metadata": {}
        }
      ]
    },
    {
      "cell_type": "markdown",
      "metadata": {
        "id": "s8MBwDC9kp9s"
      },
      "source": [
        "--------------------------------------------------------"
      ]
    },
    {
      "cell_type": "markdown",
      "metadata": {
        "id": "X9GIhsV_rGEW"
      },
      "source": [
        "#### Websites and type of article "
      ]
    },
    {
      "cell_type": "code",
      "metadata": {
        "id": "pPMB_QX0S9Pi"
      },
      "source": [
        "df_image_sources['type'] = df['type']"
      ],
      "execution_count": 74,
      "outputs": []
    },
    {
      "cell_type": "code",
      "metadata": {
        "colab": {
          "base_uri": "https://localhost:8080/",
          "height": 235
        },
        "id": "8irrR0wiRabs",
        "outputId": "a98813f1-fba3-49b8-e3f5-83d2fa7b3cfd"
      },
      "source": [
        "df_image_sources.head()"
      ],
      "execution_count": 75,
      "outputs": [
        {
          "output_type": "execute_result",
          "data": {
            "text/html": [
              "<div>\n",
              "<style scoped>\n",
              "    .dataframe tbody tr th:only-of-type {\n",
              "        vertical-align: middle;\n",
              "    }\n",
              "\n",
              "    .dataframe tbody tr th {\n",
              "        vertical-align: top;\n",
              "    }\n",
              "\n",
              "    .dataframe thead th {\n",
              "        text-align: right;\n",
              "    }\n",
              "</style>\n",
              "<table border=\"1\" class=\"dataframe\">\n",
              "  <thead>\n",
              "    <tr style=\"text-align: right;\">\n",
              "      <th></th>\n",
              "      <th>site_url</th>\n",
              "      <th>label</th>\n",
              "      <th>main_img_url</th>\n",
              "      <th>type</th>\n",
              "    </tr>\n",
              "    <tr>\n",
              "      <th>author</th>\n",
              "      <th></th>\n",
              "      <th></th>\n",
              "      <th></th>\n",
              "      <th></th>\n",
              "    </tr>\n",
              "  </thead>\n",
              "  <tbody>\n",
              "    <tr>\n",
              "      <th>Barracuda Brigade</th>\n",
              "      <td>100percentfedup.com</td>\n",
              "      <td>0</td>\n",
              "      <td>http://bb4sp.com/wp-content/uploads/2016/10/Fu...</td>\n",
              "      <td>bias</td>\n",
              "    </tr>\n",
              "    <tr>\n",
              "      <th>reasoning with facts</th>\n",
              "      <td>100percentfedup.com</td>\n",
              "      <td>0</td>\n",
              "      <td>http://bb4sp.com/wp-content/uploads/2016/10/Fu...</td>\n",
              "      <td>bias</td>\n",
              "    </tr>\n",
              "    <tr>\n",
              "      <th>Barracuda Brigade</th>\n",
              "      <td>100percentfedup.com</td>\n",
              "      <td>0</td>\n",
              "      <td>http://bb4sp.com/wp-content/uploads/2016/10/Fu...</td>\n",
              "      <td>bias</td>\n",
              "    </tr>\n",
              "    <tr>\n",
              "      <th>Fed Up</th>\n",
              "      <td>100percentfedup.com</td>\n",
              "      <td>0</td>\n",
              "      <td>http://100percentfedup.com/wp-content/uploads/...</td>\n",
              "      <td>bias</td>\n",
              "    </tr>\n",
              "    <tr>\n",
              "      <th>Fed Up</th>\n",
              "      <td>100percentfedup.com</td>\n",
              "      <td>0</td>\n",
              "      <td>http://100percentfedup.com/wp-content/uploads/...</td>\n",
              "      <td>bias</td>\n",
              "    </tr>\n",
              "  </tbody>\n",
              "</table>\n",
              "</div>"
            ],
            "text/plain": [
              "                                 site_url  ...  type\n",
              "author                                     ...      \n",
              "Barracuda Brigade     100percentfedup.com  ...  bias\n",
              "reasoning with facts  100percentfedup.com  ...  bias\n",
              "Barracuda Brigade     100percentfedup.com  ...  bias\n",
              "Fed Up                100percentfedup.com  ...  bias\n",
              "Fed Up                100percentfedup.com  ...  bias\n",
              "\n",
              "[5 rows x 4 columns]"
            ]
          },
          "metadata": {},
          "execution_count": 75
        }
      ]
    },
    {
      "cell_type": "code",
      "metadata": {
        "id": "D7qoerZosBvM"
      },
      "source": [
        "dictionary = dict()\n",
        "multi_index = df_image_sources.groupby(['type', 'site_url']).count().index\n",
        "\n",
        "for k, v in multi_index:\n",
        "  # print(k, v)\n",
        "  if k in dictionary:\n",
        "    dictionary[k].extend([v])\n",
        "  else:\n",
        "    dictionary[k] = [v]  "
      ],
      "execution_count": 76,
      "outputs": []
    },
    {
      "cell_type": "code",
      "metadata": {
        "id": "Ks3fA5qYtav6",
        "colab": {
          "base_uri": "https://localhost:8080/"
        },
        "outputId": "236dd305-9e19-44cf-aef6-0c5bd9877ff4"
      },
      "source": [
        "dictionary"
      ],
      "execution_count": 77,
      "outputs": [
        {
          "output_type": "execute_result",
          "data": {
            "text/plain": [
              "{'bias': ['100percentfedup.com',\n",
              "  'addictinginfo.org',\n",
              "  'dailywire.com',\n",
              "  'newstarget.com',\n",
              "  'politicususa.com',\n",
              "  'prisonplanet.com',\n",
              "  'proudemocrat.com',\n",
              "  'washingtonsblog.com',\n",
              "  'westernjournalism.com',\n",
              "  'whydontyoutrythis.com',\n",
              "  'wnd.com'],\n",
              " 'bs': ['abeldanger.net',\n",
              "  'abovetopsecret.com',\n",
              "  'ahtribune.com',\n",
              "  'allnewspipeline.com',\n",
              "  'americannews.com',\n",
              "  'americasfreedomfighters.com',\n",
              "  'amren.com',\n",
              "  'amtvmedia.com',\n",
              "  'barenakedislam.com',\n",
              "  'coasttocoastam.com',\n",
              "  'corbettreport.com',\n",
              "  'countercurrents.org',\n",
              "  'counterpunch.org',\n",
              "  'darkmoon.me',\n",
              "  'davidduke.com',\n",
              "  'davidstockmanscontracorner.com',\n",
              "  'davidwolfe.com',\n",
              "  'dcclothesline.com',\n",
              "  'defenddemocracy.press',\n",
              "  'dennismichaellynch.com',\n",
              "  'departed.co',\n",
              "  'der-postillon.com',\n",
              "  'fromthetrenchesworldreport.com',\n",
              "  'frontpagemag.com',\n",
              "  'galacticconnection.com',\n",
              "  'infowars.com',\n",
              "  'legorafi.fr',\n",
              "  'projectveritas.com',\n",
              "  'returnofkings.com',\n",
              "  'shiftfrequency.com',\n",
              "  'thedailysheeple.com',\n",
              "  'theeconomiccollapseblog.com',\n",
              "  'thefreethoughtproject.com',\n",
              "  'themindunleashed.com',\n",
              "  'theonion.com',\n",
              "  'thepeoplescube.com',\n",
              "  'therussophile.org',\n",
              "  'thesaker.is',\n",
              "  'thetruthseeker.co.uk',\n",
              "  'theunrealtimes.com',\n",
              "  'topinfopost.com',\n",
              "  'veteranstoday.com',\n",
              "  'voltairenet.org',\n",
              "  'washingtonsblog.com',\n",
              "  'westernjournalism.com',\n",
              "  'whatreallyhappened.com'],\n",
              " 'conspiracy': ['21stcenturywire.com',\n",
              "  'activistpost.com',\n",
              "  'awdnews.com',\n",
              "  'galacticconnection.com',\n",
              "  'globalresearch.ca',\n",
              "  'infowars.com',\n",
              "  'naturalnews.com',\n",
              "  'newstarget.com',\n",
              "  'presstv.ir',\n",
              "  'prisonplanet.com'],\n",
              " 'fake': ['abcnews.com.co', 'adobochronicles.com'],\n",
              " 'hate': ['davidduke.com',\n",
              "  'fromthetrenchesworldreport.com',\n",
              "  'frontpagemag.com',\n",
              "  'redstatewatcher.com',\n",
              "  'returnofkings.com'],\n",
              " 'junksci': ['davidstockmanscontracorner.com',\n",
              "  'davidwolfe.com',\n",
              "  'madworldnews.com',\n",
              "  'naturalnews.com'],\n",
              " 'satire': ['clickhole.com', 'intrepidreport.com', 'legorafi.fr'],\n",
              " 'state': ['politicususa.com', 'presstv.com', 'presstv.ir']}"
            ]
          },
          "metadata": {},
          "execution_count": 77
        }
      ]
    },
    {
      "cell_type": "code",
      "metadata": {
        "colab": {
          "base_uri": "https://localhost:8080/"
        },
        "id": "KvrANJH-0W_N",
        "outputId": "8550dac1-7e41-4d80-9f64-400eaf0393b1"
      },
      "source": [
        "for k in dictionary:\n",
        "  print(f'Websites for type {k}: {dictionary[k]}')"
      ],
      "execution_count": 78,
      "outputs": [
        {
          "output_type": "stream",
          "name": "stdout",
          "text": [
            "Websites for type bias: ['100percentfedup.com', 'addictinginfo.org', 'dailywire.com', 'newstarget.com', 'politicususa.com', 'prisonplanet.com', 'proudemocrat.com', 'washingtonsblog.com', 'westernjournalism.com', 'whydontyoutrythis.com', 'wnd.com']\n",
            "Websites for type bs: ['abeldanger.net', 'abovetopsecret.com', 'ahtribune.com', 'allnewspipeline.com', 'americannews.com', 'americasfreedomfighters.com', 'amren.com', 'amtvmedia.com', 'barenakedislam.com', 'coasttocoastam.com', 'corbettreport.com', 'countercurrents.org', 'counterpunch.org', 'darkmoon.me', 'davidduke.com', 'davidstockmanscontracorner.com', 'davidwolfe.com', 'dcclothesline.com', 'defenddemocracy.press', 'dennismichaellynch.com', 'departed.co', 'der-postillon.com', 'fromthetrenchesworldreport.com', 'frontpagemag.com', 'galacticconnection.com', 'infowars.com', 'legorafi.fr', 'projectveritas.com', 'returnofkings.com', 'shiftfrequency.com', 'thedailysheeple.com', 'theeconomiccollapseblog.com', 'thefreethoughtproject.com', 'themindunleashed.com', 'theonion.com', 'thepeoplescube.com', 'therussophile.org', 'thesaker.is', 'thetruthseeker.co.uk', 'theunrealtimes.com', 'topinfopost.com', 'veteranstoday.com', 'voltairenet.org', 'washingtonsblog.com', 'westernjournalism.com', 'whatreallyhappened.com']\n",
            "Websites for type conspiracy: ['21stcenturywire.com', 'activistpost.com', 'awdnews.com', 'galacticconnection.com', 'globalresearch.ca', 'infowars.com', 'naturalnews.com', 'newstarget.com', 'presstv.ir', 'prisonplanet.com']\n",
            "Websites for type fake: ['abcnews.com.co', 'adobochronicles.com']\n",
            "Websites for type hate: ['davidduke.com', 'fromthetrenchesworldreport.com', 'frontpagemag.com', 'redstatewatcher.com', 'returnofkings.com']\n",
            "Websites for type junksci: ['davidstockmanscontracorner.com', 'davidwolfe.com', 'madworldnews.com', 'naturalnews.com']\n",
            "Websites for type satire: ['clickhole.com', 'intrepidreport.com', 'legorafi.fr']\n",
            "Websites for type state: ['politicususa.com', 'presstv.com', 'presstv.ir']\n"
          ]
        }
      ]
    },
    {
      "cell_type": "markdown",
      "metadata": {
        "id": "h9HbwCsL5Ltw"
      },
      "source": [
        "--------------------------------------------------------------------------------\n"
      ]
    },
    {
      "cell_type": "markdown",
      "metadata": {
        "id": "MOoOwlRs5TN8"
      },
      "source": [
        "### **Model Selection**"
      ]
    },
    {
      "cell_type": "markdown",
      "metadata": {
        "id": "quvc0oKJIq7N"
      },
      "source": [
        "#### **Train Test Split**"
      ]
    },
    {
      "cell_type": "code",
      "metadata": {
        "colab": {
          "base_uri": "https://localhost:8080/"
        },
        "id": "zhJyoO5e5QqI",
        "outputId": "103a8b8e-2a3b-448e-c21a-ff06d3cf5627"
      },
      "source": [
        "df.sample(frac = 0.5).shape                 # Generates 50% sample of data frame"
      ],
      "execution_count": 79,
      "outputs": [
        {
          "output_type": "execute_result",
          "data": {
            "text/plain": [
              "(1022, 11)"
            ]
          },
          "metadata": {},
          "execution_count": 79
        }
      ]
    },
    {
      "cell_type": "code",
      "metadata": {
        "id": "pLA2mhie-Mxt"
      },
      "source": [
        "df_train_test = df.sample(frac = 1) "
      ],
      "execution_count": 80,
      "outputs": []
    },
    {
      "cell_type": "code",
      "metadata": {
        "colab": {
          "base_uri": "https://localhost:8080/",
          "height": 663
        },
        "id": "3sv_RaON_UUR",
        "outputId": "9c858a2e-0c4e-4a4b-912a-3068d30359ca"
      },
      "source": [
        "df_train_test.head()"
      ],
      "execution_count": 81,
      "outputs": [
        {
          "output_type": "execute_result",
          "data": {
            "text/html": [
              "<div>\n",
              "<style scoped>\n",
              "    .dataframe tbody tr th:only-of-type {\n",
              "        vertical-align: middle;\n",
              "    }\n",
              "\n",
              "    .dataframe tbody tr th {\n",
              "        vertical-align: top;\n",
              "    }\n",
              "\n",
              "    .dataframe thead th {\n",
              "        text-align: right;\n",
              "    }\n",
              "</style>\n",
              "<table border=\"1\" class=\"dataframe\">\n",
              "  <thead>\n",
              "    <tr style=\"text-align: right;\">\n",
              "      <th></th>\n",
              "      <th>published</th>\n",
              "      <th>title</th>\n",
              "      <th>text</th>\n",
              "      <th>language</th>\n",
              "      <th>site_url</th>\n",
              "      <th>main_img_url</th>\n",
              "      <th>type</th>\n",
              "      <th>label</th>\n",
              "      <th>title_without_stopwords</th>\n",
              "      <th>text_without_stopwords</th>\n",
              "      <th>hasImage</th>\n",
              "    </tr>\n",
              "    <tr>\n",
              "      <th>author</th>\n",
              "      <th></th>\n",
              "      <th></th>\n",
              "      <th></th>\n",
              "      <th></th>\n",
              "      <th></th>\n",
              "      <th></th>\n",
              "      <th></th>\n",
              "      <th></th>\n",
              "      <th></th>\n",
              "      <th></th>\n",
              "      <th></th>\n",
              "    </tr>\n",
              "  </thead>\n",
              "  <tbody>\n",
              "    <tr>\n",
              "      <th>Anonymous</th>\n",
              "      <td>2016-10-27T22:57:00.000+03:00</td>\n",
              "      <td>no title</td>\n",
              "      <td>field is correct about the a companies and tru...</td>\n",
              "      <td>english</td>\n",
              "      <td>abeldanger.net</td>\n",
              "      <td>No Image URL</td>\n",
              "      <td>bs</td>\n",
              "      <td>Fake</td>\n",
              "      <td>title</td>\n",
              "      <td>field correct companies trump correct china ht...</td>\n",
              "      <td>0.0</td>\n",
              "    </tr>\n",
              "    <tr>\n",
              "      <th>Jason Easley</th>\n",
              "      <td>2016-10-26T21:28:47.404+03:00</td>\n",
              "      <td>trump throws a fit when asked why he is promot...</td>\n",
              "      <td>by sarah jones on sat oct th  at  pm donald tr...</td>\n",
              "      <td>english</td>\n",
              "      <td>politicususa.com</td>\n",
              "      <td>http://15130-presscdn-0-89.pagely.netdna-cdn.c...</td>\n",
              "      <td>bias</td>\n",
              "      <td>Real</td>\n",
              "      <td>three new polls shatter myth presidential elec...</td>\n",
              "      <td>share twitter print post fbi examining hillary...</td>\n",
              "      <td>1.0</td>\n",
              "    </tr>\n",
              "    <tr>\n",
              "      <th>noreply@blogger.com (Der Postillon)</th>\n",
              "      <td>2016-11-17T14:33:44.282+02:00</td>\n",
              "      <td>von wegen staatsbesuch barack obama ist ganz e...</td>\n",
              "      <td>freitag  november  zu unseriös auch lothar mat...</td>\n",
              "      <td>german</td>\n",
              "      <td>der-postillon.com</td>\n",
              "      <td>https://1.bp.blogspot.com/-u3i2ZmS2vdo/WC3Ufx-...</td>\n",
              "      <td>bs</td>\n",
              "      <td>Fake</td>\n",
              "      <td>newsticker</td>\n",
              "      <td>freitag november junge brunnen gefallen suchtr...</td>\n",
              "      <td>1.0</td>\n",
              "    </tr>\n",
              "    <tr>\n",
              "      <th>Letsbereal</th>\n",
              "      <td>2016-10-26T17:25:00.000+03:00</td>\n",
              "      <td>messagingapp comp lines profit misses estimate...</td>\n",
              "      <td>home this month popular is western civilizatio...</td>\n",
              "      <td>english</td>\n",
              "      <td>prisonplanet.com</td>\n",
              "      <td>No Image URL</td>\n",
              "      <td>conspiracy</td>\n",
              "      <td>Fake</td>\n",
              "      <td>title</td>\n",
              "      <td>cuckservatism topic previously discussed detai...</td>\n",
              "      <td>0.0</td>\n",
              "    </tr>\n",
              "    <tr>\n",
              "      <th>Kingdom Ambassador</th>\n",
              "      <td>2016-10-31T13:50:11.728+02:00</td>\n",
              "      <td>comment on if hillary clinton is charged with ...</td>\n",
              "      <td>what is going on with wikileaks  tweet wikilea...</td>\n",
              "      <td>english</td>\n",
              "      <td>dcclothesline.com</td>\n",
              "      <td>http://i2.wp.com/www.dcclothesline.com/wp-cont...</td>\n",
              "      <td>bs</td>\n",
              "      <td>Fake</td>\n",
              "      <td>comment michelle obama replacement nominee fbi...</td>\n",
              "      <td>arrested protest dakota access pipeline shares...</td>\n",
              "      <td>1.0</td>\n",
              "    </tr>\n",
              "  </tbody>\n",
              "</table>\n",
              "</div>"
            ],
            "text/plain": [
              "                                                         published  ... hasImage\n",
              "author                                                              ...         \n",
              "Anonymous                            2016-10-27T22:57:00.000+03:00  ...      0.0\n",
              "Jason Easley                         2016-10-26T21:28:47.404+03:00  ...      1.0\n",
              "noreply@blogger.com (Der Postillon)  2016-11-17T14:33:44.282+02:00  ...      1.0\n",
              "Letsbereal                           2016-10-26T17:25:00.000+03:00  ...      0.0\n",
              "Kingdom Ambassador                   2016-10-31T13:50:11.728+02:00  ...      1.0\n",
              "\n",
              "[5 rows x 11 columns]"
            ]
          },
          "metadata": {},
          "execution_count": 81
        }
      ]
    },
    {
      "cell_type": "code",
      "metadata": {
        "colab": {
          "base_uri": "https://localhost:8080/"
        },
        "id": "mRt-C-CB_aYq",
        "outputId": "7cc7fdbf-e296-42f4-a291-66a999040151"
      },
      "source": [
        "df_train_test['type'].unique()"
      ],
      "execution_count": 82,
      "outputs": [
        {
          "output_type": "execute_result",
          "data": {
            "text/plain": [
              "array(['bs', 'bias', 'conspiracy', 'state', 'satire', 'junksci', 'hate',\n",
              "       'fake'], dtype=object)"
            ]
          },
          "metadata": {},
          "execution_count": 82
        }
      ]
    },
    {
      "cell_type": "code",
      "metadata": {
        "colab": {
          "base_uri": "https://localhost:8080/"
        },
        "id": "tzYkryEK_kyh",
        "outputId": "ff3b98dc-e97a-43fa-e5ba-7ade2e0ece71"
      },
      "source": [
        "unique_type = df_train_test['type'].unique()\n",
        "print({k:v for v, k in enumerate(unique_type)})\n",
        "# {'bs': 0, 'conspiracy': 1, 'bias': 2, 'state': 3, 'hate': 4, 'junksci': 5, 'satire': 6, 'fake': 7}    # Adaboost 95%\n",
        "# {'hate': 0, 'bs': 1, 'conspiracy': 2, 'bias': 3, 'satire': 4, 'junksci': 5, 'state': 6, 'fake': 7}    # AdaBoost 97%"
      ],
      "execution_count": 83,
      "outputs": [
        {
          "output_type": "stream",
          "name": "stdout",
          "text": [
            "{'bs': 0, 'bias': 1, 'conspiracy': 2, 'state': 3, 'satire': 4, 'junksci': 5, 'hate': 6, 'fake': 7}\n"
          ]
        }
      ]
    },
    {
      "cell_type": "code",
      "metadata": {
        "id": "mNegkc83B0MQ"
      },
      "source": [
        "df_train_test['type'] = df_train_test['type'].map({k:v for v, k in enumerate(unique_type)})"
      ],
      "execution_count": 84,
      "outputs": []
    },
    {
      "cell_type": "code",
      "metadata": {
        "colab": {
          "base_uri": "https://localhost:8080/"
        },
        "id": "2U566PB8CU_J",
        "outputId": "5fa0579d-eda7-4acf-a93c-5839e15afb37"
      },
      "source": [
        "df_train_test['type'].value_counts()"
      ],
      "execution_count": 85,
      "outputs": [
        {
          "output_type": "execute_result",
          "data": {
            "text/plain": [
              "0    598\n",
              "2    430\n",
              "1    389\n",
              "6    244\n",
              "4    146\n",
              "3    121\n",
              "5    102\n",
              "7     15\n",
              "Name: type, dtype: int64"
            ]
          },
          "metadata": {},
          "execution_count": 85
        }
      ]
    },
    {
      "cell_type": "code",
      "metadata": {
        "id": "j7yIzmf1-e0j"
      },
      "source": [
        "X = df_train_test[['site_url', 'text_without_stopwords']]\n",
        "y = df_train_test['type']"
      ],
      "execution_count": 86,
      "outputs": []
    },
    {
      "cell_type": "code",
      "metadata": {
        "colab": {
          "base_uri": "https://localhost:8080/",
          "height": 235
        },
        "id": "EMuxdwd8_B0x",
        "outputId": "553baf54-04e7-486d-ffbb-309f6302a205"
      },
      "source": [
        "X.head()"
      ],
      "execution_count": 87,
      "outputs": [
        {
          "output_type": "execute_result",
          "data": {
            "text/html": [
              "<div>\n",
              "<style scoped>\n",
              "    .dataframe tbody tr th:only-of-type {\n",
              "        vertical-align: middle;\n",
              "    }\n",
              "\n",
              "    .dataframe tbody tr th {\n",
              "        vertical-align: top;\n",
              "    }\n",
              "\n",
              "    .dataframe thead th {\n",
              "        text-align: right;\n",
              "    }\n",
              "</style>\n",
              "<table border=\"1\" class=\"dataframe\">\n",
              "  <thead>\n",
              "    <tr style=\"text-align: right;\">\n",
              "      <th></th>\n",
              "      <th>site_url</th>\n",
              "      <th>text_without_stopwords</th>\n",
              "    </tr>\n",
              "    <tr>\n",
              "      <th>author</th>\n",
              "      <th></th>\n",
              "      <th></th>\n",
              "    </tr>\n",
              "  </thead>\n",
              "  <tbody>\n",
              "    <tr>\n",
              "      <th>Anonymous</th>\n",
              "      <td>abeldanger.net</td>\n",
              "      <td>field correct companies trump correct china ht...</td>\n",
              "    </tr>\n",
              "    <tr>\n",
              "      <th>Jason Easley</th>\n",
              "      <td>politicususa.com</td>\n",
              "      <td>share twitter print post fbi examining hillary...</td>\n",
              "    </tr>\n",
              "    <tr>\n",
              "      <th>noreply@blogger.com (Der Postillon)</th>\n",
              "      <td>der-postillon.com</td>\n",
              "      <td>freitag november junge brunnen gefallen suchtr...</td>\n",
              "    </tr>\n",
              "    <tr>\n",
              "      <th>Letsbereal</th>\n",
              "      <td>prisonplanet.com</td>\n",
              "      <td>cuckservatism topic previously discussed detai...</td>\n",
              "    </tr>\n",
              "    <tr>\n",
              "      <th>Kingdom Ambassador</th>\n",
              "      <td>dcclothesline.com</td>\n",
              "      <td>arrested protest dakota access pipeline shares...</td>\n",
              "    </tr>\n",
              "  </tbody>\n",
              "</table>\n",
              "</div>"
            ],
            "text/plain": [
              "                                              site_url                             text_without_stopwords\n",
              "author                                                                                                   \n",
              "Anonymous                               abeldanger.net  field correct companies trump correct china ht...\n",
              "Jason Easley                          politicususa.com  share twitter print post fbi examining hillary...\n",
              "noreply@blogger.com (Der Postillon)  der-postillon.com  freitag november junge brunnen gefallen suchtr...\n",
              "Letsbereal                            prisonplanet.com  cuckservatism topic previously discussed detai...\n",
              "Kingdom Ambassador                   dcclothesline.com  arrested protest dakota access pipeline shares..."
            ]
          },
          "metadata": {},
          "execution_count": 87
        }
      ]
    },
    {
      "cell_type": "code",
      "metadata": {
        "id": "aZVIcdp-Fdf_"
      },
      "source": [
        "X['source'] = X['site_url'] + ' ' + X['text_without_stopwords']"
      ],
      "execution_count": 88,
      "outputs": []
    },
    {
      "cell_type": "code",
      "metadata": {
        "colab": {
          "base_uri": "https://localhost:8080/"
        },
        "id": "tHm9TPanFzFD",
        "outputId": "c8329481-4cd4-4bfc-ea55-2199da2bc325"
      },
      "source": [
        "X['source']"
      ],
      "execution_count": 89,
      "outputs": [
        {
          "output_type": "execute_result",
          "data": {
            "text/plain": [
              "author\n",
              "Anonymous                              abeldanger.net field correct companies trump c...\n",
              "Jason Easley                           politicususa.com share twitter print post fbi ...\n",
              "noreply@blogger.com (Der Postillon)    der-postillon.com freitag november junge brunn...\n",
              "Letsbereal                             prisonplanet.com cuckservatism topic previousl...\n",
              "Kingdom Ambassador                     dcclothesline.com arrested protest dakota acce...\n",
              "                                                             ...                        \n",
              "noreply@blogger.com (Der Postillon)    der-postillon.com freitag november gaagnagna z...\n",
              "No Author                              clickhole.com email looks like presidentelect ...\n",
              "No Author                              westernjournalism.com another suggestion would...\n",
              "No Author                              addictinginfo.org november pm weve seen pictur...\n",
              "Jason Easley                           politicususa.com sarah jones sun oct th pm sen...\n",
              "Name: source, Length: 2045, dtype: object"
            ]
          },
          "metadata": {},
          "execution_count": 89
        }
      ]
    },
    {
      "cell_type": "code",
      "metadata": {
        "id": "w5xo-QXHGWDW"
      },
      "source": [
        "X = X['source']"
      ],
      "execution_count": 90,
      "outputs": []
    },
    {
      "cell_type": "code",
      "metadata": {
        "colab": {
          "base_uri": "https://localhost:8080/"
        },
        "id": "XHUWfn8PGXhK",
        "outputId": "412a3d3a-8e37-439c-f1b8-ac2a28926143"
      },
      "source": [
        "X.head()"
      ],
      "execution_count": 91,
      "outputs": [
        {
          "output_type": "execute_result",
          "data": {
            "text/plain": [
              "author\n",
              "Anonymous                              abeldanger.net field correct companies trump c...\n",
              "Jason Easley                           politicususa.com share twitter print post fbi ...\n",
              "noreply@blogger.com (Der Postillon)    der-postillon.com freitag november junge brunn...\n",
              "Letsbereal                             prisonplanet.com cuckservatism topic previousl...\n",
              "Kingdom Ambassador                     dcclothesline.com arrested protest dakota acce...\n",
              "Name: source, dtype: object"
            ]
          },
          "metadata": {},
          "execution_count": 91
        }
      ]
    },
    {
      "cell_type": "code",
      "metadata": {
        "colab": {
          "base_uri": "https://localhost:8080/"
        },
        "id": "Es6wiSLZG7i7",
        "outputId": "bc5756a3-af40-49e6-ca60-203cdb240899"
      },
      "source": [
        "y.head()"
      ],
      "execution_count": 92,
      "outputs": [
        {
          "output_type": "execute_result",
          "data": {
            "text/plain": [
              "author\n",
              "Anonymous                              0\n",
              "Jason Easley                           1\n",
              "noreply@blogger.com (Der Postillon)    0\n",
              "Letsbereal                             2\n",
              "Kingdom Ambassador                     0\n",
              "Name: type, dtype: int64"
            ]
          },
          "metadata": {},
          "execution_count": 92
        }
      ]
    },
    {
      "cell_type": "code",
      "metadata": {
        "id": "v0SC9jSYI7ZW"
      },
      "source": [
        "from sklearn.model_selection import train_test_split"
      ],
      "execution_count": 93,
      "outputs": []
    },
    {
      "cell_type": "code",
      "metadata": {
        "id": "qjwc2zLnG-Yz"
      },
      "source": [
        "x_train, x_test, y_train, y_test = train_test_split(X, y, test_size = 0.3, random_state = 42)"
      ],
      "execution_count": 94,
      "outputs": []
    },
    {
      "cell_type": "code",
      "metadata": {
        "colab": {
          "base_uri": "https://localhost:8080/"
        },
        "id": "I8n4K0y6DVM5",
        "outputId": "7da74786-9eff-4ac9-e132-0c5fb34ee9b2"
      },
      "source": [
        "x_train.shape, x_test.shape"
      ],
      "execution_count": 95,
      "outputs": [
        {
          "output_type": "execute_result",
          "data": {
            "text/plain": [
              "((1431,), (614,))"
            ]
          },
          "metadata": {},
          "execution_count": 95
        }
      ]
    },
    {
      "cell_type": "markdown",
      "metadata": {
        "id": "Gu_5bsKVJ8N7"
      },
      "source": [
        "### **TfidVectorizer**"
      ]
    },
    {
      "cell_type": "code",
      "metadata": {
        "id": "WgVGPzkHJ0Hw"
      },
      "source": [
        "from sklearn.feature_extraction.text import TfidfVectorizer"
      ],
      "execution_count": 96,
      "outputs": []
    },
    {
      "cell_type": "code",
      "metadata": {
        "colab": {
          "base_uri": "https://localhost:8080/"
        },
        "id": "pQMoJit7KO7Y",
        "outputId": "03121a87-6bba-44aa-9c78-0795928f8345"
      },
      "source": [
        "tf = TfidfVectorizer(stop_words='english') \n",
        "tf"
      ],
      "execution_count": 97,
      "outputs": [
        {
          "output_type": "execute_result",
          "data": {
            "text/plain": [
              "TfidfVectorizer(analyzer='word', binary=False, decode_error='strict',\n",
              "                dtype=<class 'numpy.float64'>, encoding='utf-8',\n",
              "                input='content', lowercase=True, max_df=1.0, max_features=None,\n",
              "                min_df=1, ngram_range=(1, 1), norm='l2', preprocessor=None,\n",
              "                smooth_idf=True, stop_words='english', strip_accents=None,\n",
              "                sublinear_tf=False, token_pattern='(?u)\\\\b\\\\w\\\\w+\\\\b',\n",
              "                tokenizer=None, use_idf=True, vocabulary=None)"
            ]
          },
          "metadata": {},
          "execution_count": 97
        }
      ]
    },
    {
      "cell_type": "code",
      "metadata": {
        "colab": {
          "base_uri": "https://localhost:8080/"
        },
        "id": "_BjWAQY0K0uq",
        "outputId": "c13d9894-0b01-414b-cf20-cce93d5a40d3"
      },
      "source": [
        "tf.fit_transform(x_train)"
      ],
      "execution_count": 98,
      "outputs": [
        {
          "output_type": "execute_result",
          "data": {
            "text/plain": [
              "<1431x38614 sparse matrix of type '<class 'numpy.float64'>'\n",
              "\twith 241844 stored elements in Compressed Sparse Row format>"
            ]
          },
          "metadata": {},
          "execution_count": 98
        }
      ]
    },
    {
      "cell_type": "code",
      "metadata": {
        "id": "err-GOdfL0hC"
      },
      "source": [
        "tf_X_train  = tf.fit_transform(x_train)"
      ],
      "execution_count": 99,
      "outputs": []
    },
    {
      "cell_type": "code",
      "metadata": {
        "colab": {
          "base_uri": "https://localhost:8080/"
        },
        "id": "dRFV7d5nL9NQ",
        "outputId": "471d1e77-8cd2-44d6-da60-95c16414a40f"
      },
      "source": [
        "tf.transform(x_test)"
      ],
      "execution_count": 100,
      "outputs": [
        {
          "output_type": "execute_result",
          "data": {
            "text/plain": [
              "<614x38614 sparse matrix of type '<class 'numpy.float64'>'\n",
              "\twith 107437 stored elements in Compressed Sparse Row format>"
            ]
          },
          "metadata": {},
          "execution_count": 100
        }
      ]
    },
    {
      "cell_type": "code",
      "metadata": {
        "id": "QS1oNNcKM0tA"
      },
      "source": [
        "tf_X_test =  tf.transform(x_test)"
      ],
      "execution_count": 101,
      "outputs": []
    },
    {
      "cell_type": "code",
      "metadata": {
        "colab": {
          "base_uri": "https://localhost:8080/"
        },
        "id": "4F0Me3bwM6xT",
        "outputId": "d93128cf-9d5b-4253-ec29-9270a3c74013"
      },
      "source": [
        "tf.get_feature_names"
      ],
      "execution_count": 102,
      "outputs": [
        {
          "output_type": "execute_result",
          "data": {
            "text/plain": [
              "<bound method CountVectorizer.get_feature_names of TfidfVectorizer(analyzer='word', binary=False, decode_error='strict',\n",
              "                dtype=<class 'numpy.float64'>, encoding='utf-8',\n",
              "                input='content', lowercase=True, max_df=1.0, max_features=None,\n",
              "                min_df=1, ngram_range=(1, 1), norm='l2', preprocessor=None,\n",
              "                smooth_idf=True, stop_words='english', strip_accents=None,\n",
              "                sublinear_tf=False, token_pattern='(?u)\\\\b\\\\w\\\\w+\\\\b',\n",
              "                tokenizer=None, use_idf=True, vocabulary=None)>"
            ]
          },
          "metadata": {},
          "execution_count": 102
        }
      ]
    },
    {
      "cell_type": "code",
      "metadata": {
        "colab": {
          "base_uri": "https://localhost:8080/"
        },
        "id": "-6CIu6Y6Opej",
        "outputId": "654681af-1a1f-4387-df0a-7b62bb939bdd"
      },
      "source": [
        "tf_X_train.A"
      ],
      "execution_count": 118,
      "outputs": [
        {
          "output_type": "execute_result",
          "data": {
            "text/plain": [
              "array([[0.        , 0.        , 0.        , ..., 0.        , 0.        ,\n",
              "        0.        ],\n",
              "       [0.        , 0.06938998, 0.        , ..., 0.        , 0.        ,\n",
              "        0.        ],\n",
              "       [0.        , 0.        , 0.        , ..., 0.        , 0.        ,\n",
              "        0.        ],\n",
              "       ...,\n",
              "       [0.        , 0.        , 0.        , ..., 0.        , 0.        ,\n",
              "        0.        ],\n",
              "       [0.        , 0.        , 0.        , ..., 0.        , 0.        ,\n",
              "        0.        ],\n",
              "       [0.        , 0.        , 0.        , ..., 0.        , 0.        ,\n",
              "        0.        ]])"
            ]
          },
          "metadata": {},
          "execution_count": 118
        }
      ]
    },
    {
      "cell_type": "code",
      "metadata": {
        "colab": {
          "base_uri": "https://localhost:8080/",
          "height": 253
        },
        "id": "D6Fm9bEVPPxD",
        "outputId": "a6074af7-e2b9-4995-bca6-c8768db10956"
      },
      "source": [
        "pd.DataFrame(tf_X_train.A, columns= tf.get_feature_names()).head()"
      ],
      "execution_count": 104,
      "outputs": [
        {
          "output_type": "execute_result",
          "data": {
            "text/html": [
              "<div>\n",
              "<style scoped>\n",
              "    .dataframe tbody tr th:only-of-type {\n",
              "        vertical-align: middle;\n",
              "    }\n",
              "\n",
              "    .dataframe tbody tr th {\n",
              "        vertical-align: top;\n",
              "    }\n",
              "\n",
              "    .dataframe thead th {\n",
              "        text-align: right;\n",
              "    }\n",
              "</style>\n",
              "<table border=\"1\" class=\"dataframe\">\n",
              "  <thead>\n",
              "    <tr style=\"text-align: right;\">\n",
              "      <th></th>\n",
              "      <th>100percentfedup</th>\n",
              "      <th>21stcenturywire</th>\n",
              "      <th>aa</th>\n",
              "      <th>aab</th>\n",
              "      <th>aafe</th>\n",
              "      <th>aah</th>\n",
              "      <th>aali</th>\n",
              "      <th>aaliya</th>\n",
              "      <th>aaliyas</th>\n",
              "      <th>aand</th>\n",
              "      <th>aap</th>\n",
              "      <th>aaps</th>\n",
              "      <th>aaron</th>\n",
              "      <th>ab</th>\n",
              "      <th>aba</th>\n",
              "      <th>aback</th>\n",
              "      <th>abajo</th>\n",
              "      <th>abandon</th>\n",
              "      <th>abandoned</th>\n",
              "      <th>abandoning</th>\n",
              "      <th>abandonment</th>\n",
              "      <th>abandons</th>\n",
              "      <th>abated</th>\n",
              "      <th>abbas</th>\n",
              "      <th>abbasside</th>\n",
              "      <th>abbatoir</th>\n",
              "      <th>abbey</th>\n",
              "      <th>abbott</th>\n",
              "      <th>abbotts</th>\n",
              "      <th>abbreviated</th>\n",
              "      <th>abbreviation</th>\n",
              "      <th>abby</th>\n",
              "      <th>abc</th>\n",
              "      <th>abcdisney</th>\n",
              "      <th>abcnbccbsapbsnprcnnwashingtonpostpolitico</th>\n",
              "      <th>abcnews</th>\n",
              "      <th>abcpolitics</th>\n",
              "      <th>abcs</th>\n",
              "      <th>abd</th>\n",
              "      <th>abdallah</th>\n",
              "      <th>...</th>\n",
              "      <th>éxito</th>\n",
              "      <th>être</th>\n",
              "      <th>öffentlich</th>\n",
              "      <th>öffentlichen</th>\n",
              "      <th>ökonom</th>\n",
              "      <th>últimos</th>\n",
              "      <th>übeltäter</th>\n",
              "      <th>über</th>\n",
              "      <th>überall</th>\n",
              "      <th>überflug</th>\n",
              "      <th>übergegangen</th>\n",
              "      <th>übergestreift</th>\n",
              "      <th>überhaupt</th>\n",
              "      <th>überkommen</th>\n",
              "      <th>überlaufen</th>\n",
              "      <th>überlege</th>\n",
              "      <th>überlegen</th>\n",
              "      <th>überlegene</th>\n",
              "      <th>überlegt</th>\n",
              "      <th>überlegung</th>\n",
              "      <th>überlisten</th>\n",
              "      <th>übermenschen</th>\n",
              "      <th>übermenschliche</th>\n",
              "      <th>übermüdete</th>\n",
              "      <th>übernehmen</th>\n",
              "      <th>überraschen</th>\n",
              "      <th>überraschend</th>\n",
              "      <th>überraschende</th>\n",
              "      <th>überrascht</th>\n",
              "      <th>überreden</th>\n",
              "      <th>überreicht</th>\n",
              "      <th>überschwänglich</th>\n",
              "      <th>überteuerten</th>\n",
              "      <th>übertrieben</th>\n",
              "      <th>überwachungskamera</th>\n",
              "      <th>überwältigen</th>\n",
              "      <th>überzeugt</th>\n",
              "      <th>übrig</th>\n",
              "      <th>übrige</th>\n",
              "      <th>übte</th>\n",
              "    </tr>\n",
              "  </thead>\n",
              "  <tbody>\n",
              "    <tr>\n",
              "      <th>0</th>\n",
              "      <td>0.0</td>\n",
              "      <td>0.00000</td>\n",
              "      <td>0.0</td>\n",
              "      <td>0.0</td>\n",
              "      <td>0.0</td>\n",
              "      <td>0.0</td>\n",
              "      <td>0.0</td>\n",
              "      <td>0.0</td>\n",
              "      <td>0.0</td>\n",
              "      <td>0.0</td>\n",
              "      <td>0.0</td>\n",
              "      <td>0.0</td>\n",
              "      <td>0.0</td>\n",
              "      <td>0.0</td>\n",
              "      <td>0.0</td>\n",
              "      <td>0.0</td>\n",
              "      <td>0.0</td>\n",
              "      <td>0.0</td>\n",
              "      <td>0.0</td>\n",
              "      <td>0.0</td>\n",
              "      <td>0.0</td>\n",
              "      <td>0.0</td>\n",
              "      <td>0.0</td>\n",
              "      <td>0.0</td>\n",
              "      <td>0.0</td>\n",
              "      <td>0.056937</td>\n",
              "      <td>0.0</td>\n",
              "      <td>0.0</td>\n",
              "      <td>0.0</td>\n",
              "      <td>0.0</td>\n",
              "      <td>0.0</td>\n",
              "      <td>0.0</td>\n",
              "      <td>0.0</td>\n",
              "      <td>0.0</td>\n",
              "      <td>0.0</td>\n",
              "      <td>0.0</td>\n",
              "      <td>0.0</td>\n",
              "      <td>0.0</td>\n",
              "      <td>0.0</td>\n",
              "      <td>0.0</td>\n",
              "      <td>...</td>\n",
              "      <td>0.0</td>\n",
              "      <td>0.0</td>\n",
              "      <td>0.0</td>\n",
              "      <td>0.0</td>\n",
              "      <td>0.0</td>\n",
              "      <td>0.0</td>\n",
              "      <td>0.0</td>\n",
              "      <td>0.0</td>\n",
              "      <td>0.0</td>\n",
              "      <td>0.0</td>\n",
              "      <td>0.0</td>\n",
              "      <td>0.0</td>\n",
              "      <td>0.0</td>\n",
              "      <td>0.0</td>\n",
              "      <td>0.0</td>\n",
              "      <td>0.0</td>\n",
              "      <td>0.0</td>\n",
              "      <td>0.0</td>\n",
              "      <td>0.0</td>\n",
              "      <td>0.0</td>\n",
              "      <td>0.0</td>\n",
              "      <td>0.0</td>\n",
              "      <td>0.0</td>\n",
              "      <td>0.0</td>\n",
              "      <td>0.0</td>\n",
              "      <td>0.0</td>\n",
              "      <td>0.0</td>\n",
              "      <td>0.0</td>\n",
              "      <td>0.0</td>\n",
              "      <td>0.0</td>\n",
              "      <td>0.0</td>\n",
              "      <td>0.0</td>\n",
              "      <td>0.0</td>\n",
              "      <td>0.0</td>\n",
              "      <td>0.0</td>\n",
              "      <td>0.0</td>\n",
              "      <td>0.0</td>\n",
              "      <td>0.0</td>\n",
              "      <td>0.0</td>\n",
              "      <td>0.0</td>\n",
              "    </tr>\n",
              "    <tr>\n",
              "      <th>1</th>\n",
              "      <td>0.0</td>\n",
              "      <td>0.06939</td>\n",
              "      <td>0.0</td>\n",
              "      <td>0.0</td>\n",
              "      <td>0.0</td>\n",
              "      <td>0.0</td>\n",
              "      <td>0.0</td>\n",
              "      <td>0.0</td>\n",
              "      <td>0.0</td>\n",
              "      <td>0.0</td>\n",
              "      <td>0.0</td>\n",
              "      <td>0.0</td>\n",
              "      <td>0.0</td>\n",
              "      <td>0.0</td>\n",
              "      <td>0.0</td>\n",
              "      <td>0.0</td>\n",
              "      <td>0.0</td>\n",
              "      <td>0.0</td>\n",
              "      <td>0.0</td>\n",
              "      <td>0.0</td>\n",
              "      <td>0.0</td>\n",
              "      <td>0.0</td>\n",
              "      <td>0.0</td>\n",
              "      <td>0.0</td>\n",
              "      <td>0.0</td>\n",
              "      <td>0.000000</td>\n",
              "      <td>0.0</td>\n",
              "      <td>0.0</td>\n",
              "      <td>0.0</td>\n",
              "      <td>0.0</td>\n",
              "      <td>0.0</td>\n",
              "      <td>0.0</td>\n",
              "      <td>0.0</td>\n",
              "      <td>0.0</td>\n",
              "      <td>0.0</td>\n",
              "      <td>0.0</td>\n",
              "      <td>0.0</td>\n",
              "      <td>0.0</td>\n",
              "      <td>0.0</td>\n",
              "      <td>0.0</td>\n",
              "      <td>...</td>\n",
              "      <td>0.0</td>\n",
              "      <td>0.0</td>\n",
              "      <td>0.0</td>\n",
              "      <td>0.0</td>\n",
              "      <td>0.0</td>\n",
              "      <td>0.0</td>\n",
              "      <td>0.0</td>\n",
              "      <td>0.0</td>\n",
              "      <td>0.0</td>\n",
              "      <td>0.0</td>\n",
              "      <td>0.0</td>\n",
              "      <td>0.0</td>\n",
              "      <td>0.0</td>\n",
              "      <td>0.0</td>\n",
              "      <td>0.0</td>\n",
              "      <td>0.0</td>\n",
              "      <td>0.0</td>\n",
              "      <td>0.0</td>\n",
              "      <td>0.0</td>\n",
              "      <td>0.0</td>\n",
              "      <td>0.0</td>\n",
              "      <td>0.0</td>\n",
              "      <td>0.0</td>\n",
              "      <td>0.0</td>\n",
              "      <td>0.0</td>\n",
              "      <td>0.0</td>\n",
              "      <td>0.0</td>\n",
              "      <td>0.0</td>\n",
              "      <td>0.0</td>\n",
              "      <td>0.0</td>\n",
              "      <td>0.0</td>\n",
              "      <td>0.0</td>\n",
              "      <td>0.0</td>\n",
              "      <td>0.0</td>\n",
              "      <td>0.0</td>\n",
              "      <td>0.0</td>\n",
              "      <td>0.0</td>\n",
              "      <td>0.0</td>\n",
              "      <td>0.0</td>\n",
              "      <td>0.0</td>\n",
              "    </tr>\n",
              "    <tr>\n",
              "      <th>2</th>\n",
              "      <td>0.0</td>\n",
              "      <td>0.00000</td>\n",
              "      <td>0.0</td>\n",
              "      <td>0.0</td>\n",
              "      <td>0.0</td>\n",
              "      <td>0.0</td>\n",
              "      <td>0.0</td>\n",
              "      <td>0.0</td>\n",
              "      <td>0.0</td>\n",
              "      <td>0.0</td>\n",
              "      <td>0.0</td>\n",
              "      <td>0.0</td>\n",
              "      <td>0.0</td>\n",
              "      <td>0.0</td>\n",
              "      <td>0.0</td>\n",
              "      <td>0.0</td>\n",
              "      <td>0.0</td>\n",
              "      <td>0.0</td>\n",
              "      <td>0.0</td>\n",
              "      <td>0.0</td>\n",
              "      <td>0.0</td>\n",
              "      <td>0.0</td>\n",
              "      <td>0.0</td>\n",
              "      <td>0.0</td>\n",
              "      <td>0.0</td>\n",
              "      <td>0.000000</td>\n",
              "      <td>0.0</td>\n",
              "      <td>0.0</td>\n",
              "      <td>0.0</td>\n",
              "      <td>0.0</td>\n",
              "      <td>0.0</td>\n",
              "      <td>0.0</td>\n",
              "      <td>0.0</td>\n",
              "      <td>0.0</td>\n",
              "      <td>0.0</td>\n",
              "      <td>0.0</td>\n",
              "      <td>0.0</td>\n",
              "      <td>0.0</td>\n",
              "      <td>0.0</td>\n",
              "      <td>0.0</td>\n",
              "      <td>...</td>\n",
              "      <td>0.0</td>\n",
              "      <td>0.0</td>\n",
              "      <td>0.0</td>\n",
              "      <td>0.0</td>\n",
              "      <td>0.0</td>\n",
              "      <td>0.0</td>\n",
              "      <td>0.0</td>\n",
              "      <td>0.0</td>\n",
              "      <td>0.0</td>\n",
              "      <td>0.0</td>\n",
              "      <td>0.0</td>\n",
              "      <td>0.0</td>\n",
              "      <td>0.0</td>\n",
              "      <td>0.0</td>\n",
              "      <td>0.0</td>\n",
              "      <td>0.0</td>\n",
              "      <td>0.0</td>\n",
              "      <td>0.0</td>\n",
              "      <td>0.0</td>\n",
              "      <td>0.0</td>\n",
              "      <td>0.0</td>\n",
              "      <td>0.0</td>\n",
              "      <td>0.0</td>\n",
              "      <td>0.0</td>\n",
              "      <td>0.0</td>\n",
              "      <td>0.0</td>\n",
              "      <td>0.0</td>\n",
              "      <td>0.0</td>\n",
              "      <td>0.0</td>\n",
              "      <td>0.0</td>\n",
              "      <td>0.0</td>\n",
              "      <td>0.0</td>\n",
              "      <td>0.0</td>\n",
              "      <td>0.0</td>\n",
              "      <td>0.0</td>\n",
              "      <td>0.0</td>\n",
              "      <td>0.0</td>\n",
              "      <td>0.0</td>\n",
              "      <td>0.0</td>\n",
              "      <td>0.0</td>\n",
              "    </tr>\n",
              "    <tr>\n",
              "      <th>3</th>\n",
              "      <td>0.0</td>\n",
              "      <td>0.00000</td>\n",
              "      <td>0.0</td>\n",
              "      <td>0.0</td>\n",
              "      <td>0.0</td>\n",
              "      <td>0.0</td>\n",
              "      <td>0.0</td>\n",
              "      <td>0.0</td>\n",
              "      <td>0.0</td>\n",
              "      <td>0.0</td>\n",
              "      <td>0.0</td>\n",
              "      <td>0.0</td>\n",
              "      <td>0.0</td>\n",
              "      <td>0.0</td>\n",
              "      <td>0.0</td>\n",
              "      <td>0.0</td>\n",
              "      <td>0.0</td>\n",
              "      <td>0.0</td>\n",
              "      <td>0.0</td>\n",
              "      <td>0.0</td>\n",
              "      <td>0.0</td>\n",
              "      <td>0.0</td>\n",
              "      <td>0.0</td>\n",
              "      <td>0.0</td>\n",
              "      <td>0.0</td>\n",
              "      <td>0.000000</td>\n",
              "      <td>0.0</td>\n",
              "      <td>0.0</td>\n",
              "      <td>0.0</td>\n",
              "      <td>0.0</td>\n",
              "      <td>0.0</td>\n",
              "      <td>0.0</td>\n",
              "      <td>0.0</td>\n",
              "      <td>0.0</td>\n",
              "      <td>0.0</td>\n",
              "      <td>0.0</td>\n",
              "      <td>0.0</td>\n",
              "      <td>0.0</td>\n",
              "      <td>0.0</td>\n",
              "      <td>0.0</td>\n",
              "      <td>...</td>\n",
              "      <td>0.0</td>\n",
              "      <td>0.0</td>\n",
              "      <td>0.0</td>\n",
              "      <td>0.0</td>\n",
              "      <td>0.0</td>\n",
              "      <td>0.0</td>\n",
              "      <td>0.0</td>\n",
              "      <td>0.0</td>\n",
              "      <td>0.0</td>\n",
              "      <td>0.0</td>\n",
              "      <td>0.0</td>\n",
              "      <td>0.0</td>\n",
              "      <td>0.0</td>\n",
              "      <td>0.0</td>\n",
              "      <td>0.0</td>\n",
              "      <td>0.0</td>\n",
              "      <td>0.0</td>\n",
              "      <td>0.0</td>\n",
              "      <td>0.0</td>\n",
              "      <td>0.0</td>\n",
              "      <td>0.0</td>\n",
              "      <td>0.0</td>\n",
              "      <td>0.0</td>\n",
              "      <td>0.0</td>\n",
              "      <td>0.0</td>\n",
              "      <td>0.0</td>\n",
              "      <td>0.0</td>\n",
              "      <td>0.0</td>\n",
              "      <td>0.0</td>\n",
              "      <td>0.0</td>\n",
              "      <td>0.0</td>\n",
              "      <td>0.0</td>\n",
              "      <td>0.0</td>\n",
              "      <td>0.0</td>\n",
              "      <td>0.0</td>\n",
              "      <td>0.0</td>\n",
              "      <td>0.0</td>\n",
              "      <td>0.0</td>\n",
              "      <td>0.0</td>\n",
              "      <td>0.0</td>\n",
              "    </tr>\n",
              "    <tr>\n",
              "      <th>4</th>\n",
              "      <td>0.0</td>\n",
              "      <td>0.00000</td>\n",
              "      <td>0.0</td>\n",
              "      <td>0.0</td>\n",
              "      <td>0.0</td>\n",
              "      <td>0.0</td>\n",
              "      <td>0.0</td>\n",
              "      <td>0.0</td>\n",
              "      <td>0.0</td>\n",
              "      <td>0.0</td>\n",
              "      <td>0.0</td>\n",
              "      <td>0.0</td>\n",
              "      <td>0.0</td>\n",
              "      <td>0.0</td>\n",
              "      <td>0.0</td>\n",
              "      <td>0.0</td>\n",
              "      <td>0.0</td>\n",
              "      <td>0.0</td>\n",
              "      <td>0.0</td>\n",
              "      <td>0.0</td>\n",
              "      <td>0.0</td>\n",
              "      <td>0.0</td>\n",
              "      <td>0.0</td>\n",
              "      <td>0.0</td>\n",
              "      <td>0.0</td>\n",
              "      <td>0.000000</td>\n",
              "      <td>0.0</td>\n",
              "      <td>0.0</td>\n",
              "      <td>0.0</td>\n",
              "      <td>0.0</td>\n",
              "      <td>0.0</td>\n",
              "      <td>0.0</td>\n",
              "      <td>0.0</td>\n",
              "      <td>0.0</td>\n",
              "      <td>0.0</td>\n",
              "      <td>0.0</td>\n",
              "      <td>0.0</td>\n",
              "      <td>0.0</td>\n",
              "      <td>0.0</td>\n",
              "      <td>0.0</td>\n",
              "      <td>...</td>\n",
              "      <td>0.0</td>\n",
              "      <td>0.0</td>\n",
              "      <td>0.0</td>\n",
              "      <td>0.0</td>\n",
              "      <td>0.0</td>\n",
              "      <td>0.0</td>\n",
              "      <td>0.0</td>\n",
              "      <td>0.0</td>\n",
              "      <td>0.0</td>\n",
              "      <td>0.0</td>\n",
              "      <td>0.0</td>\n",
              "      <td>0.0</td>\n",
              "      <td>0.0</td>\n",
              "      <td>0.0</td>\n",
              "      <td>0.0</td>\n",
              "      <td>0.0</td>\n",
              "      <td>0.0</td>\n",
              "      <td>0.0</td>\n",
              "      <td>0.0</td>\n",
              "      <td>0.0</td>\n",
              "      <td>0.0</td>\n",
              "      <td>0.0</td>\n",
              "      <td>0.0</td>\n",
              "      <td>0.0</td>\n",
              "      <td>0.0</td>\n",
              "      <td>0.0</td>\n",
              "      <td>0.0</td>\n",
              "      <td>0.0</td>\n",
              "      <td>0.0</td>\n",
              "      <td>0.0</td>\n",
              "      <td>0.0</td>\n",
              "      <td>0.0</td>\n",
              "      <td>0.0</td>\n",
              "      <td>0.0</td>\n",
              "      <td>0.0</td>\n",
              "      <td>0.0</td>\n",
              "      <td>0.0</td>\n",
              "      <td>0.0</td>\n",
              "      <td>0.0</td>\n",
              "      <td>0.0</td>\n",
              "    </tr>\n",
              "  </tbody>\n",
              "</table>\n",
              "<p>5 rows × 38614 columns</p>\n",
              "</div>"
            ],
            "text/plain": [
              "   100percentfedup  21stcenturywire   aa  aab  ...  überzeugt  übrig  übrige  übte\n",
              "0              0.0          0.00000  0.0  0.0  ...        0.0    0.0     0.0   0.0\n",
              "1              0.0          0.06939  0.0  0.0  ...        0.0    0.0     0.0   0.0\n",
              "2              0.0          0.00000  0.0  0.0  ...        0.0    0.0     0.0   0.0\n",
              "3              0.0          0.00000  0.0  0.0  ...        0.0    0.0     0.0   0.0\n",
              "4              0.0          0.00000  0.0  0.0  ...        0.0    0.0     0.0   0.0\n",
              "\n",
              "[5 rows x 38614 columns]"
            ]
          },
          "metadata": {},
          "execution_count": 104
        }
      ]
    },
    {
      "cell_type": "markdown",
      "metadata": {
        "id": "7603jdXwQfL-"
      },
      "source": [
        "### **AdaBoost and RandomForest Classifiers**"
      ]
    },
    {
      "cell_type": "code",
      "metadata": {
        "id": "6hZmQQyGP8-l"
      },
      "source": [
        "from sklearn.ensemble import AdaBoostClassifier, RandomForestClassifier\n",
        "from sklearn.tree import DecisionTreeClassifier\n",
        "from sklearn import metrics"
      ],
      "execution_count": 105,
      "outputs": []
    },
    {
      "cell_type": "code",
      "metadata": {
        "colab": {
          "base_uri": "https://localhost:8080/"
        },
        "id": "DJa4B65-RAoL",
        "outputId": "6e4247e4-64d4-4464-c9ec-1970c9f45f0d"
      },
      "source": [
        "adBoost = AdaBoostClassifier(DecisionTreeClassifier(max_depth=10), n_estimators=5, random_state=1)\n",
        "adBoost"
      ],
      "execution_count": 106,
      "outputs": [
        {
          "output_type": "execute_result",
          "data": {
            "text/plain": [
              "AdaBoostClassifier(algorithm='SAMME.R',\n",
              "                   base_estimator=DecisionTreeClassifier(ccp_alpha=0.0,\n",
              "                                                         class_weight=None,\n",
              "                                                         criterion='gini',\n",
              "                                                         max_depth=10,\n",
              "                                                         max_features=None,\n",
              "                                                         max_leaf_nodes=None,\n",
              "                                                         min_impurity_decrease=0.0,\n",
              "                                                         min_impurity_split=None,\n",
              "                                                         min_samples_leaf=1,\n",
              "                                                         min_samples_split=2,\n",
              "                                                         min_weight_fraction_leaf=0.0,\n",
              "                                                         presort='deprecated',\n",
              "                                                         random_state=None,\n",
              "                                                         splitter='best'),\n",
              "                   learning_rate=1.0, n_estimators=5, random_state=1)"
            ]
          },
          "metadata": {},
          "execution_count": 106
        }
      ]
    },
    {
      "cell_type": "code",
      "metadata": {
        "colab": {
          "base_uri": "https://localhost:8080/"
        },
        "id": "JjBoKEi9SQle",
        "outputId": "fb38d0a6-8e47-4c97-ccb4-cf8f8530ac7c"
      },
      "source": [
        "adBoost.fit(tf_X_train, y_train)"
      ],
      "execution_count": 107,
      "outputs": [
        {
          "output_type": "execute_result",
          "data": {
            "text/plain": [
              "AdaBoostClassifier(algorithm='SAMME.R',\n",
              "                   base_estimator=DecisionTreeClassifier(ccp_alpha=0.0,\n",
              "                                                         class_weight=None,\n",
              "                                                         criterion='gini',\n",
              "                                                         max_depth=10,\n",
              "                                                         max_features=None,\n",
              "                                                         max_leaf_nodes=None,\n",
              "                                                         min_impurity_decrease=0.0,\n",
              "                                                         min_impurity_split=None,\n",
              "                                                         min_samples_leaf=1,\n",
              "                                                         min_samples_split=2,\n",
              "                                                         min_weight_fraction_leaf=0.0,\n",
              "                                                         presort='deprecated',\n",
              "                                                         random_state=None,\n",
              "                                                         splitter='best'),\n",
              "                   learning_rate=1.0, n_estimators=5, random_state=1)"
            ]
          },
          "metadata": {},
          "execution_count": 107
        }
      ]
    },
    {
      "cell_type": "code",
      "metadata": {
        "id": "-VHpCvXYSsOS"
      },
      "source": [
        "prediction = adBoost.predict(tf_X_test)"
      ],
      "execution_count": 108,
      "outputs": []
    },
    {
      "cell_type": "code",
      "metadata": {
        "colab": {
          "base_uri": "https://localhost:8080/"
        },
        "id": "wcv-KrUeS-WQ",
        "outputId": "a626792d-16d4-459d-e1ca-310dd1b70599"
      },
      "source": [
        "metrics.accuracy_score(y_test, prediction)"
      ],
      "execution_count": 109,
      "outputs": [
        {
          "output_type": "execute_result",
          "data": {
            "text/plain": [
              "0.9657980456026058"
            ]
          },
          "metadata": {},
          "execution_count": 109
        }
      ]
    },
    {
      "cell_type": "code",
      "metadata": {
        "colab": {
          "base_uri": "https://localhost:8080/"
        },
        "id": "uRl3GzNbT0lB",
        "outputId": "520bdc26-fbb2-483d-d921-f8e68b58fc34"
      },
      "source": [
        "print(\"AdaBoost Score: %0.5f\" %metrics.accuracy_score(y_test, prediction))"
      ],
      "execution_count": 110,
      "outputs": [
        {
          "output_type": "stream",
          "name": "stdout",
          "text": [
            "AdaBoost Score: 0.96580\n"
          ]
        }
      ]
    },
    {
      "cell_type": "code",
      "metadata": {
        "colab": {
          "base_uri": "https://localhost:8080/"
        },
        "id": "9VvY-KiEUWGm",
        "outputId": "8a391961-1e32-4e1a-b521-88cd4d630802"
      },
      "source": [
        "rf =  RandomForestClassifier(n_estimators=100, random_state=42)\n",
        "rf"
      ],
      "execution_count": 111,
      "outputs": [
        {
          "output_type": "execute_result",
          "data": {
            "text/plain": [
              "RandomForestClassifier(bootstrap=True, ccp_alpha=0.0, class_weight=None,\n",
              "                       criterion='gini', max_depth=None, max_features='auto',\n",
              "                       max_leaf_nodes=None, max_samples=None,\n",
              "                       min_impurity_decrease=0.0, min_impurity_split=None,\n",
              "                       min_samples_leaf=1, min_samples_split=2,\n",
              "                       min_weight_fraction_leaf=0.0, n_estimators=100,\n",
              "                       n_jobs=None, oob_score=False, random_state=42, verbose=0,\n",
              "                       warm_start=False)"
            ]
          },
          "metadata": {},
          "execution_count": 111
        }
      ]
    },
    {
      "cell_type": "code",
      "metadata": {
        "colab": {
          "base_uri": "https://localhost:8080/"
        },
        "id": "RuO67HK4U94p",
        "outputId": "bee85cde-c05f-476b-92bf-43f30a8c71ab"
      },
      "source": [
        "rf.fit(tf_X_train, y_train)"
      ],
      "execution_count": 112,
      "outputs": [
        {
          "output_type": "execute_result",
          "data": {
            "text/plain": [
              "RandomForestClassifier(bootstrap=True, ccp_alpha=0.0, class_weight=None,\n",
              "                       criterion='gini', max_depth=None, max_features='auto',\n",
              "                       max_leaf_nodes=None, max_samples=None,\n",
              "                       min_impurity_decrease=0.0, min_impurity_split=None,\n",
              "                       min_samples_leaf=1, min_samples_split=2,\n",
              "                       min_weight_fraction_leaf=0.0, n_estimators=100,\n",
              "                       n_jobs=None, oob_score=False, random_state=42, verbose=0,\n",
              "                       warm_start=False)"
            ]
          },
          "metadata": {},
          "execution_count": 112
        }
      ]
    },
    {
      "cell_type": "code",
      "metadata": {
        "id": "ydgG4hAwVtlm"
      },
      "source": [
        "prediction = rf.predict(tf_X_test)"
      ],
      "execution_count": 113,
      "outputs": []
    },
    {
      "cell_type": "code",
      "metadata": {
        "colab": {
          "base_uri": "https://localhost:8080/"
        },
        "id": "ychwviPsV_HO",
        "outputId": "f0347c91-6fc8-420e-881f-d1ff517f9293"
      },
      "source": [
        "metrics.accuracy_score(y_test, prediction)"
      ],
      "execution_count": 114,
      "outputs": [
        {
          "output_type": "execute_result",
          "data": {
            "text/plain": [
              "0.8550488599348535"
            ]
          },
          "metadata": {},
          "execution_count": 114
        }
      ]
    },
    {
      "cell_type": "code",
      "metadata": {
        "colab": {
          "base_uri": "https://localhost:8080/"
        },
        "id": "MYmVUgK5WHc_",
        "outputId": "7e8b9a4f-e48d-4c34-9594-757c2c44064c"
      },
      "source": [
        "print(\"RandomForest Score: %0.4f\" %metrics.accuracy_score(y_test, prediction))"
      ],
      "execution_count": 115,
      "outputs": [
        {
          "output_type": "stream",
          "name": "stdout",
          "text": [
            "RandomForest Score: 0.8550\n"
          ]
        }
      ]
    }
  ]
}