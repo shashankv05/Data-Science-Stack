{
  "metadata": {
    "language_info": {
      "codemirror_mode": {
        "name": "ipython",
        "version": 3
      },
      "file_extension": ".py",
      "mimetype": "text/x-python",
      "name": "python",
      "nbconvert_exporter": "python",
      "pygments_lexer": "ipython3",
      "version": "3.8.4-final"
    },
    "orig_nbformat": 2,
    "kernelspec": {
      "name": "python3",
      "display_name": "Python 3.8.4 64-bit",
      "metadata": {
        "interpreter": {
          "hash": "1baa965d5efe3ac65b79dfc60c0d706280b1da80fedb7760faf2759126c4f253"
        }
      }
    },
    "colab": {
      "provenance": [],
      "include_colab_link": true
    }
  },
  "nbformat": 4,
  "nbformat_minor": 0,
  "cells": [
    {
      "cell_type": "markdown",
      "metadata": {
        "id": "view-in-github",
        "colab_type": "text"
      },
      "source": [
        "<a href=\"https://colab.research.google.com/github/shashankv05/Colab_Notebooks/blob/main/Cleaning_Data.ipynb\" target=\"_parent\"><img src=\"https://colab.research.google.com/assets/colab-badge.svg\" alt=\"Open In Colab\"/></a>"
      ]
    },
    {
      "cell_type": "code",
      "execution_count": null,
      "metadata": {
        "id": "Bfk3WG8kRAPA"
      },
      "outputs": [],
      "source": [
        "import numpy as np\n",
        "import pandas as pd\n",
        "\n",
        "# Figure out why the data is missing\n",
        "# This is the point at which we get into the part of data science that I like to call \"data intution\", by which I mean \"really looking at your data and trying to figure out why it is the way it is and how that will affect your analysis\". It can be a frustrating part of data science, especially if you're newer to the field and don't have a lot of experience. For dealing with missing values, you'll need to use your intution to figure out why the value is missing. One of the most important questions you can ask yourself to help figure this out is this:\n",
        "\n",
        "# Is this value missing because it wasn't recorded or because it doesn't exist?\n",
        "\n",
        "# If a value is missing becuase it doesn't exist (like the height of the oldest child of someone who doesn't have any children) then it doesn't make sense to try and guess what it might be. These values you probably do want to keep as NaN. On the other hand, if a value is missing because it wasn't recorded, then you can try to guess what it might have been based on the other values in that column and row. This is called imputation, and we'll learn how to do it next! :)"
      ]
    },
    {
      "cell_type": "code",
      "execution_count": null,
      "metadata": {
        "id": "VREEruyyRAPG",
        "outputId": "b5f0fecb-a5e5-4aa6-8b90-762afc3292f6"
      },
      "outputs": [
        {
          "output_type": "execute_result",
          "data": {
            "text/plain": [
              "(float, NoneType)"
            ]
          },
          "metadata": {},
          "execution_count": 2
        }
      ],
      "source": [
        "type(np.nan), type(None)"
      ]
    },
    {
      "cell_type": "code",
      "execution_count": null,
      "metadata": {
        "id": "pGddZJ6WRAPI",
        "outputId": "f2296902-1c0d-45c4-ebbb-a064253edffc"
      },
      "outputs": [
        {
          "output_type": "execute_result",
          "data": {
            "text/plain": [
              "(True, False)"
            ]
          },
          "metadata": {},
          "execution_count": 3
        }
      ],
      "source": [
        "pd.isnull(np.nan) , pd.notnull(np.nan)"
      ]
    },
    {
      "cell_type": "code",
      "execution_count": null,
      "metadata": {
        "id": "KXMjxd6zRAPI",
        "outputId": "71206336-d255-4284-b597-b5c29b08fedf"
      },
      "outputs": [
        {
          "output_type": "execute_result",
          "data": {
            "text/plain": [
              "(True, False)"
            ]
          },
          "metadata": {},
          "execution_count": 4
        }
      ],
      "source": [
        "pd.isnull(None), pd.notnull(None)"
      ]
    },
    {
      "cell_type": "code",
      "execution_count": null,
      "metadata": {
        "id": "xCLQ8M54RAPJ",
        "outputId": "0297fdf0-32ce-4580-dc5e-8013ef57f936"
      },
      "outputs": [
        {
          "output_type": "execute_result",
          "data": {
            "text/plain": [
              "True"
            ]
          },
          "metadata": {},
          "execution_count": 5
        }
      ],
      "source": [
        "pd.notnull(5)"
      ]
    },
    {
      "cell_type": "code",
      "execution_count": null,
      "metadata": {
        "id": "fSBT32KkRAPJ",
        "outputId": "d2eee083-3a6b-4826-8872-f41779a1c18c"
      },
      "outputs": [
        {
          "output_type": "execute_result",
          "data": {
            "text/plain": [
              "0    False\n",
              "1     True\n",
              "2    False\n",
              "3    False\n",
              "dtype: bool"
            ]
          },
          "metadata": {},
          "execution_count": 6
        }
      ],
      "source": [
        "pd.isnull(pd.Series([\n",
        "\n",
        "    1, np.nan, 4, 5\n",
        "])\n",
        ")"
      ]
    },
    {
      "cell_type": "code",
      "execution_count": null,
      "metadata": {
        "id": "Zzl-LBAJRAPK",
        "outputId": "40998894-4756-49ee-e51d-d1f4259d5ba3"
      },
      "outputs": [
        {
          "output_type": "execute_result",
          "data": {
            "text/plain": [
              "0     True\n",
              "1     True\n",
              "2     True\n",
              "3    False\n",
              "4     True\n",
              "dtype: bool"
            ]
          },
          "metadata": {},
          "execution_count": 7
        }
      ],
      "source": [
        "pd.notnull(pd.Series([\n",
        "    1, 4, 5, np.nan, 7\n",
        "\n",
        "])\n",
        ")"
      ]
    },
    {
      "cell_type": "code",
      "execution_count": null,
      "metadata": {
        "id": "3DJfQGaTRAPK",
        "outputId": "53f127f3-be37-4e61-9288-b4cb7178b10c"
      },
      "outputs": [
        {
          "output_type": "execute_result",
          "data": {
            "text/plain": [
              "   Column_A  Column_B  Column_C\n",
              "0     False      True      True\n",
              "1      True     False     False\n",
              "2     False     False     False"
            ],
            "text/html": "<div>\n<style scoped>\n    .dataframe tbody tr th:only-of-type {\n        vertical-align: middle;\n    }\n\n    .dataframe tbody tr th {\n        vertical-align: top;\n    }\n\n    .dataframe thead th {\n        text-align: right;\n    }\n</style>\n<table border=\"1\" class=\"dataframe\">\n  <thead>\n    <tr style=\"text-align: right;\">\n      <th></th>\n      <th>Column_A</th>\n      <th>Column_B</th>\n      <th>Column_C</th>\n    </tr>\n  </thead>\n  <tbody>\n    <tr>\n      <th>0</th>\n      <td>False</td>\n      <td>True</td>\n      <td>True</td>\n    </tr>\n    <tr>\n      <th>1</th>\n      <td>True</td>\n      <td>False</td>\n      <td>False</td>\n    </tr>\n    <tr>\n      <th>2</th>\n      <td>False</td>\n      <td>False</td>\n      <td>False</td>\n    </tr>\n  </tbody>\n</table>\n</div>"
          },
          "metadata": {},
          "execution_count": 8
        }
      ],
      "source": [
        "pd.isnull(pd.DataFrame({\n",
        "    'Column_A': [1, np.nan, 7],\n",
        "    'Column_B': [np.nan, 4, 5],\n",
        "    'Column_C':[np.nan, 4, 1]\n",
        "\n",
        "})\n",
        ")"
      ]
    },
    {
      "cell_type": "code",
      "execution_count": null,
      "metadata": {
        "id": "kN4_smuiRAPL"
      },
      "outputs": [],
      "source": [
        "series  =  pd.Series([1,2, np.nan, 45, 7,  1, np.nan, 87])"
      ]
    },
    {
      "cell_type": "code",
      "execution_count": null,
      "metadata": {
        "id": "D1uxjZcBRAPM",
        "outputId": "b88eeb30-6533-4d49-b631-35b1005080e5"
      },
      "outputs": [
        {
          "output_type": "execute_result",
          "data": {
            "text/plain": [
              "0     1.0\n",
              "1     2.0\n",
              "2     NaN\n",
              "3    45.0\n",
              "4     7.0\n",
              "5     1.0\n",
              "6     NaN\n",
              "7    87.0\n",
              "dtype: float64"
            ]
          },
          "metadata": {},
          "execution_count": 10
        }
      ],
      "source": [
        "series"
      ]
    },
    {
      "cell_type": "code",
      "execution_count": null,
      "metadata": {
        "id": "zkoNocw2RAPM",
        "outputId": "568914a1-8f12-4b80-b522-013625e32592"
      },
      "outputs": [
        {
          "output_type": "execute_result",
          "data": {
            "text/plain": [
              "6"
            ]
          },
          "metadata": {},
          "execution_count": 11
        }
      ],
      "source": [
        "pd.notnull(series).sum()  # Every True is 1 and False is 0 and that's how we can sum "
      ]
    },
    {
      "cell_type": "code",
      "execution_count": null,
      "metadata": {
        "id": "gCAjMLpERAPN",
        "outputId": "899913dd-17dc-4df0-d9a4-9d6d70a71865"
      },
      "outputs": [
        {
          "output_type": "execute_result",
          "data": {
            "text/plain": [
              "2"
            ]
          },
          "metadata": {},
          "execution_count": 12
        }
      ],
      "source": [
        "pd.isnull(series).sum()"
      ]
    },
    {
      "cell_type": "code",
      "execution_count": null,
      "metadata": {
        "id": "rKQMwfvfRAPO",
        "outputId": "3dd184ed-c7cd-4765-8098-7bcc7c0a0d01"
      },
      "outputs": [
        {
          "output_type": "execute_result",
          "data": {
            "text/plain": [
              "(0     True\n",
              " 1     True\n",
              " 2    False\n",
              " 3     True\n",
              " 4     True\n",
              " 5     True\n",
              " 6    False\n",
              " 7     True\n",
              " dtype: bool,\n",
              " 0     1.0\n",
              " 1     2.0\n",
              " 3    45.0\n",
              " 4     7.0\n",
              " 5     1.0\n",
              " 7    87.0\n",
              " dtype: float64)"
            ]
          },
          "metadata": {},
          "execution_count": 13
        }
      ],
      "source": [
        "pd.notnull(series), series[pd.notnull(series)]"
      ]
    },
    {
      "cell_type": "code",
      "execution_count": null,
      "metadata": {
        "id": "kA21CutIRAPO",
        "outputId": "989cbd31-b593-4913-aca9-49f92cabcb8f"
      },
      "outputs": [
        {
          "output_type": "execute_result",
          "data": {
            "text/plain": [
              "0    False\n",
              "1    False\n",
              "2     True\n",
              "3    False\n",
              "4    False\n",
              "5    False\n",
              "6     True\n",
              "7    False\n",
              "dtype: bool"
            ]
          },
          "metadata": {},
          "execution_count": 14
        }
      ],
      "source": [
        "series.isnull()"
      ]
    },
    {
      "cell_type": "code",
      "execution_count": null,
      "metadata": {
        "id": "4aqKDR2ORAPP",
        "outputId": "aa483e53-5f53-47d8-8311-e326a4a24f7e"
      },
      "outputs": [
        {
          "output_type": "execute_result",
          "data": {
            "text/plain": [
              "0     True\n",
              "1     True\n",
              "2    False\n",
              "3     True\n",
              "4     True\n",
              "5     True\n",
              "6    False\n",
              "7     True\n",
              "dtype: bool"
            ]
          },
          "metadata": {},
          "execution_count": 15
        }
      ],
      "source": [
        "series.notnull()"
      ]
    },
    {
      "cell_type": "code",
      "execution_count": null,
      "metadata": {
        "id": "0Kf1UBkcRAPP",
        "outputId": "9ecb837e-75dd-4e6d-81b8-9ff31d551a00"
      },
      "outputs": [
        {
          "output_type": "execute_result",
          "data": {
            "text/plain": [
              "0     1.0\n",
              "1     2.0\n",
              "3    45.0\n",
              "4     7.0\n",
              "5     1.0\n",
              "7    87.0\n",
              "dtype: float64"
            ]
          },
          "metadata": {},
          "execution_count": 16
        }
      ],
      "source": [
        "series[series.notnull()]"
      ]
    },
    {
      "cell_type": "code",
      "execution_count": null,
      "metadata": {
        "id": "x2in-WFaRAPP",
        "outputId": "5c61f55e-dbb8-44d5-cbb1-7fa4ee192b66"
      },
      "outputs": [
        {
          "output_type": "execute_result",
          "data": {
            "text/plain": [
              "0     1.0\n",
              "1     2.0\n",
              "3    45.0\n",
              "4     7.0\n",
              "5     1.0\n",
              "7    87.0\n",
              "dtype: float64"
            ]
          },
          "metadata": {},
          "execution_count": 17
        }
      ],
      "source": [
        "series.dropna()    # Dropping all the na values"
      ]
    },
    {
      "cell_type": "code",
      "execution_count": null,
      "metadata": {
        "id": "LSjeZbpTRAPQ"
      },
      "outputs": [],
      "source": [
        "df = pd.DataFrame({\n",
        "    'Column_A' : [1, np.nan, 7, 5],\n",
        "    'Column_B' : [np.nan , np.nan, 1, 2],\n",
        "    'Column_C ' : [9,5,1,7],\n",
        "    'Column_D' : [1,6,np.nan,5]\n",
        "})"
      ]
    },
    {
      "cell_type": "code",
      "execution_count": null,
      "metadata": {
        "id": "1hI9y6QVRAPQ",
        "outputId": "b4fab89b-428f-439a-91e1-ddd7eb947baf"
      },
      "outputs": [
        {
          "output_type": "execute_result",
          "data": {
            "text/plain": [
              "2    7.0\n",
              "3    5.0\n",
              "Name: Column_A, dtype: float64"
            ]
          },
          "metadata": {},
          "execution_count": 74
        }
      ],
      "source": [
        "index = df.Column_A > 2\n",
        "# index\n",
        "# df[index]\n",
        "df.Column_A.loc[index]"
      ]
    },
    {
      "cell_type": "code",
      "execution_count": null,
      "metadata": {
        "tags": [],
        "id": "3_fEBlbWRAPR",
        "outputId": "7bded6a8-ac72-4197-fbdb-358477808726"
      },
      "outputs": [
        {
          "output_type": "execute_result",
          "data": {
            "text/plain": [
              "   Column_A  Column_B  Column_C   Column_D\n",
              "2       7.0       1.0          1       NaN\n",
              "3       5.0       2.0          7       5.0"
            ],
            "text/html": "<div>\n<style scoped>\n    .dataframe tbody tr th:only-of-type {\n        vertical-align: middle;\n    }\n\n    .dataframe tbody tr th {\n        vertical-align: top;\n    }\n\n    .dataframe thead th {\n        text-align: right;\n    }\n</style>\n<table border=\"1\" class=\"dataframe\">\n  <thead>\n    <tr style=\"text-align: right;\">\n      <th></th>\n      <th>Column_A</th>\n      <th>Column_B</th>\n      <th>Column_C</th>\n      <th>Column_D</th>\n    </tr>\n  </thead>\n  <tbody>\n    <tr>\n      <th>2</th>\n      <td>7.0</td>\n      <td>1.0</td>\n      <td>1</td>\n      <td>NaN</td>\n    </tr>\n    <tr>\n      <th>3</th>\n      <td>5.0</td>\n      <td>2.0</td>\n      <td>7</td>\n      <td>5.0</td>\n    </tr>\n  </tbody>\n</table>\n</div>"
          },
          "metadata": {},
          "execution_count": 75
        }
      ],
      "source": [
        "# df.isnull()\n",
        "# df[df['Column_A'].notnull()]\n",
        "# df.loc[0:4,'Column_A'].notnull()\n",
        "# df['Column_A'].isnull().sum()    #Number of null values in column_A\n",
        "df[df['Column_A'].notnull() & df['Column_B'].notnull()]  # Extract all the rows for which column_A & B                                                                 have  notnull values \n"
      ]
    },
    {
      "cell_type": "code",
      "execution_count": null,
      "metadata": {
        "id": "ZVg3CBEzRAPR",
        "outputId": "632e8135-4ab0-4910-d570-89553dc2255a"
      },
      "outputs": [
        {
          "output_type": "execute_result",
          "data": {
            "text/plain": [
              "Column_A     1\n",
              "Column_B     2\n",
              "Column_C     0\n",
              "Column_D     1\n",
              "dtype: int64"
            ]
          },
          "metadata": {},
          "execution_count": 76
        }
      ],
      "source": [
        "missing_values = df.isnull().sum()\n",
        "missing_values\n",
        "# missing_values.sum()  #Total Missing Values"
      ]
    },
    {
      "cell_type": "code",
      "execution_count": null,
      "metadata": {
        "tags": [],
        "id": "r_FtZzJnRAPR",
        "outputId": "db8538e9-a063-4f6b-aad7-35dadad3e7a4"
      },
      "outputs": [
        {
          "output_type": "stream",
          "name": "stdout",
          "text": [
            "25.0 %\n"
          ]
        }
      ],
      "source": [
        "total_missing_values = missing_values.sum()\n",
        "# print(total_missing_values)\n",
        "\n",
        "total_cells = np.product(df.shape)\n",
        "# print(total_cells)\n",
        "\n",
        "percent_missing_values = (total_missing_values / total_cells) * 100\n",
        "print(percent_missing_values, \"%\")\n",
        "\n",
        "# df.shape, df.isnull().sum()[0]\n",
        "# for i in range(0,df.shape[1]):\n",
        "#      print(df.isnull().sum()[i])"
      ]
    },
    {
      "cell_type": "code",
      "execution_count": null,
      "metadata": {
        "tags": [],
        "id": "14IG76xbRAPS",
        "outputId": "3ec5d471-80ec-4842-c621-0e4c316fbc98"
      },
      "outputs": [
        {
          "output_type": "execute_result",
          "data": {
            "text/plain": [
              "   Column_A  Column_B  Column_C   Column_D\n",
              "0      True     False       True      True\n",
              "1     False     False       True      True\n",
              "2      True      True       True     False\n",
              "3      True      True       True      True"
            ],
            "text/html": "<div>\n<style scoped>\n    .dataframe tbody tr th:only-of-type {\n        vertical-align: middle;\n    }\n\n    .dataframe tbody tr th {\n        vertical-align: top;\n    }\n\n    .dataframe thead th {\n        text-align: right;\n    }\n</style>\n<table border=\"1\" class=\"dataframe\">\n  <thead>\n    <tr style=\"text-align: right;\">\n      <th></th>\n      <th>Column_A</th>\n      <th>Column_B</th>\n      <th>Column_C</th>\n      <th>Column_D</th>\n    </tr>\n  </thead>\n  <tbody>\n    <tr>\n      <th>0</th>\n      <td>True</td>\n      <td>False</td>\n      <td>True</td>\n      <td>True</td>\n    </tr>\n    <tr>\n      <th>1</th>\n      <td>False</td>\n      <td>False</td>\n      <td>True</td>\n      <td>True</td>\n    </tr>\n    <tr>\n      <th>2</th>\n      <td>True</td>\n      <td>True</td>\n      <td>True</td>\n      <td>False</td>\n    </tr>\n    <tr>\n      <th>3</th>\n      <td>True</td>\n      <td>True</td>\n      <td>True</td>\n      <td>True</td>\n    </tr>\n  </tbody>\n</table>\n</div>"
          },
          "metadata": {},
          "execution_count": 78
        }
      ],
      "source": [
        "df.notnull()"
      ]
    },
    {
      "cell_type": "code",
      "execution_count": null,
      "metadata": {
        "tags": [],
        "id": "Va34rc6RRAPS",
        "outputId": "f8d12e6b-e934-448b-d1f4-123d91858e4f"
      },
      "outputs": [
        {
          "output_type": "stream",
          "name": "stdout",
          "text": [
            "<class 'pandas.core.frame.DataFrame'>\nRangeIndex: 4 entries, 0 to 3\nData columns (total 4 columns):\n #   Column     Non-Null Count  Dtype  \n---  ------     --------------  -----  \n 0   Column_A   3 non-null      float64\n 1   Column_B   2 non-null      float64\n 2   Column_C   4 non-null      int64  \n 3   Column_D   3 non-null      float64\ndtypes: float64(3), int64(1)\nmemory usage: 256.0 bytes\n"
          ]
        }
      ],
      "source": [
        "df.info()"
      ]
    },
    {
      "cell_type": "code",
      "execution_count": null,
      "metadata": {
        "id": "BSK2gZnwRAPT",
        "outputId": "9f511bd0-375e-4dfd-8244-9a8399a6903d"
      },
      "outputs": [
        {
          "output_type": "execute_result",
          "data": {
            "text/plain": [
              "   Column_A  Column_B  Column_C   Column_D\n",
              "3       5.0       2.0          7       5.0"
            ],
            "text/html": "<div>\n<style scoped>\n    .dataframe tbody tr th:only-of-type {\n        vertical-align: middle;\n    }\n\n    .dataframe tbody tr th {\n        vertical-align: top;\n    }\n\n    .dataframe thead th {\n        text-align: right;\n    }\n</style>\n<table border=\"1\" class=\"dataframe\">\n  <thead>\n    <tr style=\"text-align: right;\">\n      <th></th>\n      <th>Column_A</th>\n      <th>Column_B</th>\n      <th>Column_C</th>\n      <th>Column_D</th>\n    </tr>\n  </thead>\n  <tbody>\n    <tr>\n      <th>3</th>\n      <td>5.0</td>\n      <td>2.0</td>\n      <td>7</td>\n      <td>5.0</td>\n    </tr>\n  </tbody>\n</table>\n</div>"
          },
          "metadata": {},
          "execution_count": 80
        }
      ],
      "source": [
        "df.dropna()"
      ]
    },
    {
      "cell_type": "code",
      "execution_count": null,
      "metadata": {
        "id": "FGUmrOM3RAPT",
        "outputId": "b5fb976d-a302-445b-aba1-2853904dceba"
      },
      "outputs": [
        {
          "output_type": "execute_result",
          "data": {
            "text/plain": [
              "   Column_C \n",
              "0          9\n",
              "1          5\n",
              "2          1\n",
              "3          7"
            ],
            "text/html": "<div>\n<style scoped>\n    .dataframe tbody tr th:only-of-type {\n        vertical-align: middle;\n    }\n\n    .dataframe tbody tr th {\n        vertical-align: top;\n    }\n\n    .dataframe thead th {\n        text-align: right;\n    }\n</style>\n<table border=\"1\" class=\"dataframe\">\n  <thead>\n    <tr style=\"text-align: right;\">\n      <th></th>\n      <th>Column_C</th>\n    </tr>\n  </thead>\n  <tbody>\n    <tr>\n      <th>0</th>\n      <td>9</td>\n    </tr>\n    <tr>\n      <th>1</th>\n      <td>5</td>\n    </tr>\n    <tr>\n      <th>2</th>\n      <td>1</td>\n    </tr>\n    <tr>\n      <th>3</th>\n      <td>7</td>\n    </tr>\n  </tbody>\n</table>\n</div>"
          },
          "metadata": {},
          "execution_count": 81
        }
      ],
      "source": [
        "df.dropna(axis=1)"
      ]
    },
    {
      "cell_type": "code",
      "execution_count": null,
      "metadata": {
        "id": "CeeA16P2RAPT",
        "outputId": "62e064a9-261e-49ea-8966-26fa6a9bb34a"
      },
      "outputs": [
        {
          "output_type": "execute_result",
          "data": {
            "text/plain": [
              "   Column_A  Column_B  Column_C   Column_D\n",
              "0       1.0       NaN          9       1.0\n",
              "1       NaN       NaN          5       6.0\n",
              "2       7.0       1.0          1       NaN\n",
              "3       5.0       2.0          7       5.0"
            ],
            "text/html": "<div>\n<style scoped>\n    .dataframe tbody tr th:only-of-type {\n        vertical-align: middle;\n    }\n\n    .dataframe tbody tr th {\n        vertical-align: top;\n    }\n\n    .dataframe thead th {\n        text-align: right;\n    }\n</style>\n<table border=\"1\" class=\"dataframe\">\n  <thead>\n    <tr style=\"text-align: right;\">\n      <th></th>\n      <th>Column_A</th>\n      <th>Column_B</th>\n      <th>Column_C</th>\n      <th>Column_D</th>\n    </tr>\n  </thead>\n  <tbody>\n    <tr>\n      <th>0</th>\n      <td>1.0</td>\n      <td>NaN</td>\n      <td>9</td>\n      <td>1.0</td>\n    </tr>\n    <tr>\n      <th>1</th>\n      <td>NaN</td>\n      <td>NaN</td>\n      <td>5</td>\n      <td>6.0</td>\n    </tr>\n    <tr>\n      <th>2</th>\n      <td>7.0</td>\n      <td>1.0</td>\n      <td>1</td>\n      <td>NaN</td>\n    </tr>\n    <tr>\n      <th>3</th>\n      <td>5.0</td>\n      <td>2.0</td>\n      <td>7</td>\n      <td>5.0</td>\n    </tr>\n  </tbody>\n</table>\n</div>"
          },
          "metadata": {},
          "execution_count": 82
        }
      ],
      "source": [
        "df.dropna(how='all')  # if all the column values are null for a row then drop that row"
      ]
    },
    {
      "cell_type": "code",
      "execution_count": null,
      "metadata": {
        "id": "wlFmxm5RRAPU",
        "outputId": "7dbbf3ce-f641-4f88-841e-71b6ad66d534"
      },
      "outputs": [
        {
          "output_type": "execute_result",
          "data": {
            "text/plain": [
              "   Column_C \n",
              "0          9\n",
              "1          5\n",
              "2          1\n",
              "3          7"
            ],
            "text/html": "<div>\n<style scoped>\n    .dataframe tbody tr th:only-of-type {\n        vertical-align: middle;\n    }\n\n    .dataframe tbody tr th {\n        vertical-align: top;\n    }\n\n    .dataframe thead th {\n        text-align: right;\n    }\n</style>\n<table border=\"1\" class=\"dataframe\">\n  <thead>\n    <tr style=\"text-align: right;\">\n      <th></th>\n      <th>Column_C</th>\n    </tr>\n  </thead>\n  <tbody>\n    <tr>\n      <th>0</th>\n      <td>9</td>\n    </tr>\n    <tr>\n      <th>1</th>\n      <td>5</td>\n    </tr>\n    <tr>\n      <th>2</th>\n      <td>1</td>\n    </tr>\n    <tr>\n      <th>3</th>\n      <td>7</td>\n    </tr>\n  </tbody>\n</table>\n</div>"
          },
          "metadata": {},
          "execution_count": 83
        }
      ],
      "source": [
        "df.dropna(how='any', axis=1) # if any of the column value is null drop that column"
      ]
    },
    {
      "cell_type": "code",
      "execution_count": null,
      "metadata": {
        "id": "WmPdeCULRAPU",
        "outputId": "0d78f1d7-f24d-45fd-e0b3-d38cbb5e300b"
      },
      "outputs": [
        {
          "output_type": "execute_result",
          "data": {
            "text/plain": [
              "   Column_A  Column_B  Column_C   Column_D\n",
              "0       1.0       NaN          9       1.0\n",
              "1       NaN       NaN          5       6.0\n",
              "2       7.0       1.0          1       NaN\n",
              "3       5.0       2.0          7       5.0"
            ],
            "text/html": "<div>\n<style scoped>\n    .dataframe tbody tr th:only-of-type {\n        vertical-align: middle;\n    }\n\n    .dataframe tbody tr th {\n        vertical-align: top;\n    }\n\n    .dataframe thead th {\n        text-align: right;\n    }\n</style>\n<table border=\"1\" class=\"dataframe\">\n  <thead>\n    <tr style=\"text-align: right;\">\n      <th></th>\n      <th>Column_A</th>\n      <th>Column_B</th>\n      <th>Column_C</th>\n      <th>Column_D</th>\n    </tr>\n  </thead>\n  <tbody>\n    <tr>\n      <th>0</th>\n      <td>1.0</td>\n      <td>NaN</td>\n      <td>9</td>\n      <td>1.0</td>\n    </tr>\n    <tr>\n      <th>1</th>\n      <td>NaN</td>\n      <td>NaN</td>\n      <td>5</td>\n      <td>6.0</td>\n    </tr>\n    <tr>\n      <th>2</th>\n      <td>7.0</td>\n      <td>1.0</td>\n      <td>1</td>\n      <td>NaN</td>\n    </tr>\n    <tr>\n      <th>3</th>\n      <td>5.0</td>\n      <td>2.0</td>\n      <td>7</td>\n      <td>5.0</td>\n    </tr>\n  </tbody>\n</table>\n</div>"
          },
          "metadata": {},
          "execution_count": 84
        }
      ],
      "source": [
        "df.dropna(thresh = 1)  # thresh = 1 says , I need only 1 not-null value to have the row"
      ]
    },
    {
      "cell_type": "code",
      "execution_count": null,
      "metadata": {
        "id": "LH1Rp5muRAPU",
        "outputId": "d62bf319-8d4b-47f4-9cc5-870653a7e6ea"
      },
      "outputs": [
        {
          "output_type": "execute_result",
          "data": {
            "text/plain": [
              "   Column_A  Column_B  Column_C   Column_D\n",
              "3       5.0       2.0          7       5.0"
            ],
            "text/html": "<div>\n<style scoped>\n    .dataframe tbody tr th:only-of-type {\n        vertical-align: middle;\n    }\n\n    .dataframe tbody tr th {\n        vertical-align: top;\n    }\n\n    .dataframe thead th {\n        text-align: right;\n    }\n</style>\n<table border=\"1\" class=\"dataframe\">\n  <thead>\n    <tr style=\"text-align: right;\">\n      <th></th>\n      <th>Column_A</th>\n      <th>Column_B</th>\n      <th>Column_C</th>\n      <th>Column_D</th>\n    </tr>\n  </thead>\n  <tbody>\n    <tr>\n      <th>3</th>\n      <td>5.0</td>\n      <td>2.0</td>\n      <td>7</td>\n      <td>5.0</td>\n    </tr>\n  </tbody>\n</table>\n</div>"
          },
          "metadata": {},
          "execution_count": 85
        }
      ],
      "source": [
        "df.dropna(thresh= 4)  # Here all the 4 values need not to be null"
      ]
    },
    {
      "cell_type": "code",
      "execution_count": null,
      "metadata": {
        "id": "W2e2LSjnRAPV",
        "outputId": "c5bcfee2-7c1a-4ac7-f727-5602c7c3d1ce"
      },
      "outputs": [
        {
          "output_type": "execute_result",
          "data": {
            "text/plain": [
              "   Column_A  Column_B  Column_C   Column_D\n",
              "0       1.0       NaN          9       1.0\n",
              "2       7.0       1.0          1       NaN\n",
              "3       5.0       2.0          7       5.0"
            ],
            "text/html": "<div>\n<style scoped>\n    .dataframe tbody tr th:only-of-type {\n        vertical-align: middle;\n    }\n\n    .dataframe tbody tr th {\n        vertical-align: top;\n    }\n\n    .dataframe thead th {\n        text-align: right;\n    }\n</style>\n<table border=\"1\" class=\"dataframe\">\n  <thead>\n    <tr style=\"text-align: right;\">\n      <th></th>\n      <th>Column_A</th>\n      <th>Column_B</th>\n      <th>Column_C</th>\n      <th>Column_D</th>\n    </tr>\n  </thead>\n  <tbody>\n    <tr>\n      <th>0</th>\n      <td>1.0</td>\n      <td>NaN</td>\n      <td>9</td>\n      <td>1.0</td>\n    </tr>\n    <tr>\n      <th>2</th>\n      <td>7.0</td>\n      <td>1.0</td>\n      <td>1</td>\n      <td>NaN</td>\n    </tr>\n    <tr>\n      <th>3</th>\n      <td>5.0</td>\n      <td>2.0</td>\n      <td>7</td>\n      <td>5.0</td>\n    </tr>\n  </tbody>\n</table>\n</div>"
          },
          "metadata": {},
          "execution_count": 86
        }
      ],
      "source": [
        "df.dropna(thresh = 3 , axis = 'rows')\n",
        "# df.dropna(thresh = 3 , axis = 'columns')"
      ]
    },
    {
      "cell_type": "code",
      "execution_count": null,
      "metadata": {
        "id": "v6GQjcowRAPV"
      },
      "outputs": [],
      "source": [
        "series  =  pd.Series([1,2, np.nan, 45, 7,  1, np.nan, 87])"
      ]
    },
    {
      "cell_type": "code",
      "execution_count": null,
      "metadata": {
        "id": "DBTGdH2aRAPV",
        "outputId": "a3f20aa0-379f-4711-d3b3-33086a07c03f"
      },
      "outputs": [
        {
          "output_type": "execute_result",
          "data": {
            "text/plain": [
              "0     1.0\n",
              "1     2.0\n",
              "2     0.0\n",
              "3    45.0\n",
              "4     7.0\n",
              "5     1.0\n",
              "6     0.0\n",
              "7    87.0\n",
              "dtype: float64"
            ]
          },
          "metadata": {},
          "execution_count": 88
        }
      ],
      "source": [
        "# series.fillna(0, inplace= True)\n",
        "series.fillna(0)"
      ]
    },
    {
      "cell_type": "code",
      "execution_count": null,
      "metadata": {
        "id": "Z7J_GUb7RAPW",
        "outputId": "55b1b87d-e058-4759-c769-a9f0ae9edfb4"
      },
      "outputs": [
        {
          "output_type": "execute_result",
          "data": {
            "text/plain": [
              "0     1.0\n",
              "1     2.0\n",
              "2     NaN\n",
              "3    45.0\n",
              "4     7.0\n",
              "5     1.0\n",
              "6     NaN\n",
              "7    87.0\n",
              "dtype: float64"
            ]
          },
          "metadata": {},
          "execution_count": 89
        }
      ],
      "source": [
        "series"
      ]
    },
    {
      "cell_type": "code",
      "execution_count": null,
      "metadata": {
        "id": "CSvVZJRZRAPW",
        "outputId": "0e742e32-0064-4cce-a720-27c3beed08bd"
      },
      "outputs": [
        {
          "output_type": "execute_result",
          "data": {
            "text/plain": [
              "0     1.000000\n",
              "1     2.000000\n",
              "2    23.833333\n",
              "3    45.000000\n",
              "4     7.000000\n",
              "5     1.000000\n",
              "6    23.833333\n",
              "7    87.000000\n",
              "dtype: float64"
            ]
          },
          "metadata": {},
          "execution_count": 90
        }
      ],
      "source": [
        "series.fillna(series.mean())"
      ]
    },
    {
      "cell_type": "code",
      "execution_count": null,
      "metadata": {
        "id": "KvgqXh6dRAPX",
        "outputId": "0ae46f87-10ee-4010-e398-3f4201826edd"
      },
      "outputs": [
        {
          "output_type": "execute_result",
          "data": {
            "text/plain": [
              "0     1.0\n",
              "1     2.0\n",
              "2     NaN\n",
              "3    45.0\n",
              "4     7.0\n",
              "5     1.0\n",
              "6     NaN\n",
              "7    87.0\n",
              "dtype: float64"
            ]
          },
          "metadata": {},
          "execution_count": 91
        }
      ],
      "source": [
        "series"
      ]
    },
    {
      "cell_type": "code",
      "execution_count": null,
      "metadata": {
        "id": "2SgJdQjjRAPX",
        "outputId": "cb7bb52e-a982-41ce-96bc-6ad1cfce4faa"
      },
      "outputs": [
        {
          "output_type": "execute_result",
          "data": {
            "text/plain": [
              "0     1.0\n",
              "1     2.0\n",
              "2     2.0\n",
              "3    45.0\n",
              "4     7.0\n",
              "5     1.0\n",
              "6     1.0\n",
              "7    87.0\n",
              "dtype: float64"
            ]
          },
          "metadata": {},
          "execution_count": 92
        }
      ],
      "source": [
        "series.fillna(method = 'ffill') #forward fill"
      ]
    },
    {
      "cell_type": "code",
      "execution_count": null,
      "metadata": {
        "id": "yBKNdingRAPX",
        "outputId": "cc5496ec-8252-47ba-c577-bb80783c19df"
      },
      "outputs": [
        {
          "output_type": "execute_result",
          "data": {
            "text/plain": [
              "0     1.0\n",
              "1     2.0\n",
              "2    45.0\n",
              "3    45.0\n",
              "4     7.0\n",
              "5     1.0\n",
              "6    87.0\n",
              "7    87.0\n",
              "dtype: float64"
            ]
          },
          "metadata": {},
          "execution_count": 93
        }
      ],
      "source": [
        "series.fillna(method = 'bfill')  # backward fill"
      ]
    },
    {
      "cell_type": "code",
      "execution_count": null,
      "metadata": {
        "id": "atDhrPKzRAPY",
        "outputId": "e8dd3ac9-b7f2-402f-fa11-891652f1d58f"
      },
      "outputs": [
        {
          "output_type": "execute_result",
          "data": {
            "text/plain": [
              "0    NaN\n",
              "1    1.0\n",
              "2    4.0\n",
              "3    5.0\n",
              "4    7.0\n",
              "dtype: float64"
            ]
          },
          "metadata": {},
          "execution_count": 94
        }
      ],
      "source": [
        "pd.Series([np.nan, 1, 4, 5, 7,]).fillna(method= 'ffill') # the first index item will remain NaN"
      ]
    },
    {
      "cell_type": "code",
      "execution_count": null,
      "metadata": {
        "id": "P18jcXvrRAPk",
        "outputId": "6d90a318-d2aa-4c7f-9f02-ae93fdabd78a"
      },
      "outputs": [
        {
          "output_type": "execute_result",
          "data": {
            "text/plain": [
              "0    1.0\n",
              "1    4.0\n",
              "2    5.0\n",
              "3    7.0\n",
              "4    NaN\n",
              "dtype: float64"
            ]
          },
          "metadata": {},
          "execution_count": 95
        }
      ],
      "source": [
        "pd.Series([1,4,5,7, np.nan]).fillna(method= 'bfill')  # the last index iem will remain as NaN"
      ]
    },
    {
      "cell_type": "code",
      "execution_count": null,
      "metadata": {
        "id": "iCblt-e6RAPk",
        "outputId": "379a380f-7aec-4059-e912-2067100a2f8f"
      },
      "outputs": [
        {
          "output_type": "execute_result",
          "data": {
            "text/plain": [
              "   Column_A  Column_B  Column_C   Column_D\n",
              "0       1.0       NaN          9       1.0\n",
              "1       NaN       NaN          5       6.0\n",
              "2       7.0       1.0          1       NaN\n",
              "3       5.0       2.0          7       5.0"
            ],
            "text/html": "<div>\n<style scoped>\n    .dataframe tbody tr th:only-of-type {\n        vertical-align: middle;\n    }\n\n    .dataframe tbody tr th {\n        vertical-align: top;\n    }\n\n    .dataframe thead th {\n        text-align: right;\n    }\n</style>\n<table border=\"1\" class=\"dataframe\">\n  <thead>\n    <tr style=\"text-align: right;\">\n      <th></th>\n      <th>Column_A</th>\n      <th>Column_B</th>\n      <th>Column_C</th>\n      <th>Column_D</th>\n    </tr>\n  </thead>\n  <tbody>\n    <tr>\n      <th>0</th>\n      <td>1.0</td>\n      <td>NaN</td>\n      <td>9</td>\n      <td>1.0</td>\n    </tr>\n    <tr>\n      <th>1</th>\n      <td>NaN</td>\n      <td>NaN</td>\n      <td>5</td>\n      <td>6.0</td>\n    </tr>\n    <tr>\n      <th>2</th>\n      <td>7.0</td>\n      <td>1.0</td>\n      <td>1</td>\n      <td>NaN</td>\n    </tr>\n    <tr>\n      <th>3</th>\n      <td>5.0</td>\n      <td>2.0</td>\n      <td>7</td>\n      <td>5.0</td>\n    </tr>\n  </tbody>\n</table>\n</div>"
          },
          "metadata": {},
          "execution_count": 96
        }
      ],
      "source": [
        "# df.loc[:,'Column_B':'Column_D']\n",
        "df"
      ]
    },
    {
      "cell_type": "code",
      "execution_count": null,
      "metadata": {
        "id": "B6u7nwxBRAPl",
        "outputId": "2f3c8554-2ae2-4b3d-ee7c-b81dbea61cd5"
      },
      "outputs": [
        {
          "output_type": "execute_result",
          "data": {
            "text/plain": [
              "   Column_A  Column_B  Column_C   Column_D\n",
              "0       1.0       1.0          9       1.0\n",
              "1       7.0       1.0          5       6.0\n",
              "2       7.0       1.0          1       5.0\n",
              "3       5.0       2.0          7       5.0"
            ],
            "text/html": "<div>\n<style scoped>\n    .dataframe tbody tr th:only-of-type {\n        vertical-align: middle;\n    }\n\n    .dataframe tbody tr th {\n        vertical-align: top;\n    }\n\n    .dataframe thead th {\n        text-align: right;\n    }\n</style>\n<table border=\"1\" class=\"dataframe\">\n  <thead>\n    <tr style=\"text-align: right;\">\n      <th></th>\n      <th>Column_A</th>\n      <th>Column_B</th>\n      <th>Column_C</th>\n      <th>Column_D</th>\n    </tr>\n  </thead>\n  <tbody>\n    <tr>\n      <th>0</th>\n      <td>1.0</td>\n      <td>1.0</td>\n      <td>9</td>\n      <td>1.0</td>\n    </tr>\n    <tr>\n      <th>1</th>\n      <td>7.0</td>\n      <td>1.0</td>\n      <td>5</td>\n      <td>6.0</td>\n    </tr>\n    <tr>\n      <th>2</th>\n      <td>7.0</td>\n      <td>1.0</td>\n      <td>1</td>\n      <td>5.0</td>\n    </tr>\n    <tr>\n      <th>3</th>\n      <td>5.0</td>\n      <td>2.0</td>\n      <td>7</td>\n      <td>5.0</td>\n    </tr>\n  </tbody>\n</table>\n</div>"
          },
          "metadata": {},
          "execution_count": 97
        }
      ],
      "source": [
        "df.fillna(method= 'bfill', axis=0)  # By default axis = 0  row wise filling in upward direction"
      ]
    },
    {
      "cell_type": "code",
      "execution_count": null,
      "metadata": {
        "id": "h_C2304zRAPl",
        "outputId": "26cdf164-a330-4234-a721-762b8d5cc0ab"
      },
      "outputs": [
        {
          "output_type": "execute_result",
          "data": {
            "text/plain": [
              "   Column_A  Column_B  Column_C   Column_D\n",
              "0       1.0       NaN          9       1.0\n",
              "1       NaN       NaN          5       6.0\n",
              "2       7.0       1.0          1       NaN\n",
              "3       5.0       2.0          7       5.0"
            ],
            "text/html": "<div>\n<style scoped>\n    .dataframe tbody tr th:only-of-type {\n        vertical-align: middle;\n    }\n\n    .dataframe tbody tr th {\n        vertical-align: top;\n    }\n\n    .dataframe thead th {\n        text-align: right;\n    }\n</style>\n<table border=\"1\" class=\"dataframe\">\n  <thead>\n    <tr style=\"text-align: right;\">\n      <th></th>\n      <th>Column_A</th>\n      <th>Column_B</th>\n      <th>Column_C</th>\n      <th>Column_D</th>\n    </tr>\n  </thead>\n  <tbody>\n    <tr>\n      <th>0</th>\n      <td>1.0</td>\n      <td>NaN</td>\n      <td>9</td>\n      <td>1.0</td>\n    </tr>\n    <tr>\n      <th>1</th>\n      <td>NaN</td>\n      <td>NaN</td>\n      <td>5</td>\n      <td>6.0</td>\n    </tr>\n    <tr>\n      <th>2</th>\n      <td>7.0</td>\n      <td>1.0</td>\n      <td>1</td>\n      <td>NaN</td>\n    </tr>\n    <tr>\n      <th>3</th>\n      <td>5.0</td>\n      <td>2.0</td>\n      <td>7</td>\n      <td>5.0</td>\n    </tr>\n  </tbody>\n</table>\n</div>"
          },
          "metadata": {},
          "execution_count": 98
        }
      ],
      "source": [
        "df"
      ]
    },
    {
      "cell_type": "code",
      "execution_count": null,
      "metadata": {
        "id": "vbWs0RkGRAPm",
        "outputId": "58e60237-7a43-4ed9-a8cf-fdd67c516e36"
      },
      "outputs": [
        {
          "output_type": "execute_result",
          "data": {
            "text/plain": [
              "   Column_A  Column_B  Column_C   Column_D\n",
              "0       1.0       1.0        9.0       1.0\n",
              "1       NaN       NaN        5.0       6.0\n",
              "2       7.0       1.0        1.0       1.0\n",
              "3       5.0       2.0        7.0       5.0"
            ],
            "text/html": "<div>\n<style scoped>\n    .dataframe tbody tr th:only-of-type {\n        vertical-align: middle;\n    }\n\n    .dataframe tbody tr th {\n        vertical-align: top;\n    }\n\n    .dataframe thead th {\n        text-align: right;\n    }\n</style>\n<table border=\"1\" class=\"dataframe\">\n  <thead>\n    <tr style=\"text-align: right;\">\n      <th></th>\n      <th>Column_A</th>\n      <th>Column_B</th>\n      <th>Column_C</th>\n      <th>Column_D</th>\n    </tr>\n  </thead>\n  <tbody>\n    <tr>\n      <th>0</th>\n      <td>1.0</td>\n      <td>1.0</td>\n      <td>9.0</td>\n      <td>1.0</td>\n    </tr>\n    <tr>\n      <th>1</th>\n      <td>NaN</td>\n      <td>NaN</td>\n      <td>5.0</td>\n      <td>6.0</td>\n    </tr>\n    <tr>\n      <th>2</th>\n      <td>7.0</td>\n      <td>1.0</td>\n      <td>1.0</td>\n      <td>1.0</td>\n    </tr>\n    <tr>\n      <th>3</th>\n      <td>5.0</td>\n      <td>2.0</td>\n      <td>7.0</td>\n      <td>5.0</td>\n    </tr>\n  </tbody>\n</table>\n</div>"
          },
          "metadata": {},
          "execution_count": 99
        }
      ],
      "source": [
        "df.fillna(method= 'ffill', axis = 1)  # axis = 1  --column wise horizontal filling"
      ]
    },
    {
      "cell_type": "code",
      "execution_count": null,
      "metadata": {
        "id": "f9DU5BRbRAPm",
        "outputId": "4eff7b80-8760-4653-f924-94c338f7a2c9"
      },
      "outputs": [
        {
          "output_type": "execute_result",
          "data": {
            "text/plain": [
              "   Column_A  Column_B  Column_C   Column_D\n",
              "0       1.0      45.0          9       1.0\n",
              "1       0.0      45.0          5       6.0\n",
              "2       7.0       1.0          1       4.0\n",
              "3       5.0       2.0          7       5.0"
            ],
            "text/html": "<div>\n<style scoped>\n    .dataframe tbody tr th:only-of-type {\n        vertical-align: middle;\n    }\n\n    .dataframe tbody tr th {\n        vertical-align: top;\n    }\n\n    .dataframe thead th {\n        text-align: right;\n    }\n</style>\n<table border=\"1\" class=\"dataframe\">\n  <thead>\n    <tr style=\"text-align: right;\">\n      <th></th>\n      <th>Column_A</th>\n      <th>Column_B</th>\n      <th>Column_C</th>\n      <th>Column_D</th>\n    </tr>\n  </thead>\n  <tbody>\n    <tr>\n      <th>0</th>\n      <td>1.0</td>\n      <td>45.0</td>\n      <td>9</td>\n      <td>1.0</td>\n    </tr>\n    <tr>\n      <th>1</th>\n      <td>0.0</td>\n      <td>45.0</td>\n      <td>5</td>\n      <td>6.0</td>\n    </tr>\n    <tr>\n      <th>2</th>\n      <td>7.0</td>\n      <td>1.0</td>\n      <td>1</td>\n      <td>4.0</td>\n    </tr>\n    <tr>\n      <th>3</th>\n      <td>5.0</td>\n      <td>2.0</td>\n      <td>7</td>\n      <td>5.0</td>\n    </tr>\n  </tbody>\n</table>\n</div>"
          },
          "metadata": {},
          "execution_count": 100
        }
      ],
      "source": [
        "df.fillna({'Column_A' : 0 , 'Column_B': 45, 'Column_D': df['Column_D'].mean()})"
      ]
    },
    {
      "cell_type": "code",
      "execution_count": null,
      "metadata": {
        "id": "8FdHP_fxRAPm",
        "outputId": "8b80e461-681e-4e11-dcf3-62499e356091"
      },
      "outputs": [
        {
          "output_type": "execute_result",
          "data": {
            "text/plain": [
              "6"
            ]
          },
          "metadata": {},
          "execution_count": 101
        }
      ],
      "source": [
        "series.dropna().count()   # After dropping the NaN values, count() will return the total elements"
      ]
    },
    {
      "cell_type": "code",
      "execution_count": null,
      "metadata": {
        "id": "9KMsFwghRAPn"
      },
      "outputs": [],
      "source": [
        "missing_Values = len(series) - series.count()"
      ]
    },
    {
      "cell_type": "code",
      "execution_count": null,
      "metadata": {
        "id": "Lrix0ahLRAPn",
        "outputId": "6cf45fac-a88b-4f1d-a50c-ef17b05da3d0"
      },
      "outputs": [
        {
          "output_type": "execute_result",
          "data": {
            "text/plain": [
              "2"
            ]
          },
          "metadata": {},
          "execution_count": 103
        }
      ],
      "source": [
        "missing_Values"
      ]
    },
    {
      "cell_type": "code",
      "execution_count": null,
      "metadata": {
        "id": "B4lrXzzZRAPo",
        "outputId": "04ce26ce-dfc0-49b2-93f8-2fee2292fd2e"
      },
      "outputs": [
        {
          "output_type": "execute_result",
          "data": {
            "text/plain": [
              "True"
            ]
          },
          "metadata": {},
          "execution_count": 104
        }
      ],
      "source": [
        "pd.Series([True, False, True, False]).any()  # Return True if atleast 1 element in the Series is True"
      ]
    },
    {
      "cell_type": "code",
      "execution_count": null,
      "metadata": {
        "id": "Uv09IqpnRAPo",
        "outputId": "6502d2ee-1a4c-435c-dfb0-f09e6abd8d83"
      },
      "outputs": [
        {
          "output_type": "execute_result",
          "data": {
            "text/plain": [
              "False"
            ]
          },
          "metadata": {},
          "execution_count": 105
        }
      ],
      "source": [
        "pd.Series([True,False]).all()"
      ]
    },
    {
      "cell_type": "code",
      "execution_count": null,
      "metadata": {
        "id": "83BtrL5URAPp",
        "outputId": "b4f17f2b-6045-49ca-f8a1-b93700d4ddbe"
      },
      "outputs": [
        {
          "output_type": "execute_result",
          "data": {
            "text/plain": [
              "True"
            ]
          },
          "metadata": {},
          "execution_count": 106
        }
      ],
      "source": [
        "pd.Series([True,True]).all()"
      ]
    },
    {
      "cell_type": "code",
      "execution_count": null,
      "metadata": {
        "id": "-Y3wokRdRAPp",
        "outputId": "ffcf774f-4b08-4ddd-b1fd-1c1cddccffa0"
      },
      "outputs": [
        {
          "output_type": "execute_result",
          "data": {
            "text/plain": [
              "False"
            ]
          },
          "metadata": {},
          "execution_count": 107
        }
      ],
      "source": [
        "pd.Series([1,2]).isnull().any()"
      ]
    },
    {
      "cell_type": "code",
      "execution_count": null,
      "metadata": {
        "id": "B4o3gOlzRAPp",
        "outputId": "ba5bab88-4f9a-4ce1-8ecb-2c74ecc53a11"
      },
      "outputs": [
        {
          "output_type": "execute_result",
          "data": {
            "text/plain": [
              "True"
            ]
          },
          "metadata": {},
          "execution_count": 108
        }
      ],
      "source": [
        "series.isnull().any()"
      ]
    },
    {
      "cell_type": "code",
      "execution_count": null,
      "metadata": {
        "id": "0urAsECkRAPq"
      },
      "outputs": [],
      "source": [
        "df = pd.DataFrame({\n",
        "    'Sex': ['M','F','F','D','?'],\n",
        "    'Age':[21,23,21,250,24]\n",
        "})"
      ]
    },
    {
      "cell_type": "code",
      "execution_count": null,
      "metadata": {
        "id": "hxLVoMA1RAPq",
        "outputId": "88ba2260-061e-4cc5-9618-b4998ec15324"
      },
      "outputs": [
        {
          "output_type": "execute_result",
          "data": {
            "text/plain": [
              "  Sex  Age\n",
              "0   M   21\n",
              "1   F   23\n",
              "2   F   21\n",
              "3   D  250\n",
              "4   ?   24"
            ],
            "text/html": "<div>\n<style scoped>\n    .dataframe tbody tr th:only-of-type {\n        vertical-align: middle;\n    }\n\n    .dataframe tbody tr th {\n        vertical-align: top;\n    }\n\n    .dataframe thead th {\n        text-align: right;\n    }\n</style>\n<table border=\"1\" class=\"dataframe\">\n  <thead>\n    <tr style=\"text-align: right;\">\n      <th></th>\n      <th>Sex</th>\n      <th>Age</th>\n    </tr>\n  </thead>\n  <tbody>\n    <tr>\n      <th>0</th>\n      <td>M</td>\n      <td>21</td>\n    </tr>\n    <tr>\n      <th>1</th>\n      <td>F</td>\n      <td>23</td>\n    </tr>\n    <tr>\n      <th>2</th>\n      <td>F</td>\n      <td>21</td>\n    </tr>\n    <tr>\n      <th>3</th>\n      <td>D</td>\n      <td>250</td>\n    </tr>\n    <tr>\n      <th>4</th>\n      <td>?</td>\n      <td>24</td>\n    </tr>\n  </tbody>\n</table>\n</div>"
          },
          "metadata": {},
          "execution_count": 110
        }
      ],
      "source": [
        "df"
      ]
    },
    {
      "cell_type": "code",
      "execution_count": null,
      "metadata": {
        "id": "HjxJ7gq-RAPr"
      },
      "outputs": [],
      "source": [
        "# df.loc[3,['Sex']] = 'M'"
      ]
    },
    {
      "cell_type": "code",
      "execution_count": null,
      "metadata": {
        "id": "PmSw71ZaRAPr",
        "outputId": "8fc38daf-a718-4ba9-c8a5-f3fc1df75820"
      },
      "outputs": [
        {
          "output_type": "execute_result",
          "data": {
            "text/plain": [
              "array(['M', 'F', 'D', '?'], dtype=object)"
            ]
          },
          "metadata": {},
          "execution_count": 112
        }
      ],
      "source": [
        "df['Sex'].unique()"
      ]
    },
    {
      "cell_type": "code",
      "execution_count": null,
      "metadata": {
        "id": "r_qDOGpcRAPr",
        "outputId": "a878431f-74e4-4bfa-dd53-16c41f1577ac"
      },
      "outputs": [
        {
          "output_type": "execute_result",
          "data": {
            "text/plain": [
              "F    2\n",
              "M    1\n",
              "D    1\n",
              "?    1\n",
              "Name: Sex, dtype: int64"
            ]
          },
          "metadata": {},
          "execution_count": 113
        }
      ],
      "source": [
        "df['Sex'].value_counts()"
      ]
    },
    {
      "cell_type": "code",
      "execution_count": null,
      "metadata": {
        "id": "dUwj07UtRAPs",
        "outputId": "88b4c7f0-abe1-4530-84ca-9a656a28a865"
      },
      "outputs": [
        {
          "output_type": "execute_result",
          "data": {
            "text/plain": [
              "0    M\n",
              "1    F\n",
              "2    F\n",
              "3    F\n",
              "4    ?\n",
              "Name: Sex, dtype: object"
            ]
          },
          "metadata": {},
          "execution_count": 114
        }
      ],
      "source": [
        "df['Sex'].replace('D','F')"
      ]
    },
    {
      "cell_type": "code",
      "execution_count": null,
      "metadata": {
        "id": "SVvHuATsRAPs",
        "outputId": "5a617548-6bed-4f40-fb12-3abcdc7d910b"
      },
      "outputs": [
        {
          "output_type": "execute_result",
          "data": {
            "text/plain": [
              "0    M\n",
              "1    F\n",
              "2    F\n",
              "3    F\n",
              "4    M\n",
              "Name: Sex, dtype: object"
            ]
          },
          "metadata": {},
          "execution_count": 115
        }
      ],
      "source": [
        "df['Sex'].replace({\n",
        "    'D':'F',\n",
        "    '?':'M'\n",
        "})"
      ]
    },
    {
      "cell_type": "code",
      "execution_count": null,
      "metadata": {
        "id": "-pM8C-qsRAPs"
      },
      "outputs": [],
      "source": [
        "df = df.replace({\n",
        "    'Sex':{\n",
        "        'D':'F',\n",
        "        '?':'M'\n",
        "    },\n",
        "    'Age':{\n",
        "        251 : 25\n",
        "    }\n",
        "\n",
        "})"
      ]
    },
    {
      "cell_type": "code",
      "execution_count": null,
      "metadata": {
        "id": "0qL0pAFxRAPt",
        "outputId": "81ec6baa-cb10-4e8a-cf98-415266fdcb45"
      },
      "outputs": [
        {
          "output_type": "execute_result",
          "data": {
            "text/plain": [
              "0    False\n",
              "1    False\n",
              "2    False\n",
              "3     True\n",
              "4     True\n",
              "Name: Age, dtype: bool"
            ]
          },
          "metadata": {},
          "execution_count": 59
        }
      ],
      "source": [
        "df['Age'] > 23"
      ]
    },
    {
      "cell_type": "code",
      "execution_count": null,
      "metadata": {
        "id": "0rZqwK8zRAPt",
        "outputId": "558bab8c-8530-4b85-83cb-8e3a2ca637d2"
      },
      "outputs": [
        {
          "output_type": "execute_result",
          "data": {
            "text/plain": [
              "  Sex  Age\n",
              "3   F  250\n",
              "4   M   24"
            ],
            "text/html": "<div>\n<style scoped>\n    .dataframe tbody tr th:only-of-type {\n        vertical-align: middle;\n    }\n\n    .dataframe tbody tr th {\n        vertical-align: top;\n    }\n\n    .dataframe thead th {\n        text-align: right;\n    }\n</style>\n<table border=\"1\" class=\"dataframe\">\n  <thead>\n    <tr style=\"text-align: right;\">\n      <th></th>\n      <th>Sex</th>\n      <th>Age</th>\n    </tr>\n  </thead>\n  <tbody>\n    <tr>\n      <th>3</th>\n      <td>F</td>\n      <td>250</td>\n    </tr>\n    <tr>\n      <th>4</th>\n      <td>M</td>\n      <td>24</td>\n    </tr>\n  </tbody>\n</table>\n</div>"
          },
          "metadata": {},
          "execution_count": 60
        }
      ],
      "source": [
        "df.loc[df['Age'] > 23]"
      ]
    },
    {
      "cell_type": "code",
      "execution_count": null,
      "metadata": {
        "id": "0ZEDVG8eRAPu",
        "outputId": "dd67f416-bf82-497a-b2d8-542ce01d518a"
      },
      "outputs": [
        {
          "output_type": "execute_result",
          "data": {
            "text/plain": [
              "3    F\n",
              "4    M\n",
              "Name: Sex, dtype: object"
            ]
          },
          "metadata": {},
          "execution_count": 61
        }
      ],
      "source": [
        "df.loc[df['Age'] > 23, 'Sex']"
      ]
    },
    {
      "cell_type": "code",
      "execution_count": null,
      "metadata": {
        "id": "vrk5XWjQRAPu",
        "outputId": "f59bb5e0-802b-4014-f74d-7a1ce2331941"
      },
      "outputs": [
        {
          "output_type": "execute_result",
          "data": {
            "text/plain": [
              "3    250\n",
              "Name: Age, dtype: int64"
            ]
          },
          "metadata": {},
          "execution_count": 62
        }
      ],
      "source": [
        "df.loc[df['Age'] > 100, 'Age'] "
      ]
    },
    {
      "cell_type": "code",
      "execution_count": null,
      "metadata": {
        "id": "c7GJp68aRAPv"
      },
      "outputs": [],
      "source": [
        "df.loc[df['Age'] > 100 , 'Age'] = df.loc[df['Age'] > 100 ,'Age'] / 10"
      ]
    },
    {
      "cell_type": "code",
      "execution_count": null,
      "metadata": {
        "id": "eVMbMV45RAPv"
      },
      "outputs": [],
      "source": [
        "df = df.astype({'Age': int})"
      ]
    },
    {
      "cell_type": "code",
      "execution_count": null,
      "metadata": {
        "id": "jYNGmY6zRAPv",
        "outputId": "eaaf7d51-95be-44d4-a010-951f9dd3ee91"
      },
      "outputs": [
        {
          "output_type": "execute_result",
          "data": {
            "text/plain": [
              "0    21\n",
              "1    23\n",
              "2    21\n",
              "3    25\n",
              "4    24\n",
              "Name: Age, dtype: int32"
            ]
          },
          "metadata": {},
          "execution_count": 65
        }
      ],
      "source": [
        "df['Age']"
      ]
    },
    {
      "cell_type": "code",
      "execution_count": null,
      "metadata": {
        "id": "GcFnB1yWRAPw",
        "outputId": "983c7e77-5d9e-4363-a51f-8fdb8eeb2e75"
      },
      "outputs": [
        {
          "output_type": "execute_result",
          "data": {
            "text/plain": [
              "   Age\n",
              "0   21\n",
              "1   23\n",
              "2   21\n",
              "3   25\n",
              "4   24"
            ],
            "text/html": "<div>\n<style scoped>\n    .dataframe tbody tr th:only-of-type {\n        vertical-align: middle;\n    }\n\n    .dataframe tbody tr th {\n        vertical-align: top;\n    }\n\n    .dataframe thead th {\n        text-align: right;\n    }\n</style>\n<table border=\"1\" class=\"dataframe\">\n  <thead>\n    <tr style=\"text-align: right;\">\n      <th></th>\n      <th>Age</th>\n    </tr>\n  </thead>\n  <tbody>\n    <tr>\n      <th>0</th>\n      <td>21</td>\n    </tr>\n    <tr>\n      <th>1</th>\n      <td>23</td>\n    </tr>\n    <tr>\n      <th>2</th>\n      <td>21</td>\n    </tr>\n    <tr>\n      <th>3</th>\n      <td>25</td>\n    </tr>\n    <tr>\n      <th>4</th>\n      <td>24</td>\n    </tr>\n  </tbody>\n</table>\n</div>"
          },
          "metadata": {},
          "execution_count": 66
        }
      ],
      "source": [
        "df.iloc[0 : len(df),[1]]"
      ]
    },
    {
      "cell_type": "code",
      "execution_count": null,
      "metadata": {
        "id": "nsXBOytPRAPw"
      },
      "outputs": [],
      "source": [
        "ambassadors =  pd.Series([\n",
        "\n",
        "    'India',\n",
        "    'United States',\n",
        "    'Japan',\n",
        "    'United States',\n",
        "    'India',\n",
        "    'United States',\n",
        "    'India'\n",
        "],\n",
        "    index = [\n",
        "        'Shashank Verma',\n",
        "        'Elon Musk',\n",
        "        'Michio Kaku',\n",
        "        'Robert Jr.',\n",
        "        'Sarita Verma',\n",
        "        'Angelina',\n",
        "        'Rajesh Kumar Verma'\n",
        "    ]\n",
        ")"
      ]
    },
    {
      "cell_type": "code",
      "execution_count": null,
      "metadata": {
        "id": "TBeqnGyCRAPx",
        "outputId": "5a5d32ae-88d9-4bc6-e69f-8627a7c65d5a"
      },
      "outputs": [
        {
          "output_type": "execute_result",
          "data": {
            "text/plain": [
              "Shashank Verma        False\n",
              "Elon Musk             False\n",
              "Michio Kaku           False\n",
              "Robert Jr.             True\n",
              "Sarita Verma           True\n",
              "Angelina               True\n",
              "Rajesh Kumar Verma     True\n",
              "dtype: bool"
            ]
          },
          "metadata": {},
          "execution_count": 68
        }
      ],
      "source": [
        "ambassadors.duplicated()"
      ]
    },
    {
      "cell_type": "code",
      "execution_count": null,
      "metadata": {
        "id": "c2Pevv6FRAPx",
        "outputId": "8fda2823-47e7-48b4-ce8d-c5cca98ec4e6"
      },
      "outputs": [
        {
          "output_type": "execute_result",
          "data": {
            "text/plain": [
              "Shashank Verma         True\n",
              "Elon Musk              True\n",
              "Michio Kaku           False\n",
              "Robert Jr.             True\n",
              "Sarita Verma           True\n",
              "Angelina              False\n",
              "Rajesh Kumar Verma    False\n",
              "dtype: bool"
            ]
          },
          "metadata": {},
          "execution_count": 69
        }
      ],
      "source": [
        "ambassadors.duplicated(keep='last')"
      ]
    },
    {
      "cell_type": "code",
      "execution_count": null,
      "metadata": {
        "id": "fssI4651RAPx",
        "outputId": "f1a38382-3279-43ad-f07a-c226ea16758f"
      },
      "outputs": [
        {
          "output_type": "execute_result",
          "data": {
            "text/plain": [
              "Shashank Verma         True\n",
              "Elon Musk              True\n",
              "Michio Kaku           False\n",
              "Robert Jr.             True\n",
              "Sarita Verma           True\n",
              "Angelina               True\n",
              "Rajesh Kumar Verma     True\n",
              "dtype: bool"
            ]
          },
          "metadata": {},
          "execution_count": 70
        }
      ],
      "source": [
        "ambassadors.duplicated(keep=False)    #"
      ]
    },
    {
      "cell_type": "code",
      "execution_count": null,
      "metadata": {
        "id": "cY31NsRXRAPy",
        "outputId": "30ad1731-b827-46de-a83a-4344d1d9fcbf"
      },
      "outputs": [
        {
          "output_type": "execute_result",
          "data": {
            "text/plain": [
              "Shashank Verma            India\n",
              "Elon Musk         United States\n",
              "Michio Kaku               Japan\n",
              "dtype: object"
            ]
          },
          "metadata": {},
          "execution_count": 71
        }
      ],
      "source": [
        "ambassadors.drop_duplicates()"
      ]
    },
    {
      "cell_type": "code",
      "execution_count": null,
      "metadata": {
        "id": "EcMT0BbhRAPy",
        "outputId": "13215180-0aaa-477f-a991-7ee793891c33"
      },
      "outputs": [
        {
          "output_type": "execute_result",
          "data": {
            "text/plain": [
              "Michio Kaku                   Japan\n",
              "Angelina              United States\n",
              "Rajesh Kumar Verma            India\n",
              "dtype: object"
            ]
          },
          "metadata": {},
          "execution_count": 72
        }
      ],
      "source": [
        "ambassadors.drop_duplicates(keep='last')"
      ]
    },
    {
      "cell_type": "code",
      "execution_count": null,
      "metadata": {
        "id": "wjS1gl-LRAPz",
        "outputId": "c09be050-823b-4789-d853-0e00ccb29706"
      },
      "outputs": [
        {
          "output_type": "execute_result",
          "data": {
            "text/plain": [
              "Michio Kaku    Japan\n",
              "dtype: object"
            ]
          },
          "metadata": {},
          "execution_count": 73
        }
      ],
      "source": [
        "ambassadors.drop_duplicates(keep=False)"
      ]
    },
    {
      "cell_type": "code",
      "execution_count": null,
      "metadata": {
        "id": "cidDG5G_RAPz"
      },
      "outputs": [],
      "source": [
        "df = pd.DataFrame({\n",
        "    'Players' : [\n",
        "        'Shashank', 'Shreyank', 'MS Dhoni', 'Shashank', 'Yuvraj', 'Shashank', 'Shashank'\n",
        "    ],\n",
        "\n",
        "    'Role' : ['Batsman', 'Bowler', 'Batsman/WK', 'Batsman/WK', 'All-Rounder' ,'All-Rounder' , 'Batsman/WK']\n",
        "\n",
        "})"
      ]
    },
    {
      "cell_type": "code",
      "execution_count": null,
      "metadata": {
        "id": "iJ86hjHmRAPz",
        "outputId": "7826cf2c-07b7-4c4d-fe6c-6fcc9f898029"
      },
      "outputs": [
        {
          "output_type": "execute_result",
          "data": {
            "text/plain": [
              "    Players         Role\n",
              "0  Shashank      Batsman\n",
              "1  Shreyank       Bowler\n",
              "2  MS Dhoni   Batsman/WK\n",
              "3  Shashank   Batsman/WK\n",
              "4    Yuvraj  All-Rounder\n",
              "5  Shashank  All-Rounder\n",
              "6  Shashank   Batsman/WK"
            ],
            "text/html": "<div>\n<style scoped>\n    .dataframe tbody tr th:only-of-type {\n        vertical-align: middle;\n    }\n\n    .dataframe tbody tr th {\n        vertical-align: top;\n    }\n\n    .dataframe thead th {\n        text-align: right;\n    }\n</style>\n<table border=\"1\" class=\"dataframe\">\n  <thead>\n    <tr style=\"text-align: right;\">\n      <th></th>\n      <th>Players</th>\n      <th>Role</th>\n    </tr>\n  </thead>\n  <tbody>\n    <tr>\n      <th>0</th>\n      <td>Shashank</td>\n      <td>Batsman</td>\n    </tr>\n    <tr>\n      <th>1</th>\n      <td>Shreyank</td>\n      <td>Bowler</td>\n    </tr>\n    <tr>\n      <th>2</th>\n      <td>MS Dhoni</td>\n      <td>Batsman/WK</td>\n    </tr>\n    <tr>\n      <th>3</th>\n      <td>Shashank</td>\n      <td>Batsman/WK</td>\n    </tr>\n    <tr>\n      <th>4</th>\n      <td>Yuvraj</td>\n      <td>All-Rounder</td>\n    </tr>\n    <tr>\n      <th>5</th>\n      <td>Shashank</td>\n      <td>All-Rounder</td>\n    </tr>\n    <tr>\n      <th>6</th>\n      <td>Shashank</td>\n      <td>Batsman/WK</td>\n    </tr>\n  </tbody>\n</table>\n</div>"
          },
          "metadata": {},
          "execution_count": 75
        }
      ],
      "source": [
        "df"
      ]
    },
    {
      "cell_type": "code",
      "execution_count": null,
      "metadata": {
        "id": "gjJDmQ2NRAP0",
        "outputId": "897d181c-19f1-4fae-ffd7-08fee341684b"
      },
      "outputs": [
        {
          "output_type": "execute_result",
          "data": {
            "text/plain": [
              "0    False\n",
              "1    False\n",
              "2    False\n",
              "3    False\n",
              "4    False\n",
              "5    False\n",
              "6     True\n",
              "dtype: bool"
            ]
          },
          "metadata": {},
          "execution_count": 76
        }
      ],
      "source": [
        "df.duplicated()"
      ]
    },
    {
      "cell_type": "code",
      "execution_count": null,
      "metadata": {
        "id": "-D-1SfMhRAP0",
        "outputId": "5dee772e-ffcf-4d08-e6d1-2edd373fe88a"
      },
      "outputs": [
        {
          "output_type": "execute_result",
          "data": {
            "text/plain": [
              "0    False\n",
              "1    False\n",
              "2    False\n",
              "3     True\n",
              "4    False\n",
              "5     True\n",
              "6     True\n",
              "dtype: bool"
            ]
          },
          "metadata": {},
          "execution_count": 77
        }
      ],
      "source": [
        "df.duplicated(subset= ['Players'])"
      ]
    },
    {
      "cell_type": "code",
      "execution_count": null,
      "metadata": {
        "id": "tibifemSRAP1",
        "outputId": "47449a0f-11e9-443e-80e0-e85da12c88fa"
      },
      "outputs": [
        {
          "output_type": "execute_result",
          "data": {
            "text/plain": [
              "0    False\n",
              "1    False\n",
              "2    False\n",
              "3     True\n",
              "4    False\n",
              "5     True\n",
              "6     True\n",
              "dtype: bool"
            ]
          },
          "metadata": {},
          "execution_count": 78
        }
      ],
      "source": [
        "df.duplicated(subset = ['Role'])"
      ]
    },
    {
      "cell_type": "code",
      "execution_count": null,
      "metadata": {
        "id": "eqZA5VwSRAP1"
      },
      "outputs": [],
      "source": [
        "df =  pd.DataFrame({\n",
        "    'Data' : [\n",
        "        '1993?_M_IND_2',\n",
        "        '1997_F_IND_2',\n",
        "        '1993_F_IND_1',\n",
        "        '1996?_F_I ND_1'\n",
        "    ]\n",
        "})"
      ]
    },
    {
      "cell_type": "code",
      "execution_count": null,
      "metadata": {
        "id": "z-7bzBRLRAP2",
        "outputId": "502804f6-df10-43aa-f351-e5be69fcfd85"
      },
      "outputs": [
        {
          "output_type": "execute_result",
          "data": {
            "text/plain": [
              "             Data\n",
              "0   1993?_M_IND_2\n",
              "1    1997_F_IND_2\n",
              "2    1993_F_IND_1\n",
              "3  1996?_F_I ND_1"
            ],
            "text/html": "<div>\n<style scoped>\n    .dataframe tbody tr th:only-of-type {\n        vertical-align: middle;\n    }\n\n    .dataframe tbody tr th {\n        vertical-align: top;\n    }\n\n    .dataframe thead th {\n        text-align: right;\n    }\n</style>\n<table border=\"1\" class=\"dataframe\">\n  <thead>\n    <tr style=\"text-align: right;\">\n      <th></th>\n      <th>Data</th>\n    </tr>\n  </thead>\n  <tbody>\n    <tr>\n      <th>0</th>\n      <td>1993?_M_IND_2</td>\n    </tr>\n    <tr>\n      <th>1</th>\n      <td>1997_F_IND_2</td>\n    </tr>\n    <tr>\n      <th>2</th>\n      <td>1993_F_IND_1</td>\n    </tr>\n    <tr>\n      <th>3</th>\n      <td>1996?_F_I ND_1</td>\n    </tr>\n  </tbody>\n</table>\n</div>"
          },
          "metadata": {},
          "execution_count": 80
        }
      ],
      "source": [
        "df"
      ]
    },
    {
      "cell_type": "code",
      "execution_count": null,
      "metadata": {
        "tags": [],
        "id": "cyPURz0hRAP3",
        "outputId": "625f9517-5fff-4aeb-a76b-8aea6aa656d1"
      },
      "outputs": [
        {
          "output_type": "stream",
          "name": "stdout",
          "text": [
            "<class 'pandas.core.frame.DataFrame'>\nRangeIndex: 4 entries, 0 to 3\nData columns (total 1 columns):\n #   Column  Non-Null Count  Dtype \n---  ------  --------------  ----- \n 0   Data    4 non-null      object\ndtypes: object(1)\nmemory usage: 160.0+ bytes\n"
          ]
        }
      ],
      "source": [
        "df.info()"
      ]
    },
    {
      "cell_type": "code",
      "execution_count": null,
      "metadata": {
        "id": "ojnatBXJRAP3",
        "outputId": "f47ec561-8496-4730-f765-b515a4a3f6ca"
      },
      "outputs": [
        {
          "output_type": "execute_result",
          "data": {
            "text/plain": [
              "0     [1993?, M, IND, 2]\n",
              "1      [1997, F, IND, 2]\n",
              "2      [1993, F, IND, 1]\n",
              "3    [1996?, F, I ND, 1]\n",
              "Name: Data, dtype: object"
            ]
          },
          "metadata": {},
          "execution_count": 145
        }
      ],
      "source": [
        "df['Data'].str.split('_')"
      ]
    },
    {
      "cell_type": "code",
      "execution_count": null,
      "metadata": {
        "id": "krNhIuzmRAP4"
      },
      "outputs": [],
      "source": [
        "df = df['Data'].str.split('_', expand=True)"
      ]
    },
    {
      "cell_type": "code",
      "execution_count": null,
      "metadata": {
        "id": "3uCd5coMRAP4"
      },
      "outputs": [],
      "source": [
        "df.columns = ['Year', 'Sex', 'Country' , 'No of Children']"
      ]
    },
    {
      "cell_type": "code",
      "execution_count": null,
      "metadata": {
        "id": "G5PIBjgVRAP5",
        "outputId": "e4c70f44-bb8c-44c0-b6b8-6fbf9b7764e1"
      },
      "outputs": [
        {
          "output_type": "execute_result",
          "data": {
            "text/plain": [
              "    Year Sex Country No of Children\n",
              "0  1993?   M     IND              2\n",
              "1   1997   F     IND              2\n",
              "2   1993   F     IND              1\n",
              "3  1996?   F    I ND              1"
            ],
            "text/html": "<div>\n<style scoped>\n    .dataframe tbody tr th:only-of-type {\n        vertical-align: middle;\n    }\n\n    .dataframe tbody tr th {\n        vertical-align: top;\n    }\n\n    .dataframe thead th {\n        text-align: right;\n    }\n</style>\n<table border=\"1\" class=\"dataframe\">\n  <thead>\n    <tr style=\"text-align: right;\">\n      <th></th>\n      <th>Year</th>\n      <th>Sex</th>\n      <th>Country</th>\n      <th>No of Children</th>\n    </tr>\n  </thead>\n  <tbody>\n    <tr>\n      <th>0</th>\n      <td>1993?</td>\n      <td>M</td>\n      <td>IND</td>\n      <td>2</td>\n    </tr>\n    <tr>\n      <th>1</th>\n      <td>1997</td>\n      <td>F</td>\n      <td>IND</td>\n      <td>2</td>\n    </tr>\n    <tr>\n      <th>2</th>\n      <td>1993</td>\n      <td>F</td>\n      <td>IND</td>\n      <td>1</td>\n    </tr>\n    <tr>\n      <th>3</th>\n      <td>1996?</td>\n      <td>F</td>\n      <td>I ND</td>\n      <td>1</td>\n    </tr>\n  </tbody>\n</table>\n</div>"
          },
          "metadata": {},
          "execution_count": 148
        }
      ],
      "source": [
        "df"
      ]
    },
    {
      "cell_type": "code",
      "execution_count": null,
      "metadata": {
        "id": "A5UB5SlkRAP5",
        "outputId": "3f86fd49-a354-484d-f1f0-e2f843dc2fd4"
      },
      "outputs": [
        {
          "output_type": "execute_result",
          "data": {
            "text/plain": [
              "0    False\n",
              "1    False\n",
              "2    False\n",
              "3    False\n",
              "Name: Year, dtype: bool"
            ]
          },
          "metadata": {},
          "execution_count": 159
        }
      ],
      "source": [
        "df['Year'].str.contains('\\?')   # ? is a Regular Expression  so we need to write like \\? within contains method "
      ]
    },
    {
      "cell_type": "code",
      "execution_count": null,
      "metadata": {
        "id": "Tq1L3tDaRAP6",
        "outputId": "11c0daa1-a961-48b2-9207-deb68bf06ef1"
      },
      "outputs": [
        {
          "output_type": "execute_result",
          "data": {
            "text/plain": [
              "0    True\n",
              "1    True\n",
              "2    True\n",
              "3    True\n",
              "Name: Country, dtype: bool"
            ]
          },
          "metadata": {},
          "execution_count": 150
        }
      ],
      "source": [
        "df['Country'].str.contains('I')"
      ]
    },
    {
      "cell_type": "code",
      "execution_count": null,
      "metadata": {
        "id": "UGlSHFJhRAP7"
      },
      "outputs": [],
      "source": [
        "# Check how to use str.strip()"
      ]
    },
    {
      "cell_type": "code",
      "execution_count": null,
      "metadata": {
        "id": "uOZ3eyAcRAP8"
      },
      "outputs": [],
      "source": [
        "df['Country'] = df['Country'].str.replace(' ','')"
      ]
    },
    {
      "cell_type": "code",
      "execution_count": null,
      "metadata": {
        "id": "bAnp960nRAP8",
        "outputId": "5533f266-0be5-4253-ad65-bde2a147b7f1"
      },
      "outputs": [
        {
          "output_type": "execute_result",
          "data": {
            "text/plain": [
              "0    IND\n",
              "1    IND\n",
              "2    IND\n",
              "3    IND\n",
              "Name: Country, dtype: object"
            ]
          },
          "metadata": {},
          "execution_count": 153
        }
      ],
      "source": [
        "df['Country']"
      ]
    },
    {
      "cell_type": "code",
      "execution_count": null,
      "metadata": {
        "id": "GsrcD2-4RAP8"
      },
      "outputs": [],
      "source": [
        "df['Year'] = df['Year'].str.replace(r'(?P<year>\\d{4})\\?', lambda m: m.group('year'))  # P here is positional argument\n"
      ]
    },
    {
      "cell_type": "code",
      "execution_count": null,
      "metadata": {
        "id": "Ie_n69DpRAP9",
        "outputId": "b7fbff15-4dac-4b16-d9cb-d6647cb26c4c"
      },
      "outputs": [
        {
          "output_type": "execute_result",
          "data": {
            "text/plain": [
              "0    1993\n",
              "1    1997\n",
              "2    1993\n",
              "3    1996\n",
              "Name: Year, dtype: object"
            ]
          },
          "metadata": {},
          "execution_count": 155
        }
      ],
      "source": [
        "df['Year']"
      ]
    }
  ]
}