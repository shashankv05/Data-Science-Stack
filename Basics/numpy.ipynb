{
  "metadata": {
    "language_info": {
      "codemirror_mode": {
        "name": "ipython",
        "version": 3
      },
      "file_extension": ".py",
      "mimetype": "text/x-python",
      "name": "python",
      "nbconvert_exporter": "python",
      "pygments_lexer": "ipython3",
      "version": "3.7.3-final"
    },
    "orig_nbformat": 2,
    "kernelspec": {
      "name": "python_defaultSpec_1601660394105",
      "display_name": "Python 3.7.3 64-bit"
    },
    "colab": {
      "provenance": [],
      "include_colab_link": true
    }
  },
  "nbformat": 4,
  "nbformat_minor": 0,
  "cells": [
    {
      "cell_type": "markdown",
      "metadata": {
        "id": "view-in-github",
        "colab_type": "text"
      },
      "source": [
        "<a href=\"https://colab.research.google.com/github/shashankv05/Colab_Notebooks/blob/main/Numpy.ipynb\" target=\"_parent\"><img src=\"https://colab.research.google.com/assets/colab-badge.svg\" alt=\"Open In Colab\"/></a>"
      ]
    },
    {
      "cell_type": "code",
      "execution_count": null,
      "metadata": {
        "id": "DGu6R685PCm8"
      },
      "outputs": [],
      "source": [
        "import numpy as np\n",
        "import sys"
      ]
    },
    {
      "cell_type": "code",
      "execution_count": null,
      "metadata": {
        "id": "4e1TRGIJPCnA",
        "outputId": "7d9b8a9c-5f2a-4a87-c082-f01d5744c30c"
      },
      "outputs": [
        {
          "output_type": "execute_result",
          "data": {
            "text/plain": "array([1, 2, 3, 4])"
          },
          "metadata": {},
          "execution_count": 2
        }
      ],
      "source": [
        "np.array([1,2,3,4])"
      ]
    },
    {
      "cell_type": "code",
      "execution_count": null,
      "metadata": {
        "id": "pogrI-o3PCnB",
        "outputId": "b4433267-d2c7-4e13-902b-e69c0753f0ec"
      },
      "outputs": [
        {
          "output_type": "execute_result",
          "data": {
            "text/plain": "array([1, 4, 5, 7])"
          },
          "metadata": {},
          "execution_count": 6
        }
      ],
      "source": [
        "a = np.array([1,4,5,7])"
      ]
    },
    {
      "cell_type": "code",
      "execution_count": null,
      "metadata": {
        "id": "Pzx0kyGWPCnC"
      },
      "outputs": [],
      "source": [
        "b = np.array([1,5,9,7])"
      ]
    },
    {
      "cell_type": "code",
      "execution_count": null,
      "metadata": {
        "id": "aPFxs5tCPCnC"
      },
      "outputs": [],
      "source": [
        "a"
      ]
    },
    {
      "cell_type": "code",
      "execution_count": null,
      "metadata": {
        "id": "_pOKMSNOPCnD"
      },
      "outputs": [],
      "source": [
        "b"
      ]
    },
    {
      "cell_type": "code",
      "execution_count": null,
      "metadata": {
        "id": "RzVj5ifQPCnD"
      },
      "outputs": [],
      "source": [
        "a[0] , a[1]"
      ]
    },
    {
      "cell_type": "code",
      "execution_count": null,
      "metadata": {
        "id": "B149Fvo0PCnE"
      },
      "outputs": [],
      "source": [
        "b[0:3], b[[0,1,2]]\n"
      ]
    },
    {
      "cell_type": "code",
      "execution_count": null,
      "metadata": {
        "id": "llo3ZI24PCnE"
      },
      "outputs": [],
      "source": [
        "c = np.array(['a','b','c','d'])"
      ]
    },
    {
      "cell_type": "code",
      "execution_count": null,
      "metadata": {
        "id": "EDUGaQ-6PCnE"
      },
      "outputs": [],
      "source": [
        "c.dtype"
      ]
    },
    {
      "cell_type": "code",
      "execution_count": null,
      "metadata": {
        "id": "knifnv7GPCnF"
      },
      "outputs": [],
      "source": [
        "d = np.array([{'a': 1},sys])"
      ]
    },
    {
      "cell_type": "code",
      "execution_count": null,
      "metadata": {
        "id": "x_phMeBRPCnF"
      },
      "outputs": [],
      "source": [
        "d"
      ]
    },
    {
      "cell_type": "code",
      "execution_count": null,
      "metadata": {
        "id": "SqvDZd1BPCnG"
      },
      "outputs": [],
      "source": [
        "d.dtype"
      ]
    },
    {
      "cell_type": "code",
      "execution_count": null,
      "metadata": {
        "id": "vQRRiRXjPCnG"
      },
      "outputs": [],
      "source": [
        "# MultiDimensional Arrays\n",
        "\n",
        "A = np.array([\n",
        "    [1,4,5],\n",
        "    [1,5,9]\n",
        "])"
      ]
    },
    {
      "cell_type": "code",
      "execution_count": null,
      "metadata": {
        "id": "pb-pNjsgPCnG"
      },
      "outputs": [],
      "source": [
        "A"
      ]
    },
    {
      "cell_type": "code",
      "execution_count": null,
      "metadata": {
        "id": "gcGMz_ckPCnH"
      },
      "outputs": [],
      "source": [
        "A.shape"
      ]
    },
    {
      "cell_type": "code",
      "execution_count": null,
      "metadata": {
        "id": "OleqxPOVPCnH"
      },
      "outputs": [],
      "source": [
        "A.ndim"
      ]
    },
    {
      "cell_type": "code",
      "execution_count": null,
      "metadata": {
        "id": "dmIo6O4OPCnH"
      },
      "outputs": [],
      "source": [
        "A.size   # Returns Total no. of elemnts"
      ]
    },
    {
      "cell_type": "code",
      "execution_count": null,
      "metadata": {
        "id": "OY7uQ4pdPCnI"
      },
      "outputs": [],
      "source": [
        "B = np.array([\n",
        "    [\n",
        "        [1,2,3],\n",
        "        [5,6,7]\n",
        "    ],\n",
        "    [\n",
        "        [1,2,3],\n",
        "    ]\n",
        "])"
      ]
    },
    {
      "cell_type": "code",
      "execution_count": null,
      "metadata": {
        "id": "w4AAmNV-PCnI"
      },
      "outputs": [],
      "source": [
        "B"
      ]
    },
    {
      "cell_type": "code",
      "execution_count": null,
      "metadata": {
        "id": "iPTWshPVPCnI"
      },
      "outputs": [],
      "source": [
        "B.shape"
      ]
    },
    {
      "cell_type": "code",
      "execution_count": null,
      "metadata": {
        "id": "WPbcq3KiPCnI"
      },
      "outputs": [],
      "source": [
        "B.ndim"
      ]
    },
    {
      "cell_type": "code",
      "execution_count": null,
      "metadata": {
        "id": "D4pd5AniPCnJ"
      },
      "outputs": [],
      "source": [
        "B.size"
      ]
    },
    {
      "cell_type": "code",
      "execution_count": null,
      "metadata": {
        "id": "_9jsk82NPCnJ"
      },
      "outputs": [],
      "source": [
        "A = np.array([\n",
        "  # 0   1   2    -- columns \n",
        "    [1, 2, 3],\n",
        "    [4, 5, 6],\n",
        "    [7, 8, 9]\n",
        "])"
      ]
    },
    {
      "cell_type": "code",
      "execution_count": null,
      "metadata": {
        "id": "PTNyFmEuPCnJ"
      },
      "outputs": [],
      "source": [
        "A[1]"
      ]
    },
    {
      "cell_type": "code",
      "execution_count": null,
      "metadata": {
        "id": "aSPxmqcQPCnK"
      },
      "outputs": [],
      "source": [
        "A[1][0]"
      ]
    },
    {
      "cell_type": "code",
      "execution_count": null,
      "metadata": {
        "id": "eU1JpZz6PCnK"
      },
      "outputs": [],
      "source": [
        "A[:, :2]"
      ]
    },
    {
      "cell_type": "code",
      "execution_count": null,
      "metadata": {
        "id": "80-Cd89SPCnK"
      },
      "outputs": [],
      "source": [
        "A[:,2:]"
      ]
    },
    {
      "cell_type": "code",
      "execution_count": null,
      "metadata": {
        "id": "FbYM-hZZPCnL"
      },
      "outputs": [],
      "source": [
        "A[1] = 10"
      ]
    },
    {
      "cell_type": "code",
      "execution_count": null,
      "metadata": {
        "id": "3kbKpI6-PCnL"
      },
      "outputs": [],
      "source": [
        "A[1] = np.array([10,15,25])"
      ]
    },
    {
      "cell_type": "code",
      "execution_count": null,
      "metadata": {
        "id": "qvHbRw-YPCnL"
      },
      "outputs": [],
      "source": [
        "A"
      ]
    },
    {
      "cell_type": "code",
      "execution_count": null,
      "metadata": {
        "id": "DHGWY2BePCnM"
      },
      "outputs": [],
      "source": [
        "# Statistics\n",
        "\n",
        "a = np.array([1,4,5,7])"
      ]
    },
    {
      "cell_type": "code",
      "execution_count": null,
      "metadata": {
        "id": "TnVND1J_PCnO"
      },
      "outputs": [],
      "source": [
        "a.sum()"
      ]
    },
    {
      "cell_type": "code",
      "execution_count": null,
      "metadata": {
        "id": "ZZU4B6GwPCnP"
      },
      "outputs": [],
      "source": [
        "a.mean()"
      ]
    },
    {
      "cell_type": "code",
      "execution_count": null,
      "metadata": {
        "id": "JhlEtylDPCnP"
      },
      "outputs": [],
      "source": [
        "a.std()   # Standard Deviation"
      ]
    },
    {
      "cell_type": "code",
      "execution_count": null,
      "metadata": {
        "id": "C4BwWfs9PCnQ"
      },
      "outputs": [],
      "source": [
        "a.var()   # Variance"
      ]
    },
    {
      "cell_type": "code",
      "execution_count": null,
      "metadata": {
        "id": "AVX58zGoPCnQ"
      },
      "outputs": [],
      "source": [
        "A =  np.array([\n",
        "    [1,2,3],\n",
        "    [4,5,6],\n",
        "    [7,8,9]\n",
        "])"
      ]
    },
    {
      "cell_type": "code",
      "execution_count": null,
      "metadata": {
        "id": "uHITjfZOPCnR"
      },
      "outputs": [],
      "source": [
        "A"
      ]
    },
    {
      "cell_type": "code",
      "execution_count": null,
      "metadata": {
        "id": "shhH01WXPCnR"
      },
      "outputs": [],
      "source": [
        "A.shape"
      ]
    },
    {
      "cell_type": "code",
      "execution_count": null,
      "metadata": {
        "id": "crcJFUoLPCnx"
      },
      "outputs": [],
      "source": [
        "A.sum()"
      ]
    },
    {
      "cell_type": "code",
      "execution_count": null,
      "metadata": {
        "id": "ZuO__ZzqPCnx"
      },
      "outputs": [],
      "source": [
        "A.mean()"
      ]
    },
    {
      "cell_type": "code",
      "execution_count": null,
      "metadata": {
        "id": "lAs_h2ETPCnz"
      },
      "outputs": [],
      "source": [
        "A.std()"
      ]
    },
    {
      "cell_type": "code",
      "execution_count": null,
      "metadata": {
        "id": "lVAmLBcQPCnz"
      },
      "outputs": [],
      "source": [
        "A.sum(axis=0)    # axis = 0  vertical   "
      ]
    },
    {
      "cell_type": "code",
      "execution_count": null,
      "metadata": {
        "id": "duJAGtShPCn0"
      },
      "outputs": [],
      "source": [
        "A.sum(axis=1)    # axis = 1 horizontal"
      ]
    },
    {
      "cell_type": "code",
      "execution_count": null,
      "metadata": {
        "id": "cqF-7ANEPCn0"
      },
      "outputs": [],
      "source": [
        "A.mean(axis = 0)"
      ]
    },
    {
      "cell_type": "code",
      "execution_count": null,
      "metadata": {
        "id": "nHzmtKE-PCn1"
      },
      "outputs": [],
      "source": [
        "A.mean(axis = 1)"
      ]
    },
    {
      "cell_type": "code",
      "execution_count": null,
      "metadata": {
        "id": "AQfjGA8qPCn1"
      },
      "outputs": [],
      "source": [
        "A.std(axis = 0)"
      ]
    },
    {
      "cell_type": "code",
      "execution_count": null,
      "metadata": {
        "id": "tZjOFYQOPCn1"
      },
      "outputs": [],
      "source": [
        "A.std(axis = 1)"
      ]
    },
    {
      "cell_type": "code",
      "execution_count": null,
      "metadata": {
        "id": "YsH6db8APCn2"
      },
      "outputs": [],
      "source": [
        "# Broadcasting and Vectorized Operations\n",
        "\n",
        "a = np.arange(4)"
      ]
    },
    {
      "cell_type": "code",
      "execution_count": null,
      "metadata": {
        "id": "GD9PyQ9FPCn2"
      },
      "outputs": [],
      "source": [
        "a"
      ]
    },
    {
      "cell_type": "code",
      "execution_count": null,
      "metadata": {
        "id": "V_C8ylVHPCn3"
      },
      "outputs": [],
      "source": [
        "a + 10"
      ]
    },
    {
      "cell_type": "code",
      "execution_count": null,
      "metadata": {
        "id": "xLaV3z4OPCn3"
      },
      "outputs": [],
      "source": [
        " a * 10"
      ]
    },
    {
      "cell_type": "code",
      "execution_count": null,
      "metadata": {
        "id": "8wfGtDrKPCn3"
      },
      "outputs": [],
      "source": [
        "a"
      ]
    },
    {
      "cell_type": "code",
      "execution_count": null,
      "metadata": {
        "id": "oURYTB9uPCn4"
      },
      "outputs": [],
      "source": [
        "a += 100   # This operation will modify the array"
      ]
    },
    {
      "cell_type": "code",
      "execution_count": null,
      "metadata": {
        "id": "578weThqPCn4"
      },
      "outputs": [],
      "source": [
        "a"
      ]
    },
    {
      "cell_type": "code",
      "execution_count": null,
      "metadata": {
        "id": "tqQDRLfwPCn4"
      },
      "outputs": [],
      "source": [
        "l = [0,1,2,3]"
      ]
    },
    {
      "cell_type": "code",
      "execution_count": null,
      "metadata": {
        "id": "NUskQqgQPCn5"
      },
      "outputs": [],
      "source": [
        "[i * 10 for i in l]"
      ]
    },
    {
      "cell_type": "code",
      "execution_count": null,
      "metadata": {
        "id": "LKrMc_1BPCn5"
      },
      "outputs": [],
      "source": [
        "a = np.arange(4)"
      ]
    },
    {
      "cell_type": "code",
      "execution_count": null,
      "metadata": {
        "id": "Hoeu6bHFPCn5"
      },
      "outputs": [],
      "source": [
        "a"
      ]
    },
    {
      "cell_type": "code",
      "execution_count": null,
      "metadata": {
        "id": "j-5t29_QPCn6"
      },
      "outputs": [],
      "source": [
        "b = np.arange(5,9)"
      ]
    },
    {
      "cell_type": "code",
      "execution_count": null,
      "metadata": {
        "id": "QJ4sWa5aPCn6"
      },
      "outputs": [],
      "source": [
        "b"
      ]
    },
    {
      "cell_type": "code",
      "execution_count": null,
      "metadata": {
        "id": "VSvVxMQPPCn7"
      },
      "outputs": [],
      "source": [
        "a + b"
      ]
    },
    {
      "cell_type": "code",
      "execution_count": null,
      "metadata": {
        "id": "Io8HGaQ9PCn7"
      },
      "outputs": [],
      "source": [
        "a * b"
      ]
    },
    {
      "cell_type": "code",
      "execution_count": null,
      "metadata": {
        "id": "fo68BFfbPCn7"
      },
      "outputs": [],
      "source": [
        "# Boolean Arrays\n",
        "a = np.arange(4)"
      ]
    },
    {
      "cell_type": "code",
      "execution_count": null,
      "metadata": {
        "id": "lC6Z04j8PCn8"
      },
      "outputs": [],
      "source": [
        "a[[0,-1]] , a[0] , a[-1]"
      ]
    },
    {
      "cell_type": "code",
      "execution_count": null,
      "metadata": {
        "id": "TBX24EY9PCn8"
      },
      "outputs": [],
      "source": [
        "a[[True,False,False,True]]"
      ]
    },
    {
      "cell_type": "code",
      "execution_count": null,
      "metadata": {
        "id": "QSWVgsY6PCn9"
      },
      "outputs": [],
      "source": [
        "a >= 2"
      ]
    },
    {
      "cell_type": "code",
      "execution_count": null,
      "metadata": {
        "id": "c-voY0rRPCn_"
      },
      "outputs": [],
      "source": [
        "a[a >= 2]    # filtering "
      ]
    },
    {
      "cell_type": "code",
      "execution_count": null,
      "metadata": {
        "id": "kiwQyVzdPCoA"
      },
      "outputs": [],
      "source": [
        "a.mean()"
      ]
    },
    {
      "cell_type": "code",
      "execution_count": null,
      "metadata": {
        "id": "USeoTQsFPCoB"
      },
      "outputs": [],
      "source": [
        "a[ a > a.mean()]"
      ]
    },
    {
      "cell_type": "code",
      "execution_count": null,
      "metadata": {
        "id": "tCwkE1ncPCoB"
      },
      "outputs": [],
      "source": [
        "a [~(a >= a.mean())]"
      ]
    },
    {
      "cell_type": "code",
      "execution_count": null,
      "metadata": {
        "id": "PqD3OakXPCoC"
      },
      "outputs": [],
      "source": [
        "a[(a==0) | (a==1)]"
      ]
    },
    {
      "cell_type": "code",
      "execution_count": null,
      "metadata": {
        "id": "2I-0z8SPPCoC"
      },
      "outputs": [],
      "source": [
        "a[(a <= 2) & (a % 2 == 0)]"
      ]
    },
    {
      "cell_type": "code",
      "execution_count": null,
      "metadata": {
        "id": "OnCI7fvxPCoC"
      },
      "outputs": [],
      "source": [
        "A = np.random.randint(100, size=(3,3))"
      ]
    },
    {
      "cell_type": "code",
      "execution_count": null,
      "metadata": {
        "id": "3Ta06H5OPCoD"
      },
      "outputs": [],
      "source": [
        "A"
      ]
    },
    {
      "cell_type": "code",
      "execution_count": null,
      "metadata": {
        "id": "3N-Jy2IqPCoD"
      },
      "outputs": [],
      "source": [
        "A[np.array(\n",
        "    [   [True, False, True],\n",
        "        [False, True, True],\n",
        "        [True, True, False]\n",
        "    ] \n",
        ")]"
      ]
    },
    {
      "cell_type": "code",
      "execution_count": null,
      "metadata": {
        "id": "JtT8M8JOPCoE"
      },
      "outputs": [],
      "source": [
        "A > 30   # We can use the value returned  as filter "
      ]
    },
    {
      "cell_type": "code",
      "execution_count": null,
      "metadata": {
        "id": "3j1Gf13ePCoE"
      },
      "outputs": [],
      "source": [
        "A[ A > 30]"
      ]
    },
    {
      "cell_type": "code",
      "execution_count": null,
      "metadata": {
        "id": "-XoesfwjPCoE"
      },
      "outputs": [],
      "source": [
        "# Linear Algebra\n",
        "\n",
        "A = np.array([[1,2,3],\n",
        "        [4,5,6],\n",
        "        [7,8,9]\n",
        "])"
      ]
    },
    {
      "cell_type": "code",
      "execution_count": null,
      "metadata": {
        "id": "MV38QQBiPCoF"
      },
      "outputs": [],
      "source": [
        "A"
      ]
    },
    {
      "cell_type": "code",
      "execution_count": null,
      "metadata": {
        "id": "bys6dszCPCoF"
      },
      "outputs": [],
      "source": [
        "B = np.array([[1,2],[3,4],[5,6]])"
      ]
    },
    {
      "cell_type": "code",
      "execution_count": null,
      "metadata": {
        "id": "gkiE8AIxPCoG"
      },
      "outputs": [],
      "source": [
        "B"
      ]
    },
    {
      "cell_type": "code",
      "execution_count": null,
      "metadata": {
        "id": "p-NC9sLQPCoH"
      },
      "outputs": [],
      "source": [
        "A.dot(B)"
      ]
    },
    {
      "cell_type": "code",
      "execution_count": null,
      "metadata": {
        "id": "hNPkpLXJPCoH"
      },
      "outputs": [],
      "source": [
        "A @ B    # Cross product"
      ]
    },
    {
      "cell_type": "code",
      "execution_count": null,
      "metadata": {
        "id": "xp9ztjIVPCoI"
      },
      "outputs": [],
      "source": [
        "B.T"
      ]
    },
    {
      "cell_type": "code",
      "execution_count": null,
      "metadata": {
        "id": "s8CJ-TXwPCoI"
      },
      "outputs": [],
      "source": [
        "B.T @ A"
      ]
    },
    {
      "cell_type": "code",
      "execution_count": null,
      "metadata": {
        "id": "SwWYYm6ePCoJ"
      },
      "outputs": [],
      "source": [
        "# Size of objects in Memory\n",
        "sys.getsizeof(1)      # 28 bytes"
      ]
    },
    {
      "cell_type": "code",
      "execution_count": null,
      "metadata": {
        "id": "giyNyXvAPCoJ"
      },
      "outputs": [],
      "source": [
        "sys.getsizeof(10**100)"
      ]
    },
    {
      "cell_type": "code",
      "execution_count": null,
      "metadata": {
        "id": "ycnKDVk5PCoK"
      },
      "outputs": [],
      "source": [
        "np.dtype(np.int).itemsize   # Size is smaller"
      ]
    },
    {
      "cell_type": "code",
      "execution_count": null,
      "metadata": {
        "id": "lT4DMDUJPCoK"
      },
      "outputs": [],
      "source": [
        "np.dtype(np.int8).itemsize"
      ]
    },
    {
      "cell_type": "code",
      "execution_count": null,
      "metadata": {
        "id": "2a7i2r6BPCoL"
      },
      "outputs": [],
      "source": [
        "np.dtype(float).itemsize"
      ]
    },
    {
      "cell_type": "code",
      "execution_count": null,
      "metadata": {
        "id": "RRWvFwYtPCoM"
      },
      "outputs": [],
      "source": [
        "sys.getsizeof([1]), type([1]), type({1})"
      ]
    },
    {
      "cell_type": "code",
      "execution_count": null,
      "metadata": {
        "id": "cS9gjgc4PCoN"
      },
      "outputs": [],
      "source": [
        "np.array([1]).nbytes"
      ]
    },
    {
      "cell_type": "code",
      "execution_count": null,
      "metadata": {
        "id": "iTYHufxRPCoN"
      },
      "outputs": [],
      "source": [
        "# Performance Comparision\n",
        "l = list(range(1000))"
      ]
    },
    {
      "cell_type": "code",
      "execution_count": null,
      "metadata": {
        "id": "aq0u_OHAPCoO"
      },
      "outputs": [],
      "source": [
        "sum([x ** 2 for x in l])"
      ]
    },
    {
      "cell_type": "code",
      "execution_count": null,
      "metadata": {
        "tags": [],
        "id": "_5g2hDUzPCoO"
      },
      "outputs": [],
      "source": [
        "%time sum([x ** 2 for x in range(100000)])"
      ]
    },
    {
      "cell_type": "code",
      "execution_count": null,
      "metadata": {
        "id": "d_F794RcPCoP"
      },
      "outputs": [],
      "source": [
        "a = np.arange(100000)"
      ]
    },
    {
      "cell_type": "code",
      "execution_count": null,
      "metadata": {
        "id": "dK50zDZVPCoR"
      },
      "outputs": [],
      "source": [
        "np.sum(a ** 2)"
      ]
    },
    {
      "cell_type": "code",
      "execution_count": null,
      "metadata": {
        "tags": [],
        "id": "A53BvbYoPCoR"
      },
      "outputs": [],
      "source": [
        "%time  np.sum(a ** 2)"
      ]
    },
    {
      "cell_type": "code",
      "execution_count": null,
      "metadata": {
        "id": "fuoZBp2APCoR"
      },
      "outputs": [],
      "source": [
        "# Useful Numpy Functions\n",
        "\n",
        "# random\n",
        "\n",
        "np.random.random(size=2)\n"
      ]
    },
    {
      "cell_type": "code",
      "execution_count": null,
      "metadata": {
        "id": "du-LlcCMPCoS"
      },
      "outputs": [],
      "source": [
        "np.random.normal(size=2)"
      ]
    },
    {
      "cell_type": "code",
      "execution_count": null,
      "metadata": {
        "id": "paC9DfPjPCoS"
      },
      "outputs": [],
      "source": [
        "np.random.rand(2,4)"
      ]
    },
    {
      "cell_type": "code",
      "execution_count": null,
      "metadata": {
        "id": "jI_K3TUVPCoT"
      },
      "outputs": [],
      "source": [
        "#arange\n",
        "\n",
        "np.arange(10)"
      ]
    },
    {
      "cell_type": "code",
      "execution_count": null,
      "metadata": {
        "id": "BtMFGJkLPCoW"
      },
      "outputs": [],
      "source": [
        "np.arange(5, 10)"
      ]
    },
    {
      "cell_type": "code",
      "execution_count": null,
      "metadata": {
        "id": "v2u9xRduPCoX"
      },
      "outputs": [],
      "source": [
        "np.arange(0,1,.1)"
      ]
    },
    {
      "cell_type": "code",
      "execution_count": null,
      "metadata": {
        "id": "ebWWJQJIPCoX"
      },
      "outputs": [],
      "source": [
        "# reshape\n",
        "\n",
        "np.arange(10).reshape(2,5)"
      ]
    },
    {
      "cell_type": "code",
      "execution_count": null,
      "metadata": {
        "id": "GOCKCbAaPCoY"
      },
      "outputs": [],
      "source": [
        "# linspace\n",
        "\n",
        "np.linspace(0,1,5)"
      ]
    },
    {
      "cell_type": "code",
      "execution_count": null,
      "metadata": {
        "id": "AnOncZyfPCoY"
      },
      "outputs": [],
      "source": [
        "np.linspace(0,1,20)"
      ]
    },
    {
      "cell_type": "code",
      "execution_count": null,
      "metadata": {
        "id": "1ueIrHmbPCoZ"
      },
      "outputs": [],
      "source": [
        "np.linspace(0,1,20,False)"
      ]
    },
    {
      "cell_type": "code",
      "execution_count": null,
      "metadata": {
        "id": "ot6Grge8PCoZ"
      },
      "outputs": [],
      "source": [
        "# zeros, empty and ones\n",
        "# The empty() function is used to create a new array of given shape and type, without initializing entries.\n",
        "np.zeros(4)"
      ]
    },
    {
      "cell_type": "code",
      "execution_count": null,
      "metadata": {
        "id": "Ga7FXP1KPCoa"
      },
      "outputs": [],
      "source": [
        "np.zeros((3,3))"
      ]
    },
    {
      "cell_type": "code",
      "execution_count": null,
      "metadata": {
        "id": "4jmxGrhePCoa"
      },
      "outputs": [],
      "source": [
        "np.zeros((3,3),dtype=int)"
      ]
    },
    {
      "cell_type": "code",
      "execution_count": null,
      "metadata": {
        "id": "p9F85zf-PCoa"
      },
      "outputs": [],
      "source": [
        "np.ones(5)"
      ]
    },
    {
      "cell_type": "code",
      "execution_count": null,
      "metadata": {
        "id": "hO9PzmitPCob"
      },
      "outputs": [],
      "source": [
        "np.ones([5,9], dtype=int)"
      ]
    },
    {
      "cell_type": "code",
      "execution_count": null,
      "metadata": {
        "id": "a7TkTtK2PCob"
      },
      "outputs": [],
      "source": [
        "np.empty(5)"
      ]
    },
    {
      "cell_type": "code",
      "execution_count": null,
      "metadata": {
        "id": "3KKNqiDMPCob"
      },
      "outputs": [],
      "source": [
        "np.empty([2,2])"
      ]
    },
    {
      "cell_type": "code",
      "execution_count": null,
      "metadata": {
        "id": "IbYe4uMKPCoc"
      },
      "outputs": [],
      "source": [
        "#identity and eye\n",
        "# As you say, the main difference is that with eye the diagonal can may be offset, whereas identity only fills the main diagonal.\n",
        "np.identity(3, dtype=int)"
      ]
    },
    {
      "cell_type": "code",
      "execution_count": null,
      "metadata": {
        "id": "83cg6LcLPCoc"
      },
      "outputs": [],
      "source": [
        "np.eye(2)"
      ]
    },
    {
      "cell_type": "code",
      "execution_count": null,
      "metadata": {
        "id": "aEW_WlpPPCoc"
      },
      "outputs": [],
      "source": [
        "# matrix with R=4 C=5 and 1 on diagnol \n",
        "# above main diagnol\n",
        "\n",
        "np.eye(4, 5, k= 1)"
      ]
    },
    {
      "cell_type": "code",
      "execution_count": null,
      "metadata": {
        "id": "yk1FkCmzPCod"
      },
      "outputs": [],
      "source": [
        "np.eye(8, 4, k=-3)"
      ]
    },
    {
      "cell_type": "code",
      "execution_count": null,
      "metadata": {
        "id": "6EbK4OZLPCod"
      },
      "outputs": [],
      "source": [
        "\"Hello World\"[6]"
      ]
    }
  ]
}