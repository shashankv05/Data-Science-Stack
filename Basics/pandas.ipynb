{
  "metadata": {
    "language_info": {
      "codemirror_mode": {
        "name": "ipython",
        "version": 3
      },
      "file_extension": ".py",
      "mimetype": "text/x-python",
      "name": "python",
      "nbconvert_exporter": "python",
      "pygments_lexer": "ipython3",
      "version": "3.8.4-final"
    },
    "orig_nbformat": 2,
    "kernelspec": {
      "name": "python3",
      "display_name": "Python 3.8.4 64-bit",
      "metadata": {
        "interpreter": {
          "hash": "1baa965d5efe3ac65b79dfc60c0d706280b1da80fedb7760faf2759126c4f253"
        }
      }
    },
    "colab": {
      "provenance": [],
      "include_colab_link": true
    }
  },
  "nbformat": 4,
  "nbformat_minor": 0,
  "cells": [
    {
      "cell_type": "markdown",
      "metadata": {
        "id": "view-in-github",
        "colab_type": "text"
      },
      "source": [
        "<a href=\"https://colab.research.google.com/github/shashankv05/Colab_Notebooks/blob/main/Pandas.ipynb\" target=\"_parent\"><img src=\"https://colab.research.google.com/assets/colab-badge.svg\" alt=\"Open In Colab\"/></a>"
      ]
    },
    {
      "cell_type": "code",
      "execution_count": null,
      "metadata": {
        "id": "fUpOf9r7PvWZ"
      },
      "outputs": [],
      "source": [
        "# Pandas Series\n",
        "import pandas as pd \n",
        "import numpy as np"
      ]
    },
    {
      "cell_type": "code",
      "execution_count": null,
      "metadata": {
        "id": "7loNsUybPvWd"
      },
      "outputs": [],
      "source": [
        "# Pandas Series\n",
        "g7_population = pd.Series([45.467, 25.457, 95.759, 154.78, 159.795, 65.45,87.24])"
      ]
    },
    {
      "cell_type": "code",
      "execution_count": null,
      "metadata": {
        "id": "e88-69bWPvWe",
        "outputId": "5f52901b-5cdf-4131-f1dd-b46555fb5558"
      },
      "outputs": [
        {
          "output_type": "execute_result",
          "data": {
            "text/plain": [
              "0     45.467\n",
              "1     25.457\n",
              "2     95.759\n",
              "3    154.780\n",
              "4    159.795\n",
              "5     65.450\n",
              "6     87.240\n",
              "dtype: float64"
            ]
          },
          "metadata": {},
          "execution_count": 3
        }
      ],
      "source": [
        "g7_population  # The underlying Data Structure that pandas uses to store these objects is Numpy"
      ]
    },
    {
      "cell_type": "code",
      "execution_count": null,
      "metadata": {
        "id": "edEqBxGhPvWg"
      },
      "outputs": [],
      "source": [
        "g7_population.name =\"G7 Population In Millions\""
      ]
    },
    {
      "cell_type": "code",
      "execution_count": null,
      "metadata": {
        "id": "VwAB_Dv8PvWg",
        "outputId": "57619d0e-36dd-41a8-a254-4caaa34318aa"
      },
      "outputs": [
        {
          "output_type": "execute_result",
          "data": {
            "text/plain": [
              "0     45.467\n",
              "1     25.457\n",
              "2     95.759\n",
              "3    154.780\n",
              "4    159.795\n",
              "5     65.450\n",
              "6     87.240\n",
              "Name: G7 Population In Millions, dtype: float64"
            ]
          },
          "metadata": {},
          "execution_count": 5
        }
      ],
      "source": [
        "g7_population"
      ]
    },
    {
      "cell_type": "code",
      "execution_count": null,
      "metadata": {
        "id": "O4GmnTyqPvWh",
        "outputId": "061001f7-cc13-4843-fb20-b7828fac8d73"
      },
      "outputs": [
        {
          "output_type": "execute_result",
          "data": {
            "text/plain": [
              "array([ 45.467,  25.457,  95.759, 154.78 , 159.795,  65.45 ,  87.24 ])"
            ]
          },
          "metadata": {},
          "execution_count": 6
        }
      ],
      "source": [
        "g7_population.values  # Actually backed by numpy arrays"
      ]
    },
    {
      "cell_type": "code",
      "execution_count": null,
      "metadata": {
        "id": "wL-lfPZUPvWh",
        "outputId": "06fd262a-c48e-489d-9f0a-43692ca22400"
      },
      "outputs": [
        {
          "output_type": "execute_result",
          "data": {
            "text/plain": [
              "45.467"
            ]
          },
          "metadata": {},
          "execution_count": 7
        }
      ],
      "source": [
        "g7_population[0]"
      ]
    },
    {
      "cell_type": "code",
      "execution_count": null,
      "metadata": {
        "id": "zEOD85epPvWi",
        "outputId": "adc56669-35f4-4f68-c23f-59b6b8fee7f1"
      },
      "outputs": [
        {
          "output_type": "execute_result",
          "data": {
            "text/plain": [
              "25.457"
            ]
          },
          "metadata": {},
          "execution_count": 8
        }
      ],
      "source": [
        "g7_population[1]"
      ]
    },
    {
      "cell_type": "code",
      "execution_count": null,
      "metadata": {
        "id": "_9R7rHtrPvWi",
        "outputId": "61f21e54-44bf-474f-8fe9-c7d0a6ae645e"
      },
      "outputs": [
        {
          "output_type": "execute_result",
          "data": {
            "text/plain": [
              "RangeIndex(start=0, stop=7, step=1)"
            ]
          },
          "metadata": {},
          "execution_count": 9
        }
      ],
      "source": [
        "g7_population.index"
      ]
    },
    {
      "cell_type": "code",
      "execution_count": null,
      "metadata": {
        "id": "Qsms4LhIPvWj"
      },
      "outputs": [],
      "source": [
        "g7_population.index = [\n",
        "    'Canada',\n",
        "    'France',\n",
        "    'Germany',\n",
        "    'United States',\n",
        "    'Japan',\n",
        "    'Italy',\n",
        "    'United Kingdom'\n",
        "]"
      ]
    },
    {
      "cell_type": "code",
      "execution_count": null,
      "metadata": {
        "id": "WB9KBbgfPvWj",
        "outputId": "8556c164-33df-4f3c-8b46-07209d89af30"
      },
      "outputs": [
        {
          "output_type": "execute_result",
          "data": {
            "text/plain": [
              "Canada             45.467\n",
              "France             25.457\n",
              "Germany            95.759\n",
              "United States     154.780\n",
              "Japan             159.795\n",
              "Italy              65.450\n",
              "United Kingdom     87.240\n",
              "Name: G7 Population In Millions, dtype: float64"
            ]
          },
          "metadata": {},
          "execution_count": 16
        }
      ],
      "source": [
        "g7_population"
      ]
    },
    {
      "cell_type": "code",
      "execution_count": null,
      "metadata": {
        "id": "key8W42rPvWk",
        "outputId": "4841d3c5-b845-4334-b301-47aeefe98bbf"
      },
      "outputs": [
        {
          "output_type": "execute_result",
          "data": {
            "text/plain": [
              "45.467"
            ]
          },
          "metadata": {},
          "execution_count": 13
        }
      ],
      "source": [
        "g7_population[0]    #g7_population['Cananda']"
      ]
    },
    {
      "cell_type": "code",
      "execution_count": null,
      "metadata": {
        "id": "FvpijWg0PvWk"
      },
      "outputs": [],
      "source": [
        "g7_population[0] = 54.457"
      ]
    },
    {
      "cell_type": "code",
      "execution_count": null,
      "metadata": {
        "id": "vM02TcofPvWl",
        "outputId": "348fc5de-ae4e-4cec-bcf8-218227bb2ec2"
      },
      "outputs": [
        {
          "output_type": "execute_result",
          "data": {
            "text/plain": [
              "Canada             45.467\n",
              "France             25.457\n",
              "Germany            80.940\n",
              "Italy              65.450\n",
              "United States     159.795\n",
              "United Kingdom     87.240\n",
              "Japan              95.759\n",
              "Name: G7 Population In millions, dtype: float64"
            ]
          },
          "metadata": {},
          "execution_count": 15
        }
      ],
      "source": [
        "pd.Series({\n",
        "    'Canada': 45.467,\n",
        "    'France': 25.457,\n",
        "    'Germany':80.94,\n",
        "    'Italy':65.450,\n",
        "    'United States': 159.795,\n",
        "    'United Kingdom':87.240,\n",
        "    'Japan':95.759\n",
        "}, name = \"G7 Population In millions\")"
      ]
    },
    {
      "cell_type": "code",
      "execution_count": null,
      "metadata": {
        "id": "fgeuylvEPvWl",
        "outputId": "8574ed72-0f76-412f-878c-025f8c43d356"
      },
      "outputs": [
        {
          "output_type": "execute_result",
          "data": {
            "text/plain": [
              "France         25.457\n",
              "Germany        95.759\n",
              "Italy          65.450\n",
              "South Korea       NaN\n",
              "Name: G7 Population In Millions, dtype: float64"
            ]
          },
          "metadata": {},
          "execution_count": 16
        }
      ],
      "source": [
        "# Creating Series out of other series\n",
        "pd.Series(g7_population, index = ['France','Germany','Italy','South Korea'])"
      ]
    },
    {
      "cell_type": "code",
      "execution_count": null,
      "metadata": {
        "id": "bQT9ZFw9PvWm",
        "outputId": "a5c482f3-dcdb-4ddf-d352-e3b1ec769ceb"
      },
      "outputs": [
        {
          "output_type": "execute_result",
          "data": {
            "text/plain": [
              "Canada             54.457\n",
              "France             25.457\n",
              "Germany            95.759\n",
              "United States     154.780\n",
              "Japan             159.795\n",
              "Italy              65.450\n",
              "United Kingdom     87.240\n",
              "Name: G7 Population In Millions, dtype: float64"
            ]
          },
          "metadata": {},
          "execution_count": 17
        }
      ],
      "source": [
        "g7_population"
      ]
    },
    {
      "cell_type": "code",
      "execution_count": null,
      "metadata": {
        "id": "2kA1SvaGPvWn",
        "outputId": "c0e58f73-1e9f-4811-aa44-22f46b3421a0"
      },
      "outputs": [
        {
          "output_type": "execute_result",
          "data": {
            "text/plain": [
              "159.795"
            ]
          },
          "metadata": {},
          "execution_count": 18
        }
      ],
      "source": [
        "#Indexing\n",
        "g7_population['Japan']"
      ]
    },
    {
      "cell_type": "code",
      "execution_count": null,
      "metadata": {
        "id": "bbgyRlCqPvWo",
        "outputId": "283f87a2-bce0-4536-9276-dd0cb7ce096b"
      },
      "outputs": [
        {
          "output_type": "execute_result",
          "data": {
            "text/plain": [
              "154.78"
            ]
          },
          "metadata": {},
          "execution_count": 19
        }
      ],
      "source": [
        "g7_population['United States']"
      ]
    },
    {
      "cell_type": "code",
      "execution_count": null,
      "metadata": {
        "id": "Gr4rnKM6PvWq",
        "outputId": "e3e50fb2-e1fe-4f6e-890c-684f55d7101c"
      },
      "outputs": [
        {
          "output_type": "execute_result",
          "data": {
            "text/plain": [
              "54.457"
            ]
          },
          "metadata": {},
          "execution_count": 20
        }
      ],
      "source": [
        "g7_population.iloc[0]  # g7_population[0]"
      ]
    },
    {
      "cell_type": "code",
      "execution_count": null,
      "metadata": {
        "id": "oGpZwpJ_PvWr",
        "outputId": "b80048f3-59cf-4ef9-fd4d-c7e128abde10"
      },
      "outputs": [
        {
          "output_type": "execute_result",
          "data": {
            "text/plain": [
              "87.24"
            ]
          },
          "metadata": {},
          "execution_count": 21
        }
      ],
      "source": [
        "g7_population.iloc[-1]"
      ]
    },
    {
      "cell_type": "code",
      "execution_count": null,
      "metadata": {
        "id": "qcjeh4qyPvWr",
        "outputId": "fb6dc902-3567-4194-9d08-a386cbc06b34"
      },
      "outputs": [
        {
          "output_type": "execute_result",
          "data": {
            "text/plain": [
              "Canada    54.457\n",
              "France    25.457\n",
              "Name: G7 Population In Millions, dtype: float64"
            ]
          },
          "metadata": {},
          "execution_count": 22
        }
      ],
      "source": [
        "g7_population[[0, 1]]"
      ]
    },
    {
      "cell_type": "code",
      "execution_count": null,
      "metadata": {
        "id": "gyLJukfjPvWs",
        "outputId": "cd8a9198-a389-4eed-9f58-ca78be94b85f"
      },
      "outputs": [
        {
          "output_type": "execute_result",
          "data": {
            "text/plain": [
              "Japan            159.795\n",
              "United States    154.780\n",
              "Name: G7 Population In Millions, dtype: float64"
            ]
          },
          "metadata": {},
          "execution_count": 23
        }
      ],
      "source": [
        "g7_population[['Japan', 'United States']]"
      ]
    },
    {
      "cell_type": "code",
      "execution_count": null,
      "metadata": {
        "id": "peaSElZYPvWs",
        "outputId": "9d9039c4-23f4-4ae0-bc10-00467b5c3b3d"
      },
      "outputs": [
        {
          "output_type": "execute_result",
          "data": {
            "text/plain": [
              "Canada    54.457\n",
              "France    25.457\n",
              "Name: G7 Population In Millions, dtype: float64"
            ]
          },
          "metadata": {},
          "execution_count": 24
        }
      ],
      "source": [
        "g7_population.iloc[[0, 1]]"
      ]
    },
    {
      "cell_type": "code",
      "execution_count": null,
      "metadata": {
        "id": "BrmHbddWPvWt",
        "outputId": "dc200566-aaea-48fb-b7e3-f69f1d0fba5b"
      },
      "outputs": [
        {
          "output_type": "execute_result",
          "data": {
            "text/plain": [
              "Canada            54.457\n",
              "France            25.457\n",
              "Germany           95.759\n",
              "United States    154.780\n",
              "Japan            159.795\n",
              "Name: G7 Population In Millions, dtype: float64"
            ]
          },
          "metadata": {},
          "execution_count": 25
        }
      ],
      "source": [
        "g7_population['Canada':'Japan']   # Upper limit Japan is also included"
      ]
    },
    {
      "cell_type": "code",
      "execution_count": null,
      "metadata": {
        "id": "s0D1LA7RPvWt",
        "outputId": "c1fd5ea1-a618-42e7-f9ca-4e5ddea738b7"
      },
      "outputs": [
        {
          "output_type": "execute_result",
          "data": {
            "text/plain": [
              "Canada            False\n",
              "France            False\n",
              "Germany            True\n",
              "United States      True\n",
              "Japan              True\n",
              "Italy             False\n",
              "United Kingdom     True\n",
              "Name: G7 Population In Millions, dtype: bool"
            ]
          },
          "metadata": {},
          "execution_count": 26
        }
      ],
      "source": [
        "g7_population > 70"
      ]
    },
    {
      "cell_type": "code",
      "execution_count": null,
      "metadata": {
        "id": "O_Pt8BZ8PvWt",
        "outputId": "17ef271e-c6dd-4726-c763-f9066e2e5b56"
      },
      "outputs": [
        {
          "output_type": "execute_result",
          "data": {
            "text/plain": [
              "Germany            95.759\n",
              "United States     154.780\n",
              "Japan             159.795\n",
              "United Kingdom     87.240\n",
              "Name: G7 Population In Millions, dtype: float64"
            ]
          },
          "metadata": {},
          "execution_count": 27
        }
      ],
      "source": [
        "g7_population[g7_population > 70]"
      ]
    },
    {
      "cell_type": "code",
      "execution_count": null,
      "metadata": {
        "id": "-U6owLC1PvWu",
        "outputId": "27707f4d-ff74-4d2b-eb10-2fcc136a1d67"
      },
      "outputs": [
        {
          "output_type": "execute_result",
          "data": {
            "text/plain": [
              "91.84828571428571"
            ]
          },
          "metadata": {},
          "execution_count": 28
        }
      ],
      "source": [
        "g7_population.mean()"
      ]
    },
    {
      "cell_type": "code",
      "execution_count": null,
      "metadata": {
        "id": "np8x3nPEPvWv",
        "outputId": "aac07f89-5854-47dc-b014-478cef8c9f92"
      },
      "outputs": [
        {
          "output_type": "execute_result",
          "data": {
            "text/plain": [
              "Germany           95.759\n",
              "United States    154.780\n",
              "Japan            159.795\n",
              "Name: G7 Population In Millions, dtype: float64"
            ]
          },
          "metadata": {},
          "execution_count": 29
        }
      ],
      "source": [
        "g7_population[ g7_population > g7_population.mean()]"
      ]
    },
    {
      "cell_type": "code",
      "execution_count": null,
      "metadata": {
        "id": "9RnQwn4IPvWv",
        "outputId": "a7d609aa-aff9-4426-b39e-f80395794eb7"
      },
      "outputs": [
        {
          "output_type": "execute_result",
          "data": {
            "text/plain": [
              "50.193736633549165"
            ]
          },
          "metadata": {},
          "execution_count": 30
        }
      ],
      "source": [
        "g7_population.std()"
      ]
    },
    {
      "cell_type": "code",
      "execution_count": null,
      "metadata": {
        "id": "J4YM298cPvWw",
        "outputId": "0e882973-b4dd-4754-8c87-26d70b756805"
      },
      "outputs": [
        {
          "output_type": "execute_result",
          "data": {
            "text/plain": [
              "Canada             54457000.0\n",
              "France             25457000.0\n",
              "Germany            95759000.0\n",
              "United States     154780000.0\n",
              "Japan             159795000.0\n",
              "Italy              65450000.0\n",
              "United Kingdom     87240000.0\n",
              "Name: G7 Population In Millions, dtype: float64"
            ]
          },
          "metadata": {},
          "execution_count": 31
        }
      ],
      "source": [
        "g7_population * 1_000_000"
      ]
    },
    {
      "cell_type": "code",
      "execution_count": null,
      "metadata": {
        "id": "AC-XHE_YPvWw",
        "outputId": "5e6b62c1-48e6-4332-bb64-598a13958ccd"
      },
      "outputs": [
        {
          "output_type": "execute_result",
          "data": {
            "text/plain": [
              "Germany            95.759\n",
              "United States     154.780\n",
              "Japan             159.795\n",
              "United Kingdom     87.240\n",
              "Name: G7 Population In Millions, dtype: float64"
            ]
          },
          "metadata": {},
          "execution_count": 32
        }
      ],
      "source": [
        "g7_population[(g7_population > g7_population.mean() - g7_population.std()/2) |\n",
        "                (g7_population > g7_population.mean() + g7_population.std()/2)\n",
        " ]"
      ]
    },
    {
      "cell_type": "code",
      "execution_count": null,
      "metadata": {
        "id": "RvwnreFuPvWw",
        "outputId": "f891da28-441e-4031-a10d-4000453fdbc8"
      },
      "outputs": [
        {
          "output_type": "execute_result",
          "data": {
            "text/plain": [
              "Canada             54.457\n",
              "France             25.457\n",
              "Germany            95.759\n",
              "United States     154.780\n",
              "Japan             159.795\n",
              "Italy              65.450\n",
              "United Kingdom     87.240\n",
              "Name: G7 Population In Millions, dtype: float64"
            ]
          },
          "metadata": {},
          "execution_count": 33
        }
      ],
      "source": [
        "g7_population"
      ]
    },
    {
      "cell_type": "code",
      "execution_count": null,
      "metadata": {
        "id": "Zc5RJ2qpPvWx",
        "outputId": "8143b1c9-78ec-4945-b681-acbcf475dc51"
      },
      "outputs": [
        {
          "output_type": "execute_result",
          "data": {
            "text/plain": [
              "Canada            3.997411\n",
              "France            3.236991\n",
              "Germany           4.561835\n",
              "United States     5.042005\n",
              "Japan             5.073892\n",
              "Italy             4.181286\n",
              "United Kingdom    4.468663\n",
              "Name: G7 Population In Millions, dtype: float64"
            ]
          },
          "metadata": {},
          "execution_count": 34
        }
      ],
      "source": [
        "np.log(g7_population)"
      ]
    },
    {
      "cell_type": "code",
      "execution_count": null,
      "metadata": {
        "id": "5720l7kIPvWx",
        "outputId": "96767649-2ea2-4c97-823e-e73e368cfd2b"
      },
      "outputs": [
        {
          "output_type": "execute_result",
          "data": {
            "text/plain": [
              "98.04959999999998"
            ]
          },
          "metadata": {},
          "execution_count": 35
        }
      ],
      "source": [
        "g7_population['Canada':'Japan'].mean()"
      ]
    },
    {
      "cell_type": "code",
      "execution_count": null,
      "metadata": {
        "id": "YYdF2ocgPvWy",
        "outputId": "b2a58eab-3d0d-4ce8-997e-1c3337227889"
      },
      "outputs": [
        {
          "output_type": "execute_result",
          "data": {
            "text/plain": [
              "Canada             54.457\n",
              "France             25.457\n",
              "Germany            95.759\n",
              "United States     154.780\n",
              "Japan             159.795\n",
              "Italy              65.450\n",
              "United Kingdom     87.240\n",
              "Name: G7 Population In Millions, dtype: float64"
            ]
          },
          "metadata": {},
          "execution_count": 36
        }
      ],
      "source": [
        "g7_population"
      ]
    },
    {
      "cell_type": "code",
      "execution_count": null,
      "metadata": {
        "id": "ptNxL-BOPvWy"
      },
      "outputs": [],
      "source": [
        "g7_population['United Kingdom'] = 90.7"
      ]
    },
    {
      "cell_type": "code",
      "execution_count": null,
      "metadata": {
        "id": "ZsbvcdTjPvWz"
      },
      "outputs": [],
      "source": [
        "g7_population.iloc[1] = 45.457"
      ]
    },
    {
      "cell_type": "code",
      "execution_count": null,
      "metadata": {
        "id": "LZVgTDY4PvWz"
      },
      "outputs": [],
      "source": [
        "g7_population[g7_population < 90] = 45.457   #Will be used wen we are cleaning data"
      ]
    },
    {
      "cell_type": "code",
      "execution_count": null,
      "metadata": {
        "id": "DW-g8d3LPvW0",
        "outputId": "252f13ba-c58e-4cbc-9381-00b0508d7103"
      },
      "outputs": [
        {
          "output_type": "execute_result",
          "data": {
            "text/plain": [
              "Canada             45.457\n",
              "France             45.457\n",
              "Germany            95.759\n",
              "United States     154.780\n",
              "Japan             159.795\n",
              "Italy              45.457\n",
              "United Kingdom     90.700\n",
              "Name: G7 Population In Millions, dtype: float64"
            ]
          },
          "metadata": {},
          "execution_count": 40
        }
      ],
      "source": [
        "g7_population"
      ]
    },
    {
      "cell_type": "code",
      "execution_count": null,
      "metadata": {
        "id": "WoMdT62IPvXA",
        "outputId": "f3536910-5810-4169-e2ff-f1eca15fbbb0"
      },
      "outputs": [
        {
          "output_type": "execute_result",
          "data": {
            "text/plain": [
              "159.795"
            ]
          },
          "metadata": {},
          "execution_count": 41
        }
      ],
      "source": [
        "g7_population['Japan']"
      ]
    },
    {
      "cell_type": "code",
      "execution_count": null,
      "metadata": {
        "id": "pyoF9-w8PvXB",
        "outputId": "a4c15c39-194a-4bfa-bd11-4298a0f95931"
      },
      "outputs": [
        {
          "output_type": "execute_result",
          "data": {
            "text/plain": [
              "Canada    45.457\n",
              "France    45.457\n",
              "Name: G7 Population In Millions, dtype: float64"
            ]
          },
          "metadata": {},
          "execution_count": 45
        }
      ],
      "source": [
        "g7_population[[0,1]]"
      ]
    },
    {
      "cell_type": "code",
      "execution_count": null,
      "metadata": {
        "id": "IEWOCYg8PvXC"
      },
      "outputs": [],
      "source": []
    }
  ]
}