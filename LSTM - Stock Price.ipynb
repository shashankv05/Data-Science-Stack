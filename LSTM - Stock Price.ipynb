{
  "nbformat": 4,
  "nbformat_minor": 0,
  "metadata": {
    "colab": {
      "name": "Stock Price Prediction Using Python & Machine Learning.ipynb",
      "provenance": [],
      "collapsed_sections": [],
      "authorship_tag": "ABX9TyN++Z1FZ7kI7OfQOvQJYS87",
      "include_colab_link": true
    },
    "kernelspec": {
      "name": "python3",
      "display_name": "Python 3"
    },
    "language_info": {
      "name": "python"
    }
  },
  "cells": [
    {
      "cell_type": "markdown",
      "metadata": {
        "id": "view-in-github",
        "colab_type": "text"
      },
      "source": [
        "<a href=\"https://colab.research.google.com/github/shashankv05/Colab_Notebooks/blob/main/Stock_Price_Prediction_Using_Python_%26_Machine_Learning.ipynb\" target=\"_parent\"><img src=\"https://colab.research.google.com/assets/colab-badge.svg\" alt=\"Open In Colab\"/></a>"
      ]
    },
    {
      "cell_type": "markdown",
      "metadata": {
        "id": "F9hG2zwUbavK"
      },
      "source": [
        "### **Description : LSTM(Long Short Term Memory)**\n",
        "#### **LSTM CAN LOOK BACK IN MANY TIMESTEPS AND USE THAT INFORMATION TO MAKE GOOD PREDICTION ON WHAT IS GOING TO HAPPEN NEXT**\n",
        "####**LSTM WORKS WELL WITH SEQUENTIAL PATTERNS**"
      ]
    },
    {
      "cell_type": "code",
      "metadata": {
        "id": "yY-6o_zmCyvN"
      },
      "source": [
        "import math\n",
        "import pandas_datareader as web\n",
        "import numpy as np \n",
        "import pandas as pd \n",
        "from sklearn.preprocessing import MinMaxScaler\n",
        "from keras.models import Sequential\n",
        "from keras.layers import Dense, LSTM\n",
        "import matplotlib.pyplot as plt\n",
        "%matplotlib inline\n",
        "plt.style.use('fivethirtyeight')"
      ],
      "execution_count": null,
      "outputs": []
    },
    {
      "cell_type": "code",
      "metadata": {
        "id": "PsOyHP3rESH-"
      },
      "source": [
        "df = web.DataReader('TSLA', data_source = 'yahoo', start = '2016-01-01', end = '2021-05-21' )"
      ],
      "execution_count": null,
      "outputs": []
    },
    {
      "cell_type": "code",
      "metadata": {
        "colab": {
          "base_uri": "https://localhost:8080/",
          "height": 235
        },
        "id": "G-PpKVTXFJHO",
        "outputId": "1b504631-6e26-48a9-e070-38b043a0a05c"
      },
      "source": [
        "df.head()"
      ],
      "execution_count": null,
      "outputs": [
        {
          "output_type": "execute_result",
          "data": {
            "text/html": [
              "<div>\n",
              "<style scoped>\n",
              "    .dataframe tbody tr th:only-of-type {\n",
              "        vertical-align: middle;\n",
              "    }\n",
              "\n",
              "    .dataframe tbody tr th {\n",
              "        vertical-align: top;\n",
              "    }\n",
              "\n",
              "    .dataframe thead th {\n",
              "        text-align: right;\n",
              "    }\n",
              "</style>\n",
              "<table border=\"1\" class=\"dataframe\">\n",
              "  <thead>\n",
              "    <tr style=\"text-align: right;\">\n",
              "      <th></th>\n",
              "      <th>High</th>\n",
              "      <th>Low</th>\n",
              "      <th>Open</th>\n",
              "      <th>Close</th>\n",
              "      <th>Volume</th>\n",
              "      <th>Adj Close</th>\n",
              "    </tr>\n",
              "    <tr>\n",
              "      <th>Date</th>\n",
              "      <th></th>\n",
              "      <th></th>\n",
              "      <th></th>\n",
              "      <th></th>\n",
              "      <th></th>\n",
              "      <th></th>\n",
              "    </tr>\n",
              "  </thead>\n",
              "  <tbody>\n",
              "    <tr>\n",
              "      <th>2016-01-04</th>\n",
              "      <td>46.276001</td>\n",
              "      <td>43.799999</td>\n",
              "      <td>46.144001</td>\n",
              "      <td>44.681999</td>\n",
              "      <td>34135500.0</td>\n",
              "      <td>44.681999</td>\n",
              "    </tr>\n",
              "    <tr>\n",
              "      <th>2016-01-05</th>\n",
              "      <td>45.377998</td>\n",
              "      <td>44.000000</td>\n",
              "      <td>45.271999</td>\n",
              "      <td>44.686001</td>\n",
              "      <td>15934000.0</td>\n",
              "      <td>44.686001</td>\n",
              "    </tr>\n",
              "    <tr>\n",
              "      <th>2016-01-06</th>\n",
              "      <td>44.009998</td>\n",
              "      <td>43.195999</td>\n",
              "      <td>44.000000</td>\n",
              "      <td>43.807999</td>\n",
              "      <td>18895500.0</td>\n",
              "      <td>43.807999</td>\n",
              "    </tr>\n",
              "    <tr>\n",
              "      <th>2016-01-07</th>\n",
              "      <td>43.688000</td>\n",
              "      <td>42.734001</td>\n",
              "      <td>42.838001</td>\n",
              "      <td>43.130001</td>\n",
              "      <td>17771500.0</td>\n",
              "      <td>43.130001</td>\n",
              "    </tr>\n",
              "    <tr>\n",
              "      <th>2016-01-08</th>\n",
              "      <td>44.088001</td>\n",
              "      <td>42.153999</td>\n",
              "      <td>43.571999</td>\n",
              "      <td>42.200001</td>\n",
              "      <td>18140500.0</td>\n",
              "      <td>42.200001</td>\n",
              "    </tr>\n",
              "  </tbody>\n",
              "</table>\n",
              "</div>"
            ],
            "text/plain": [
              "                 High        Low       Open      Close      Volume  Adj Close\n",
              "Date                                                                         \n",
              "2016-01-04  46.276001  43.799999  46.144001  44.681999  34135500.0  44.681999\n",
              "2016-01-05  45.377998  44.000000  45.271999  44.686001  15934000.0  44.686001\n",
              "2016-01-06  44.009998  43.195999  44.000000  43.807999  18895500.0  43.807999\n",
              "2016-01-07  43.688000  42.734001  42.838001  43.130001  17771500.0  43.130001\n",
              "2016-01-08  44.088001  42.153999  43.571999  42.200001  18140500.0  42.200001"
            ]
          },
          "metadata": {
            "tags": []
          },
          "execution_count": 174
        }
      ]
    },
    {
      "cell_type": "code",
      "metadata": {
        "id": "ORi0FGhuFoFd",
        "colab": {
          "base_uri": "https://localhost:8080/"
        },
        "outputId": "f995dbf8-996d-4517-9a9d-62fb92036d23"
      },
      "source": [
        "df.shape"
      ],
      "execution_count": null,
      "outputs": [
        {
          "output_type": "execute_result",
          "data": {
            "text/plain": [
              "(1356, 6)"
            ]
          },
          "metadata": {
            "tags": []
          },
          "execution_count": 175
        }
      ]
    },
    {
      "cell_type": "code",
      "metadata": {
        "colab": {
          "base_uri": "https://localhost:8080/",
          "height": 400
        },
        "id": "P6v5la3MPCN6",
        "outputId": "5fb23d00-2dcf-4f3e-a42f-bd8901ccbd85"
      },
      "source": [
        "# Let's visualise the closing price of Telsa Stock\n",
        "plt.figure(figsize = (16, 5))\n",
        "plt.title('Closing Price of TELSA Inc. Stock')\n",
        "plt.plot(df.Close)\n",
        "plt.xlabel('Timeline')\n",
        "plt.ylabel('Price in USD ($)')\n",
        "plt.show()"
      ],
      "execution_count": null,
      "outputs": [
        {
          "output_type": "execute_result",
          "data": {
            "text/plain": [
              "Text(0, 0.5, 'Price in USD ($)')"
            ]
          },
          "metadata": {
            "tags": []
          },
          "execution_count": 176
        },
        {
          "output_type": "display_data",
          "data": {
            "image/png": "[encoded data removed]",
            "text/plain": [
              "<Figure size 1152x360 with 1 Axes>"
            ]
          },
          "metadata": {
            "tags": []
          }
        }
      ]
    },
    {
      "cell_type": "code",
      "metadata": {
        "id": "3JPH-6eOP4h5"
      },
      "source": [
        "# print(type(df.filter(['Close'])))\n",
        "# print(type(df['Close'])) "
      ],
      "execution_count": null,
      "outputs": []
    },
    {
      "cell_type": "code",
      "metadata": {
        "id": "qFamxpz1Q25O"
      },
      "source": [
        "# df['Close'].values\n",
        "# df.filter(['Close']).values.shape\n",
        "# type(df[['Low', 'Open', 'Close', 'Volume', 'Adj Close']])\n",
        "# df.filter(regex = 'C')  # returns columns which has 'C' letter in it's name "
      ],
      "execution_count": null,
      "outputs": []
    },
    {
      "cell_type": "code",
      "metadata": {
        "colab": {
          "base_uri": "https://localhost:8080/"
        },
        "id": "FNcsBcnbRbUc",
        "outputId": "ab599992-92e6-46a6-cc19-4012846b1d02"
      },
      "source": [
        "data = df.filter(['Close'])  # Create a new dataframe with only Close Column\n",
        "dataset = data.values # Convert the  dataframe to numpy array\n",
        "dataset[0:10]"
      ],
      "execution_count": null,
      "outputs": [
        {
          "output_type": "execute_result",
          "data": {
            "text/plain": [
              "array([[44.68199921],\n",
              "       [44.68600082],\n",
              "       [43.80799866],\n",
              "       [43.13000107],\n",
              "       [42.20000076],\n",
              "       [41.56999969],\n",
              "       [41.99399948],\n",
              "       [40.06200027],\n",
              "       [41.23600006],\n",
              "       [40.9980011 ]])"
            ]
          },
          "metadata": {
            "tags": []
          },
          "execution_count": 179
        }
      ]
    },
    {
      "cell_type": "code",
      "metadata": {
        "colab": {
          "base_uri": "https://localhost:8080/"
        },
        "id": "OEfDRhP8XTSV",
        "outputId": "1e31821a-f125-4604-98e8-ad202710c996"
      },
      "source": [
        "print(dataset.shape)\n",
        "print(dataset[0], dataset[0][0])"
      ],
      "execution_count": null,
      "outputs": [
        {
          "output_type": "stream",
          "text": [
            "(1356, 1)\n",
            "[44.68199921] 44.68199920654297\n"
          ],
          "name": "stdout"
        }
      ]
    },
    {
      "cell_type": "code",
      "metadata": {
        "colab": {
          "base_uri": "https://localhost:8080/"
        },
        "id": "A0LjjJ4kYI6T",
        "outputId": "74fa290b-ade6-4d49-8109-83d3682b6a65"
      },
      "source": [
        "print(len(dataset))\n",
        "print(len(dataset) * 0.8)\n",
        "print(math.ceil(len(dataset) * 0.8))\n",
        "# \n",
        "train_data_len = math.ceil(len(dataset) * 0.8)\n",
        "# test_data_len  len(dataset) - train_data_len\n"
      ],
      "execution_count": null,
      "outputs": [
        {
          "output_type": "stream",
          "text": [
            "1356\n",
            "1084.8\n",
            "1085\n"
          ],
          "name": "stdout"
        }
      ]
    },
    {
      "cell_type": "markdown",
      "metadata": {
        "id": "yVPy0rWfxZUv"
      },
      "source": [
        "**Scale the data : It always important to apply (transformation / normalization) that is kind of preprocess the input data, before the data is presented to Neural Network.**\n",
        "\n",
        "**Transform features by scaling each feature to a given range. This estimator scales and translates each feature individually such\n",
        "that it is in the given range on the training set, e.g. between\n",
        "zero and one.**"
      ]
    },
    {
      "cell_type": "code",
      "metadata": {
        "colab": {
          "base_uri": "https://localhost:8080/"
        },
        "id": "Z9ChxqwEaFKy",
        "outputId": "959f04af-c170-4351-bdca-b599393fa855"
      },
      "source": [
        "scaler = MinMaxScaler(feature_range= (0, 1))\n",
        "scaler\n"
      ],
      "execution_count": null,
      "outputs": [
        {
          "output_type": "execute_result",
          "data": {
            "text/plain": [
              "MinMaxScaler(copy=True, feature_range=(0, 1))"
            ]
          },
          "metadata": {
            "tags": []
          },
          "execution_count": 182
        }
      ]
    },
    {
      "cell_type": "code",
      "metadata": {
        "id": "5bvFJqNFawTC",
        "colab": {
          "base_uri": "https://localhost:8080/"
        },
        "outputId": "28cca6a6-4f08-45cd-cb55-ca7363c51a0e"
      },
      "source": [
        "scaled_data = scaler.fit_transform(dataset)\n",
        "scaled_data\n",
        "#scaled_data[: , 0]    \n",
        "#scaled_data[: , 0].shape\n",
        "# scaled_data[0, 0]"
      ],
      "execution_count": null,
      "outputs": [
        {
          "output_type": "execute_result",
          "data": {
            "text/plain": [
              "array([[0.01866669],\n",
              "       [0.01867137],\n",
              "       [0.0176437 ],\n",
              "       ...,\n",
              "       [0.62588196],\n",
              "       [0.65317738],\n",
              "       [0.64627156]])"
            ]
          },
          "metadata": {
            "tags": []
          },
          "execution_count": 183
        }
      ]
    },
    {
      "cell_type": "code",
      "metadata": {
        "colab": {
          "base_uri": "https://localhost:8080/"
        },
        "id": "v_keuqy0bCwE",
        "outputId": "d8d1d0b1-5584-4bbe-8953-05096588f697"
      },
      "source": [
        "# scaled_data[scaled_data < 1].shape\n",
        "# type(scaled_data)\n",
        "scaled_data.shape"
      ],
      "execution_count": null,
      "outputs": [
        {
          "output_type": "execute_result",
          "data": {
            "text/plain": [
              "(1356, 1)"
            ]
          },
          "metadata": {
            "tags": []
          },
          "execution_count": 184
        }
      ]
    },
    {
      "cell_type": "code",
      "metadata": {
        "id": "JM36R7Blexgt"
      },
      "source": [
        "# scaled_data[0:train_data_len, :].shape\n",
        "# scaled_data[0:train_data_len].shape"
      ],
      "execution_count": null,
      "outputs": []
    },
    {
      "cell_type": "code",
      "metadata": {
        "colab": {
          "base_uri": "https://localhost:8080/"
        },
        "id": "4SgfNKmFcd0Q",
        "outputId": "c1e3eff1-4e94-4ed5-85c8-25288b44f3ce"
      },
      "source": [
        "train_data = scaled_data[0:train_data_len] \n",
        "train_data.shape"
      ],
      "execution_count": null,
      "outputs": [
        {
          "output_type": "execute_result",
          "data": {
            "text/plain": [
              "(1085, 1)"
            ]
          },
          "metadata": {
            "tags": []
          },
          "execution_count": 186
        }
      ]
    },
    {
      "cell_type": "code",
      "metadata": {
        "colab": {
          "base_uri": "https://localhost:8080/"
        },
        "id": "gYdvhjYUkVgU",
        "outputId": "4f849029-b64f-4cf8-9d86-eea8cb04435e"
      },
      "source": [
        "#  Here, We are considering last 60 days data for prediction of price\n",
        "\n",
        "print(train_data[60 - 60 : 60, 0], end = \"\\n\\n\") # x_train[0]\n",
        "print(train_data[60, 0], end = \"\\n\\n\")  # y_train[0]\n",
        "print(train_data[61 - 60 : 61, 0], end = \"\\n\\n\")  #x_train[1]\n",
        "print(train_data[61, 0], end = \"\\n\\n\")    #y_train[1]\n",
        "\n",
        "print(train_data[(len(train_data) - 1) - 60 : len(train_data) - 1, 0], end =\"\\n\\n\")               \n",
        "print(train_data[(len(train_data) - 1) , 0])"
      ],
      "execution_count": null,
      "outputs": [
        {
          "output_type": "stream",
          "text": [
            "[0.01866669 0.01867137 0.0176437  0.01685012 0.01576158 0.01502418\n",
            " 0.01552046 0.01325911 0.01463324 0.01435467 0.01429147 0.01288222\n",
            " 0.01317952 0.01378348 0.01233912 0.01167897 0.01039379 0.01077537\n",
            " 0.01112651 0.01247021 0.00915543 0.00697836 0.00741143 0.00443141\n",
            " 0.00101129 0.00107215 0.         0.00159184 0.00172528 0.00269209\n",
            " 0.0058547  0.00540758 0.00536311 0.0079756  0.00785153 0.00827056\n",
            " 0.01024397 0.01092519 0.0112974  0.00999115 0.010457   0.0121893\n",
            " 0.01343    0.0144249  0.01379519 0.01522784 0.01439915 0.01494225\n",
            " 0.01673307 0.01747983 0.01832023 0.01936195 0.02085079 0.02215704\n",
            " 0.02120193 0.01847239 0.01968266 0.02027024 0.02023981 0.01948134]\n",
            "\n",
            "0.02015553089929533\n",
            "\n",
            "[0.01867137 0.0176437  0.01685012 0.01576158 0.01502418 0.01552046\n",
            " 0.01325911 0.01463324 0.01435467 0.01429147 0.01288222 0.01317952\n",
            " 0.01378348 0.01233912 0.01167897 0.01039379 0.01077537 0.01112651\n",
            " 0.01247021 0.00915543 0.00697836 0.00741143 0.00443141 0.00101129\n",
            " 0.00107215 0.         0.00159184 0.00172528 0.00269209 0.0058547\n",
            " 0.00540758 0.00536311 0.0079756  0.00785153 0.00827056 0.01024397\n",
            " 0.01092519 0.0112974  0.00999115 0.010457   0.0121893  0.01343\n",
            " 0.0144249  0.01379519 0.01522784 0.01439915 0.01494225 0.01673307\n",
            " 0.01747983 0.01832023 0.01936195 0.02085079 0.02215704 0.02120193\n",
            " 0.01847239 0.01968266 0.02027024 0.02023981 0.01948134 0.02015553]\n",
            "\n",
            "0.021986152958708177\n",
            "\n",
            "[0.10237418 0.11637772 0.11866247 0.14896132 0.17402347 0.13835684\n",
            " 0.14169504 0.14148668 0.14692001 0.14764572 0.14598597 0.15457959\n",
            " 0.15365023 0.16731431 0.18113057 0.17691454 0.17728674 0.16155325\n",
            " 0.15362213 0.1486804  0.12531778 0.12274041 0.14044496 0.14088741\n",
            " 0.14182143 0.13597845 0.13104841 0.10869707 0.11743581 0.11483737\n",
            " 0.09758929 0.09432835 0.07055607 0.06707508 0.05092725 0.0664758\n",
            " 0.06645005 0.06803253 0.08458535 0.09260308 0.09000698 0.08677647\n",
            " 0.0839135  0.08903314 0.07909817 0.07275655 0.07873533 0.08721657\n",
            " 0.09405446 0.09484804 0.10050377 0.11875143 0.13254895 0.1372168\n",
            " 0.14081718 0.14284911 0.14108639 0.12712498 0.13775053 0.13155172]\n",
            "\n",
            "0.13612123724723965\n"
          ],
          "name": "stdout"
        }
      ]
    },
    {
      "cell_type": "code",
      "metadata": {
        "id": "WKVFMy33jNNT"
      },
      "source": [
        "x_train = []\n",
        "y_train = []\n",
        "\n",
        "for i in range(60, len(train_data)):\n",
        "  x_train.append(train_data[i - 60 : i, 0])\n",
        "  y_train.append(train_data[i, 0])"
      ],
      "execution_count": null,
      "outputs": []
    },
    {
      "cell_type": "code",
      "metadata": {
        "colab": {
          "base_uri": "https://localhost:8080/"
        },
        "id": "PSWYKysdnObK",
        "outputId": "0d261bec-c359-4060-87e9-22fef2d57046"
      },
      "source": [
        "len(x_train), len(y_train)"
      ],
      "execution_count": null,
      "outputs": [
        {
          "output_type": "execute_result",
          "data": {
            "text/plain": [
              "(1025, 1025)"
            ]
          },
          "metadata": {
            "tags": []
          },
          "execution_count": 189
        }
      ]
    },
    {
      "cell_type": "code",
      "metadata": {
        "colab": {
          "base_uri": "https://localhost:8080/"
        },
        "id": "S8DjBMxBvIRN",
        "outputId": "8a72d5fc-ef37-4f78-93cb-5748b692b5d9"
      },
      "source": [
        "# Let's see the x_train and y_train Data\n",
        "index = 0\n",
        "for x, y in zip(x_train, y_train):\n",
        "  print(\"Index: \", index, end = \"\\n\\n\")\n",
        "  print(\"x_train:\")\n",
        "  print(x, end = \"\\n\\n\")\n",
        "  print(\"y_train:\")\n",
        "  print(y)\n",
        "  print()\n",
        "  index+=1\n",
        "  if index == 2:\n",
        "    break"
      ],
      "execution_count": null,
      "outputs": [
        {
          "output_type": "stream",
          "text": [
            "Index:  0\n",
            "\n",
            "x_train:\n",
            "[0.01866669 0.01867137 0.0176437  0.01685012 0.01576158 0.01502418\n",
            " 0.01552046 0.01325911 0.01463324 0.01435467 0.01429147 0.01288222\n",
            " 0.01317952 0.01378348 0.01233912 0.01167897 0.01039379 0.01077537\n",
            " 0.01112651 0.01247021 0.00915543 0.00697836 0.00741143 0.00443141\n",
            " 0.00101129 0.00107215 0.         0.00159184 0.00172528 0.00269209\n",
            " 0.0058547  0.00540758 0.00536311 0.0079756  0.00785153 0.00827056\n",
            " 0.01024397 0.01092519 0.0112974  0.00999115 0.010457   0.0121893\n",
            " 0.01343    0.0144249  0.01379519 0.01522784 0.01439915 0.01494225\n",
            " 0.01673307 0.01747983 0.01832023 0.01936195 0.02085079 0.02215704\n",
            " 0.02120193 0.01847239 0.01968266 0.02027024 0.02023981 0.01948134]\n",
            "\n",
            "y_train:\n",
            "0.02015553089929533\n",
            "\n",
            "Index:  1\n",
            "\n",
            "x_train:\n",
            "[0.01867137 0.0176437  0.01685012 0.01576158 0.01502418 0.01552046\n",
            " 0.01325911 0.01463324 0.01435467 0.01429147 0.01288222 0.01317952\n",
            " 0.01378348 0.01233912 0.01167897 0.01039379 0.01077537 0.01112651\n",
            " 0.01247021 0.00915543 0.00697836 0.00741143 0.00443141 0.00101129\n",
            " 0.00107215 0.         0.00159184 0.00172528 0.00269209 0.0058547\n",
            " 0.00540758 0.00536311 0.0079756  0.00785153 0.00827056 0.01024397\n",
            " 0.01092519 0.0112974  0.00999115 0.010457   0.0121893  0.01343\n",
            " 0.0144249  0.01379519 0.01522784 0.01439915 0.01494225 0.01673307\n",
            " 0.01747983 0.01832023 0.01936195 0.02085079 0.02215704 0.02120193\n",
            " 0.01847239 0.01968266 0.02027024 0.02023981 0.01948134 0.02015553]\n",
            "\n",
            "y_train:\n",
            "0.021986152958708177\n",
            "\n"
          ],
          "name": "stdout"
        }
      ]
    },
    {
      "cell_type": "code",
      "metadata": {
        "id": "D1BC5J3I1lZr"
      },
      "source": [
        "#  Convert the x_train and y_train to numpys arrays\n",
        "x_train, y_train = np.array(x_train), np.array(y_train)"
      ],
      "execution_count": null,
      "outputs": []
    },
    {
      "cell_type": "code",
      "metadata": {
        "colab": {
          "base_uri": "https://localhost:8080/"
        },
        "id": "VPqoyu8X2KQ3",
        "outputId": "ad68e4b2-b8a0-4ebc-ccb3-caf6c409038c"
      },
      "source": [
        "x_train.shape, y_train.shape"
      ],
      "execution_count": null,
      "outputs": [
        {
          "output_type": "execute_result",
          "data": {
            "text/plain": [
              "((1025, 60), (1025,))"
            ]
          },
          "metadata": {
            "tags": []
          },
          "execution_count": 192
        }
      ]
    },
    {
      "cell_type": "code",
      "metadata": {
        "id": "dJKrw0J22gzV"
      },
      "source": [
        "#  We need to Reshape the Data for our LSTM model as LSTM expects 3 Dimensional Data\n",
        "x_train = np.reshape(x_train, (x_train.shape[0], x_train.shape[1], 1))"
      ],
      "execution_count": null,
      "outputs": []
    },
    {
      "cell_type": "code",
      "metadata": {
        "colab": {
          "base_uri": "https://localhost:8080/"
        },
        "id": "Y8woq9076L4-",
        "outputId": "11830384-1889-43c1-e874-a5c899a504ab"
      },
      "source": [
        "x_train.shape"
      ],
      "execution_count": null,
      "outputs": [
        {
          "output_type": "execute_result",
          "data": {
            "text/plain": [
              "(1025, 60, 1)"
            ]
          },
          "metadata": {
            "tags": []
          },
          "execution_count": 194
        }
      ]
    },
    {
      "cell_type": "code",
      "metadata": {
        "id": "d67D55aJ6b3o"
      },
      "source": [
        "# Building LSTM Model\n",
        "model = Sequential()\n",
        "model.add(LSTM(50, return_sequences= True , input_shape = (x_train.shape[1], 1)))  # 50 Neurons, return_sequences = True as we will create another Layer\n",
        "                                                                                # input_shape(Number of timesteps which is 60 here, Number of features(1))\n",
        "model.add(LSTM(50, return_sequences= False))\n",
        "model.add(Dense(25))\n",
        "model.add(Dense(1))         # Output Neuron                                                                  "
      ],
      "execution_count": null,
      "outputs": []
    },
    {
      "cell_type": "code",
      "metadata": {
        "id": "19J0e4PH93pL"
      },
      "source": [
        "# Compiling the Model\n",
        "model.compile(optimizer='adam', loss = 'mean_squared_error')"
      ],
      "execution_count": null,
      "outputs": []
    },
    {
      "cell_type": "code",
      "metadata": {
        "colab": {
          "base_uri": "https://localhost:8080/"
        },
        "id": "lC03-YZG-Ylg",
        "outputId": "98da0f4f-5d99-462b-b671-2936c0ef749c"
      },
      "source": [
        "# Training the Model\n",
        "model.fit(x_train, y_train, batch_size=1, epochs=1)"
      ],
      "execution_count": null,
      "outputs": [
        {
          "output_type": "stream",
          "text": [
            "1025/1025 [==============================] - 25s 22ms/step - loss: 3.0960e-04\n"
          ],
          "name": "stdout"
        },
        {
          "output_type": "execute_result",
          "data": {
            "text/plain": [
              "<keras.callbacks.History at 0x7f6d47291c50>"
            ]
          },
          "metadata": {
            "tags": []
          },
          "execution_count": 197
        }
      ]
    },
    {
      "cell_type": "markdown",
      "metadata": {
        "id": "H1qMETjJLQ3E"
      },
      "source": [
        "Test Data"
      ]
    },
    {
      "cell_type": "code",
      "metadata": {
        "colab": {
          "base_uri": "https://localhost:8080/"
        },
        "id": "Aa-4kKvTMPGt",
        "outputId": "28cb7c45-dee0-44de-bdec-1288a8a84ac9"
      },
      "source": [
        "train_data_len"
      ],
      "execution_count": null,
      "outputs": [
        {
          "output_type": "execute_result",
          "data": {
            "text/plain": [
              "1085"
            ]
          },
          "metadata": {
            "tags": []
          },
          "execution_count": 198
        }
      ]
    },
    {
      "cell_type": "code",
      "metadata": {
        "id": "8jthDN-U_pmj"
      },
      "source": [
        "test_data = scaled_data[train_data_len - 60 :]                # (1025 , 1355)         "
      ],
      "execution_count": null,
      "outputs": []
    },
    {
      "cell_type": "code",
      "metadata": {
        "colab": {
          "base_uri": "https://localhost:8080/"
        },
        "id": "koCmiQpzLbzo",
        "outputId": "192c4496-a9b7-41cb-e19f-2654f621a72a"
      },
      "source": [
        "test_data.shape                              "
      ],
      "execution_count": null,
      "outputs": [
        {
          "output_type": "execute_result",
          "data": {
            "text/plain": [
              "(331, 1)"
            ]
          },
          "metadata": {
            "tags": []
          },
          "execution_count": 200
        }
      ]
    },
    {
      "cell_type": "code",
      "metadata": {
        "colab": {
          "base_uri": "https://localhost:8080/"
        },
        "id": "nwvyAq79PlMz",
        "outputId": "b3446a52-80ab-4857-90b9-7aa2248aff12"
      },
      "source": [
        "dataset[train_data_len:].shape"
      ],
      "execution_count": null,
      "outputs": [
        {
          "output_type": "execute_result",
          "data": {
            "text/plain": [
              "(271, 1)"
            ]
          },
          "metadata": {
            "tags": []
          },
          "execution_count": 201
        }
      ]
    },
    {
      "cell_type": "code",
      "metadata": {
        "id": "WFJN5gTuM8Nk"
      },
      "source": [
        "x_test = []\n",
        "y_test = dataset[train_data_len:]\n",
        "\n",
        "for i in range(60, len(test_data)):\n",
        "  x_test.append(test_data[i-60:i, 0])\n",
        "  "
      ],
      "execution_count": null,
      "outputs": []
    },
    {
      "cell_type": "code",
      "metadata": {
        "id": "06er4yq8Onnd"
      },
      "source": [
        "#  Convert x_test to numpy array\n",
        "x_test = np.array(x_test)"
      ],
      "execution_count": null,
      "outputs": []
    },
    {
      "cell_type": "code",
      "metadata": {
        "colab": {
          "base_uri": "https://localhost:8080/"
        },
        "id": "FqtpTx9ORCJL",
        "outputId": "b2482de8-773c-420e-a896-bc2837413b7f"
      },
      "source": [
        "x_test.shape"
      ],
      "execution_count": null,
      "outputs": [
        {
          "output_type": "execute_result",
          "data": {
            "text/plain": [
              "(271, 60)"
            ]
          },
          "metadata": {
            "tags": []
          },
          "execution_count": 204
        }
      ]
    },
    {
      "cell_type": "code",
      "metadata": {
        "colab": {
          "base_uri": "https://localhost:8080/"
        },
        "id": "KnfpiBQ0SNCO",
        "outputId": "9017445e-d121-492f-eec2-56c73e1ac66c"
      },
      "source": [
        "x_test[0]"
      ],
      "execution_count": null,
      "outputs": [
        {
          "output_type": "execute_result",
          "data": {
            "text/plain": [
              "array([0.11637772, 0.11866247, 0.14896132, 0.17402347, 0.13835684,\n",
              "       0.14169504, 0.14148668, 0.14692001, 0.14764572, 0.14598597,\n",
              "       0.15457959, 0.15365023, 0.16731431, 0.18113057, 0.17691454,\n",
              "       0.17728674, 0.16155325, 0.15362213, 0.1486804 , 0.12531778,\n",
              "       0.12274041, 0.14044496, 0.14088741, 0.14182143, 0.13597845,\n",
              "       0.13104841, 0.10869707, 0.11743581, 0.11483737, 0.09758929,\n",
              "       0.09432835, 0.07055607, 0.06707508, 0.05092725, 0.0664758 ,\n",
              "       0.06645005, 0.06803253, 0.08458535, 0.09260308, 0.09000698,\n",
              "       0.08677647, 0.0839135 , 0.08903314, 0.07909817, 0.07275655,\n",
              "       0.07873533, 0.08721657, 0.09405446, 0.09484804, 0.10050377,\n",
              "       0.11875143, 0.13254895, 0.1372168 , 0.14081718, 0.14284911,\n",
              "       0.14108639, 0.12712498, 0.13775053, 0.13155172, 0.13612124])"
            ]
          },
          "metadata": {
            "tags": []
          },
          "execution_count": 205
        }
      ]
    },
    {
      "cell_type": "code",
      "metadata": {
        "id": "MQbVyH0dQndp"
      },
      "source": [
        "#  Reshape the data for our LSTM Model\n",
        "x_test = np.reshape(x_test, (x_test.shape[0], x_test.shape[1], 1))"
      ],
      "execution_count": null,
      "outputs": []
    },
    {
      "cell_type": "code",
      "metadata": {
        "colab": {
          "base_uri": "https://localhost:8080/"
        },
        "id": "75LcfmF7S7yB",
        "outputId": "3d101954-d6a0-4f97-c64c-4a18c92ceef9"
      },
      "source": [
        "x_test[0]"
      ],
      "execution_count": null,
      "outputs": [
        {
          "output_type": "stream",
          "text": [
            "[[0.11637772]\n",
            " [0.11866247]\n",
            " [0.14896132]\n",
            " [0.17402347]\n",
            " [0.13835684]\n",
            " [0.14169504]\n",
            " [0.14148668]\n",
            " [0.14692001]\n",
            " [0.14764572]\n",
            " [0.14598597]\n",
            " [0.15457959]\n",
            " [0.15365023]\n",
            " [0.16731431]\n",
            " [0.18113057]\n",
            " [0.17691454]\n",
            " [0.17728674]\n",
            " [0.16155325]\n",
            " [0.15362213]\n",
            " [0.1486804 ]\n",
            " [0.12531778]\n",
            " [0.12274041]\n",
            " [0.14044496]\n",
            " [0.14088741]\n",
            " [0.14182143]\n",
            " [0.13597845]\n",
            " [0.13104841]\n",
            " [0.10869707]\n",
            " [0.11743581]\n",
            " [0.11483737]\n",
            " [0.09758929]\n",
            " [0.09432835]\n",
            " [0.07055607]\n",
            " [0.06707508]\n",
            " [0.05092725]\n",
            " [0.0664758 ]\n",
            " [0.06645005]\n",
            " [0.06803253]\n",
            " [0.08458535]\n",
            " [0.09260308]\n",
            " [0.09000698]\n",
            " [0.08677647]\n",
            " [0.0839135 ]\n",
            " [0.08903314]\n",
            " [0.07909817]\n",
            " [0.07275655]\n",
            " [0.07873533]\n",
            " [0.08721657]\n",
            " [0.09405446]\n",
            " [0.09484804]\n",
            " [0.10050377]\n",
            " [0.11875143]\n",
            " [0.13254895]\n",
            " [0.1372168 ]\n",
            " [0.14081718]\n",
            " [0.14284911]\n",
            " [0.14108639]\n",
            " [0.12712498]\n",
            " [0.13775053]\n",
            " [0.13155172]\n",
            " [0.13612124]]\n"
          ],
          "name": "stdout"
        }
      ]
    },
    {
      "cell_type": "code",
      "metadata": {
        "id": "B6OmcuRkTHeJ"
      },
      "source": [
        "# Predicting the Price Values\n",
        "predictions = model.predict(x_test)"
      ],
      "execution_count": null,
      "outputs": []
    },
    {
      "cell_type": "code",
      "metadata": {
        "id": "hYFZcQu3UzVU"
      },
      "source": [
        "predictions = scaler.inverse_transform(predictions)   #Undo the Scaling"
      ],
      "execution_count": null,
      "outputs": []
    },
    {
      "cell_type": "code",
      "metadata": {
        "colab": {
          "base_uri": "https://localhost:8080/"
        },
        "id": "g_Cjj3yjWsSP",
        "outputId": "ca647df0-a808-4c1a-9db0-1f614f88e6d3"
      },
      "source": [
        "predictions.shape"
      ],
      "execution_count": null,
      "outputs": [
        {
          "output_type": "execute_result",
          "data": {
            "text/plain": [
              "(271, 1)"
            ]
          },
          "metadata": {
            "tags": []
          },
          "execution_count": 210
        }
      ]
    },
    {
      "cell_type": "code",
      "metadata": {
        "id": "9tuvLH03VHTM"
      },
      "source": [
        "# Getting the Accuracy\n",
        "root_mean_square_error = np.sqrt(np.mean(predictions - y_test) ** 2)"
      ],
      "execution_count": null,
      "outputs": []
    },
    {
      "cell_type": "code",
      "metadata": {
        "colab": {
          "base_uri": "https://localhost:8080/"
        },
        "id": "Pt4ys8DsW-WF",
        "outputId": "96ce6970-3797-4765-a8b2-42760f4d27c5"
      },
      "source": [
        "root_mean_square_error"
      ],
      "execution_count": null,
      "outputs": [
        {
          "output_type": "execute_result",
          "data": {
            "text/plain": [
              "5.780712564053131"
            ]
          },
          "metadata": {
            "tags": []
          },
          "execution_count": 212
        }
      ]
    },
    {
      "cell_type": "markdown",
      "metadata": {
        "id": "7iRLlLdXiy2F"
      },
      "source": [
        "### **Chart**"
      ]
    },
    {
      "cell_type": "code",
      "metadata": {
        "id": "816eiEHqZkKW"
      },
      "source": [
        "plt_train_data = data[:train_data_len]\n",
        "validation_data = data[train_data_len:]\n",
        "validation_data['Predictions'] = predictions    # pd.set_option('chained_assignment',None)"
      ],
      "execution_count": null,
      "outputs": []
    },
    {
      "cell_type": "code",
      "metadata": {
        "colab": {
          "base_uri": "https://localhost:8080/"
        },
        "id": "p9edFSwqfHmj",
        "outputId": "721eb7e4-7d61-4a37-81f0-46318f748444"
      },
      "source": [
        "validation_data.shape, plt_train_data.shape"
      ],
      "execution_count": null,
      "outputs": [
        {
          "output_type": "execute_result",
          "data": {
            "text/plain": [
              "((271, 2), (1085, 1))"
            ]
          },
          "metadata": {
            "tags": []
          },
          "execution_count": 214
        }
      ]
    },
    {
      "cell_type": "code",
      "metadata": {
        "colab": {
          "base_uri": "https://localhost:8080/",
          "height": 400
        },
        "id": "b4Q_4tv6ipwe",
        "outputId": "8dd34a5f-4e4a-4f59-a512-d0524393d440"
      },
      "source": [
        "plt.figure(figsize=(16, 5))\n",
        "plt.title('Model Prediction Plot')\n",
        "plt.xlabel('Timeline')\n",
        "plt.ylabel('Closing Price - Tesla Inc. (in USD($))')\n",
        "plt.plot(plt_train_data['Close'])\n",
        "plt.plot(validation_data[['Close', 'Predictions']])\n",
        "plt.legend(['Train', 'Actual', 'Predicted'], loc = 'upper left')"
      ],
      "execution_count": null,
      "outputs": [
        {
          "output_type": "execute_result",
          "data": {
            "text/plain": [
              "<matplotlib.legend.Legend at 0x7f6d4730b4d0>"
            ]
          },
          "metadata": {
            "tags": []
          },
          "execution_count": 215
        },
        {
          "output_type": "display_data",
          "data": {
            "image/png": "[encoded data removed]",
            "text/plain": [
              "<Figure size 1152x360 with 1 Axes>"
            ]
          },
          "metadata": {
            "tags": []
          }
        }
      ]
    },
    {
      "cell_type": "code",
      "metadata": {
        "colab": {
          "base_uri": "https://localhost:8080/"
        },
        "id": "r4szk2sYnp9a",
        "outputId": "c6244bcc-6beb-4abc-c3d3-d81b0d688087"
      },
      "source": [
        "validation_data[abs(validation_data['Predictions'] - validation_data['Close']) > 40].shape"
      ],
      "execution_count": null,
      "outputs": [
        {
          "output_type": "execute_result",
          "data": {
            "text/plain": [
              "(58, 2)"
            ]
          },
          "metadata": {
            "tags": []
          },
          "execution_count": 216
        }
      ]
    }
  ]
}