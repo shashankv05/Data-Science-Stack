{
  "cells": [
    {
      "cell_type": "markdown",
      "metadata": {
        "colab_type": "text",
        "id": "view-in-github"
      },
      "source": [
        "<a href=\"https://colab.research.google.com/github/shashankv05/Colab_Notebooks/blob/main/Spark%20MLLIB%20Revised.ipynb\" target=\"_parent\"><img src=\"https://colab.research.google.com/assets/colab-badge.svg\" alt=\"Open In Colab\"/></a>"
      ]
    },
    {
      "cell_type": "code",
      "execution_count": null,
      "metadata": {
        "colab": {
          "base_uri": "https://localhost:8080/"
        },
        "id": "9ztUNVrUCrzk",
        "outputId": "c1603f59-617f-44f0-949f-6f6adbdc6d20"
      },
      "outputs": [
        {
          "name": "stdout",
          "output_type": "stream",
          "text": [
            "Mounted at /content/gdrive\n"
          ]
        }
      ],
      "source": [
        "from google.colab import drive\n",
        "drive.mount('/content/gdrive')"
      ]
    },
    {
      "cell_type": "code",
      "execution_count": null,
      "metadata": {
        "colab": {
          "base_uri": "https://localhost:8080/"
        },
        "id": "6qNA5QchuNgA",
        "outputId": "05cd3ac5-7097-4d1c-be0d-a384ae56467e"
      },
      "outputs": [
        {
          "name": "stdout",
          "output_type": "stream",
          "text": [
            "Looking in indexes: https://pypi.org/simple, https://us-python.pkg.dev/colab-wheels/public/simple/\n",
            "Collecting pyspark\n",
            "  Downloading pyspark-3.4.0.tar.gz (310.8 MB)\n",
            "\u001b[2K     \u001b[90m━━━━━━━━━━━━━━━━━━━━━━━━━━━━━━━━━━━━━━━\u001b[0m \u001b[32m310.8/310.8 MB\u001b[0m \u001b[31m4.5 MB/s\u001b[0m eta \u001b[36m0:00:00\u001b[0m\n",
            "\u001b[?25h  Preparing metadata (setup.py) ... \u001b[?25l\u001b[?25hdone\n",
            "Requirement already satisfied: py4j==0.10.9.7 in /usr/local/lib/python3.10/dist-packages (from pyspark) (0.10.9.7)\n",
            "Building wheels for collected packages: pyspark\n",
            "  Building wheel for pyspark (setup.py) ... \u001b[?25l\u001b[?25hdone\n",
            "  Created wheel for pyspark: filename=pyspark-3.4.0-py2.py3-none-any.whl size=311317130 sha256=80fb2f83490cefbe9b2425f7a06f8d5ade2bc190d60d70bd1951313ec66fe9f0\n",
            "  Stored in directory: /root/.cache/pip/wheels/7b/1b/4b/3363a1d04368e7ff0d408e57ff57966fcdf00583774e761327\n",
            "Successfully built pyspark\n",
            "Installing collected packages: pyspark\n",
            "Successfully installed pyspark-3.4.0\n"
          ]
        }
      ],
      "source": [
        "!pip install pyspark"
      ]
    },
    {
      "cell_type": "code",
      "execution_count": null,
      "metadata": {
        "id": "5zUCVl0egT-v"
      },
      "outputs": [],
      "source": [
        "from pyspark.sql import SparkSession"
      ]
    },
    {
      "cell_type": "code",
      "execution_count": null,
      "metadata": {
        "id": "g0aTuKpcgebU"
      },
      "outputs": [],
      "source": [
        "spark = SparkSession.builder.master('local').appName('Spark MLLIB').config('spark.ui.port', '4050').getOrCreate()"
      ]
    },
    {
      "cell_type": "code",
      "execution_count": null,
      "metadata": {
        "colab": {
          "base_uri": "https://localhost:8080/",
          "height": 222
        },
        "id": "AMFLBkrwhGhD",
        "outputId": "51302fb4-cf3d-473f-8549-4461f394401b"
      },
      "outputs": [
        {
          "data": {
            "text/html": [
              "\n",
              "            <div>\n",
              "                <p><b>SparkSession - in-memory</b></p>\n",
              "                \n",
              "        <div>\n",
              "            <p><b>SparkContext</b></p>\n",
              "\n",
              "            <p><a href=\"http://f4e8e526f760:4050\">Spark UI</a></p>\n",
              "\n",
              "            <dl>\n",
              "              <dt>Version</dt>\n",
              "                <dd><code>v3.4.0</code></dd>\n",
              "              <dt>Master</dt>\n",
              "                <dd><code>local</code></dd>\n",
              "              <dt>AppName</dt>\n",
              "                <dd><code>Spark MLLIB</code></dd>\n",
              "            </dl>\n",
              "        </div>\n",
              "        \n",
              "            </div>\n",
              "        "
            ],
            "text/plain": [
              "<pyspark.sql.session.SparkSession at 0x7f869c347940>"
            ]
          },
          "execution_count": 5,
          "metadata": {},
          "output_type": "execute_result"
        }
      ],
      "source": [
        "spark"
      ]
    },
    {
      "cell_type": "code",
      "execution_count": null,
      "metadata": {
        "id": "xCSfQiJYheBr"
      },
      "outputs": [],
      "source": [
        "df = spark.read.csv('/content/gdrive/My Drive/Shashank Python/Projects/DataSet/Synthetic Financial Datasets For Fraud Detection/train.csv', \n",
        "                    header=True, inferSchema=True)"
      ]
    },
    {
      "cell_type": "code",
      "execution_count": null,
      "metadata": {
        "colab": {
          "base_uri": "https://localhost:8080/"
        },
        "id": "anThlkbXhJjL",
        "outputId": "9c860bea-8987-4f08-a15d-58d831945376"
      },
      "outputs": [
        {
          "name": "stdout",
          "output_type": "stream",
          "text": [
            "+----+--------+--------+-----------+-------------+--------------+-----------+--------------+--------------+-------+--------------+\n",
            "|step|    type|  amount|   nameOrig|oldbalanceOrg|newbalanceOrig|   nameDest|oldbalanceDest|newbalanceDest|isFraud|isFlaggedFraud|\n",
            "+----+--------+--------+-----------+-------------+--------------+-----------+--------------+--------------+-------+--------------+\n",
            "|   1| PAYMENT| 9839.64|C1231006815|     170136.0|     160296.36|M1979787155|           0.0|           0.0|      0|             0|\n",
            "|   1| PAYMENT| 1864.28|C1666544295|      21249.0|      19384.72|M2044282225|           0.0|           0.0|      0|             0|\n",
            "|   1|TRANSFER|   181.0|C1305486145|        181.0|           0.0| C553264065|           0.0|           0.0|      1|             0|\n",
            "|   1|CASH_OUT|   181.0| C840083671|        181.0|           0.0|  C38997010|       21182.0|           0.0|      1|             0|\n",
            "|   1| PAYMENT|11668.14|C2048537720|      41554.0|      29885.86|M1230701703|           0.0|           0.0|      0|             0|\n",
            "+----+--------+--------+-----------+-------------+--------------+-----------+--------------+--------------+-------+--------------+\n",
            "only showing top 5 rows\n",
            "\n"
          ]
        }
      ],
      "source": [
        "df.show(5)"
      ]
    },
    {
      "cell_type": "code",
      "execution_count": null,
      "metadata": {
        "colab": {
          "base_uri": "https://localhost:8080/"
        },
        "id": "bZSmViPHiQY4",
        "outputId": "eeb3b71a-7191-44fb-9110-6f0aef7bb162"
      },
      "outputs": [
        {
          "name": "stdout",
          "output_type": "stream",
          "text": [
            "root\n",
            " |-- step: integer (nullable = true)\n",
            " |-- type: string (nullable = true)\n",
            " |-- amount: double (nullable = true)\n",
            " |-- nameOrig: string (nullable = true)\n",
            " |-- oldbalanceOrg: double (nullable = true)\n",
            " |-- newbalanceOrig: double (nullable = true)\n",
            " |-- nameDest: string (nullable = true)\n",
            " |-- oldbalanceDest: double (nullable = true)\n",
            " |-- newbalanceDest: double (nullable = true)\n",
            " |-- isFraud: integer (nullable = true)\n",
            " |-- isFlaggedFraud: integer (nullable = true)\n",
            "\n"
          ]
        }
      ],
      "source": [
        "df.printSchema()"
      ]
    },
    {
      "cell_type": "code",
      "execution_count": null,
      "metadata": {
        "id": "mLnVuZXriWPw"
      },
      "outputs": [],
      "source": [
        "# df.dtypes"
      ]
    },
    {
      "cell_type": "code",
      "execution_count": null,
      "metadata": {
        "id": "CeEMsuAkigRW"
      },
      "outputs": [],
      "source": [
        "from pyspark.sql.functions import *"
      ]
    },
    {
      "cell_type": "markdown",
      "metadata": {
        "id": "z29yWMwZj4ye"
      },
      "source": [
        "**Checking for Null Values**"
      ]
    },
    {
      "cell_type": "code",
      "execution_count": null,
      "metadata": {
        "colab": {
          "base_uri": "https://localhost:8080/"
        },
        "id": "yMCZillFi2X0",
        "outputId": "55296d88-75a6-4fd1-d5e1-a089472debed"
      },
      "outputs": [
        {
          "name": "stdout",
          "output_type": "stream",
          "text": [
            "+----+----+------+--------+-------------+--------------+--------+--------------+--------------+-------+--------------+\n",
            "|step|type|amount|nameOrig|oldbalanceOrg|newbalanceOrig|nameDest|oldbalanceDest|newbalanceDest|isFraud|isFlaggedFraud|\n",
            "+----+----+------+--------+-------------+--------------+--------+--------------+--------------+-------+--------------+\n",
            "|   0|   0|     0|       0|            0|             0|       0|             0|             0|      0|             0|\n",
            "+----+----+------+--------+-------------+--------------+--------+--------------+--------------+-------+--------------+\n",
            "\n"
          ]
        }
      ],
      "source": [
        "df.select([count(when(isnull(column), column)).alias(column) for column in df.columns]).show()"
      ]
    },
    {
      "cell_type": "code",
      "execution_count": null,
      "metadata": {
        "id": "P-vkmh4fjjem"
      },
      "outputs": [],
      "source": [
        "df_selected_features = df.select('type', 'amount', 'oldbalanceOrg', 'newbalanceOrig', 'isFraud')"
      ]
    },
    {
      "cell_type": "code",
      "execution_count": null,
      "metadata": {
        "colab": {
          "base_uri": "https://localhost:8080/"
        },
        "id": "keEQfEK1AgHC",
        "outputId": "f4432ce0-fff6-4b4f-ad46-6283fb2ba5d6"
      },
      "outputs": [
        {
          "name": "stdout",
          "output_type": "stream",
          "text": [
            "+--------+--------+-------------+--------------+-------+\n",
            "|    type|  amount|oldbalanceOrg|newbalanceOrig|isFraud|\n",
            "+--------+--------+-------------+--------------+-------+\n",
            "| PAYMENT| 9839.64|     170136.0|     160296.36|      0|\n",
            "| PAYMENT| 1864.28|      21249.0|      19384.72|      0|\n",
            "|TRANSFER|   181.0|        181.0|           0.0|      1|\n",
            "|CASH_OUT|   181.0|        181.0|           0.0|      1|\n",
            "| PAYMENT|11668.14|      41554.0|      29885.86|      0|\n",
            "+--------+--------+-------------+--------------+-------+\n",
            "only showing top 5 rows\n",
            "\n"
          ]
        }
      ],
      "source": [
        "df_selected_features.show(5)"
      ]
    },
    {
      "cell_type": "code",
      "execution_count": null,
      "metadata": {
        "colab": {
          "base_uri": "https://localhost:8080/"
        },
        "id": "MkTzlq6sAk5O",
        "outputId": "54a23236-15e6-438c-c5da-d9b06f92ca59"
      },
      "outputs": [
        {
          "name": "stdout",
          "output_type": "stream",
          "text": [
            "+--------+-------+\n",
            "|    type|  count|\n",
            "+--------+-------+\n",
            "|TRANSFER| 532909|\n",
            "| CASH_IN|1399284|\n",
            "|CASH_OUT|2237500|\n",
            "| PAYMENT|2151495|\n",
            "|   DEBIT|  41432|\n",
            "+--------+-------+\n",
            "\n"
          ]
        }
      ],
      "source": [
        "# df_selected_features.select('type').distinct().show()\n",
        "df_selected_features.groupby('type').count().show()"
      ]
    },
    {
      "cell_type": "code",
      "execution_count": null,
      "metadata": {
        "colab": {
          "base_uri": "https://localhost:8080/"
        },
        "id": "opjekZT2Bb87",
        "outputId": "1362089f-8a97-46c8-bfb3-646e6ef9984e"
      },
      "outputs": [
        {
          "data": {
            "text/plain": [
              "[('type', 'string'),\n",
              " ('amount', 'double'),\n",
              " ('oldbalanceOrg', 'double'),\n",
              " ('newbalanceOrig', 'double'),\n",
              " ('isFraud', 'int')]"
            ]
          },
          "execution_count": 14,
          "metadata": {},
          "output_type": "execute_result"
        }
      ],
      "source": [
        "df_selected_features.dtypes"
      ]
    },
    {
      "cell_type": "code",
      "execution_count": null,
      "metadata": {
        "colab": {
          "base_uri": "https://localhost:8080/"
        },
        "id": "QicuYHHNCjuH",
        "outputId": "1ab23942-aefa-425d-9b29-a751f897a93e"
      },
      "outputs": [
        {
          "data": {
            "text/plain": [
              "['type']"
            ]
          },
          "execution_count": 15,
          "metadata": {},
          "output_type": "execute_result"
        }
      ],
      "source": [
        "categorical_f = [x[0] for x in df_selected_features.dtypes if x[1] == 'string']\n",
        "categorical_f"
      ]
    },
    {
      "cell_type": "code",
      "execution_count": null,
      "metadata": {
        "colab": {
          "base_uri": "https://localhost:8080/"
        },
        "id": "jRKSMT5QC5Tq",
        "outputId": "2d5ae83a-2cdd-4d20-893c-0bdfd08d27b2"
      },
      "outputs": [
        {
          "data": {
            "text/plain": [
              "['amount', 'oldbalanceOrg', 'newbalanceOrig']"
            ]
          },
          "execution_count": 16,
          "metadata": {},
          "output_type": "execute_result"
        }
      ],
      "source": [
        "numerical_f = [x[0] for x in df_selected_features.dtypes if (x[1] in ('int', 'double') and x[0]!= 'isFraud')]\n",
        "numerical_f"
      ]
    },
    {
      "cell_type": "markdown",
      "metadata": {
        "id": "BmUjEgKPRQTf"
      },
      "source": [
        "---"
      ]
    },
    {
      "cell_type": "markdown",
      "metadata": {
        "id": "Qt83VNQ-FCf6"
      },
      "source": [
        "####**A Pipeline chains multiple Transformers and Estimators together to specify an ML workflow. It also provides tools for constructing, evaluating and tuning ML Pipelines.**"
      ]
    },
    {
      "cell_type": "code",
      "execution_count": null,
      "metadata": {
        "id": "JjG5iNXxEfS4"
      },
      "outputs": [],
      "source": [
        "from pyspark.ml.feature import OneHotEncoder, StringIndexer, VectorAssembler"
      ]
    },
    {
      "cell_type": "markdown",
      "metadata": {
        "id": "3_Yc1dmKmwwe"
      },
      "source": [
        "https://towardsdatascience.com/apache-spark-mllib-tutorial-7aba8a1dce6e"
      ]
    },
    {
      "cell_type": "code",
      "execution_count": null,
      "metadata": {
        "id": "bW1mW0t4GF9z"
      },
      "outputs": [],
      "source": [
        "# StringIndexer(inputCol=\"type\", outputCol=\"type_indexed\")\n",
        "# A one-hot encoder that maps a column of category indices to a column of binary vectors\n",
        "\n",
        "stages = []\n",
        "for col in categorical_f:\n",
        "  stringIndexer = StringIndexer(inputCol= col, outputCol= col + '_indexed')\n",
        "  encoder = OneHotEncoder(inputCol=stringIndexer.getOutputCol(), outputCol= col + '_encoded')\n",
        "  stages = [stringIndexer, encoder]  "
      ]
    },
    {
      "cell_type": "code",
      "execution_count": null,
      "metadata": {
        "colab": {
          "base_uri": "https://localhost:8080/"
        },
        "id": "y3oH6ke5QKO5",
        "outputId": "eb79988a-ec31-4e1d-ebae-4547f8cd19b9"
      },
      "outputs": [
        {
          "data": {
            "text/plain": [
              "[StringIndexer_b08d879e5bff, OneHotEncoder_5656ac60a995]"
            ]
          },
          "execution_count": 19,
          "metadata": {},
          "output_type": "execute_result"
        }
      ],
      "source": [
        "stages"
      ]
    },
    {
      "cell_type": "code",
      "execution_count": null,
      "metadata": {
        "id": "NzojNmzYWm2d"
      },
      "outputs": [],
      "source": [
        "assemblerInput = [col + '_encoded' for col in categorical_f] + numerical_f"
      ]
    },
    {
      "cell_type": "code",
      "execution_count": null,
      "metadata": {
        "colab": {
          "base_uri": "https://localhost:8080/"
        },
        "id": "T4XBhdGBXWpa",
        "outputId": "2c4e6adf-b6cf-432d-cbc6-ed263f7a52d4"
      },
      "outputs": [
        {
          "data": {
            "text/plain": [
              "['type_encoded', 'amount', 'oldbalanceOrg', 'newbalanceOrig']"
            ]
          },
          "execution_count": 21,
          "metadata": {},
          "output_type": "execute_result"
        }
      ],
      "source": [
        "assemblerInput"
      ]
    },
    {
      "cell_type": "code",
      "execution_count": null,
      "metadata": {
        "id": "J-BFQ7KsQLfD"
      },
      "outputs": [],
      "source": [
        "vectorAssembler = VectorAssembler(inputCols=assemblerInput, outputCol='features')"
      ]
    },
    {
      "cell_type": "code",
      "execution_count": null,
      "metadata": {
        "colab": {
          "base_uri": "https://localhost:8080/"
        },
        "id": "8METsgY2XqyL",
        "outputId": "18d7f7b1-0d18-46f4-dc04-b2d6fed91c78"
      },
      "outputs": [
        {
          "data": {
            "text/plain": [
              "VectorAssembler_d0bb8f79b683"
            ]
          },
          "execution_count": 23,
          "metadata": {},
          "output_type": "execute_result"
        }
      ],
      "source": [
        "vectorAssembler"
      ]
    },
    {
      "cell_type": "code",
      "execution_count": null,
      "metadata": {
        "id": "UpyCCKAcXsCu"
      },
      "outputs": [],
      "source": [
        "stages+= [vectorAssembler]"
      ]
    },
    {
      "cell_type": "code",
      "execution_count": null,
      "metadata": {
        "colab": {
          "base_uri": "https://localhost:8080/"
        },
        "id": "xeU71y1vX3Sa",
        "outputId": "193c13c4-6fb0-4986-b212-ce61e3474f87"
      },
      "outputs": [
        {
          "data": {
            "text/plain": [
              "[StringIndexer_b08d879e5bff,\n",
              " OneHotEncoder_5656ac60a995,\n",
              " VectorAssembler_d0bb8f79b683]"
            ]
          },
          "execution_count": 25,
          "metadata": {},
          "output_type": "execute_result"
        }
      ],
      "source": [
        "stages"
      ]
    },
    {
      "cell_type": "code",
      "execution_count": null,
      "metadata": {
        "id": "mg4rv9qKX4OJ"
      },
      "outputs": [],
      "source": [
        "from pyspark.ml import Pipeline"
      ]
    },
    {
      "cell_type": "code",
      "execution_count": null,
      "metadata": {
        "id": "6yam9TTeYUzG"
      },
      "outputs": [],
      "source": [
        "pipeline = Pipeline(stages=stages)"
      ]
    },
    {
      "cell_type": "code",
      "execution_count": null,
      "metadata": {
        "id": "m543_3eEcJ6R"
      },
      "outputs": [],
      "source": [
        "model = pipeline.fit(df_selected_features)"
      ]
    },
    {
      "cell_type": "code",
      "execution_count": null,
      "metadata": {
        "id": "s4s3g86DcQQ2"
      },
      "outputs": [],
      "source": [
        "# model.transform(df_selected_features)"
      ]
    },
    {
      "cell_type": "code",
      "execution_count": null,
      "metadata": {
        "colab": {
          "base_uri": "https://localhost:8080/"
        },
        "id": "ky99AQwGiyGI",
        "outputId": "a426e4da-c575-4603-cf8a-5aef241034dc"
      },
      "outputs": [
        {
          "name": "stdout",
          "output_type": "stream",
          "text": [
            "+--------+\n",
            "|    type|\n",
            "+--------+\n",
            "|TRANSFER|\n",
            "| CASH_IN|\n",
            "|CASH_OUT|\n",
            "| PAYMENT|\n",
            "|   DEBIT|\n",
            "+--------+\n",
            "\n"
          ]
        }
      ],
      "source": [
        "df_selected_features.select('type').distinct().show()"
      ]
    },
    {
      "cell_type": "markdown",
      "metadata": {
        "id": "5L-0enp0qO8t"
      },
      "source": [
        "See in the next code block \"type_encoded\" column  is a DenseVector data type, used to reduce storage space. For example the numbers (4, [1], [1.0]) means we have an array of 4 values such that we got the value 1 at index 1, and the value 0 in all other positions. But again, why 4 values while we have FIVE unique categories? Well this is how Spark ML does it. It omits the final category to break the correlation between features. Normally you do not have to worry about it. But in case you want to force Spark ML not to drop the last column, simply add dropLast=False in the constructor."
      ]
    },
    {
      "cell_type": "code",
      "execution_count": null,
      "metadata": {
        "colab": {
          "base_uri": "https://localhost:8080/"
        },
        "id": "ezqm_JBtc4Ch",
        "outputId": "00845b32-a911-4d37-badf-e1e8180a1ee0"
      },
      "outputs": [
        {
          "name": "stdout",
          "output_type": "stream",
          "text": [
            "+--------+---------+-------------+--------------+-------+------------+-------------+---------------------------------------------+\n",
            "|type    |amount   |oldbalanceOrg|newbalanceOrig|isFraud|type_indexed|type_encoded |features                                     |\n",
            "+--------+---------+-------------+--------------+-------+------------+-------------+---------------------------------------------+\n",
            "|PAYMENT |9839.64  |170136.0     |160296.36     |0      |1.0         |(4,[1],[1.0])|[0.0,1.0,0.0,0.0,9839.64,170136.0,160296.36] |\n",
            "|PAYMENT |1864.28  |21249.0      |19384.72      |0      |1.0         |(4,[1],[1.0])|[0.0,1.0,0.0,0.0,1864.28,21249.0,19384.72]   |\n",
            "|TRANSFER|181.0    |181.0        |0.0           |1      |3.0         |(4,[3],[1.0])|(7,[3,4,5],[1.0,181.0,181.0])                |\n",
            "|CASH_OUT|181.0    |181.0        |0.0           |1      |0.0         |(4,[0],[1.0])|(7,[0,4,5],[1.0,181.0,181.0])                |\n",
            "|PAYMENT |11668.14 |41554.0      |29885.86      |0      |1.0         |(4,[1],[1.0])|[0.0,1.0,0.0,0.0,11668.14,41554.0,29885.86]  |\n",
            "|PAYMENT |7817.71  |53860.0      |46042.29      |0      |1.0         |(4,[1],[1.0])|[0.0,1.0,0.0,0.0,7817.71,53860.0,46042.29]   |\n",
            "|PAYMENT |7107.77  |183195.0     |176087.23     |0      |1.0         |(4,[1],[1.0])|[0.0,1.0,0.0,0.0,7107.77,183195.0,176087.23] |\n",
            "|PAYMENT |7861.64  |176087.23    |168225.59     |0      |1.0         |(4,[1],[1.0])|[0.0,1.0,0.0,0.0,7861.64,176087.23,168225.59]|\n",
            "|PAYMENT |4024.36  |2671.0       |0.0           |0      |1.0         |(4,[1],[1.0])|(7,[1,4,5],[1.0,4024.36,2671.0])             |\n",
            "|DEBIT   |5337.77  |41720.0      |36382.23      |0      |4.0         |(4,[],[])    |(7,[4,5,6],[5337.77,41720.0,36382.23])       |\n",
            "|DEBIT   |9644.94  |4465.0       |0.0           |0      |4.0         |(4,[],[])    |(7,[4,5],[9644.94,4465.0])                   |\n",
            "|PAYMENT |3099.97  |20771.0      |17671.03      |0      |1.0         |(4,[1],[1.0])|[0.0,1.0,0.0,0.0,3099.97,20771.0,17671.03]   |\n",
            "|PAYMENT |2560.74  |5070.0       |2509.26       |0      |1.0         |(4,[1],[1.0])|[0.0,1.0,0.0,0.0,2560.74,5070.0,2509.26]     |\n",
            "|PAYMENT |11633.76 |10127.0      |0.0           |0      |1.0         |(4,[1],[1.0])|(7,[1,4,5],[1.0,11633.76,10127.0])           |\n",
            "|PAYMENT |4098.78  |503264.0     |499165.22     |0      |1.0         |(4,[1],[1.0])|[0.0,1.0,0.0,0.0,4098.78,503264.0,499165.22] |\n",
            "|CASH_OUT|229133.94|15325.0      |0.0           |0      |0.0         |(4,[0],[1.0])|(7,[0,4,5],[1.0,229133.94,15325.0])          |\n",
            "|PAYMENT |1563.82  |450.0        |0.0           |0      |1.0         |(4,[1],[1.0])|(7,[1,4,5],[1.0,1563.82,450.0])              |\n",
            "|PAYMENT |1157.86  |21156.0      |19998.14      |0      |1.0         |(4,[1],[1.0])|[0.0,1.0,0.0,0.0,1157.86,21156.0,19998.14]   |\n",
            "|PAYMENT |671.64   |15123.0      |14451.36      |0      |1.0         |(4,[1],[1.0])|[0.0,1.0,0.0,0.0,671.64,15123.0,14451.36]    |\n",
            "|TRANSFER|215310.3 |705.0        |0.0           |0      |3.0         |(4,[3],[1.0])|(7,[3,4,5],[1.0,215310.3,705.0])             |\n",
            "+--------+---------+-------------+--------------+-------+------------+-------------+---------------------------------------------+\n",
            "only showing top 20 rows\n",
            "\n"
          ]
        }
      ],
      "source": [
        "# model.transform(test).show()\n",
        "model.transform(df_selected_features).show(truncate=False)"
      ]
    },
    {
      "cell_type": "code",
      "execution_count": null,
      "metadata": {
        "id": "I-vIElAJjtck"
      },
      "outputs": [],
      "source": [
        "final_data = model.transform(df_selected_features).selectExpr(\"features\", \"isFraud as label\")"
      ]
    },
    {
      "cell_type": "code",
      "execution_count": null,
      "metadata": {
        "colab": {
          "base_uri": "https://localhost:8080/"
        },
        "id": "64tYebDNkokO",
        "outputId": "d83a7d00-bc64-4ca3-db75-cdc1d7312c8d"
      },
      "outputs": [
        {
          "name": "stdout",
          "output_type": "stream",
          "text": [
            "+--------------------------------------------+-----+\n",
            "|features                                    |label|\n",
            "+--------------------------------------------+-----+\n",
            "|[0.0,1.0,0.0,0.0,9839.64,170136.0,160296.36]|0    |\n",
            "|[0.0,1.0,0.0,0.0,1864.28,21249.0,19384.72]  |0    |\n",
            "|(7,[3,4,5],[1.0,181.0,181.0])               |1    |\n",
            "|(7,[0,4,5],[1.0,181.0,181.0])               |1    |\n",
            "|[0.0,1.0,0.0,0.0,11668.14,41554.0,29885.86] |0    |\n",
            "+--------------------------------------------+-----+\n",
            "only showing top 5 rows\n",
            "\n"
          ]
        }
      ],
      "source": [
        "final_data.show(5, truncate=False)"
      ]
    },
    {
      "cell_type": "markdown",
      "metadata": {
        "id": "hsaweKJJaq2w"
      },
      "source": [
        "####**Train_Test_Split**"
      ]
    },
    {
      "cell_type": "code",
      "execution_count": null,
      "metadata": {
        "id": "IKwbGEpFZhE2"
      },
      "outputs": [],
      "source": [
        "train, test = final_data.randomSplit([0.7, 0.3], seed= 42)"
      ]
    },
    {
      "cell_type": "code",
      "execution_count": null,
      "metadata": {
        "colab": {
          "base_uri": "https://localhost:8080/"
        },
        "id": "_bn0_2SnbZE2",
        "outputId": "c1a687eb-9a22-4d5a-f43e-1ba799a304bf"
      },
      "outputs": [
        {
          "data": {
            "text/plain": [
              "4454014"
            ]
          },
          "execution_count": 77,
          "metadata": {},
          "output_type": "execute_result"
        }
      ],
      "source": [
        "train.count()"
      ]
    },
    {
      "cell_type": "code",
      "execution_count": null,
      "metadata": {
        "colab": {
          "base_uri": "https://localhost:8080/"
        },
        "id": "kHI8RMjObkNF",
        "outputId": "89b9594b-ccc0-4dae-886f-dd114e3322f8"
      },
      "outputs": [
        {
          "data": {
            "text/plain": [
              "1908606"
            ]
          },
          "execution_count": 78,
          "metadata": {},
          "output_type": "execute_result"
        }
      ],
      "source": [
        "test.count()"
      ]
    },
    {
      "cell_type": "markdown",
      "metadata": {
        "id": "Xc57JVVOO8Kn"
      },
      "source": [
        "#### **Model Creation**\n",
        "\n"
      ]
    },
    {
      "cell_type": "code",
      "execution_count": null,
      "metadata": {
        "id": "DPrNEld1CTsQ"
      },
      "outputs": [],
      "source": [
        "from pyspark.ml.classification import LogisticRegression"
      ]
    },
    {
      "cell_type": "code",
      "execution_count": null,
      "metadata": {
        "id": "DUSSW-cQiUAg"
      },
      "outputs": [],
      "source": [
        "lr = LogisticRegression(labelCol ='label', featuresCol ='features')"
      ]
    },
    {
      "cell_type": "code",
      "execution_count": null,
      "metadata": {
        "colab": {
          "base_uri": "https://localhost:8080/"
        },
        "id": "KV1ZY1iaKlL8",
        "outputId": "217c125e-ea91-4584-d285-feb67fc10bfc"
      },
      "outputs": [
        {
          "data": {
            "text/plain": [
              "LogisticRegression_0ea5bfbf982e"
            ]
          },
          "execution_count": 81,
          "metadata": {},
          "output_type": "execute_result"
        }
      ],
      "source": [
        "lr"
      ]
    },
    {
      "cell_type": "code",
      "execution_count": null,
      "metadata": {
        "id": "sA1yQsxylULa"
      },
      "outputs": [],
      "source": [
        "lr_model = lr.fit(train)"
      ]
    },
    {
      "cell_type": "code",
      "execution_count": null,
      "metadata": {
        "colab": {
          "base_uri": "https://localhost:8080/"
        },
        "id": "wpb2QdVpQKdL",
        "outputId": "f4b66687-21d6-4402-829f-c90eb6d0f848"
      },
      "outputs": [
        {
          "data": {
            "text/plain": [
              "0.9916165861188908"
            ]
          },
          "execution_count": 83,
          "metadata": {},
          "output_type": "execute_result"
        }
      ],
      "source": [
        "lr_model.summary.areaUnderROC"
      ]
    },
    {
      "cell_type": "code",
      "execution_count": null,
      "metadata": {
        "id": "gy2uJGVcm1tD"
      },
      "outputs": [],
      "source": [
        "# lr_model.summary.pr.show()"
      ]
    },
    {
      "cell_type": "code",
      "execution_count": null,
      "metadata": {
        "colab": {
          "base_uri": "https://localhost:8080/"
        },
        "id": "kpQ5nE8ypki4",
        "outputId": "0e7bc18b-7be3-41a9-b98c-ce82ed7c7d22"
      },
      "outputs": [
        {
          "data": {
            "text/plain": [
              "DenseMatrix(1, 7, [69.8637, -222.1004, -228.0726, 71.6426, -0.0, 0.0, -0.0], 1)"
            ]
          },
          "execution_count": 85,
          "metadata": {},
          "output_type": "execute_result"
        }
      ],
      "source": [
        "lr_model.coefficientMatrix"
      ]
    },
    {
      "cell_type": "code",
      "execution_count": null,
      "metadata": {
        "id": "Qgii_zqLlWQe"
      },
      "outputs": [],
      "source": [
        "# train_transform = lr_model.transform(train)\n"
      ]
    },
    {
      "cell_type": "code",
      "execution_count": null,
      "metadata": {
        "id": "qoztpvXtMO1_"
      },
      "outputs": [],
      "source": [
        "# train_transform.show(truncate=False)"
      ]
    },
    {
      "cell_type": "code",
      "execution_count": null,
      "metadata": {
        "id": "ntY0r_hcNvEh"
      },
      "outputs": [],
      "source": [
        "test_transform  = lr_model.transform(test)"
      ]
    },
    {
      "cell_type": "code",
      "execution_count": null,
      "metadata": {
        "colab": {
          "base_uri": "https://localhost:8080/"
        },
        "id": "6IFAlkisObTU",
        "outputId": "daa086ef-c14e-4d91-fcf0-ec1ff2033578"
      },
      "outputs": [
        {
          "name": "stdout",
          "output_type": "stream",
          "text": [
            "+--------------------+-----+--------------------+--------------------+----------+\n",
            "|            features|label|       rawPrediction|         probability|prediction|\n",
            "+--------------------+-----+--------------------+--------------------+----------+\n",
            "|(7,[0,4],[1.0,2.05])|    0|[5.87699683132360...|[0.99720464481241...|       0.0|\n",
            "|(7,[0,4],[1.0,7.57])|    0|[5.87711152908025...|[0.99720496451890...|       0.0|\n",
            "|(7,[0,4],[1.0,9.38])|    0|[5.87714913830842...|[0.99720506934225...|       0.0|\n",
            "|(7,[0,4],[1.0,9.73])|    0|[5.87715641081111...|[0.99720508961151...|       0.0|\n",
            "|(7,[0,4],[1.0,15....|    0|[5.87727360199724...|[0.99720541621590...|       0.0|\n",
            "+--------------------+-----+--------------------+--------------------+----------+\n",
            "only showing top 5 rows\n",
            "\n"
          ]
        }
      ],
      "source": [
        "test_transform.show(5)"
      ]
    },
    {
      "cell_type": "code",
      "execution_count": null,
      "metadata": {
        "colab": {
          "base_uri": "https://localhost:8080/"
        },
        "id": "7TCRQuSwOvl-",
        "outputId": "56e5e3fc-e413-4c91-aa20-8ca2a1862f84"
      },
      "outputs": [
        {
          "name": "stdout",
          "output_type": "stream",
          "text": [
            "+-----+----------+\n",
            "|label|prediction|\n",
            "+-----+----------+\n",
            "|    0|       0.0|\n",
            "|    0|       0.0|\n",
            "|    0|       0.0|\n",
            "|    0|       0.0|\n",
            "|    0|       0.0|\n",
            "+-----+----------+\n",
            "only showing top 5 rows\n",
            "\n"
          ]
        }
      ],
      "source": [
        "test_transform.select('label', 'prediction').show(5)"
      ]
    },
    {
      "cell_type": "code",
      "execution_count": null,
      "metadata": {
        "id": "j6GEbKTcQKt8"
      },
      "outputs": [],
      "source": [
        "from pyspark.ml.evaluation import BinaryClassificationEvaluator\n",
        "evaluator = BinaryClassificationEvaluator(rawPredictionCol ='rawPrediction', labelCol ='label')\n"
      ]
    },
    {
      "cell_type": "code",
      "execution_count": null,
      "metadata": {
        "colab": {
          "base_uri": "https://localhost:8080/"
        },
        "id": "4miBsDflQLYQ",
        "outputId": "29145718-0bbb-41ba-9f60-6fbeb36c3ba0"
      },
      "outputs": [
        {
          "name": "stdout",
          "output_type": "stream",
          "text": [
            "+-----+--------------------+----------+--------------------+\n",
            "|label|       rawPrediction|prediction|         probability|\n",
            "+-----+--------------------+----------+--------------------+\n",
            "|    0|[5.87699683132360...|       0.0|[0.99720464481241...|\n",
            "|    0|[5.87711152908025...|       0.0|[0.99720496451890...|\n",
            "|    0|[5.87714913830842...|       0.0|[0.99720506934225...|\n",
            "|    0|[5.87715641081111...|       0.0|[0.99720508961151...|\n",
            "|    0|[5.87727360199724...|       0.0|[0.99720541621590...|\n",
            "+-----+--------------------+----------+--------------------+\n",
            "only showing top 5 rows\n",
            "\n"
          ]
        }
      ],
      "source": [
        "test_transform.select(\"label\", \"rawPrediction\", \"prediction\", \"probability\").show(5)"
      ]
    },
    {
      "cell_type": "code",
      "execution_count": null,
      "metadata": {
        "colab": {
          "base_uri": "https://localhost:8080/"
        },
        "id": "BcGnDXC5rE4V",
        "outputId": "38d9abab-e867-4f52-9a45-4b5351ce57c1"
      },
      "outputs": [
        {
          "name": "stdout",
          "output_type": "stream",
          "text": [
            "The area under ROC for test set is 0.9937907277293401\n"
          ]
        }
      ],
      "source": [
        "# print('The area under ROC for train set is {}'.format(evaluator.evaluate(train_transform)))\n",
        "print('The area under ROC for test set is {}'.format(evaluator.evaluate(test_transform)))"
      ]
    }
  ],
  "metadata": {
    "colab": {
      "authorship_tag": "ABX9TyNH4oUAekxFRy1K60nH3Qi2",
      "include_colab_link": true,
      "provenance": []
    },
    "kernelspec": {
      "display_name": "Python 3",
      "name": "python3"
    },
    "language_info": {
      "name": "python"
    }
  },
  "nbformat": 4,
  "nbformat_minor": 0
}
